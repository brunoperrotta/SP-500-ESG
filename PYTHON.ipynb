{
  "nbformat": 4,
  "nbformat_minor": 0,
  "metadata": {
    "colab": {
      "provenance": [],
      "include_colab_link": true
    },
    "kernelspec": {
      "name": "python3",
      "display_name": "Python 3"
    },
    "language_info": {
      "name": "python"
    }
  },
  "cells": [
    {
      "cell_type": "markdown",
      "metadata": {
        "id": "view-in-github",
        "colab_type": "text"
      },
      "source": [
        "<a href=\"https://colab.research.google.com/github/brunoperrotta/SP-500-ESG/blob/main/S%26P_500_and_ESG.ipynb\" target=\"_parent\"><img src=\"https://colab.research.google.com/assets/colab-badge.svg\" alt=\"Open In Colab\"/></a>"
      ]
    },
    {
      "cell_type": "markdown",
      "source": [
        "#S&P 500 Python Analysis\n",
        "\n"
      ],
      "metadata": {
        "id": "KaFgV-vvkTTM"
      }
    },
    {
      "cell_type": "markdown",
      "source": [
        "# Exploring the data\n"
      ],
      "metadata": {
        "id": "u2qxfU9fkRIp"
      }
    },
    {
      "cell_type": "code",
      "source": [
        "import pandas as pd"
      ],
      "metadata": {
        "id": "fVnI7yBQdjpe"
      },
      "execution_count": null,
      "outputs": []
    },
    {
      "cell_type": "code",
      "source": [
        "!pip install google-auth google-auth-oauthlib google-auth-httplib2 google-cloud-bigquery\n"
      ],
      "metadata": {
        "colab": {
          "base_uri": "https://localhost:8080/"
        },
        "id": "EygqAXsxtMb3",
        "outputId": "19e9ca81-7d54-47e7-c0c1-0462e93621fc"
      },
      "execution_count": null,
      "outputs": [
        {
          "output_type": "stream",
          "name": "stdout",
          "text": [
            "Requirement already satisfied: google-auth in /usr/local/lib/python3.10/dist-packages (2.17.3)\n",
            "Requirement already satisfied: google-auth-oauthlib in /usr/local/lib/python3.10/dist-packages (1.2.0)\n",
            "Requirement already satisfied: google-auth-httplib2 in /usr/local/lib/python3.10/dist-packages (0.1.1)\n",
            "Requirement already satisfied: google-cloud-bigquery in /usr/local/lib/python3.10/dist-packages (3.12.0)\n",
            "Requirement already satisfied: cachetools<6.0,>=2.0.0 in /usr/local/lib/python3.10/dist-packages (from google-auth) (5.3.2)\n",
            "Requirement already satisfied: pyasn1-modules>=0.2.1 in /usr/local/lib/python3.10/dist-packages (from google-auth) (0.3.0)\n",
            "Requirement already satisfied: six>=1.9.0 in /usr/local/lib/python3.10/dist-packages (from google-auth) (1.16.0)\n",
            "Requirement already satisfied: rsa<5,>=3.1.4 in /usr/local/lib/python3.10/dist-packages (from google-auth) (4.9)\n",
            "Requirement already satisfied: requests-oauthlib>=0.7.0 in /usr/local/lib/python3.10/dist-packages (from google-auth-oauthlib) (1.3.1)\n",
            "Requirement already satisfied: httplib2>=0.19.0 in /usr/local/lib/python3.10/dist-packages (from google-auth-httplib2) (0.22.0)\n",
            "Requirement already satisfied: grpcio<2.0dev,>=1.47.0 in /usr/local/lib/python3.10/dist-packages (from google-cloud-bigquery) (1.60.0)\n",
            "Requirement already satisfied: google-api-core[grpc]!=2.0.*,!=2.1.*,!=2.2.*,!=2.3.0,<3.0.0dev,>=1.31.5 in /usr/local/lib/python3.10/dist-packages (from google-cloud-bigquery) (2.11.1)\n",
            "Requirement already satisfied: proto-plus<2.0.0dev,>=1.15.0 in /usr/local/lib/python3.10/dist-packages (from google-cloud-bigquery) (1.23.0)\n",
            "Requirement already satisfied: google-cloud-core<3.0.0dev,>=1.6.0 in /usr/local/lib/python3.10/dist-packages (from google-cloud-bigquery) (2.3.3)\n",
            "Requirement already satisfied: google-resumable-media<3.0dev,>=0.6.0 in /usr/local/lib/python3.10/dist-packages (from google-cloud-bigquery) (2.7.0)\n",
            "Requirement already satisfied: packaging>=20.0.0 in /usr/local/lib/python3.10/dist-packages (from google-cloud-bigquery) (23.2)\n",
            "Requirement already satisfied: protobuf!=3.20.0,!=3.20.1,!=4.21.0,!=4.21.1,!=4.21.2,!=4.21.3,!=4.21.4,!=4.21.5,<5.0.0dev,>=3.19.5 in /usr/local/lib/python3.10/dist-packages (from google-cloud-bigquery) (3.20.3)\n",
            "Requirement already satisfied: python-dateutil<3.0dev,>=2.7.2 in /usr/local/lib/python3.10/dist-packages (from google-cloud-bigquery) (2.8.2)\n",
            "Requirement already satisfied: requests<3.0.0dev,>=2.21.0 in /usr/local/lib/python3.10/dist-packages (from google-cloud-bigquery) (2.31.0)\n",
            "Requirement already satisfied: googleapis-common-protos<2.0.dev0,>=1.56.2 in /usr/local/lib/python3.10/dist-packages (from google-api-core[grpc]!=2.0.*,!=2.1.*,!=2.2.*,!=2.3.0,<3.0.0dev,>=1.31.5->google-cloud-bigquery) (1.62.0)\n",
            "Requirement already satisfied: grpcio-status<2.0.dev0,>=1.33.2 in /usr/local/lib/python3.10/dist-packages (from google-api-core[grpc]!=2.0.*,!=2.1.*,!=2.2.*,!=2.3.0,<3.0.0dev,>=1.31.5->google-cloud-bigquery) (1.48.2)\n",
            "Requirement already satisfied: google-crc32c<2.0dev,>=1.0 in /usr/local/lib/python3.10/dist-packages (from google-resumable-media<3.0dev,>=0.6.0->google-cloud-bigquery) (1.5.0)\n",
            "Requirement already satisfied: pyparsing!=3.0.0,!=3.0.1,!=3.0.2,!=3.0.3,<4,>=2.4.2 in /usr/local/lib/python3.10/dist-packages (from httplib2>=0.19.0->google-auth-httplib2) (3.1.1)\n",
            "Requirement already satisfied: pyasn1<0.6.0,>=0.4.6 in /usr/local/lib/python3.10/dist-packages (from pyasn1-modules>=0.2.1->google-auth) (0.5.1)\n",
            "Requirement already satisfied: charset-normalizer<4,>=2 in /usr/local/lib/python3.10/dist-packages (from requests<3.0.0dev,>=2.21.0->google-cloud-bigquery) (3.3.2)\n",
            "Requirement already satisfied: idna<4,>=2.5 in /usr/local/lib/python3.10/dist-packages (from requests<3.0.0dev,>=2.21.0->google-cloud-bigquery) (3.6)\n",
            "Requirement already satisfied: urllib3<3,>=1.21.1 in /usr/local/lib/python3.10/dist-packages (from requests<3.0.0dev,>=2.21.0->google-cloud-bigquery) (2.0.7)\n",
            "Requirement already satisfied: certifi>=2017.4.17 in /usr/local/lib/python3.10/dist-packages (from requests<3.0.0dev,>=2.21.0->google-cloud-bigquery) (2023.11.17)\n",
            "Requirement already satisfied: oauthlib>=3.0.0 in /usr/local/lib/python3.10/dist-packages (from requests-oauthlib>=0.7.0->google-auth-oauthlib) (3.2.2)\n"
          ]
        }
      ]
    },
    {
      "cell_type": "code",
      "source": [
        "from google.colab import auth\n",
        "\n",
        "# Authenticate with Google Cloud\n",
        "auth.authenticate_user()\n"
      ],
      "metadata": {
        "id": "OvfHx97rtORv"
      },
      "execution_count": null,
      "outputs": []
    },
    {
      "cell_type": "code",
      "source": [
        "from google.cloud import bigquery\n",
        "\n",
        "# Create a BigQuery client\n",
        "client = bigquery.Client(project='single-scholar-401513')\n"
      ],
      "metadata": {
        "id": "6rGXq0cHtQPY"
      },
      "execution_count": null,
      "outputs": []
    },
    {
      "cell_type": "code",
      "source": [
        "\n",
        "query = \"\"\"\n",
        "SELECT *\n",
        "FROM `single-scholar-401513.final_project.SP_NEW_28_11`\n",
        "\"\"\"\n",
        "query_job = client.query(query)\n",
        "\n",
        "# Store the result in a DataFrame\n",
        "df_sp500 = query_job.result().to_dataframe()\n",
        "\n",
        "# Display the DataFrame\n",
        "df_sp500\n"
      ],
      "metadata": {
        "colab": {
          "base_uri": "https://localhost:8080/",
          "height": 965
        },
        "id": "GTK5M-Z2tanW",
        "outputId": "f073fd68-4e3d-45c5-9bd3-dcb5507c3386"
      },
      "execution_count": null,
      "outputs": [
        {
          "output_type": "execute_result",
          "data": {
            "text/plain": [
              "    Symbol                         Name              Sector  \\\n",
              "0     AAPL                    Apple Inc          Technology   \n",
              "1      AIZ                 Assurant Inc  Financial Services   \n",
              "2      AWK  American Water Works Co Inc           Utilities   \n",
              "3      BXP        Boston Properties Inc         Real Estate   \n",
              "4       CE                Celanese Corp     Basic Materials   \n",
              "..     ...                          ...                 ...   \n",
              "398    CAT              Caterpillar Inc         Industrials   \n",
              "399     DE                   Deere & Co         Industrials   \n",
              "400   PCAR                   Paccar Inc         Industrials   \n",
              "401   AMAT        Applied Materials Inc          Technology   \n",
              "402   LRCX            Lam Research Corp          Technology   \n",
              "\n",
              "                                Industry  Full_Time_Employees  \\\n",
              "0                   Consumer Electronics               164000   \n",
              "1                    Insurance—Specialty                13700   \n",
              "2              Utilities—Regulated Water                 6500   \n",
              "3                            REIT—Office                  780   \n",
              "4                              Chemicals                13263   \n",
              "..                                   ...                  ...   \n",
              "398  Farm & Heavy Construction Machinery               109100   \n",
              "399  Farm & Heavy Construction Machinery                82200   \n",
              "400  Farm & Heavy Construction Machinery                31100   \n",
              "401  Semiconductor Equipment & Materials                33000   \n",
              "402  Semiconductor Equipment & Materials                17200   \n",
              "\n",
              "                                           Description  \\\n",
              "0    Apple Inc. designs, manufactures, and markets ...   \n",
              "1    Assurant, Inc., together with its subsidiaries...   \n",
              "2    American Water Works Company, Inc., through it...   \n",
              "3    BXP (NYSE: BXP) is the largest publicly traded...   \n",
              "4    Celanese Corporation, a chemical and specialty...   \n",
              "..                                                 ...   \n",
              "398                                               None   \n",
              "399  Deere & Company manufactures and distributes v...   \n",
              "400  PACCAR Inc designs, manufactures, and distribu...   \n",
              "401  Applied Materials, Inc. engages in the provisi...   \n",
              "402  Lam Research Corporation designs, manufactures...   \n",
              "\n",
              "     NEW_Total_ESG_Risk_score  Environment_Risk_Score  Governance_Risk_Score  \\\n",
              "0                        16.7                     0.6                    9.2   \n",
              "1                        25.0                     2.0                   11.0   \n",
              "2                        22.0                     9.0                    5.0   \n",
              "3                        13.0                     3.0                    5.0   \n",
              "4                        29.3                    15.1                    6.5   \n",
              "..                        ...                     ...                    ...   \n",
              "398                      34.2                     7.2                    8.5   \n",
              "399                      16.7                     3.2                    6.6   \n",
              "400                      27.0                     8.0                    8.0   \n",
              "401                      11.5                     3.8                    5.1   \n",
              "402                      13.5                     4.5                    5.0   \n",
              "\n",
              "     Social_Risk_Score NEW_ESG_Risk_Level Controversy_Level  Controversy_Score  \n",
              "0                  6.9                Low       Significant                  3  \n",
              "1                 12.0             Medium       Significant                  3  \n",
              "2                  8.0             Medium               Low                  1  \n",
              "3                  5.0                Low               Low                  1  \n",
              "4                  7.7             Medium          Moderate                  2  \n",
              "..                 ...                ...               ...                ...  \n",
              "398               18.5               High              High                  4  \n",
              "399                6.9                Low          Moderate                  2  \n",
              "400               11.0             Medium       Significant                  3  \n",
              "401                2.6                Low               Low                  1  \n",
              "402                4.0                Low               Low                  1  \n",
              "\n",
              "[403 rows x 13 columns]"
            ],
            "text/html": [
              "\n",
              "  <div id=\"df-98fd92e4-a12a-432e-b5b0-7937aa2b6b32\" class=\"colab-df-container\">\n",
              "    <div>\n",
              "<style scoped>\n",
              "    .dataframe tbody tr th:only-of-type {\n",
              "        vertical-align: middle;\n",
              "    }\n",
              "\n",
              "    .dataframe tbody tr th {\n",
              "        vertical-align: top;\n",
              "    }\n",
              "\n",
              "    .dataframe thead th {\n",
              "        text-align: right;\n",
              "    }\n",
              "</style>\n",
              "<table border=\"1\" class=\"dataframe\">\n",
              "  <thead>\n",
              "    <tr style=\"text-align: right;\">\n",
              "      <th></th>\n",
              "      <th>Symbol</th>\n",
              "      <th>Name</th>\n",
              "      <th>Sector</th>\n",
              "      <th>Industry</th>\n",
              "      <th>Full_Time_Employees</th>\n",
              "      <th>Description</th>\n",
              "      <th>NEW_Total_ESG_Risk_score</th>\n",
              "      <th>Environment_Risk_Score</th>\n",
              "      <th>Governance_Risk_Score</th>\n",
              "      <th>Social_Risk_Score</th>\n",
              "      <th>NEW_ESG_Risk_Level</th>\n",
              "      <th>Controversy_Level</th>\n",
              "      <th>Controversy_Score</th>\n",
              "    </tr>\n",
              "  </thead>\n",
              "  <tbody>\n",
              "    <tr>\n",
              "      <th>0</th>\n",
              "      <td>AAPL</td>\n",
              "      <td>Apple Inc</td>\n",
              "      <td>Technology</td>\n",
              "      <td>Consumer Electronics</td>\n",
              "      <td>164000</td>\n",
              "      <td>Apple Inc. designs, manufactures, and markets ...</td>\n",
              "      <td>16.7</td>\n",
              "      <td>0.6</td>\n",
              "      <td>9.2</td>\n",
              "      <td>6.9</td>\n",
              "      <td>Low</td>\n",
              "      <td>Significant</td>\n",
              "      <td>3</td>\n",
              "    </tr>\n",
              "    <tr>\n",
              "      <th>1</th>\n",
              "      <td>AIZ</td>\n",
              "      <td>Assurant Inc</td>\n",
              "      <td>Financial Services</td>\n",
              "      <td>Insurance—Specialty</td>\n",
              "      <td>13700</td>\n",
              "      <td>Assurant, Inc., together with its subsidiaries...</td>\n",
              "      <td>25.0</td>\n",
              "      <td>2.0</td>\n",
              "      <td>11.0</td>\n",
              "      <td>12.0</td>\n",
              "      <td>Medium</td>\n",
              "      <td>Significant</td>\n",
              "      <td>3</td>\n",
              "    </tr>\n",
              "    <tr>\n",
              "      <th>2</th>\n",
              "      <td>AWK</td>\n",
              "      <td>American Water Works Co Inc</td>\n",
              "      <td>Utilities</td>\n",
              "      <td>Utilities—Regulated Water</td>\n",
              "      <td>6500</td>\n",
              "      <td>American Water Works Company, Inc., through it...</td>\n",
              "      <td>22.0</td>\n",
              "      <td>9.0</td>\n",
              "      <td>5.0</td>\n",
              "      <td>8.0</td>\n",
              "      <td>Medium</td>\n",
              "      <td>Low</td>\n",
              "      <td>1</td>\n",
              "    </tr>\n",
              "    <tr>\n",
              "      <th>3</th>\n",
              "      <td>BXP</td>\n",
              "      <td>Boston Properties Inc</td>\n",
              "      <td>Real Estate</td>\n",
              "      <td>REIT—Office</td>\n",
              "      <td>780</td>\n",
              "      <td>BXP (NYSE: BXP) is the largest publicly traded...</td>\n",
              "      <td>13.0</td>\n",
              "      <td>3.0</td>\n",
              "      <td>5.0</td>\n",
              "      <td>5.0</td>\n",
              "      <td>Low</td>\n",
              "      <td>Low</td>\n",
              "      <td>1</td>\n",
              "    </tr>\n",
              "    <tr>\n",
              "      <th>4</th>\n",
              "      <td>CE</td>\n",
              "      <td>Celanese Corp</td>\n",
              "      <td>Basic Materials</td>\n",
              "      <td>Chemicals</td>\n",
              "      <td>13263</td>\n",
              "      <td>Celanese Corporation, a chemical and specialty...</td>\n",
              "      <td>29.3</td>\n",
              "      <td>15.1</td>\n",
              "      <td>6.5</td>\n",
              "      <td>7.7</td>\n",
              "      <td>Medium</td>\n",
              "      <td>Moderate</td>\n",
              "      <td>2</td>\n",
              "    </tr>\n",
              "    <tr>\n",
              "      <th>...</th>\n",
              "      <td>...</td>\n",
              "      <td>...</td>\n",
              "      <td>...</td>\n",
              "      <td>...</td>\n",
              "      <td>...</td>\n",
              "      <td>...</td>\n",
              "      <td>...</td>\n",
              "      <td>...</td>\n",
              "      <td>...</td>\n",
              "      <td>...</td>\n",
              "      <td>...</td>\n",
              "      <td>...</td>\n",
              "      <td>...</td>\n",
              "    </tr>\n",
              "    <tr>\n",
              "      <th>398</th>\n",
              "      <td>CAT</td>\n",
              "      <td>Caterpillar Inc</td>\n",
              "      <td>Industrials</td>\n",
              "      <td>Farm &amp; Heavy Construction Machinery</td>\n",
              "      <td>109100</td>\n",
              "      <td>None</td>\n",
              "      <td>34.2</td>\n",
              "      <td>7.2</td>\n",
              "      <td>8.5</td>\n",
              "      <td>18.5</td>\n",
              "      <td>High</td>\n",
              "      <td>High</td>\n",
              "      <td>4</td>\n",
              "    </tr>\n",
              "    <tr>\n",
              "      <th>399</th>\n",
              "      <td>DE</td>\n",
              "      <td>Deere &amp; Co</td>\n",
              "      <td>Industrials</td>\n",
              "      <td>Farm &amp; Heavy Construction Machinery</td>\n",
              "      <td>82200</td>\n",
              "      <td>Deere &amp; Company manufactures and distributes v...</td>\n",
              "      <td>16.7</td>\n",
              "      <td>3.2</td>\n",
              "      <td>6.6</td>\n",
              "      <td>6.9</td>\n",
              "      <td>Low</td>\n",
              "      <td>Moderate</td>\n",
              "      <td>2</td>\n",
              "    </tr>\n",
              "    <tr>\n",
              "      <th>400</th>\n",
              "      <td>PCAR</td>\n",
              "      <td>Paccar Inc</td>\n",
              "      <td>Industrials</td>\n",
              "      <td>Farm &amp; Heavy Construction Machinery</td>\n",
              "      <td>31100</td>\n",
              "      <td>PACCAR Inc designs, manufactures, and distribu...</td>\n",
              "      <td>27.0</td>\n",
              "      <td>8.0</td>\n",
              "      <td>8.0</td>\n",
              "      <td>11.0</td>\n",
              "      <td>Medium</td>\n",
              "      <td>Significant</td>\n",
              "      <td>3</td>\n",
              "    </tr>\n",
              "    <tr>\n",
              "      <th>401</th>\n",
              "      <td>AMAT</td>\n",
              "      <td>Applied Materials Inc</td>\n",
              "      <td>Technology</td>\n",
              "      <td>Semiconductor Equipment &amp; Materials</td>\n",
              "      <td>33000</td>\n",
              "      <td>Applied Materials, Inc. engages in the provisi...</td>\n",
              "      <td>11.5</td>\n",
              "      <td>3.8</td>\n",
              "      <td>5.1</td>\n",
              "      <td>2.6</td>\n",
              "      <td>Low</td>\n",
              "      <td>Low</td>\n",
              "      <td>1</td>\n",
              "    </tr>\n",
              "    <tr>\n",
              "      <th>402</th>\n",
              "      <td>LRCX</td>\n",
              "      <td>Lam Research Corp</td>\n",
              "      <td>Technology</td>\n",
              "      <td>Semiconductor Equipment &amp; Materials</td>\n",
              "      <td>17200</td>\n",
              "      <td>Lam Research Corporation designs, manufactures...</td>\n",
              "      <td>13.5</td>\n",
              "      <td>4.5</td>\n",
              "      <td>5.0</td>\n",
              "      <td>4.0</td>\n",
              "      <td>Low</td>\n",
              "      <td>Low</td>\n",
              "      <td>1</td>\n",
              "    </tr>\n",
              "  </tbody>\n",
              "</table>\n",
              "<p>403 rows × 13 columns</p>\n",
              "</div>\n",
              "    <div class=\"colab-df-buttons\">\n",
              "\n",
              "  <div class=\"colab-df-container\">\n",
              "    <button class=\"colab-df-convert\" onclick=\"convertToInteractive('df-98fd92e4-a12a-432e-b5b0-7937aa2b6b32')\"\n",
              "            title=\"Convert this dataframe to an interactive table.\"\n",
              "            style=\"display:none;\">\n",
              "\n",
              "  <svg xmlns=\"http://www.w3.org/2000/svg\" height=\"24px\" viewBox=\"0 -960 960 960\">\n",
              "    <path d=\"M120-120v-720h720v720H120Zm60-500h600v-160H180v160Zm220 220h160v-160H400v160Zm0 220h160v-160H400v160ZM180-400h160v-160H180v160Zm440 0h160v-160H620v160ZM180-180h160v-160H180v160Zm440 0h160v-160H620v160Z\"/>\n",
              "  </svg>\n",
              "    </button>\n",
              "\n",
              "  <style>\n",
              "    .colab-df-container {\n",
              "      display:flex;\n",
              "      gap: 12px;\n",
              "    }\n",
              "\n",
              "    .colab-df-convert {\n",
              "      background-color: #E8F0FE;\n",
              "      border: none;\n",
              "      border-radius: 50%;\n",
              "      cursor: pointer;\n",
              "      display: none;\n",
              "      fill: #1967D2;\n",
              "      height: 32px;\n",
              "      padding: 0 0 0 0;\n",
              "      width: 32px;\n",
              "    }\n",
              "\n",
              "    .colab-df-convert:hover {\n",
              "      background-color: #E2EBFA;\n",
              "      box-shadow: 0px 1px 2px rgba(60, 64, 67, 0.3), 0px 1px 3px 1px rgba(60, 64, 67, 0.15);\n",
              "      fill: #174EA6;\n",
              "    }\n",
              "\n",
              "    .colab-df-buttons div {\n",
              "      margin-bottom: 4px;\n",
              "    }\n",
              "\n",
              "    [theme=dark] .colab-df-convert {\n",
              "      background-color: #3B4455;\n",
              "      fill: #D2E3FC;\n",
              "    }\n",
              "\n",
              "    [theme=dark] .colab-df-convert:hover {\n",
              "      background-color: #434B5C;\n",
              "      box-shadow: 0px 1px 3px 1px rgba(0, 0, 0, 0.15);\n",
              "      filter: drop-shadow(0px 1px 2px rgba(0, 0, 0, 0.3));\n",
              "      fill: #FFFFFF;\n",
              "    }\n",
              "  </style>\n",
              "\n",
              "    <script>\n",
              "      const buttonEl =\n",
              "        document.querySelector('#df-98fd92e4-a12a-432e-b5b0-7937aa2b6b32 button.colab-df-convert');\n",
              "      buttonEl.style.display =\n",
              "        google.colab.kernel.accessAllowed ? 'block' : 'none';\n",
              "\n",
              "      async function convertToInteractive(key) {\n",
              "        const element = document.querySelector('#df-98fd92e4-a12a-432e-b5b0-7937aa2b6b32');\n",
              "        const dataTable =\n",
              "          await google.colab.kernel.invokeFunction('convertToInteractive',\n",
              "                                                    [key], {});\n",
              "        if (!dataTable) return;\n",
              "\n",
              "        const docLinkHtml = 'Like what you see? Visit the ' +\n",
              "          '<a target=\"_blank\" href=https://colab.research.google.com/notebooks/data_table.ipynb>data table notebook</a>'\n",
              "          + ' to learn more about interactive tables.';\n",
              "        element.innerHTML = '';\n",
              "        dataTable['output_type'] = 'display_data';\n",
              "        await google.colab.output.renderOutput(dataTable, element);\n",
              "        const docLink = document.createElement('div');\n",
              "        docLink.innerHTML = docLinkHtml;\n",
              "        element.appendChild(docLink);\n",
              "      }\n",
              "    </script>\n",
              "  </div>\n",
              "\n",
              "\n",
              "<div id=\"df-89c412eb-dc59-46ab-bc1d-124634ac4a14\">\n",
              "  <button class=\"colab-df-quickchart\" onclick=\"quickchart('df-89c412eb-dc59-46ab-bc1d-124634ac4a14')\"\n",
              "            title=\"Suggest charts\"\n",
              "            style=\"display:none;\">\n",
              "\n",
              "<svg xmlns=\"http://www.w3.org/2000/svg\" height=\"24px\"viewBox=\"0 0 24 24\"\n",
              "     width=\"24px\">\n",
              "    <g>\n",
              "        <path d=\"M19 3H5c-1.1 0-2 .9-2 2v14c0 1.1.9 2 2 2h14c1.1 0 2-.9 2-2V5c0-1.1-.9-2-2-2zM9 17H7v-7h2v7zm4 0h-2V7h2v10zm4 0h-2v-4h2v4z\"/>\n",
              "    </g>\n",
              "</svg>\n",
              "  </button>\n",
              "\n",
              "<style>\n",
              "  .colab-df-quickchart {\n",
              "      --bg-color: #E8F0FE;\n",
              "      --fill-color: #1967D2;\n",
              "      --hover-bg-color: #E2EBFA;\n",
              "      --hover-fill-color: #174EA6;\n",
              "      --disabled-fill-color: #AAA;\n",
              "      --disabled-bg-color: #DDD;\n",
              "  }\n",
              "\n",
              "  [theme=dark] .colab-df-quickchart {\n",
              "      --bg-color: #3B4455;\n",
              "      --fill-color: #D2E3FC;\n",
              "      --hover-bg-color: #434B5C;\n",
              "      --hover-fill-color: #FFFFFF;\n",
              "      --disabled-bg-color: #3B4455;\n",
              "      --disabled-fill-color: #666;\n",
              "  }\n",
              "\n",
              "  .colab-df-quickchart {\n",
              "    background-color: var(--bg-color);\n",
              "    border: none;\n",
              "    border-radius: 50%;\n",
              "    cursor: pointer;\n",
              "    display: none;\n",
              "    fill: var(--fill-color);\n",
              "    height: 32px;\n",
              "    padding: 0;\n",
              "    width: 32px;\n",
              "  }\n",
              "\n",
              "  .colab-df-quickchart:hover {\n",
              "    background-color: var(--hover-bg-color);\n",
              "    box-shadow: 0 1px 2px rgba(60, 64, 67, 0.3), 0 1px 3px 1px rgba(60, 64, 67, 0.15);\n",
              "    fill: var(--button-hover-fill-color);\n",
              "  }\n",
              "\n",
              "  .colab-df-quickchart-complete:disabled,\n",
              "  .colab-df-quickchart-complete:disabled:hover {\n",
              "    background-color: var(--disabled-bg-color);\n",
              "    fill: var(--disabled-fill-color);\n",
              "    box-shadow: none;\n",
              "  }\n",
              "\n",
              "  .colab-df-spinner {\n",
              "    border: 2px solid var(--fill-color);\n",
              "    border-color: transparent;\n",
              "    border-bottom-color: var(--fill-color);\n",
              "    animation:\n",
              "      spin 1s steps(1) infinite;\n",
              "  }\n",
              "\n",
              "  @keyframes spin {\n",
              "    0% {\n",
              "      border-color: transparent;\n",
              "      border-bottom-color: var(--fill-color);\n",
              "      border-left-color: var(--fill-color);\n",
              "    }\n",
              "    20% {\n",
              "      border-color: transparent;\n",
              "      border-left-color: var(--fill-color);\n",
              "      border-top-color: var(--fill-color);\n",
              "    }\n",
              "    30% {\n",
              "      border-color: transparent;\n",
              "      border-left-color: var(--fill-color);\n",
              "      border-top-color: var(--fill-color);\n",
              "      border-right-color: var(--fill-color);\n",
              "    }\n",
              "    40% {\n",
              "      border-color: transparent;\n",
              "      border-right-color: var(--fill-color);\n",
              "      border-top-color: var(--fill-color);\n",
              "    }\n",
              "    60% {\n",
              "      border-color: transparent;\n",
              "      border-right-color: var(--fill-color);\n",
              "    }\n",
              "    80% {\n",
              "      border-color: transparent;\n",
              "      border-right-color: var(--fill-color);\n",
              "      border-bottom-color: var(--fill-color);\n",
              "    }\n",
              "    90% {\n",
              "      border-color: transparent;\n",
              "      border-bottom-color: var(--fill-color);\n",
              "    }\n",
              "  }\n",
              "</style>\n",
              "\n",
              "  <script>\n",
              "    async function quickchart(key) {\n",
              "      const quickchartButtonEl =\n",
              "        document.querySelector('#' + key + ' button');\n",
              "      quickchartButtonEl.disabled = true;  // To prevent multiple clicks.\n",
              "      quickchartButtonEl.classList.add('colab-df-spinner');\n",
              "      try {\n",
              "        const charts = await google.colab.kernel.invokeFunction(\n",
              "            'suggestCharts', [key], {});\n",
              "      } catch (error) {\n",
              "        console.error('Error during call to suggestCharts:', error);\n",
              "      }\n",
              "      quickchartButtonEl.classList.remove('colab-df-spinner');\n",
              "      quickchartButtonEl.classList.add('colab-df-quickchart-complete');\n",
              "    }\n",
              "    (() => {\n",
              "      let quickchartButtonEl =\n",
              "        document.querySelector('#df-89c412eb-dc59-46ab-bc1d-124634ac4a14 button');\n",
              "      quickchartButtonEl.style.display =\n",
              "        google.colab.kernel.accessAllowed ? 'block' : 'none';\n",
              "    })();\n",
              "  </script>\n",
              "</div>\n",
              "\n",
              "  <div id=\"id_6c9b26c6-f66c-42bc-a03d-59644b762338\">\n",
              "    <style>\n",
              "      .colab-df-generate {\n",
              "        background-color: #E8F0FE;\n",
              "        border: none;\n",
              "        border-radius: 50%;\n",
              "        cursor: pointer;\n",
              "        display: none;\n",
              "        fill: #1967D2;\n",
              "        height: 32px;\n",
              "        padding: 0 0 0 0;\n",
              "        width: 32px;\n",
              "      }\n",
              "\n",
              "      .colab-df-generate:hover {\n",
              "        background-color: #E2EBFA;\n",
              "        box-shadow: 0px 1px 2px rgba(60, 64, 67, 0.3), 0px 1px 3px 1px rgba(60, 64, 67, 0.15);\n",
              "        fill: #174EA6;\n",
              "      }\n",
              "\n",
              "      [theme=dark] .colab-df-generate {\n",
              "        background-color: #3B4455;\n",
              "        fill: #D2E3FC;\n",
              "      }\n",
              "\n",
              "      [theme=dark] .colab-df-generate:hover {\n",
              "        background-color: #434B5C;\n",
              "        box-shadow: 0px 1px 3px 1px rgba(0, 0, 0, 0.15);\n",
              "        filter: drop-shadow(0px 1px 2px rgba(0, 0, 0, 0.3));\n",
              "        fill: #FFFFFF;\n",
              "      }\n",
              "    </style>\n",
              "    <button class=\"colab-df-generate\" onclick=\"generateWithVariable('df_sp500')\"\n",
              "            title=\"Generate code using this dataframe.\"\n",
              "            style=\"display:none;\">\n",
              "\n",
              "  <svg xmlns=\"http://www.w3.org/2000/svg\" height=\"24px\"viewBox=\"0 0 24 24\"\n",
              "       width=\"24px\">\n",
              "    <path d=\"M7,19H8.4L18.45,9,17,7.55,7,17.6ZM5,21V16.75L18.45,3.32a2,2,0,0,1,2.83,0l1.4,1.43a1.91,1.91,0,0,1,.58,1.4,1.91,1.91,0,0,1-.58,1.4L9.25,21ZM18.45,9,17,7.55Zm-12,3A5.31,5.31,0,0,0,4.9,8.1,5.31,5.31,0,0,0,1,6.5,5.31,5.31,0,0,0,4.9,4.9,5.31,5.31,0,0,0,6.5,1,5.31,5.31,0,0,0,8.1,4.9,5.31,5.31,0,0,0,12,6.5,5.46,5.46,0,0,0,6.5,12Z\"/>\n",
              "  </svg>\n",
              "    </button>\n",
              "    <script>\n",
              "      (() => {\n",
              "      const buttonEl =\n",
              "        document.querySelector('#id_6c9b26c6-f66c-42bc-a03d-59644b762338 button.colab-df-generate');\n",
              "      buttonEl.style.display =\n",
              "        google.colab.kernel.accessAllowed ? 'block' : 'none';\n",
              "\n",
              "      buttonEl.onclick = () => {\n",
              "        google.colab.notebook.generateWithVariable('df_sp500');\n",
              "      }\n",
              "      })();\n",
              "    </script>\n",
              "  </div>\n",
              "\n",
              "    </div>\n",
              "  </div>\n"
            ]
          },
          "metadata": {},
          "execution_count": 5
        }
      ]
    },
    {
      "cell_type": "code",
      "source": [
        "df_sp500.head()"
      ],
      "metadata": {
        "colab": {
          "base_uri": "https://localhost:8080/",
          "height": 556
        },
        "id": "AVB7Jb3Dknve",
        "outputId": "8ff38fb8-3438-4cf1-dd9a-f64fce80f27e"
      },
      "execution_count": null,
      "outputs": [
        {
          "output_type": "execute_result",
          "data": {
            "text/plain": [
              "  Symbol                         Name              Sector  \\\n",
              "0   AAPL                    Apple Inc          Technology   \n",
              "1    AIZ                 Assurant Inc  Financial Services   \n",
              "2    AWK  American Water Works Co Inc           Utilities   \n",
              "3    BXP        Boston Properties Inc         Real Estate   \n",
              "4     CE                Celanese Corp     Basic Materials   \n",
              "\n",
              "                    Industry  Full_Time_Employees  \\\n",
              "0       Consumer Electronics               164000   \n",
              "1        Insurance—Specialty                13700   \n",
              "2  Utilities—Regulated Water                 6500   \n",
              "3                REIT—Office                  780   \n",
              "4                  Chemicals                13263   \n",
              "\n",
              "                                         Description  \\\n",
              "0  Apple Inc. designs, manufactures, and markets ...   \n",
              "1  Assurant, Inc., together with its subsidiaries...   \n",
              "2  American Water Works Company, Inc., through it...   \n",
              "3  BXP (NYSE: BXP) is the largest publicly traded...   \n",
              "4  Celanese Corporation, a chemical and specialty...   \n",
              "\n",
              "   NEW_Total_ESG_Risk_score  Environment_Risk_Score  Governance_Risk_Score  \\\n",
              "0                      16.7                     0.6                    9.2   \n",
              "1                      25.0                     2.0                   11.0   \n",
              "2                      22.0                     9.0                    5.0   \n",
              "3                      13.0                     3.0                    5.0   \n",
              "4                      29.3                    15.1                    6.5   \n",
              "\n",
              "   Social_Risk_Score NEW_ESG_Risk_Level Controversy_Level  Controversy_Score  \n",
              "0                6.9                Low       Significant                  3  \n",
              "1               12.0             Medium       Significant                  3  \n",
              "2                8.0             Medium               Low                  1  \n",
              "3                5.0                Low               Low                  1  \n",
              "4                7.7             Medium          Moderate                  2  "
            ],
            "text/html": [
              "\n",
              "  <div id=\"df-c8f24a77-f2ce-4787-b098-3d89a3563cce\" class=\"colab-df-container\">\n",
              "    <div>\n",
              "<style scoped>\n",
              "    .dataframe tbody tr th:only-of-type {\n",
              "        vertical-align: middle;\n",
              "    }\n",
              "\n",
              "    .dataframe tbody tr th {\n",
              "        vertical-align: top;\n",
              "    }\n",
              "\n",
              "    .dataframe thead th {\n",
              "        text-align: right;\n",
              "    }\n",
              "</style>\n",
              "<table border=\"1\" class=\"dataframe\">\n",
              "  <thead>\n",
              "    <tr style=\"text-align: right;\">\n",
              "      <th></th>\n",
              "      <th>Symbol</th>\n",
              "      <th>Name</th>\n",
              "      <th>Sector</th>\n",
              "      <th>Industry</th>\n",
              "      <th>Full_Time_Employees</th>\n",
              "      <th>Description</th>\n",
              "      <th>NEW_Total_ESG_Risk_score</th>\n",
              "      <th>Environment_Risk_Score</th>\n",
              "      <th>Governance_Risk_Score</th>\n",
              "      <th>Social_Risk_Score</th>\n",
              "      <th>NEW_ESG_Risk_Level</th>\n",
              "      <th>Controversy_Level</th>\n",
              "      <th>Controversy_Score</th>\n",
              "    </tr>\n",
              "  </thead>\n",
              "  <tbody>\n",
              "    <tr>\n",
              "      <th>0</th>\n",
              "      <td>AAPL</td>\n",
              "      <td>Apple Inc</td>\n",
              "      <td>Technology</td>\n",
              "      <td>Consumer Electronics</td>\n",
              "      <td>164000</td>\n",
              "      <td>Apple Inc. designs, manufactures, and markets ...</td>\n",
              "      <td>16.7</td>\n",
              "      <td>0.6</td>\n",
              "      <td>9.2</td>\n",
              "      <td>6.9</td>\n",
              "      <td>Low</td>\n",
              "      <td>Significant</td>\n",
              "      <td>3</td>\n",
              "    </tr>\n",
              "    <tr>\n",
              "      <th>1</th>\n",
              "      <td>AIZ</td>\n",
              "      <td>Assurant Inc</td>\n",
              "      <td>Financial Services</td>\n",
              "      <td>Insurance—Specialty</td>\n",
              "      <td>13700</td>\n",
              "      <td>Assurant, Inc., together with its subsidiaries...</td>\n",
              "      <td>25.0</td>\n",
              "      <td>2.0</td>\n",
              "      <td>11.0</td>\n",
              "      <td>12.0</td>\n",
              "      <td>Medium</td>\n",
              "      <td>Significant</td>\n",
              "      <td>3</td>\n",
              "    </tr>\n",
              "    <tr>\n",
              "      <th>2</th>\n",
              "      <td>AWK</td>\n",
              "      <td>American Water Works Co Inc</td>\n",
              "      <td>Utilities</td>\n",
              "      <td>Utilities—Regulated Water</td>\n",
              "      <td>6500</td>\n",
              "      <td>American Water Works Company, Inc., through it...</td>\n",
              "      <td>22.0</td>\n",
              "      <td>9.0</td>\n",
              "      <td>5.0</td>\n",
              "      <td>8.0</td>\n",
              "      <td>Medium</td>\n",
              "      <td>Low</td>\n",
              "      <td>1</td>\n",
              "    </tr>\n",
              "    <tr>\n",
              "      <th>3</th>\n",
              "      <td>BXP</td>\n",
              "      <td>Boston Properties Inc</td>\n",
              "      <td>Real Estate</td>\n",
              "      <td>REIT—Office</td>\n",
              "      <td>780</td>\n",
              "      <td>BXP (NYSE: BXP) is the largest publicly traded...</td>\n",
              "      <td>13.0</td>\n",
              "      <td>3.0</td>\n",
              "      <td>5.0</td>\n",
              "      <td>5.0</td>\n",
              "      <td>Low</td>\n",
              "      <td>Low</td>\n",
              "      <td>1</td>\n",
              "    </tr>\n",
              "    <tr>\n",
              "      <th>4</th>\n",
              "      <td>CE</td>\n",
              "      <td>Celanese Corp</td>\n",
              "      <td>Basic Materials</td>\n",
              "      <td>Chemicals</td>\n",
              "      <td>13263</td>\n",
              "      <td>Celanese Corporation, a chemical and specialty...</td>\n",
              "      <td>29.3</td>\n",
              "      <td>15.1</td>\n",
              "      <td>6.5</td>\n",
              "      <td>7.7</td>\n",
              "      <td>Medium</td>\n",
              "      <td>Moderate</td>\n",
              "      <td>2</td>\n",
              "    </tr>\n",
              "  </tbody>\n",
              "</table>\n",
              "</div>\n",
              "    <div class=\"colab-df-buttons\">\n",
              "\n",
              "  <div class=\"colab-df-container\">\n",
              "    <button class=\"colab-df-convert\" onclick=\"convertToInteractive('df-c8f24a77-f2ce-4787-b098-3d89a3563cce')\"\n",
              "            title=\"Convert this dataframe to an interactive table.\"\n",
              "            style=\"display:none;\">\n",
              "\n",
              "  <svg xmlns=\"http://www.w3.org/2000/svg\" height=\"24px\" viewBox=\"0 -960 960 960\">\n",
              "    <path d=\"M120-120v-720h720v720H120Zm60-500h600v-160H180v160Zm220 220h160v-160H400v160Zm0 220h160v-160H400v160ZM180-400h160v-160H180v160Zm440 0h160v-160H620v160ZM180-180h160v-160H180v160Zm440 0h160v-160H620v160Z\"/>\n",
              "  </svg>\n",
              "    </button>\n",
              "\n",
              "  <style>\n",
              "    .colab-df-container {\n",
              "      display:flex;\n",
              "      gap: 12px;\n",
              "    }\n",
              "\n",
              "    .colab-df-convert {\n",
              "      background-color: #E8F0FE;\n",
              "      border: none;\n",
              "      border-radius: 50%;\n",
              "      cursor: pointer;\n",
              "      display: none;\n",
              "      fill: #1967D2;\n",
              "      height: 32px;\n",
              "      padding: 0 0 0 0;\n",
              "      width: 32px;\n",
              "    }\n",
              "\n",
              "    .colab-df-convert:hover {\n",
              "      background-color: #E2EBFA;\n",
              "      box-shadow: 0px 1px 2px rgba(60, 64, 67, 0.3), 0px 1px 3px 1px rgba(60, 64, 67, 0.15);\n",
              "      fill: #174EA6;\n",
              "    }\n",
              "\n",
              "    .colab-df-buttons div {\n",
              "      margin-bottom: 4px;\n",
              "    }\n",
              "\n",
              "    [theme=dark] .colab-df-convert {\n",
              "      background-color: #3B4455;\n",
              "      fill: #D2E3FC;\n",
              "    }\n",
              "\n",
              "    [theme=dark] .colab-df-convert:hover {\n",
              "      background-color: #434B5C;\n",
              "      box-shadow: 0px 1px 3px 1px rgba(0, 0, 0, 0.15);\n",
              "      filter: drop-shadow(0px 1px 2px rgba(0, 0, 0, 0.3));\n",
              "      fill: #FFFFFF;\n",
              "    }\n",
              "  </style>\n",
              "\n",
              "    <script>\n",
              "      const buttonEl =\n",
              "        document.querySelector('#df-c8f24a77-f2ce-4787-b098-3d89a3563cce button.colab-df-convert');\n",
              "      buttonEl.style.display =\n",
              "        google.colab.kernel.accessAllowed ? 'block' : 'none';\n",
              "\n",
              "      async function convertToInteractive(key) {\n",
              "        const element = document.querySelector('#df-c8f24a77-f2ce-4787-b098-3d89a3563cce');\n",
              "        const dataTable =\n",
              "          await google.colab.kernel.invokeFunction('convertToInteractive',\n",
              "                                                    [key], {});\n",
              "        if (!dataTable) return;\n",
              "\n",
              "        const docLinkHtml = 'Like what you see? Visit the ' +\n",
              "          '<a target=\"_blank\" href=https://colab.research.google.com/notebooks/data_table.ipynb>data table notebook</a>'\n",
              "          + ' to learn more about interactive tables.';\n",
              "        element.innerHTML = '';\n",
              "        dataTable['output_type'] = 'display_data';\n",
              "        await google.colab.output.renderOutput(dataTable, element);\n",
              "        const docLink = document.createElement('div');\n",
              "        docLink.innerHTML = docLinkHtml;\n",
              "        element.appendChild(docLink);\n",
              "      }\n",
              "    </script>\n",
              "  </div>\n",
              "\n",
              "\n",
              "<div id=\"df-ee885aad-f45d-4169-af65-6bddea95b7a1\">\n",
              "  <button class=\"colab-df-quickchart\" onclick=\"quickchart('df-ee885aad-f45d-4169-af65-6bddea95b7a1')\"\n",
              "            title=\"Suggest charts\"\n",
              "            style=\"display:none;\">\n",
              "\n",
              "<svg xmlns=\"http://www.w3.org/2000/svg\" height=\"24px\"viewBox=\"0 0 24 24\"\n",
              "     width=\"24px\">\n",
              "    <g>\n",
              "        <path d=\"M19 3H5c-1.1 0-2 .9-2 2v14c0 1.1.9 2 2 2h14c1.1 0 2-.9 2-2V5c0-1.1-.9-2-2-2zM9 17H7v-7h2v7zm4 0h-2V7h2v10zm4 0h-2v-4h2v4z\"/>\n",
              "    </g>\n",
              "</svg>\n",
              "  </button>\n",
              "\n",
              "<style>\n",
              "  .colab-df-quickchart {\n",
              "      --bg-color: #E8F0FE;\n",
              "      --fill-color: #1967D2;\n",
              "      --hover-bg-color: #E2EBFA;\n",
              "      --hover-fill-color: #174EA6;\n",
              "      --disabled-fill-color: #AAA;\n",
              "      --disabled-bg-color: #DDD;\n",
              "  }\n",
              "\n",
              "  [theme=dark] .colab-df-quickchart {\n",
              "      --bg-color: #3B4455;\n",
              "      --fill-color: #D2E3FC;\n",
              "      --hover-bg-color: #434B5C;\n",
              "      --hover-fill-color: #FFFFFF;\n",
              "      --disabled-bg-color: #3B4455;\n",
              "      --disabled-fill-color: #666;\n",
              "  }\n",
              "\n",
              "  .colab-df-quickchart {\n",
              "    background-color: var(--bg-color);\n",
              "    border: none;\n",
              "    border-radius: 50%;\n",
              "    cursor: pointer;\n",
              "    display: none;\n",
              "    fill: var(--fill-color);\n",
              "    height: 32px;\n",
              "    padding: 0;\n",
              "    width: 32px;\n",
              "  }\n",
              "\n",
              "  .colab-df-quickchart:hover {\n",
              "    background-color: var(--hover-bg-color);\n",
              "    box-shadow: 0 1px 2px rgba(60, 64, 67, 0.3), 0 1px 3px 1px rgba(60, 64, 67, 0.15);\n",
              "    fill: var(--button-hover-fill-color);\n",
              "  }\n",
              "\n",
              "  .colab-df-quickchart-complete:disabled,\n",
              "  .colab-df-quickchart-complete:disabled:hover {\n",
              "    background-color: var(--disabled-bg-color);\n",
              "    fill: var(--disabled-fill-color);\n",
              "    box-shadow: none;\n",
              "  }\n",
              "\n",
              "  .colab-df-spinner {\n",
              "    border: 2px solid var(--fill-color);\n",
              "    border-color: transparent;\n",
              "    border-bottom-color: var(--fill-color);\n",
              "    animation:\n",
              "      spin 1s steps(1) infinite;\n",
              "  }\n",
              "\n",
              "  @keyframes spin {\n",
              "    0% {\n",
              "      border-color: transparent;\n",
              "      border-bottom-color: var(--fill-color);\n",
              "      border-left-color: var(--fill-color);\n",
              "    }\n",
              "    20% {\n",
              "      border-color: transparent;\n",
              "      border-left-color: var(--fill-color);\n",
              "      border-top-color: var(--fill-color);\n",
              "    }\n",
              "    30% {\n",
              "      border-color: transparent;\n",
              "      border-left-color: var(--fill-color);\n",
              "      border-top-color: var(--fill-color);\n",
              "      border-right-color: var(--fill-color);\n",
              "    }\n",
              "    40% {\n",
              "      border-color: transparent;\n",
              "      border-right-color: var(--fill-color);\n",
              "      border-top-color: var(--fill-color);\n",
              "    }\n",
              "    60% {\n",
              "      border-color: transparent;\n",
              "      border-right-color: var(--fill-color);\n",
              "    }\n",
              "    80% {\n",
              "      border-color: transparent;\n",
              "      border-right-color: var(--fill-color);\n",
              "      border-bottom-color: var(--fill-color);\n",
              "    }\n",
              "    90% {\n",
              "      border-color: transparent;\n",
              "      border-bottom-color: var(--fill-color);\n",
              "    }\n",
              "  }\n",
              "</style>\n",
              "\n",
              "  <script>\n",
              "    async function quickchart(key) {\n",
              "      const quickchartButtonEl =\n",
              "        document.querySelector('#' + key + ' button');\n",
              "      quickchartButtonEl.disabled = true;  // To prevent multiple clicks.\n",
              "      quickchartButtonEl.classList.add('colab-df-spinner');\n",
              "      try {\n",
              "        const charts = await google.colab.kernel.invokeFunction(\n",
              "            'suggestCharts', [key], {});\n",
              "      } catch (error) {\n",
              "        console.error('Error during call to suggestCharts:', error);\n",
              "      }\n",
              "      quickchartButtonEl.classList.remove('colab-df-spinner');\n",
              "      quickchartButtonEl.classList.add('colab-df-quickchart-complete');\n",
              "    }\n",
              "    (() => {\n",
              "      let quickchartButtonEl =\n",
              "        document.querySelector('#df-ee885aad-f45d-4169-af65-6bddea95b7a1 button');\n",
              "      quickchartButtonEl.style.display =\n",
              "        google.colab.kernel.accessAllowed ? 'block' : 'none';\n",
              "    })();\n",
              "  </script>\n",
              "</div>\n",
              "\n",
              "    </div>\n",
              "  </div>\n"
            ]
          },
          "metadata": {},
          "execution_count": 6
        }
      ]
    },
    {
      "cell_type": "code",
      "source": [
        "tickers = df_sp500.Symbol\n",
        "# Creating the var tickers that is the column Symbol from df_sp500"
      ],
      "metadata": {
        "id": "dhkut3MNQuKq"
      },
      "execution_count": null,
      "outputs": []
    },
    {
      "cell_type": "code",
      "source": [
        "tickers.nunique()\n",
        "# Checking for the number of values in tickers"
      ],
      "metadata": {
        "colab": {
          "base_uri": "https://localhost:8080/"
        },
        "id": "WHVE9JFhK9Id",
        "outputId": "bd7158d3-1d28-49c4-d6f2-540b5a18c09f"
      },
      "execution_count": null,
      "outputs": [
        {
          "output_type": "execute_result",
          "data": {
            "text/plain": [
              "403"
            ]
          },
          "metadata": {},
          "execution_count": 8
        }
      ]
    },
    {
      "cell_type": "markdown",
      "source": [
        "# Testing to define the code to be used\n"
      ],
      "metadata": {
        "id": "E4g3AdYIlcBh"
      }
    },
    {
      "cell_type": "code",
      "source": [
        "import yfinance as yf"
      ],
      "metadata": {
        "id": "eGwU5Xg4lnt5"
      },
      "execution_count": null,
      "outputs": []
    },
    {
      "cell_type": "code",
      "source": [
        "df_balance = pd.DataFrame()  # Initialize an empty DataFrame to store balance sheet data\n",
        "\n",
        "# Iterate through tickers\n",
        "for i in tickers:\n",
        "    ticker_symbol = i  # Store the current ticker symbol for reference\n",
        "    balance_sheet = yf.Ticker(i).balance_sheet  # Download the balance sheet data for the current ticker\n",
        "    df_temp = pd.DataFrame(balance_sheet)  # Convert the balance sheet data to a DataFrame\n",
        "    df_temp['ticker'] = ticker_symbol  # Add a new column 'ticker' to store the ticker symbol in the DataFrame\n",
        "    df_balance = df_balance.append(df_temp)  # Append the current DataFrame to the main DataFrame\n",
        "\n",
        "# The resulting DataFrame df_balance contains balance sheet data for all tickers\n",
        "\n"
      ],
      "metadata": {
        "id": "fZBsSbkoSG1z",
        "colab": {
          "base_uri": "https://localhost:8080/"
        },
        "outputId": "a752c25d-fa92-4c5e-bf7d-725c3e919784"
      },
      "execution_count": null,
      "outputs": [
        {
          "output_type": "stream",
          "name": "stderr",
          "text": [
            "<ipython-input-12-e63d660650c2>:9: FutureWarning: The frame.append method is deprecated and will be removed from pandas in a future version. Use pandas.concat instead.\n",
            "  df_balance = df_balance.append(df_temp)  # Append the current DataFrame to the main DataFrame\n",
            "<ipython-input-12-e63d660650c2>:9: FutureWarning: The frame.append method is deprecated and will be removed from pandas in a future version. Use pandas.concat instead.\n",
            "  df_balance = df_balance.append(df_temp)  # Append the current DataFrame to the main DataFrame\n",
            "<ipython-input-12-e63d660650c2>:9: FutureWarning: The frame.append method is deprecated and will be removed from pandas in a future version. Use pandas.concat instead.\n",
            "  df_balance = df_balance.append(df_temp)  # Append the current DataFrame to the main DataFrame\n",
            "<ipython-input-12-e63d660650c2>:9: FutureWarning: The frame.append method is deprecated and will be removed from pandas in a future version. Use pandas.concat instead.\n",
            "  df_balance = df_balance.append(df_temp)  # Append the current DataFrame to the main DataFrame\n",
            "<ipython-input-12-e63d660650c2>:9: FutureWarning: The frame.append method is deprecated and will be removed from pandas in a future version. Use pandas.concat instead.\n",
            "  df_balance = df_balance.append(df_temp)  # Append the current DataFrame to the main DataFrame\n",
            "<ipython-input-12-e63d660650c2>:9: FutureWarning: The frame.append method is deprecated and will be removed from pandas in a future version. Use pandas.concat instead.\n",
            "  df_balance = df_balance.append(df_temp)  # Append the current DataFrame to the main DataFrame\n",
            "<ipython-input-12-e63d660650c2>:9: FutureWarning: The frame.append method is deprecated and will be removed from pandas in a future version. Use pandas.concat instead.\n",
            "  df_balance = df_balance.append(df_temp)  # Append the current DataFrame to the main DataFrame\n",
            "<ipython-input-12-e63d660650c2>:9: FutureWarning: The frame.append method is deprecated and will be removed from pandas in a future version. Use pandas.concat instead.\n",
            "  df_balance = df_balance.append(df_temp)  # Append the current DataFrame to the main DataFrame\n",
            "<ipython-input-12-e63d660650c2>:9: FutureWarning: The frame.append method is deprecated and will be removed from pandas in a future version. Use pandas.concat instead.\n",
            "  df_balance = df_balance.append(df_temp)  # Append the current DataFrame to the main DataFrame\n",
            "<ipython-input-12-e63d660650c2>:9: FutureWarning: The frame.append method is deprecated and will be removed from pandas in a future version. Use pandas.concat instead.\n",
            "  df_balance = df_balance.append(df_temp)  # Append the current DataFrame to the main DataFrame\n",
            "<ipython-input-12-e63d660650c2>:9: FutureWarning: The frame.append method is deprecated and will be removed from pandas in a future version. Use pandas.concat instead.\n",
            "  df_balance = df_balance.append(df_temp)  # Append the current DataFrame to the main DataFrame\n",
            "<ipython-input-12-e63d660650c2>:9: FutureWarning: The frame.append method is deprecated and will be removed from pandas in a future version. Use pandas.concat instead.\n",
            "  df_balance = df_balance.append(df_temp)  # Append the current DataFrame to the main DataFrame\n",
            "<ipython-input-12-e63d660650c2>:9: FutureWarning: The frame.append method is deprecated and will be removed from pandas in a future version. Use pandas.concat instead.\n",
            "  df_balance = df_balance.append(df_temp)  # Append the current DataFrame to the main DataFrame\n",
            "<ipython-input-12-e63d660650c2>:9: FutureWarning: The frame.append method is deprecated and will be removed from pandas in a future version. Use pandas.concat instead.\n",
            "  df_balance = df_balance.append(df_temp)  # Append the current DataFrame to the main DataFrame\n",
            "<ipython-input-12-e63d660650c2>:9: FutureWarning: The frame.append method is deprecated and will be removed from pandas in a future version. Use pandas.concat instead.\n",
            "  df_balance = df_balance.append(df_temp)  # Append the current DataFrame to the main DataFrame\n",
            "<ipython-input-12-e63d660650c2>:9: FutureWarning: The frame.append method is deprecated and will be removed from pandas in a future version. Use pandas.concat instead.\n",
            "  df_balance = df_balance.append(df_temp)  # Append the current DataFrame to the main DataFrame\n",
            "<ipython-input-12-e63d660650c2>:9: FutureWarning: The frame.append method is deprecated and will be removed from pandas in a future version. Use pandas.concat instead.\n",
            "  df_balance = df_balance.append(df_temp)  # Append the current DataFrame to the main DataFrame\n",
            "<ipython-input-12-e63d660650c2>:9: FutureWarning: The frame.append method is deprecated and will be removed from pandas in a future version. Use pandas.concat instead.\n",
            "  df_balance = df_balance.append(df_temp)  # Append the current DataFrame to the main DataFrame\n",
            "<ipython-input-12-e63d660650c2>:9: FutureWarning: The frame.append method is deprecated and will be removed from pandas in a future version. Use pandas.concat instead.\n",
            "  df_balance = df_balance.append(df_temp)  # Append the current DataFrame to the main DataFrame\n",
            "<ipython-input-12-e63d660650c2>:9: FutureWarning: The frame.append method is deprecated and will be removed from pandas in a future version. Use pandas.concat instead.\n",
            "  df_balance = df_balance.append(df_temp)  # Append the current DataFrame to the main DataFrame\n",
            "<ipython-input-12-e63d660650c2>:9: FutureWarning: The frame.append method is deprecated and will be removed from pandas in a future version. Use pandas.concat instead.\n",
            "  df_balance = df_balance.append(df_temp)  # Append the current DataFrame to the main DataFrame\n",
            "<ipython-input-12-e63d660650c2>:9: FutureWarning: The frame.append method is deprecated and will be removed from pandas in a future version. Use pandas.concat instead.\n",
            "  df_balance = df_balance.append(df_temp)  # Append the current DataFrame to the main DataFrame\n",
            "<ipython-input-12-e63d660650c2>:9: FutureWarning: The frame.append method is deprecated and will be removed from pandas in a future version. Use pandas.concat instead.\n",
            "  df_balance = df_balance.append(df_temp)  # Append the current DataFrame to the main DataFrame\n",
            "<ipython-input-12-e63d660650c2>:9: FutureWarning: The frame.append method is deprecated and will be removed from pandas in a future version. Use pandas.concat instead.\n",
            "  df_balance = df_balance.append(df_temp)  # Append the current DataFrame to the main DataFrame\n",
            "<ipython-input-12-e63d660650c2>:9: FutureWarning: The frame.append method is deprecated and will be removed from pandas in a future version. Use pandas.concat instead.\n",
            "  df_balance = df_balance.append(df_temp)  # Append the current DataFrame to the main DataFrame\n",
            "<ipython-input-12-e63d660650c2>:9: FutureWarning: The frame.append method is deprecated and will be removed from pandas in a future version. Use pandas.concat instead.\n",
            "  df_balance = df_balance.append(df_temp)  # Append the current DataFrame to the main DataFrame\n",
            "<ipython-input-12-e63d660650c2>:9: FutureWarning: The frame.append method is deprecated and will be removed from pandas in a future version. Use pandas.concat instead.\n",
            "  df_balance = df_balance.append(df_temp)  # Append the current DataFrame to the main DataFrame\n",
            "<ipython-input-12-e63d660650c2>:9: FutureWarning: The frame.append method is deprecated and will be removed from pandas in a future version. Use pandas.concat instead.\n",
            "  df_balance = df_balance.append(df_temp)  # Append the current DataFrame to the main DataFrame\n",
            "<ipython-input-12-e63d660650c2>:9: FutureWarning: The frame.append method is deprecated and will be removed from pandas in a future version. Use pandas.concat instead.\n",
            "  df_balance = df_balance.append(df_temp)  # Append the current DataFrame to the main DataFrame\n",
            "<ipython-input-12-e63d660650c2>:9: FutureWarning: The frame.append method is deprecated and will be removed from pandas in a future version. Use pandas.concat instead.\n",
            "  df_balance = df_balance.append(df_temp)  # Append the current DataFrame to the main DataFrame\n",
            "<ipython-input-12-e63d660650c2>:9: FutureWarning: The frame.append method is deprecated and will be removed from pandas in a future version. Use pandas.concat instead.\n",
            "  df_balance = df_balance.append(df_temp)  # Append the current DataFrame to the main DataFrame\n",
            "<ipython-input-12-e63d660650c2>:9: FutureWarning: The frame.append method is deprecated and will be removed from pandas in a future version. Use pandas.concat instead.\n",
            "  df_balance = df_balance.append(df_temp)  # Append the current DataFrame to the main DataFrame\n",
            "<ipython-input-12-e63d660650c2>:9: FutureWarning: The frame.append method is deprecated and will be removed from pandas in a future version. Use pandas.concat instead.\n",
            "  df_balance = df_balance.append(df_temp)  # Append the current DataFrame to the main DataFrame\n",
            "<ipython-input-12-e63d660650c2>:9: FutureWarning: The frame.append method is deprecated and will be removed from pandas in a future version. Use pandas.concat instead.\n",
            "  df_balance = df_balance.append(df_temp)  # Append the current DataFrame to the main DataFrame\n",
            "<ipython-input-12-e63d660650c2>:9: FutureWarning: The frame.append method is deprecated and will be removed from pandas in a future version. Use pandas.concat instead.\n",
            "  df_balance = df_balance.append(df_temp)  # Append the current DataFrame to the main DataFrame\n",
            "<ipython-input-12-e63d660650c2>:9: FutureWarning: The frame.append method is deprecated and will be removed from pandas in a future version. Use pandas.concat instead.\n",
            "  df_balance = df_balance.append(df_temp)  # Append the current DataFrame to the main DataFrame\n",
            "<ipython-input-12-e63d660650c2>:9: FutureWarning: The frame.append method is deprecated and will be removed from pandas in a future version. Use pandas.concat instead.\n",
            "  df_balance = df_balance.append(df_temp)  # Append the current DataFrame to the main DataFrame\n",
            "<ipython-input-12-e63d660650c2>:9: FutureWarning: The frame.append method is deprecated and will be removed from pandas in a future version. Use pandas.concat instead.\n",
            "  df_balance = df_balance.append(df_temp)  # Append the current DataFrame to the main DataFrame\n",
            "<ipython-input-12-e63d660650c2>:9: FutureWarning: The frame.append method is deprecated and will be removed from pandas in a future version. Use pandas.concat instead.\n",
            "  df_balance = df_balance.append(df_temp)  # Append the current DataFrame to the main DataFrame\n",
            "<ipython-input-12-e63d660650c2>:9: FutureWarning: The frame.append method is deprecated and will be removed from pandas in a future version. Use pandas.concat instead.\n",
            "  df_balance = df_balance.append(df_temp)  # Append the current DataFrame to the main DataFrame\n",
            "<ipython-input-12-e63d660650c2>:9: FutureWarning: The frame.append method is deprecated and will be removed from pandas in a future version. Use pandas.concat instead.\n",
            "  df_balance = df_balance.append(df_temp)  # Append the current DataFrame to the main DataFrame\n",
            "<ipython-input-12-e63d660650c2>:9: FutureWarning: The frame.append method is deprecated and will be removed from pandas in a future version. Use pandas.concat instead.\n",
            "  df_balance = df_balance.append(df_temp)  # Append the current DataFrame to the main DataFrame\n",
            "<ipython-input-12-e63d660650c2>:9: FutureWarning: The frame.append method is deprecated and will be removed from pandas in a future version. Use pandas.concat instead.\n",
            "  df_balance = df_balance.append(df_temp)  # Append the current DataFrame to the main DataFrame\n",
            "<ipython-input-12-e63d660650c2>:9: FutureWarning: The frame.append method is deprecated and will be removed from pandas in a future version. Use pandas.concat instead.\n",
            "  df_balance = df_balance.append(df_temp)  # Append the current DataFrame to the main DataFrame\n",
            "<ipython-input-12-e63d660650c2>:9: FutureWarning: The frame.append method is deprecated and will be removed from pandas in a future version. Use pandas.concat instead.\n",
            "  df_balance = df_balance.append(df_temp)  # Append the current DataFrame to the main DataFrame\n",
            "<ipython-input-12-e63d660650c2>:9: FutureWarning: The frame.append method is deprecated and will be removed from pandas in a future version. Use pandas.concat instead.\n",
            "  df_balance = df_balance.append(df_temp)  # Append the current DataFrame to the main DataFrame\n",
            "<ipython-input-12-e63d660650c2>:9: FutureWarning: The frame.append method is deprecated and will be removed from pandas in a future version. Use pandas.concat instead.\n",
            "  df_balance = df_balance.append(df_temp)  # Append the current DataFrame to the main DataFrame\n",
            "<ipython-input-12-e63d660650c2>:9: FutureWarning: The frame.append method is deprecated and will be removed from pandas in a future version. Use pandas.concat instead.\n",
            "  df_balance = df_balance.append(df_temp)  # Append the current DataFrame to the main DataFrame\n",
            "<ipython-input-12-e63d660650c2>:9: FutureWarning: The frame.append method is deprecated and will be removed from pandas in a future version. Use pandas.concat instead.\n",
            "  df_balance = df_balance.append(df_temp)  # Append the current DataFrame to the main DataFrame\n",
            "<ipython-input-12-e63d660650c2>:9: FutureWarning: The frame.append method is deprecated and will be removed from pandas in a future version. Use pandas.concat instead.\n",
            "  df_balance = df_balance.append(df_temp)  # Append the current DataFrame to the main DataFrame\n",
            "<ipython-input-12-e63d660650c2>:9: FutureWarning: The frame.append method is deprecated and will be removed from pandas in a future version. Use pandas.concat instead.\n",
            "  df_balance = df_balance.append(df_temp)  # Append the current DataFrame to the main DataFrame\n",
            "<ipython-input-12-e63d660650c2>:9: FutureWarning: The frame.append method is deprecated and will be removed from pandas in a future version. Use pandas.concat instead.\n",
            "  df_balance = df_balance.append(df_temp)  # Append the current DataFrame to the main DataFrame\n",
            "<ipython-input-12-e63d660650c2>:9: FutureWarning: The frame.append method is deprecated and will be removed from pandas in a future version. Use pandas.concat instead.\n",
            "  df_balance = df_balance.append(df_temp)  # Append the current DataFrame to the main DataFrame\n",
            "<ipython-input-12-e63d660650c2>:9: FutureWarning: The frame.append method is deprecated and will be removed from pandas in a future version. Use pandas.concat instead.\n",
            "  df_balance = df_balance.append(df_temp)  # Append the current DataFrame to the main DataFrame\n",
            "<ipython-input-12-e63d660650c2>:9: FutureWarning: The frame.append method is deprecated and will be removed from pandas in a future version. Use pandas.concat instead.\n",
            "  df_balance = df_balance.append(df_temp)  # Append the current DataFrame to the main DataFrame\n",
            "<ipython-input-12-e63d660650c2>:9: FutureWarning: The frame.append method is deprecated and will be removed from pandas in a future version. Use pandas.concat instead.\n",
            "  df_balance = df_balance.append(df_temp)  # Append the current DataFrame to the main DataFrame\n",
            "<ipython-input-12-e63d660650c2>:9: FutureWarning: The frame.append method is deprecated and will be removed from pandas in a future version. Use pandas.concat instead.\n",
            "  df_balance = df_balance.append(df_temp)  # Append the current DataFrame to the main DataFrame\n",
            "<ipython-input-12-e63d660650c2>:9: FutureWarning: The frame.append method is deprecated and will be removed from pandas in a future version. Use pandas.concat instead.\n",
            "  df_balance = df_balance.append(df_temp)  # Append the current DataFrame to the main DataFrame\n",
            "<ipython-input-12-e63d660650c2>:9: FutureWarning: The frame.append method is deprecated and will be removed from pandas in a future version. Use pandas.concat instead.\n",
            "  df_balance = df_balance.append(df_temp)  # Append the current DataFrame to the main DataFrame\n",
            "<ipython-input-12-e63d660650c2>:9: FutureWarning: The frame.append method is deprecated and will be removed from pandas in a future version. Use pandas.concat instead.\n",
            "  df_balance = df_balance.append(df_temp)  # Append the current DataFrame to the main DataFrame\n",
            "<ipython-input-12-e63d660650c2>:9: FutureWarning: The frame.append method is deprecated and will be removed from pandas in a future version. Use pandas.concat instead.\n",
            "  df_balance = df_balance.append(df_temp)  # Append the current DataFrame to the main DataFrame\n",
            "<ipython-input-12-e63d660650c2>:9: FutureWarning: The frame.append method is deprecated and will be removed from pandas in a future version. Use pandas.concat instead.\n",
            "  df_balance = df_balance.append(df_temp)  # Append the current DataFrame to the main DataFrame\n",
            "<ipython-input-12-e63d660650c2>:9: FutureWarning: The frame.append method is deprecated and will be removed from pandas in a future version. Use pandas.concat instead.\n",
            "  df_balance = df_balance.append(df_temp)  # Append the current DataFrame to the main DataFrame\n",
            "<ipython-input-12-e63d660650c2>:9: FutureWarning: The frame.append method is deprecated and will be removed from pandas in a future version. Use pandas.concat instead.\n",
            "  df_balance = df_balance.append(df_temp)  # Append the current DataFrame to the main DataFrame\n",
            "<ipython-input-12-e63d660650c2>:9: FutureWarning: The frame.append method is deprecated and will be removed from pandas in a future version. Use pandas.concat instead.\n",
            "  df_balance = df_balance.append(df_temp)  # Append the current DataFrame to the main DataFrame\n",
            "<ipython-input-12-e63d660650c2>:9: FutureWarning: The frame.append method is deprecated and will be removed from pandas in a future version. Use pandas.concat instead.\n",
            "  df_balance = df_balance.append(df_temp)  # Append the current DataFrame to the main DataFrame\n",
            "<ipython-input-12-e63d660650c2>:9: FutureWarning: The frame.append method is deprecated and will be removed from pandas in a future version. Use pandas.concat instead.\n",
            "  df_balance = df_balance.append(df_temp)  # Append the current DataFrame to the main DataFrame\n",
            "<ipython-input-12-e63d660650c2>:9: FutureWarning: The frame.append method is deprecated and will be removed from pandas in a future version. Use pandas.concat instead.\n",
            "  df_balance = df_balance.append(df_temp)  # Append the current DataFrame to the main DataFrame\n",
            "<ipython-input-12-e63d660650c2>:9: FutureWarning: The frame.append method is deprecated and will be removed from pandas in a future version. Use pandas.concat instead.\n",
            "  df_balance = df_balance.append(df_temp)  # Append the current DataFrame to the main DataFrame\n",
            "<ipython-input-12-e63d660650c2>:9: FutureWarning: The frame.append method is deprecated and will be removed from pandas in a future version. Use pandas.concat instead.\n",
            "  df_balance = df_balance.append(df_temp)  # Append the current DataFrame to the main DataFrame\n",
            "<ipython-input-12-e63d660650c2>:9: FutureWarning: The frame.append method is deprecated and will be removed from pandas in a future version. Use pandas.concat instead.\n",
            "  df_balance = df_balance.append(df_temp)  # Append the current DataFrame to the main DataFrame\n",
            "<ipython-input-12-e63d660650c2>:9: FutureWarning: The frame.append method is deprecated and will be removed from pandas in a future version. Use pandas.concat instead.\n",
            "  df_balance = df_balance.append(df_temp)  # Append the current DataFrame to the main DataFrame\n",
            "<ipython-input-12-e63d660650c2>:9: FutureWarning: The frame.append method is deprecated and will be removed from pandas in a future version. Use pandas.concat instead.\n",
            "  df_balance = df_balance.append(df_temp)  # Append the current DataFrame to the main DataFrame\n",
            "<ipython-input-12-e63d660650c2>:9: FutureWarning: The frame.append method is deprecated and will be removed from pandas in a future version. Use pandas.concat instead.\n",
            "  df_balance = df_balance.append(df_temp)  # Append the current DataFrame to the main DataFrame\n",
            "<ipython-input-12-e63d660650c2>:9: FutureWarning: The frame.append method is deprecated and will be removed from pandas in a future version. Use pandas.concat instead.\n",
            "  df_balance = df_balance.append(df_temp)  # Append the current DataFrame to the main DataFrame\n",
            "<ipython-input-12-e63d660650c2>:9: FutureWarning: The frame.append method is deprecated and will be removed from pandas in a future version. Use pandas.concat instead.\n",
            "  df_balance = df_balance.append(df_temp)  # Append the current DataFrame to the main DataFrame\n",
            "<ipython-input-12-e63d660650c2>:9: FutureWarning: The frame.append method is deprecated and will be removed from pandas in a future version. Use pandas.concat instead.\n",
            "  df_balance = df_balance.append(df_temp)  # Append the current DataFrame to the main DataFrame\n",
            "<ipython-input-12-e63d660650c2>:9: FutureWarning: The frame.append method is deprecated and will be removed from pandas in a future version. Use pandas.concat instead.\n",
            "  df_balance = df_balance.append(df_temp)  # Append the current DataFrame to the main DataFrame\n",
            "<ipython-input-12-e63d660650c2>:9: FutureWarning: The frame.append method is deprecated and will be removed from pandas in a future version. Use pandas.concat instead.\n",
            "  df_balance = df_balance.append(df_temp)  # Append the current DataFrame to the main DataFrame\n",
            "<ipython-input-12-e63d660650c2>:9: FutureWarning: The frame.append method is deprecated and will be removed from pandas in a future version. Use pandas.concat instead.\n",
            "  df_balance = df_balance.append(df_temp)  # Append the current DataFrame to the main DataFrame\n",
            "<ipython-input-12-e63d660650c2>:9: FutureWarning: The frame.append method is deprecated and will be removed from pandas in a future version. Use pandas.concat instead.\n",
            "  df_balance = df_balance.append(df_temp)  # Append the current DataFrame to the main DataFrame\n",
            "<ipython-input-12-e63d660650c2>:9: FutureWarning: The frame.append method is deprecated and will be removed from pandas in a future version. Use pandas.concat instead.\n",
            "  df_balance = df_balance.append(df_temp)  # Append the current DataFrame to the main DataFrame\n",
            "<ipython-input-12-e63d660650c2>:9: FutureWarning: The frame.append method is deprecated and will be removed from pandas in a future version. Use pandas.concat instead.\n",
            "  df_balance = df_balance.append(df_temp)  # Append the current DataFrame to the main DataFrame\n",
            "<ipython-input-12-e63d660650c2>:9: FutureWarning: The frame.append method is deprecated and will be removed from pandas in a future version. Use pandas.concat instead.\n",
            "  df_balance = df_balance.append(df_temp)  # Append the current DataFrame to the main DataFrame\n",
            "<ipython-input-12-e63d660650c2>:9: FutureWarning: The frame.append method is deprecated and will be removed from pandas in a future version. Use pandas.concat instead.\n",
            "  df_balance = df_balance.append(df_temp)  # Append the current DataFrame to the main DataFrame\n",
            "<ipython-input-12-e63d660650c2>:9: FutureWarning: The frame.append method is deprecated and will be removed from pandas in a future version. Use pandas.concat instead.\n",
            "  df_balance = df_balance.append(df_temp)  # Append the current DataFrame to the main DataFrame\n",
            "<ipython-input-12-e63d660650c2>:9: FutureWarning: The frame.append method is deprecated and will be removed from pandas in a future version. Use pandas.concat instead.\n",
            "  df_balance = df_balance.append(df_temp)  # Append the current DataFrame to the main DataFrame\n",
            "<ipython-input-12-e63d660650c2>:9: FutureWarning: The frame.append method is deprecated and will be removed from pandas in a future version. Use pandas.concat instead.\n",
            "  df_balance = df_balance.append(df_temp)  # Append the current DataFrame to the main DataFrame\n",
            "<ipython-input-12-e63d660650c2>:9: FutureWarning: The frame.append method is deprecated and will be removed from pandas in a future version. Use pandas.concat instead.\n",
            "  df_balance = df_balance.append(df_temp)  # Append the current DataFrame to the main DataFrame\n",
            "<ipython-input-12-e63d660650c2>:9: FutureWarning: The frame.append method is deprecated and will be removed from pandas in a future version. Use pandas.concat instead.\n",
            "  df_balance = df_balance.append(df_temp)  # Append the current DataFrame to the main DataFrame\n",
            "<ipython-input-12-e63d660650c2>:9: FutureWarning: The frame.append method is deprecated and will be removed from pandas in a future version. Use pandas.concat instead.\n",
            "  df_balance = df_balance.append(df_temp)  # Append the current DataFrame to the main DataFrame\n",
            "<ipython-input-12-e63d660650c2>:9: FutureWarning: The frame.append method is deprecated and will be removed from pandas in a future version. Use pandas.concat instead.\n",
            "  df_balance = df_balance.append(df_temp)  # Append the current DataFrame to the main DataFrame\n",
            "<ipython-input-12-e63d660650c2>:9: FutureWarning: The frame.append method is deprecated and will be removed from pandas in a future version. Use pandas.concat instead.\n",
            "  df_balance = df_balance.append(df_temp)  # Append the current DataFrame to the main DataFrame\n",
            "<ipython-input-12-e63d660650c2>:9: FutureWarning: The frame.append method is deprecated and will be removed from pandas in a future version. Use pandas.concat instead.\n",
            "  df_balance = df_balance.append(df_temp)  # Append the current DataFrame to the main DataFrame\n",
            "<ipython-input-12-e63d660650c2>:9: FutureWarning: The frame.append method is deprecated and will be removed from pandas in a future version. Use pandas.concat instead.\n",
            "  df_balance = df_balance.append(df_temp)  # Append the current DataFrame to the main DataFrame\n",
            "<ipython-input-12-e63d660650c2>:9: FutureWarning: The frame.append method is deprecated and will be removed from pandas in a future version. Use pandas.concat instead.\n",
            "  df_balance = df_balance.append(df_temp)  # Append the current DataFrame to the main DataFrame\n",
            "<ipython-input-12-e63d660650c2>:9: FutureWarning: The frame.append method is deprecated and will be removed from pandas in a future version. Use pandas.concat instead.\n",
            "  df_balance = df_balance.append(df_temp)  # Append the current DataFrame to the main DataFrame\n",
            "<ipython-input-12-e63d660650c2>:9: FutureWarning: The frame.append method is deprecated and will be removed from pandas in a future version. Use pandas.concat instead.\n",
            "  df_balance = df_balance.append(df_temp)  # Append the current DataFrame to the main DataFrame\n",
            "<ipython-input-12-e63d660650c2>:9: FutureWarning: The frame.append method is deprecated and will be removed from pandas in a future version. Use pandas.concat instead.\n",
            "  df_balance = df_balance.append(df_temp)  # Append the current DataFrame to the main DataFrame\n",
            "<ipython-input-12-e63d660650c2>:9: FutureWarning: The frame.append method is deprecated and will be removed from pandas in a future version. Use pandas.concat instead.\n",
            "  df_balance = df_balance.append(df_temp)  # Append the current DataFrame to the main DataFrame\n",
            "<ipython-input-12-e63d660650c2>:9: FutureWarning: The frame.append method is deprecated and will be removed from pandas in a future version. Use pandas.concat instead.\n",
            "  df_balance = df_balance.append(df_temp)  # Append the current DataFrame to the main DataFrame\n",
            "<ipython-input-12-e63d660650c2>:9: FutureWarning: The frame.append method is deprecated and will be removed from pandas in a future version. Use pandas.concat instead.\n",
            "  df_balance = df_balance.append(df_temp)  # Append the current DataFrame to the main DataFrame\n",
            "<ipython-input-12-e63d660650c2>:9: FutureWarning: The frame.append method is deprecated and will be removed from pandas in a future version. Use pandas.concat instead.\n",
            "  df_balance = df_balance.append(df_temp)  # Append the current DataFrame to the main DataFrame\n",
            "<ipython-input-12-e63d660650c2>:9: FutureWarning: The frame.append method is deprecated and will be removed from pandas in a future version. Use pandas.concat instead.\n",
            "  df_balance = df_balance.append(df_temp)  # Append the current DataFrame to the main DataFrame\n",
            "<ipython-input-12-e63d660650c2>:9: FutureWarning: The frame.append method is deprecated and will be removed from pandas in a future version. Use pandas.concat instead.\n",
            "  df_balance = df_balance.append(df_temp)  # Append the current DataFrame to the main DataFrame\n",
            "<ipython-input-12-e63d660650c2>:9: FutureWarning: The frame.append method is deprecated and will be removed from pandas in a future version. Use pandas.concat instead.\n",
            "  df_balance = df_balance.append(df_temp)  # Append the current DataFrame to the main DataFrame\n",
            "<ipython-input-12-e63d660650c2>:9: FutureWarning: The frame.append method is deprecated and will be removed from pandas in a future version. Use pandas.concat instead.\n",
            "  df_balance = df_balance.append(df_temp)  # Append the current DataFrame to the main DataFrame\n",
            "<ipython-input-12-e63d660650c2>:9: FutureWarning: The frame.append method is deprecated and will be removed from pandas in a future version. Use pandas.concat instead.\n",
            "  df_balance = df_balance.append(df_temp)  # Append the current DataFrame to the main DataFrame\n",
            "<ipython-input-12-e63d660650c2>:9: FutureWarning: The frame.append method is deprecated and will be removed from pandas in a future version. Use pandas.concat instead.\n",
            "  df_balance = df_balance.append(df_temp)  # Append the current DataFrame to the main DataFrame\n",
            "<ipython-input-12-e63d660650c2>:9: FutureWarning: The frame.append method is deprecated and will be removed from pandas in a future version. Use pandas.concat instead.\n",
            "  df_balance = df_balance.append(df_temp)  # Append the current DataFrame to the main DataFrame\n",
            "<ipython-input-12-e63d660650c2>:9: FutureWarning: The frame.append method is deprecated and will be removed from pandas in a future version. Use pandas.concat instead.\n",
            "  df_balance = df_balance.append(df_temp)  # Append the current DataFrame to the main DataFrame\n",
            "<ipython-input-12-e63d660650c2>:9: FutureWarning: The frame.append method is deprecated and will be removed from pandas in a future version. Use pandas.concat instead.\n",
            "  df_balance = df_balance.append(df_temp)  # Append the current DataFrame to the main DataFrame\n",
            "<ipython-input-12-e63d660650c2>:9: FutureWarning: The frame.append method is deprecated and will be removed from pandas in a future version. Use pandas.concat instead.\n",
            "  df_balance = df_balance.append(df_temp)  # Append the current DataFrame to the main DataFrame\n",
            "<ipython-input-12-e63d660650c2>:9: FutureWarning: The frame.append method is deprecated and will be removed from pandas in a future version. Use pandas.concat instead.\n",
            "  df_balance = df_balance.append(df_temp)  # Append the current DataFrame to the main DataFrame\n",
            "<ipython-input-12-e63d660650c2>:9: FutureWarning: The frame.append method is deprecated and will be removed from pandas in a future version. Use pandas.concat instead.\n",
            "  df_balance = df_balance.append(df_temp)  # Append the current DataFrame to the main DataFrame\n",
            "<ipython-input-12-e63d660650c2>:9: FutureWarning: The frame.append method is deprecated and will be removed from pandas in a future version. Use pandas.concat instead.\n",
            "  df_balance = df_balance.append(df_temp)  # Append the current DataFrame to the main DataFrame\n",
            "<ipython-input-12-e63d660650c2>:9: FutureWarning: The frame.append method is deprecated and will be removed from pandas in a future version. Use pandas.concat instead.\n",
            "  df_balance = df_balance.append(df_temp)  # Append the current DataFrame to the main DataFrame\n",
            "<ipython-input-12-e63d660650c2>:9: FutureWarning: The frame.append method is deprecated and will be removed from pandas in a future version. Use pandas.concat instead.\n",
            "  df_balance = df_balance.append(df_temp)  # Append the current DataFrame to the main DataFrame\n",
            "<ipython-input-12-e63d660650c2>:9: FutureWarning: The frame.append method is deprecated and will be removed from pandas in a future version. Use pandas.concat instead.\n",
            "  df_balance = df_balance.append(df_temp)  # Append the current DataFrame to the main DataFrame\n",
            "<ipython-input-12-e63d660650c2>:9: FutureWarning: The frame.append method is deprecated and will be removed from pandas in a future version. Use pandas.concat instead.\n",
            "  df_balance = df_balance.append(df_temp)  # Append the current DataFrame to the main DataFrame\n",
            "<ipython-input-12-e63d660650c2>:9: FutureWarning: The frame.append method is deprecated and will be removed from pandas in a future version. Use pandas.concat instead.\n",
            "  df_balance = df_balance.append(df_temp)  # Append the current DataFrame to the main DataFrame\n",
            "<ipython-input-12-e63d660650c2>:9: FutureWarning: The frame.append method is deprecated and will be removed from pandas in a future version. Use pandas.concat instead.\n",
            "  df_balance = df_balance.append(df_temp)  # Append the current DataFrame to the main DataFrame\n",
            "<ipython-input-12-e63d660650c2>:9: FutureWarning: The frame.append method is deprecated and will be removed from pandas in a future version. Use pandas.concat instead.\n",
            "  df_balance = df_balance.append(df_temp)  # Append the current DataFrame to the main DataFrame\n",
            "<ipython-input-12-e63d660650c2>:9: FutureWarning: The frame.append method is deprecated and will be removed from pandas in a future version. Use pandas.concat instead.\n",
            "  df_balance = df_balance.append(df_temp)  # Append the current DataFrame to the main DataFrame\n",
            "<ipython-input-12-e63d660650c2>:9: FutureWarning: The frame.append method is deprecated and will be removed from pandas in a future version. Use pandas.concat instead.\n",
            "  df_balance = df_balance.append(df_temp)  # Append the current DataFrame to the main DataFrame\n",
            "<ipython-input-12-e63d660650c2>:9: FutureWarning: The frame.append method is deprecated and will be removed from pandas in a future version. Use pandas.concat instead.\n",
            "  df_balance = df_balance.append(df_temp)  # Append the current DataFrame to the main DataFrame\n",
            "<ipython-input-12-e63d660650c2>:9: FutureWarning: The frame.append method is deprecated and will be removed from pandas in a future version. Use pandas.concat instead.\n",
            "  df_balance = df_balance.append(df_temp)  # Append the current DataFrame to the main DataFrame\n",
            "<ipython-input-12-e63d660650c2>:9: FutureWarning: The frame.append method is deprecated and will be removed from pandas in a future version. Use pandas.concat instead.\n",
            "  df_balance = df_balance.append(df_temp)  # Append the current DataFrame to the main DataFrame\n",
            "<ipython-input-12-e63d660650c2>:9: FutureWarning: The frame.append method is deprecated and will be removed from pandas in a future version. Use pandas.concat instead.\n",
            "  df_balance = df_balance.append(df_temp)  # Append the current DataFrame to the main DataFrame\n",
            "<ipython-input-12-e63d660650c2>:9: FutureWarning: The frame.append method is deprecated and will be removed from pandas in a future version. Use pandas.concat instead.\n",
            "  df_balance = df_balance.append(df_temp)  # Append the current DataFrame to the main DataFrame\n",
            "<ipython-input-12-e63d660650c2>:9: FutureWarning: The frame.append method is deprecated and will be removed from pandas in a future version. Use pandas.concat instead.\n",
            "  df_balance = df_balance.append(df_temp)  # Append the current DataFrame to the main DataFrame\n",
            "<ipython-input-12-e63d660650c2>:9: FutureWarning: The frame.append method is deprecated and will be removed from pandas in a future version. Use pandas.concat instead.\n",
            "  df_balance = df_balance.append(df_temp)  # Append the current DataFrame to the main DataFrame\n",
            "<ipython-input-12-e63d660650c2>:9: FutureWarning: The frame.append method is deprecated and will be removed from pandas in a future version. Use pandas.concat instead.\n",
            "  df_balance = df_balance.append(df_temp)  # Append the current DataFrame to the main DataFrame\n",
            "<ipython-input-12-e63d660650c2>:9: FutureWarning: The frame.append method is deprecated and will be removed from pandas in a future version. Use pandas.concat instead.\n",
            "  df_balance = df_balance.append(df_temp)  # Append the current DataFrame to the main DataFrame\n",
            "<ipython-input-12-e63d660650c2>:9: FutureWarning: The frame.append method is deprecated and will be removed from pandas in a future version. Use pandas.concat instead.\n",
            "  df_balance = df_balance.append(df_temp)  # Append the current DataFrame to the main DataFrame\n",
            "<ipython-input-12-e63d660650c2>:9: FutureWarning: The frame.append method is deprecated and will be removed from pandas in a future version. Use pandas.concat instead.\n",
            "  df_balance = df_balance.append(df_temp)  # Append the current DataFrame to the main DataFrame\n",
            "<ipython-input-12-e63d660650c2>:9: FutureWarning: The frame.append method is deprecated and will be removed from pandas in a future version. Use pandas.concat instead.\n",
            "  df_balance = df_balance.append(df_temp)  # Append the current DataFrame to the main DataFrame\n",
            "<ipython-input-12-e63d660650c2>:9: FutureWarning: The frame.append method is deprecated and will be removed from pandas in a future version. Use pandas.concat instead.\n",
            "  df_balance = df_balance.append(df_temp)  # Append the current DataFrame to the main DataFrame\n",
            "<ipython-input-12-e63d660650c2>:9: FutureWarning: The frame.append method is deprecated and will be removed from pandas in a future version. Use pandas.concat instead.\n",
            "  df_balance = df_balance.append(df_temp)  # Append the current DataFrame to the main DataFrame\n",
            "<ipython-input-12-e63d660650c2>:9: FutureWarning: The frame.append method is deprecated and will be removed from pandas in a future version. Use pandas.concat instead.\n",
            "  df_balance = df_balance.append(df_temp)  # Append the current DataFrame to the main DataFrame\n",
            "<ipython-input-12-e63d660650c2>:9: FutureWarning: The frame.append method is deprecated and will be removed from pandas in a future version. Use pandas.concat instead.\n",
            "  df_balance = df_balance.append(df_temp)  # Append the current DataFrame to the main DataFrame\n",
            "<ipython-input-12-e63d660650c2>:9: FutureWarning: The frame.append method is deprecated and will be removed from pandas in a future version. Use pandas.concat instead.\n",
            "  df_balance = df_balance.append(df_temp)  # Append the current DataFrame to the main DataFrame\n",
            "<ipython-input-12-e63d660650c2>:9: FutureWarning: The frame.append method is deprecated and will be removed from pandas in a future version. Use pandas.concat instead.\n",
            "  df_balance = df_balance.append(df_temp)  # Append the current DataFrame to the main DataFrame\n",
            "<ipython-input-12-e63d660650c2>:9: FutureWarning: The frame.append method is deprecated and will be removed from pandas in a future version. Use pandas.concat instead.\n",
            "  df_balance = df_balance.append(df_temp)  # Append the current DataFrame to the main DataFrame\n",
            "<ipython-input-12-e63d660650c2>:9: FutureWarning: The frame.append method is deprecated and will be removed from pandas in a future version. Use pandas.concat instead.\n",
            "  df_balance = df_balance.append(df_temp)  # Append the current DataFrame to the main DataFrame\n",
            "<ipython-input-12-e63d660650c2>:9: FutureWarning: The frame.append method is deprecated and will be removed from pandas in a future version. Use pandas.concat instead.\n",
            "  df_balance = df_balance.append(df_temp)  # Append the current DataFrame to the main DataFrame\n",
            "<ipython-input-12-e63d660650c2>:9: FutureWarning: The frame.append method is deprecated and will be removed from pandas in a future version. Use pandas.concat instead.\n",
            "  df_balance = df_balance.append(df_temp)  # Append the current DataFrame to the main DataFrame\n",
            "<ipython-input-12-e63d660650c2>:9: FutureWarning: The frame.append method is deprecated and will be removed from pandas in a future version. Use pandas.concat instead.\n",
            "  df_balance = df_balance.append(df_temp)  # Append the current DataFrame to the main DataFrame\n",
            "<ipython-input-12-e63d660650c2>:9: FutureWarning: The frame.append method is deprecated and will be removed from pandas in a future version. Use pandas.concat instead.\n",
            "  df_balance = df_balance.append(df_temp)  # Append the current DataFrame to the main DataFrame\n",
            "<ipython-input-12-e63d660650c2>:9: FutureWarning: The frame.append method is deprecated and will be removed from pandas in a future version. Use pandas.concat instead.\n",
            "  df_balance = df_balance.append(df_temp)  # Append the current DataFrame to the main DataFrame\n",
            "<ipython-input-12-e63d660650c2>:9: FutureWarning: The frame.append method is deprecated and will be removed from pandas in a future version. Use pandas.concat instead.\n",
            "  df_balance = df_balance.append(df_temp)  # Append the current DataFrame to the main DataFrame\n",
            "<ipython-input-12-e63d660650c2>:9: FutureWarning: The frame.append method is deprecated and will be removed from pandas in a future version. Use pandas.concat instead.\n",
            "  df_balance = df_balance.append(df_temp)  # Append the current DataFrame to the main DataFrame\n",
            "<ipython-input-12-e63d660650c2>:9: FutureWarning: The frame.append method is deprecated and will be removed from pandas in a future version. Use pandas.concat instead.\n",
            "  df_balance = df_balance.append(df_temp)  # Append the current DataFrame to the main DataFrame\n",
            "<ipython-input-12-e63d660650c2>:9: FutureWarning: The frame.append method is deprecated and will be removed from pandas in a future version. Use pandas.concat instead.\n",
            "  df_balance = df_balance.append(df_temp)  # Append the current DataFrame to the main DataFrame\n",
            "<ipython-input-12-e63d660650c2>:9: FutureWarning: The frame.append method is deprecated and will be removed from pandas in a future version. Use pandas.concat instead.\n",
            "  df_balance = df_balance.append(df_temp)  # Append the current DataFrame to the main DataFrame\n",
            "<ipython-input-12-e63d660650c2>:9: FutureWarning: The frame.append method is deprecated and will be removed from pandas in a future version. Use pandas.concat instead.\n",
            "  df_balance = df_balance.append(df_temp)  # Append the current DataFrame to the main DataFrame\n",
            "<ipython-input-12-e63d660650c2>:9: FutureWarning: The frame.append method is deprecated and will be removed from pandas in a future version. Use pandas.concat instead.\n",
            "  df_balance = df_balance.append(df_temp)  # Append the current DataFrame to the main DataFrame\n",
            "<ipython-input-12-e63d660650c2>:9: FutureWarning: The frame.append method is deprecated and will be removed from pandas in a future version. Use pandas.concat instead.\n",
            "  df_balance = df_balance.append(df_temp)  # Append the current DataFrame to the main DataFrame\n",
            "<ipython-input-12-e63d660650c2>:9: FutureWarning: The frame.append method is deprecated and will be removed from pandas in a future version. Use pandas.concat instead.\n",
            "  df_balance = df_balance.append(df_temp)  # Append the current DataFrame to the main DataFrame\n",
            "<ipython-input-12-e63d660650c2>:9: FutureWarning: The frame.append method is deprecated and will be removed from pandas in a future version. Use pandas.concat instead.\n",
            "  df_balance = df_balance.append(df_temp)  # Append the current DataFrame to the main DataFrame\n",
            "<ipython-input-12-e63d660650c2>:9: FutureWarning: The frame.append method is deprecated and will be removed from pandas in a future version. Use pandas.concat instead.\n",
            "  df_balance = df_balance.append(df_temp)  # Append the current DataFrame to the main DataFrame\n",
            "<ipython-input-12-e63d660650c2>:9: FutureWarning: The frame.append method is deprecated and will be removed from pandas in a future version. Use pandas.concat instead.\n",
            "  df_balance = df_balance.append(df_temp)  # Append the current DataFrame to the main DataFrame\n",
            "<ipython-input-12-e63d660650c2>:9: FutureWarning: The frame.append method is deprecated and will be removed from pandas in a future version. Use pandas.concat instead.\n",
            "  df_balance = df_balance.append(df_temp)  # Append the current DataFrame to the main DataFrame\n",
            "<ipython-input-12-e63d660650c2>:9: FutureWarning: The frame.append method is deprecated and will be removed from pandas in a future version. Use pandas.concat instead.\n",
            "  df_balance = df_balance.append(df_temp)  # Append the current DataFrame to the main DataFrame\n",
            "<ipython-input-12-e63d660650c2>:9: FutureWarning: The frame.append method is deprecated and will be removed from pandas in a future version. Use pandas.concat instead.\n",
            "  df_balance = df_balance.append(df_temp)  # Append the current DataFrame to the main DataFrame\n",
            "<ipython-input-12-e63d660650c2>:9: FutureWarning: The frame.append method is deprecated and will be removed from pandas in a future version. Use pandas.concat instead.\n",
            "  df_balance = df_balance.append(df_temp)  # Append the current DataFrame to the main DataFrame\n",
            "<ipython-input-12-e63d660650c2>:9: FutureWarning: The frame.append method is deprecated and will be removed from pandas in a future version. Use pandas.concat instead.\n",
            "  df_balance = df_balance.append(df_temp)  # Append the current DataFrame to the main DataFrame\n",
            "<ipython-input-12-e63d660650c2>:9: FutureWarning: The frame.append method is deprecated and will be removed from pandas in a future version. Use pandas.concat instead.\n",
            "  df_balance = df_balance.append(df_temp)  # Append the current DataFrame to the main DataFrame\n",
            "<ipython-input-12-e63d660650c2>:9: FutureWarning: The frame.append method is deprecated and will be removed from pandas in a future version. Use pandas.concat instead.\n",
            "  df_balance = df_balance.append(df_temp)  # Append the current DataFrame to the main DataFrame\n",
            "<ipython-input-12-e63d660650c2>:9: FutureWarning: The frame.append method is deprecated and will be removed from pandas in a future version. Use pandas.concat instead.\n",
            "  df_balance = df_balance.append(df_temp)  # Append the current DataFrame to the main DataFrame\n",
            "<ipython-input-12-e63d660650c2>:9: FutureWarning: The frame.append method is deprecated and will be removed from pandas in a future version. Use pandas.concat instead.\n",
            "  df_balance = df_balance.append(df_temp)  # Append the current DataFrame to the main DataFrame\n",
            "<ipython-input-12-e63d660650c2>:9: FutureWarning: The frame.append method is deprecated and will be removed from pandas in a future version. Use pandas.concat instead.\n",
            "  df_balance = df_balance.append(df_temp)  # Append the current DataFrame to the main DataFrame\n",
            "<ipython-input-12-e63d660650c2>:9: FutureWarning: The frame.append method is deprecated and will be removed from pandas in a future version. Use pandas.concat instead.\n",
            "  df_balance = df_balance.append(df_temp)  # Append the current DataFrame to the main DataFrame\n",
            "<ipython-input-12-e63d660650c2>:9: FutureWarning: The frame.append method is deprecated and will be removed from pandas in a future version. Use pandas.concat instead.\n",
            "  df_balance = df_balance.append(df_temp)  # Append the current DataFrame to the main DataFrame\n",
            "<ipython-input-12-e63d660650c2>:9: FutureWarning: The frame.append method is deprecated and will be removed from pandas in a future version. Use pandas.concat instead.\n",
            "  df_balance = df_balance.append(df_temp)  # Append the current DataFrame to the main DataFrame\n",
            "<ipython-input-12-e63d660650c2>:9: FutureWarning: The frame.append method is deprecated and will be removed from pandas in a future version. Use pandas.concat instead.\n",
            "  df_balance = df_balance.append(df_temp)  # Append the current DataFrame to the main DataFrame\n",
            "<ipython-input-12-e63d660650c2>:9: FutureWarning: The frame.append method is deprecated and will be removed from pandas in a future version. Use pandas.concat instead.\n",
            "  df_balance = df_balance.append(df_temp)  # Append the current DataFrame to the main DataFrame\n",
            "<ipython-input-12-e63d660650c2>:9: FutureWarning: The frame.append method is deprecated and will be removed from pandas in a future version. Use pandas.concat instead.\n",
            "  df_balance = df_balance.append(df_temp)  # Append the current DataFrame to the main DataFrame\n",
            "<ipython-input-12-e63d660650c2>:9: FutureWarning: The frame.append method is deprecated and will be removed from pandas in a future version. Use pandas.concat instead.\n",
            "  df_balance = df_balance.append(df_temp)  # Append the current DataFrame to the main DataFrame\n",
            "<ipython-input-12-e63d660650c2>:9: FutureWarning: The frame.append method is deprecated and will be removed from pandas in a future version. Use pandas.concat instead.\n",
            "  df_balance = df_balance.append(df_temp)  # Append the current DataFrame to the main DataFrame\n",
            "<ipython-input-12-e63d660650c2>:9: FutureWarning: The frame.append method is deprecated and will be removed from pandas in a future version. Use pandas.concat instead.\n",
            "  df_balance = df_balance.append(df_temp)  # Append the current DataFrame to the main DataFrame\n",
            "<ipython-input-12-e63d660650c2>:9: FutureWarning: The frame.append method is deprecated and will be removed from pandas in a future version. Use pandas.concat instead.\n",
            "  df_balance = df_balance.append(df_temp)  # Append the current DataFrame to the main DataFrame\n",
            "<ipython-input-12-e63d660650c2>:9: FutureWarning: The frame.append method is deprecated and will be removed from pandas in a future version. Use pandas.concat instead.\n",
            "  df_balance = df_balance.append(df_temp)  # Append the current DataFrame to the main DataFrame\n",
            "<ipython-input-12-e63d660650c2>:9: FutureWarning: The frame.append method is deprecated and will be removed from pandas in a future version. Use pandas.concat instead.\n",
            "  df_balance = df_balance.append(df_temp)  # Append the current DataFrame to the main DataFrame\n",
            "<ipython-input-12-e63d660650c2>:9: FutureWarning: The frame.append method is deprecated and will be removed from pandas in a future version. Use pandas.concat instead.\n",
            "  df_balance = df_balance.append(df_temp)  # Append the current DataFrame to the main DataFrame\n",
            "<ipython-input-12-e63d660650c2>:9: FutureWarning: The frame.append method is deprecated and will be removed from pandas in a future version. Use pandas.concat instead.\n",
            "  df_balance = df_balance.append(df_temp)  # Append the current DataFrame to the main DataFrame\n",
            "<ipython-input-12-e63d660650c2>:9: FutureWarning: The frame.append method is deprecated and will be removed from pandas in a future version. Use pandas.concat instead.\n",
            "  df_balance = df_balance.append(df_temp)  # Append the current DataFrame to the main DataFrame\n",
            "<ipython-input-12-e63d660650c2>:9: FutureWarning: The frame.append method is deprecated and will be removed from pandas in a future version. Use pandas.concat instead.\n",
            "  df_balance = df_balance.append(df_temp)  # Append the current DataFrame to the main DataFrame\n",
            "<ipython-input-12-e63d660650c2>:9: FutureWarning: The frame.append method is deprecated and will be removed from pandas in a future version. Use pandas.concat instead.\n",
            "  df_balance = df_balance.append(df_temp)  # Append the current DataFrame to the main DataFrame\n",
            "<ipython-input-12-e63d660650c2>:9: FutureWarning: The frame.append method is deprecated and will be removed from pandas in a future version. Use pandas.concat instead.\n",
            "  df_balance = df_balance.append(df_temp)  # Append the current DataFrame to the main DataFrame\n",
            "<ipython-input-12-e63d660650c2>:9: FutureWarning: The frame.append method is deprecated and will be removed from pandas in a future version. Use pandas.concat instead.\n",
            "  df_balance = df_balance.append(df_temp)  # Append the current DataFrame to the main DataFrame\n",
            "<ipython-input-12-e63d660650c2>:9: FutureWarning: The frame.append method is deprecated and will be removed from pandas in a future version. Use pandas.concat instead.\n",
            "  df_balance = df_balance.append(df_temp)  # Append the current DataFrame to the main DataFrame\n",
            "<ipython-input-12-e63d660650c2>:9: FutureWarning: The frame.append method is deprecated and will be removed from pandas in a future version. Use pandas.concat instead.\n",
            "  df_balance = df_balance.append(df_temp)  # Append the current DataFrame to the main DataFrame\n",
            "<ipython-input-12-e63d660650c2>:9: FutureWarning: The frame.append method is deprecated and will be removed from pandas in a future version. Use pandas.concat instead.\n",
            "  df_balance = df_balance.append(df_temp)  # Append the current DataFrame to the main DataFrame\n",
            "<ipython-input-12-e63d660650c2>:9: FutureWarning: The frame.append method is deprecated and will be removed from pandas in a future version. Use pandas.concat instead.\n",
            "  df_balance = df_balance.append(df_temp)  # Append the current DataFrame to the main DataFrame\n",
            "<ipython-input-12-e63d660650c2>:9: FutureWarning: The frame.append method is deprecated and will be removed from pandas in a future version. Use pandas.concat instead.\n",
            "  df_balance = df_balance.append(df_temp)  # Append the current DataFrame to the main DataFrame\n",
            "<ipython-input-12-e63d660650c2>:9: FutureWarning: The frame.append method is deprecated and will be removed from pandas in a future version. Use pandas.concat instead.\n",
            "  df_balance = df_balance.append(df_temp)  # Append the current DataFrame to the main DataFrame\n",
            "<ipython-input-12-e63d660650c2>:9: FutureWarning: The frame.append method is deprecated and will be removed from pandas in a future version. Use pandas.concat instead.\n",
            "  df_balance = df_balance.append(df_temp)  # Append the current DataFrame to the main DataFrame\n",
            "<ipython-input-12-e63d660650c2>:9: FutureWarning: The frame.append method is deprecated and will be removed from pandas in a future version. Use pandas.concat instead.\n",
            "  df_balance = df_balance.append(df_temp)  # Append the current DataFrame to the main DataFrame\n",
            "<ipython-input-12-e63d660650c2>:9: FutureWarning: The frame.append method is deprecated and will be removed from pandas in a future version. Use pandas.concat instead.\n",
            "  df_balance = df_balance.append(df_temp)  # Append the current DataFrame to the main DataFrame\n",
            "<ipython-input-12-e63d660650c2>:9: FutureWarning: The frame.append method is deprecated and will be removed from pandas in a future version. Use pandas.concat instead.\n",
            "  df_balance = df_balance.append(df_temp)  # Append the current DataFrame to the main DataFrame\n",
            "<ipython-input-12-e63d660650c2>:9: FutureWarning: The frame.append method is deprecated and will be removed from pandas in a future version. Use pandas.concat instead.\n",
            "  df_balance = df_balance.append(df_temp)  # Append the current DataFrame to the main DataFrame\n",
            "<ipython-input-12-e63d660650c2>:9: FutureWarning: The frame.append method is deprecated and will be removed from pandas in a future version. Use pandas.concat instead.\n",
            "  df_balance = df_balance.append(df_temp)  # Append the current DataFrame to the main DataFrame\n",
            "<ipython-input-12-e63d660650c2>:9: FutureWarning: The frame.append method is deprecated and will be removed from pandas in a future version. Use pandas.concat instead.\n",
            "  df_balance = df_balance.append(df_temp)  # Append the current DataFrame to the main DataFrame\n",
            "<ipython-input-12-e63d660650c2>:9: FutureWarning: The frame.append method is deprecated and will be removed from pandas in a future version. Use pandas.concat instead.\n",
            "  df_balance = df_balance.append(df_temp)  # Append the current DataFrame to the main DataFrame\n",
            "<ipython-input-12-e63d660650c2>:9: FutureWarning: The frame.append method is deprecated and will be removed from pandas in a future version. Use pandas.concat instead.\n",
            "  df_balance = df_balance.append(df_temp)  # Append the current DataFrame to the main DataFrame\n",
            "<ipython-input-12-e63d660650c2>:9: FutureWarning: The frame.append method is deprecated and will be removed from pandas in a future version. Use pandas.concat instead.\n",
            "  df_balance = df_balance.append(df_temp)  # Append the current DataFrame to the main DataFrame\n",
            "<ipython-input-12-e63d660650c2>:9: FutureWarning: The frame.append method is deprecated and will be removed from pandas in a future version. Use pandas.concat instead.\n",
            "  df_balance = df_balance.append(df_temp)  # Append the current DataFrame to the main DataFrame\n",
            "<ipython-input-12-e63d660650c2>:9: FutureWarning: The frame.append method is deprecated and will be removed from pandas in a future version. Use pandas.concat instead.\n",
            "  df_balance = df_balance.append(df_temp)  # Append the current DataFrame to the main DataFrame\n",
            "<ipython-input-12-e63d660650c2>:9: FutureWarning: The frame.append method is deprecated and will be removed from pandas in a future version. Use pandas.concat instead.\n",
            "  df_balance = df_balance.append(df_temp)  # Append the current DataFrame to the main DataFrame\n",
            "<ipython-input-12-e63d660650c2>:9: FutureWarning: The frame.append method is deprecated and will be removed from pandas in a future version. Use pandas.concat instead.\n",
            "  df_balance = df_balance.append(df_temp)  # Append the current DataFrame to the main DataFrame\n",
            "<ipython-input-12-e63d660650c2>:9: FutureWarning: The frame.append method is deprecated and will be removed from pandas in a future version. Use pandas.concat instead.\n",
            "  df_balance = df_balance.append(df_temp)  # Append the current DataFrame to the main DataFrame\n",
            "<ipython-input-12-e63d660650c2>:9: FutureWarning: The frame.append method is deprecated and will be removed from pandas in a future version. Use pandas.concat instead.\n",
            "  df_balance = df_balance.append(df_temp)  # Append the current DataFrame to the main DataFrame\n",
            "<ipython-input-12-e63d660650c2>:9: FutureWarning: The frame.append method is deprecated and will be removed from pandas in a future version. Use pandas.concat instead.\n",
            "  df_balance = df_balance.append(df_temp)  # Append the current DataFrame to the main DataFrame\n",
            "<ipython-input-12-e63d660650c2>:9: FutureWarning: The frame.append method is deprecated and will be removed from pandas in a future version. Use pandas.concat instead.\n",
            "  df_balance = df_balance.append(df_temp)  # Append the current DataFrame to the main DataFrame\n",
            "<ipython-input-12-e63d660650c2>:9: FutureWarning: The frame.append method is deprecated and will be removed from pandas in a future version. Use pandas.concat instead.\n",
            "  df_balance = df_balance.append(df_temp)  # Append the current DataFrame to the main DataFrame\n",
            "<ipython-input-12-e63d660650c2>:9: FutureWarning: The frame.append method is deprecated and will be removed from pandas in a future version. Use pandas.concat instead.\n",
            "  df_balance = df_balance.append(df_temp)  # Append the current DataFrame to the main DataFrame\n",
            "<ipython-input-12-e63d660650c2>:9: FutureWarning: The frame.append method is deprecated and will be removed from pandas in a future version. Use pandas.concat instead.\n",
            "  df_balance = df_balance.append(df_temp)  # Append the current DataFrame to the main DataFrame\n",
            "<ipython-input-12-e63d660650c2>:9: FutureWarning: The frame.append method is deprecated and will be removed from pandas in a future version. Use pandas.concat instead.\n",
            "  df_balance = df_balance.append(df_temp)  # Append the current DataFrame to the main DataFrame\n",
            "<ipython-input-12-e63d660650c2>:9: FutureWarning: The frame.append method is deprecated and will be removed from pandas in a future version. Use pandas.concat instead.\n",
            "  df_balance = df_balance.append(df_temp)  # Append the current DataFrame to the main DataFrame\n",
            "<ipython-input-12-e63d660650c2>:9: FutureWarning: The frame.append method is deprecated and will be removed from pandas in a future version. Use pandas.concat instead.\n",
            "  df_balance = df_balance.append(df_temp)  # Append the current DataFrame to the main DataFrame\n",
            "<ipython-input-12-e63d660650c2>:9: FutureWarning: The frame.append method is deprecated and will be removed from pandas in a future version. Use pandas.concat instead.\n",
            "  df_balance = df_balance.append(df_temp)  # Append the current DataFrame to the main DataFrame\n",
            "<ipython-input-12-e63d660650c2>:9: FutureWarning: The frame.append method is deprecated and will be removed from pandas in a future version. Use pandas.concat instead.\n",
            "  df_balance = df_balance.append(df_temp)  # Append the current DataFrame to the main DataFrame\n",
            "<ipython-input-12-e63d660650c2>:9: FutureWarning: The frame.append method is deprecated and will be removed from pandas in a future version. Use pandas.concat instead.\n",
            "  df_balance = df_balance.append(df_temp)  # Append the current DataFrame to the main DataFrame\n",
            "<ipython-input-12-e63d660650c2>:9: FutureWarning: The frame.append method is deprecated and will be removed from pandas in a future version. Use pandas.concat instead.\n",
            "  df_balance = df_balance.append(df_temp)  # Append the current DataFrame to the main DataFrame\n",
            "<ipython-input-12-e63d660650c2>:9: FutureWarning: The frame.append method is deprecated and will be removed from pandas in a future version. Use pandas.concat instead.\n",
            "  df_balance = df_balance.append(df_temp)  # Append the current DataFrame to the main DataFrame\n",
            "<ipython-input-12-e63d660650c2>:9: FutureWarning: The frame.append method is deprecated and will be removed from pandas in a future version. Use pandas.concat instead.\n",
            "  df_balance = df_balance.append(df_temp)  # Append the current DataFrame to the main DataFrame\n",
            "<ipython-input-12-e63d660650c2>:9: FutureWarning: The frame.append method is deprecated and will be removed from pandas in a future version. Use pandas.concat instead.\n",
            "  df_balance = df_balance.append(df_temp)  # Append the current DataFrame to the main DataFrame\n",
            "<ipython-input-12-e63d660650c2>:9: FutureWarning: The frame.append method is deprecated and will be removed from pandas in a future version. Use pandas.concat instead.\n",
            "  df_balance = df_balance.append(df_temp)  # Append the current DataFrame to the main DataFrame\n",
            "<ipython-input-12-e63d660650c2>:9: FutureWarning: The frame.append method is deprecated and will be removed from pandas in a future version. Use pandas.concat instead.\n",
            "  df_balance = df_balance.append(df_temp)  # Append the current DataFrame to the main DataFrame\n",
            "<ipython-input-12-e63d660650c2>:9: FutureWarning: The frame.append method is deprecated and will be removed from pandas in a future version. Use pandas.concat instead.\n",
            "  df_balance = df_balance.append(df_temp)  # Append the current DataFrame to the main DataFrame\n",
            "<ipython-input-12-e63d660650c2>:9: FutureWarning: The frame.append method is deprecated and will be removed from pandas in a future version. Use pandas.concat instead.\n",
            "  df_balance = df_balance.append(df_temp)  # Append the current DataFrame to the main DataFrame\n",
            "<ipython-input-12-e63d660650c2>:9: FutureWarning: The frame.append method is deprecated and will be removed from pandas in a future version. Use pandas.concat instead.\n",
            "  df_balance = df_balance.append(df_temp)  # Append the current DataFrame to the main DataFrame\n",
            "<ipython-input-12-e63d660650c2>:9: FutureWarning: The frame.append method is deprecated and will be removed from pandas in a future version. Use pandas.concat instead.\n",
            "  df_balance = df_balance.append(df_temp)  # Append the current DataFrame to the main DataFrame\n",
            "<ipython-input-12-e63d660650c2>:9: FutureWarning: The frame.append method is deprecated and will be removed from pandas in a future version. Use pandas.concat instead.\n",
            "  df_balance = df_balance.append(df_temp)  # Append the current DataFrame to the main DataFrame\n",
            "<ipython-input-12-e63d660650c2>:9: FutureWarning: The frame.append method is deprecated and will be removed from pandas in a future version. Use pandas.concat instead.\n",
            "  df_balance = df_balance.append(df_temp)  # Append the current DataFrame to the main DataFrame\n",
            "<ipython-input-12-e63d660650c2>:9: FutureWarning: The frame.append method is deprecated and will be removed from pandas in a future version. Use pandas.concat instead.\n",
            "  df_balance = df_balance.append(df_temp)  # Append the current DataFrame to the main DataFrame\n",
            "<ipython-input-12-e63d660650c2>:9: FutureWarning: The frame.append method is deprecated and will be removed from pandas in a future version. Use pandas.concat instead.\n",
            "  df_balance = df_balance.append(df_temp)  # Append the current DataFrame to the main DataFrame\n",
            "<ipython-input-12-e63d660650c2>:9: FutureWarning: The frame.append method is deprecated and will be removed from pandas in a future version. Use pandas.concat instead.\n",
            "  df_balance = df_balance.append(df_temp)  # Append the current DataFrame to the main DataFrame\n",
            "<ipython-input-12-e63d660650c2>:9: FutureWarning: The frame.append method is deprecated and will be removed from pandas in a future version. Use pandas.concat instead.\n",
            "  df_balance = df_balance.append(df_temp)  # Append the current DataFrame to the main DataFrame\n",
            "<ipython-input-12-e63d660650c2>:9: FutureWarning: The frame.append method is deprecated and will be removed from pandas in a future version. Use pandas.concat instead.\n",
            "  df_balance = df_balance.append(df_temp)  # Append the current DataFrame to the main DataFrame\n",
            "<ipython-input-12-e63d660650c2>:9: FutureWarning: The frame.append method is deprecated and will be removed from pandas in a future version. Use pandas.concat instead.\n",
            "  df_balance = df_balance.append(df_temp)  # Append the current DataFrame to the main DataFrame\n",
            "<ipython-input-12-e63d660650c2>:9: FutureWarning: The frame.append method is deprecated and will be removed from pandas in a future version. Use pandas.concat instead.\n",
            "  df_balance = df_balance.append(df_temp)  # Append the current DataFrame to the main DataFrame\n",
            "<ipython-input-12-e63d660650c2>:9: FutureWarning: The frame.append method is deprecated and will be removed from pandas in a future version. Use pandas.concat instead.\n",
            "  df_balance = df_balance.append(df_temp)  # Append the current DataFrame to the main DataFrame\n",
            "<ipython-input-12-e63d660650c2>:9: FutureWarning: The frame.append method is deprecated and will be removed from pandas in a future version. Use pandas.concat instead.\n",
            "  df_balance = df_balance.append(df_temp)  # Append the current DataFrame to the main DataFrame\n",
            "<ipython-input-12-e63d660650c2>:9: FutureWarning: The frame.append method is deprecated and will be removed from pandas in a future version. Use pandas.concat instead.\n",
            "  df_balance = df_balance.append(df_temp)  # Append the current DataFrame to the main DataFrame\n",
            "<ipython-input-12-e63d660650c2>:9: FutureWarning: The frame.append method is deprecated and will be removed from pandas in a future version. Use pandas.concat instead.\n",
            "  df_balance = df_balance.append(df_temp)  # Append the current DataFrame to the main DataFrame\n",
            "<ipython-input-12-e63d660650c2>:9: FutureWarning: The frame.append method is deprecated and will be removed from pandas in a future version. Use pandas.concat instead.\n",
            "  df_balance = df_balance.append(df_temp)  # Append the current DataFrame to the main DataFrame\n",
            "<ipython-input-12-e63d660650c2>:9: FutureWarning: The frame.append method is deprecated and will be removed from pandas in a future version. Use pandas.concat instead.\n",
            "  df_balance = df_balance.append(df_temp)  # Append the current DataFrame to the main DataFrame\n",
            "<ipython-input-12-e63d660650c2>:9: FutureWarning: The frame.append method is deprecated and will be removed from pandas in a future version. Use pandas.concat instead.\n",
            "  df_balance = df_balance.append(df_temp)  # Append the current DataFrame to the main DataFrame\n",
            "<ipython-input-12-e63d660650c2>:9: FutureWarning: The frame.append method is deprecated and will be removed from pandas in a future version. Use pandas.concat instead.\n",
            "  df_balance = df_balance.append(df_temp)  # Append the current DataFrame to the main DataFrame\n",
            "<ipython-input-12-e63d660650c2>:9: FutureWarning: The frame.append method is deprecated and will be removed from pandas in a future version. Use pandas.concat instead.\n",
            "  df_balance = df_balance.append(df_temp)  # Append the current DataFrame to the main DataFrame\n",
            "<ipython-input-12-e63d660650c2>:9: FutureWarning: The frame.append method is deprecated and will be removed from pandas in a future version. Use pandas.concat instead.\n",
            "  df_balance = df_balance.append(df_temp)  # Append the current DataFrame to the main DataFrame\n",
            "<ipython-input-12-e63d660650c2>:9: FutureWarning: The frame.append method is deprecated and will be removed from pandas in a future version. Use pandas.concat instead.\n",
            "  df_balance = df_balance.append(df_temp)  # Append the current DataFrame to the main DataFrame\n",
            "<ipython-input-12-e63d660650c2>:9: FutureWarning: The frame.append method is deprecated and will be removed from pandas in a future version. Use pandas.concat instead.\n",
            "  df_balance = df_balance.append(df_temp)  # Append the current DataFrame to the main DataFrame\n",
            "<ipython-input-12-e63d660650c2>:9: FutureWarning: The frame.append method is deprecated and will be removed from pandas in a future version. Use pandas.concat instead.\n",
            "  df_balance = df_balance.append(df_temp)  # Append the current DataFrame to the main DataFrame\n",
            "<ipython-input-12-e63d660650c2>:9: FutureWarning: The frame.append method is deprecated and will be removed from pandas in a future version. Use pandas.concat instead.\n",
            "  df_balance = df_balance.append(df_temp)  # Append the current DataFrame to the main DataFrame\n",
            "<ipython-input-12-e63d660650c2>:9: FutureWarning: The frame.append method is deprecated and will be removed from pandas in a future version. Use pandas.concat instead.\n",
            "  df_balance = df_balance.append(df_temp)  # Append the current DataFrame to the main DataFrame\n",
            "<ipython-input-12-e63d660650c2>:9: FutureWarning: The frame.append method is deprecated and will be removed from pandas in a future version. Use pandas.concat instead.\n",
            "  df_balance = df_balance.append(df_temp)  # Append the current DataFrame to the main DataFrame\n",
            "<ipython-input-12-e63d660650c2>:9: FutureWarning: The frame.append method is deprecated and will be removed from pandas in a future version. Use pandas.concat instead.\n",
            "  df_balance = df_balance.append(df_temp)  # Append the current DataFrame to the main DataFrame\n",
            "<ipython-input-12-e63d660650c2>:9: FutureWarning: The frame.append method is deprecated and will be removed from pandas in a future version. Use pandas.concat instead.\n",
            "  df_balance = df_balance.append(df_temp)  # Append the current DataFrame to the main DataFrame\n",
            "<ipython-input-12-e63d660650c2>:9: FutureWarning: The frame.append method is deprecated and will be removed from pandas in a future version. Use pandas.concat instead.\n",
            "  df_balance = df_balance.append(df_temp)  # Append the current DataFrame to the main DataFrame\n",
            "<ipython-input-12-e63d660650c2>:9: FutureWarning: The frame.append method is deprecated and will be removed from pandas in a future version. Use pandas.concat instead.\n",
            "  df_balance = df_balance.append(df_temp)  # Append the current DataFrame to the main DataFrame\n",
            "<ipython-input-12-e63d660650c2>:9: FutureWarning: The frame.append method is deprecated and will be removed from pandas in a future version. Use pandas.concat instead.\n",
            "  df_balance = df_balance.append(df_temp)  # Append the current DataFrame to the main DataFrame\n",
            "<ipython-input-12-e63d660650c2>:9: FutureWarning: The frame.append method is deprecated and will be removed from pandas in a future version. Use pandas.concat instead.\n",
            "  df_balance = df_balance.append(df_temp)  # Append the current DataFrame to the main DataFrame\n",
            "<ipython-input-12-e63d660650c2>:9: FutureWarning: The frame.append method is deprecated and will be removed from pandas in a future version. Use pandas.concat instead.\n",
            "  df_balance = df_balance.append(df_temp)  # Append the current DataFrame to the main DataFrame\n",
            "<ipython-input-12-e63d660650c2>:9: FutureWarning: The frame.append method is deprecated and will be removed from pandas in a future version. Use pandas.concat instead.\n",
            "  df_balance = df_balance.append(df_temp)  # Append the current DataFrame to the main DataFrame\n",
            "<ipython-input-12-e63d660650c2>:9: FutureWarning: The frame.append method is deprecated and will be removed from pandas in a future version. Use pandas.concat instead.\n",
            "  df_balance = df_balance.append(df_temp)  # Append the current DataFrame to the main DataFrame\n",
            "<ipython-input-12-e63d660650c2>:9: FutureWarning: The frame.append method is deprecated and will be removed from pandas in a future version. Use pandas.concat instead.\n",
            "  df_balance = df_balance.append(df_temp)  # Append the current DataFrame to the main DataFrame\n",
            "<ipython-input-12-e63d660650c2>:9: FutureWarning: The frame.append method is deprecated and will be removed from pandas in a future version. Use pandas.concat instead.\n",
            "  df_balance = df_balance.append(df_temp)  # Append the current DataFrame to the main DataFrame\n",
            "<ipython-input-12-e63d660650c2>:9: FutureWarning: The frame.append method is deprecated and will be removed from pandas in a future version. Use pandas.concat instead.\n",
            "  df_balance = df_balance.append(df_temp)  # Append the current DataFrame to the main DataFrame\n",
            "<ipython-input-12-e63d660650c2>:9: FutureWarning: The frame.append method is deprecated and will be removed from pandas in a future version. Use pandas.concat instead.\n",
            "  df_balance = df_balance.append(df_temp)  # Append the current DataFrame to the main DataFrame\n",
            "<ipython-input-12-e63d660650c2>:9: FutureWarning: The frame.append method is deprecated and will be removed from pandas in a future version. Use pandas.concat instead.\n",
            "  df_balance = df_balance.append(df_temp)  # Append the current DataFrame to the main DataFrame\n",
            "<ipython-input-12-e63d660650c2>:9: FutureWarning: The frame.append method is deprecated and will be removed from pandas in a future version. Use pandas.concat instead.\n",
            "  df_balance = df_balance.append(df_temp)  # Append the current DataFrame to the main DataFrame\n",
            "<ipython-input-12-e63d660650c2>:9: FutureWarning: The frame.append method is deprecated and will be removed from pandas in a future version. Use pandas.concat instead.\n",
            "  df_balance = df_balance.append(df_temp)  # Append the current DataFrame to the main DataFrame\n",
            "<ipython-input-12-e63d660650c2>:9: FutureWarning: The frame.append method is deprecated and will be removed from pandas in a future version. Use pandas.concat instead.\n",
            "  df_balance = df_balance.append(df_temp)  # Append the current DataFrame to the main DataFrame\n",
            "<ipython-input-12-e63d660650c2>:9: FutureWarning: The frame.append method is deprecated and will be removed from pandas in a future version. Use pandas.concat instead.\n",
            "  df_balance = df_balance.append(df_temp)  # Append the current DataFrame to the main DataFrame\n",
            "<ipython-input-12-e63d660650c2>:9: FutureWarning: The frame.append method is deprecated and will be removed from pandas in a future version. Use pandas.concat instead.\n",
            "  df_balance = df_balance.append(df_temp)  # Append the current DataFrame to the main DataFrame\n",
            "<ipython-input-12-e63d660650c2>:9: FutureWarning: The frame.append method is deprecated and will be removed from pandas in a future version. Use pandas.concat instead.\n",
            "  df_balance = df_balance.append(df_temp)  # Append the current DataFrame to the main DataFrame\n",
            "<ipython-input-12-e63d660650c2>:9: FutureWarning: The frame.append method is deprecated and will be removed from pandas in a future version. Use pandas.concat instead.\n",
            "  df_balance = df_balance.append(df_temp)  # Append the current DataFrame to the main DataFrame\n",
            "<ipython-input-12-e63d660650c2>:9: FutureWarning: The frame.append method is deprecated and will be removed from pandas in a future version. Use pandas.concat instead.\n",
            "  df_balance = df_balance.append(df_temp)  # Append the current DataFrame to the main DataFrame\n",
            "<ipython-input-12-e63d660650c2>:9: FutureWarning: The frame.append method is deprecated and will be removed from pandas in a future version. Use pandas.concat instead.\n",
            "  df_balance = df_balance.append(df_temp)  # Append the current DataFrame to the main DataFrame\n",
            "<ipython-input-12-e63d660650c2>:9: FutureWarning: The frame.append method is deprecated and will be removed from pandas in a future version. Use pandas.concat instead.\n",
            "  df_balance = df_balance.append(df_temp)  # Append the current DataFrame to the main DataFrame\n",
            "<ipython-input-12-e63d660650c2>:9: FutureWarning: The frame.append method is deprecated and will be removed from pandas in a future version. Use pandas.concat instead.\n",
            "  df_balance = df_balance.append(df_temp)  # Append the current DataFrame to the main DataFrame\n",
            "<ipython-input-12-e63d660650c2>:9: FutureWarning: The frame.append method is deprecated and will be removed from pandas in a future version. Use pandas.concat instead.\n",
            "  df_balance = df_balance.append(df_temp)  # Append the current DataFrame to the main DataFrame\n",
            "<ipython-input-12-e63d660650c2>:9: FutureWarning: The frame.append method is deprecated and will be removed from pandas in a future version. Use pandas.concat instead.\n",
            "  df_balance = df_balance.append(df_temp)  # Append the current DataFrame to the main DataFrame\n",
            "<ipython-input-12-e63d660650c2>:9: FutureWarning: The frame.append method is deprecated and will be removed from pandas in a future version. Use pandas.concat instead.\n",
            "  df_balance = df_balance.append(df_temp)  # Append the current DataFrame to the main DataFrame\n",
            "<ipython-input-12-e63d660650c2>:9: FutureWarning: The frame.append method is deprecated and will be removed from pandas in a future version. Use pandas.concat instead.\n",
            "  df_balance = df_balance.append(df_temp)  # Append the current DataFrame to the main DataFrame\n",
            "<ipython-input-12-e63d660650c2>:9: FutureWarning: The frame.append method is deprecated and will be removed from pandas in a future version. Use pandas.concat instead.\n",
            "  df_balance = df_balance.append(df_temp)  # Append the current DataFrame to the main DataFrame\n",
            "<ipython-input-12-e63d660650c2>:9: FutureWarning: The frame.append method is deprecated and will be removed from pandas in a future version. Use pandas.concat instead.\n",
            "  df_balance = df_balance.append(df_temp)  # Append the current DataFrame to the main DataFrame\n",
            "<ipython-input-12-e63d660650c2>:9: FutureWarning: The frame.append method is deprecated and will be removed from pandas in a future version. Use pandas.concat instead.\n",
            "  df_balance = df_balance.append(df_temp)  # Append the current DataFrame to the main DataFrame\n",
            "<ipython-input-12-e63d660650c2>:9: FutureWarning: The frame.append method is deprecated and will be removed from pandas in a future version. Use pandas.concat instead.\n",
            "  df_balance = df_balance.append(df_temp)  # Append the current DataFrame to the main DataFrame\n",
            "<ipython-input-12-e63d660650c2>:9: FutureWarning: The frame.append method is deprecated and will be removed from pandas in a future version. Use pandas.concat instead.\n",
            "  df_balance = df_balance.append(df_temp)  # Append the current DataFrame to the main DataFrame\n",
            "<ipython-input-12-e63d660650c2>:9: FutureWarning: The frame.append method is deprecated and will be removed from pandas in a future version. Use pandas.concat instead.\n",
            "  df_balance = df_balance.append(df_temp)  # Append the current DataFrame to the main DataFrame\n",
            "<ipython-input-12-e63d660650c2>:9: FutureWarning: The frame.append method is deprecated and will be removed from pandas in a future version. Use pandas.concat instead.\n",
            "  df_balance = df_balance.append(df_temp)  # Append the current DataFrame to the main DataFrame\n",
            "<ipython-input-12-e63d660650c2>:9: FutureWarning: The frame.append method is deprecated and will be removed from pandas in a future version. Use pandas.concat instead.\n",
            "  df_balance = df_balance.append(df_temp)  # Append the current DataFrame to the main DataFrame\n",
            "<ipython-input-12-e63d660650c2>:9: FutureWarning: The frame.append method is deprecated and will be removed from pandas in a future version. Use pandas.concat instead.\n",
            "  df_balance = df_balance.append(df_temp)  # Append the current DataFrame to the main DataFrame\n",
            "<ipython-input-12-e63d660650c2>:9: FutureWarning: The frame.append method is deprecated and will be removed from pandas in a future version. Use pandas.concat instead.\n",
            "  df_balance = df_balance.append(df_temp)  # Append the current DataFrame to the main DataFrame\n",
            "<ipython-input-12-e63d660650c2>:9: FutureWarning: The frame.append method is deprecated and will be removed from pandas in a future version. Use pandas.concat instead.\n",
            "  df_balance = df_balance.append(df_temp)  # Append the current DataFrame to the main DataFrame\n",
            "<ipython-input-12-e63d660650c2>:9: FutureWarning: The frame.append method is deprecated and will be removed from pandas in a future version. Use pandas.concat instead.\n",
            "  df_balance = df_balance.append(df_temp)  # Append the current DataFrame to the main DataFrame\n",
            "<ipython-input-12-e63d660650c2>:9: FutureWarning: The frame.append method is deprecated and will be removed from pandas in a future version. Use pandas.concat instead.\n",
            "  df_balance = df_balance.append(df_temp)  # Append the current DataFrame to the main DataFrame\n",
            "<ipython-input-12-e63d660650c2>:9: FutureWarning: The frame.append method is deprecated and will be removed from pandas in a future version. Use pandas.concat instead.\n",
            "  df_balance = df_balance.append(df_temp)  # Append the current DataFrame to the main DataFrame\n",
            "<ipython-input-12-e63d660650c2>:9: FutureWarning: The frame.append method is deprecated and will be removed from pandas in a future version. Use pandas.concat instead.\n",
            "  df_balance = df_balance.append(df_temp)  # Append the current DataFrame to the main DataFrame\n",
            "<ipython-input-12-e63d660650c2>:9: FutureWarning: The frame.append method is deprecated and will be removed from pandas in a future version. Use pandas.concat instead.\n",
            "  df_balance = df_balance.append(df_temp)  # Append the current DataFrame to the main DataFrame\n",
            "<ipython-input-12-e63d660650c2>:9: FutureWarning: The frame.append method is deprecated and will be removed from pandas in a future version. Use pandas.concat instead.\n",
            "  df_balance = df_balance.append(df_temp)  # Append the current DataFrame to the main DataFrame\n",
            "<ipython-input-12-e63d660650c2>:9: FutureWarning: The frame.append method is deprecated and will be removed from pandas in a future version. Use pandas.concat instead.\n",
            "  df_balance = df_balance.append(df_temp)  # Append the current DataFrame to the main DataFrame\n",
            "<ipython-input-12-e63d660650c2>:9: FutureWarning: The frame.append method is deprecated and will be removed from pandas in a future version. Use pandas.concat instead.\n",
            "  df_balance = df_balance.append(df_temp)  # Append the current DataFrame to the main DataFrame\n",
            "<ipython-input-12-e63d660650c2>:9: FutureWarning: The frame.append method is deprecated and will be removed from pandas in a future version. Use pandas.concat instead.\n",
            "  df_balance = df_balance.append(df_temp)  # Append the current DataFrame to the main DataFrame\n",
            "<ipython-input-12-e63d660650c2>:9: FutureWarning: The frame.append method is deprecated and will be removed from pandas in a future version. Use pandas.concat instead.\n",
            "  df_balance = df_balance.append(df_temp)  # Append the current DataFrame to the main DataFrame\n",
            "<ipython-input-12-e63d660650c2>:9: FutureWarning: The frame.append method is deprecated and will be removed from pandas in a future version. Use pandas.concat instead.\n",
            "  df_balance = df_balance.append(df_temp)  # Append the current DataFrame to the main DataFrame\n",
            "<ipython-input-12-e63d660650c2>:9: FutureWarning: The frame.append method is deprecated and will be removed from pandas in a future version. Use pandas.concat instead.\n",
            "  df_balance = df_balance.append(df_temp)  # Append the current DataFrame to the main DataFrame\n",
            "<ipython-input-12-e63d660650c2>:9: FutureWarning: The frame.append method is deprecated and will be removed from pandas in a future version. Use pandas.concat instead.\n",
            "  df_balance = df_balance.append(df_temp)  # Append the current DataFrame to the main DataFrame\n",
            "<ipython-input-12-e63d660650c2>:9: FutureWarning: The frame.append method is deprecated and will be removed from pandas in a future version. Use pandas.concat instead.\n",
            "  df_balance = df_balance.append(df_temp)  # Append the current DataFrame to the main DataFrame\n",
            "<ipython-input-12-e63d660650c2>:9: FutureWarning: The frame.append method is deprecated and will be removed from pandas in a future version. Use pandas.concat instead.\n",
            "  df_balance = df_balance.append(df_temp)  # Append the current DataFrame to the main DataFrame\n",
            "<ipython-input-12-e63d660650c2>:9: FutureWarning: The frame.append method is deprecated and will be removed from pandas in a future version. Use pandas.concat instead.\n",
            "  df_balance = df_balance.append(df_temp)  # Append the current DataFrame to the main DataFrame\n",
            "<ipython-input-12-e63d660650c2>:9: FutureWarning: The frame.append method is deprecated and will be removed from pandas in a future version. Use pandas.concat instead.\n",
            "  df_balance = df_balance.append(df_temp)  # Append the current DataFrame to the main DataFrame\n",
            "<ipython-input-12-e63d660650c2>:9: FutureWarning: The frame.append method is deprecated and will be removed from pandas in a future version. Use pandas.concat instead.\n",
            "  df_balance = df_balance.append(df_temp)  # Append the current DataFrame to the main DataFrame\n",
            "<ipython-input-12-e63d660650c2>:9: FutureWarning: The frame.append method is deprecated and will be removed from pandas in a future version. Use pandas.concat instead.\n",
            "  df_balance = df_balance.append(df_temp)  # Append the current DataFrame to the main DataFrame\n",
            "<ipython-input-12-e63d660650c2>:9: FutureWarning: The frame.append method is deprecated and will be removed from pandas in a future version. Use pandas.concat instead.\n",
            "  df_balance = df_balance.append(df_temp)  # Append the current DataFrame to the main DataFrame\n",
            "<ipython-input-12-e63d660650c2>:9: FutureWarning: The frame.append method is deprecated and will be removed from pandas in a future version. Use pandas.concat instead.\n",
            "  df_balance = df_balance.append(df_temp)  # Append the current DataFrame to the main DataFrame\n",
            "<ipython-input-12-e63d660650c2>:9: FutureWarning: The frame.append method is deprecated and will be removed from pandas in a future version. Use pandas.concat instead.\n",
            "  df_balance = df_balance.append(df_temp)  # Append the current DataFrame to the main DataFrame\n",
            "<ipython-input-12-e63d660650c2>:9: FutureWarning: The frame.append method is deprecated and will be removed from pandas in a future version. Use pandas.concat instead.\n",
            "  df_balance = df_balance.append(df_temp)  # Append the current DataFrame to the main DataFrame\n",
            "<ipython-input-12-e63d660650c2>:9: FutureWarning: The frame.append method is deprecated and will be removed from pandas in a future version. Use pandas.concat instead.\n",
            "  df_balance = df_balance.append(df_temp)  # Append the current DataFrame to the main DataFrame\n",
            "<ipython-input-12-e63d660650c2>:9: FutureWarning: The frame.append method is deprecated and will be removed from pandas in a future version. Use pandas.concat instead.\n",
            "  df_balance = df_balance.append(df_temp)  # Append the current DataFrame to the main DataFrame\n",
            "<ipython-input-12-e63d660650c2>:9: FutureWarning: The frame.append method is deprecated and will be removed from pandas in a future version. Use pandas.concat instead.\n",
            "  df_balance = df_balance.append(df_temp)  # Append the current DataFrame to the main DataFrame\n",
            "<ipython-input-12-e63d660650c2>:9: FutureWarning: The frame.append method is deprecated and will be removed from pandas in a future version. Use pandas.concat instead.\n",
            "  df_balance = df_balance.append(df_temp)  # Append the current DataFrame to the main DataFrame\n",
            "<ipython-input-12-e63d660650c2>:9: FutureWarning: The frame.append method is deprecated and will be removed from pandas in a future version. Use pandas.concat instead.\n",
            "  df_balance = df_balance.append(df_temp)  # Append the current DataFrame to the main DataFrame\n",
            "<ipython-input-12-e63d660650c2>:9: FutureWarning: The frame.append method is deprecated and will be removed from pandas in a future version. Use pandas.concat instead.\n",
            "  df_balance = df_balance.append(df_temp)  # Append the current DataFrame to the main DataFrame\n",
            "<ipython-input-12-e63d660650c2>:9: FutureWarning: The frame.append method is deprecated and will be removed from pandas in a future version. Use pandas.concat instead.\n",
            "  df_balance = df_balance.append(df_temp)  # Append the current DataFrame to the main DataFrame\n",
            "<ipython-input-12-e63d660650c2>:9: FutureWarning: The frame.append method is deprecated and will be removed from pandas in a future version. Use pandas.concat instead.\n",
            "  df_balance = df_balance.append(df_temp)  # Append the current DataFrame to the main DataFrame\n",
            "<ipython-input-12-e63d660650c2>:9: FutureWarning: The frame.append method is deprecated and will be removed from pandas in a future version. Use pandas.concat instead.\n",
            "  df_balance = df_balance.append(df_temp)  # Append the current DataFrame to the main DataFrame\n",
            "<ipython-input-12-e63d660650c2>:9: FutureWarning: The frame.append method is deprecated and will be removed from pandas in a future version. Use pandas.concat instead.\n",
            "  df_balance = df_balance.append(df_temp)  # Append the current DataFrame to the main DataFrame\n",
            "<ipython-input-12-e63d660650c2>:9: FutureWarning: The frame.append method is deprecated and will be removed from pandas in a future version. Use pandas.concat instead.\n",
            "  df_balance = df_balance.append(df_temp)  # Append the current DataFrame to the main DataFrame\n",
            "<ipython-input-12-e63d660650c2>:9: FutureWarning: The frame.append method is deprecated and will be removed from pandas in a future version. Use pandas.concat instead.\n",
            "  df_balance = df_balance.append(df_temp)  # Append the current DataFrame to the main DataFrame\n",
            "<ipython-input-12-e63d660650c2>:9: FutureWarning: The frame.append method is deprecated and will be removed from pandas in a future version. Use pandas.concat instead.\n",
            "  df_balance = df_balance.append(df_temp)  # Append the current DataFrame to the main DataFrame\n",
            "<ipython-input-12-e63d660650c2>:9: FutureWarning: The frame.append method is deprecated and will be removed from pandas in a future version. Use pandas.concat instead.\n",
            "  df_balance = df_balance.append(df_temp)  # Append the current DataFrame to the main DataFrame\n",
            "<ipython-input-12-e63d660650c2>:9: FutureWarning: The frame.append method is deprecated and will be removed from pandas in a future version. Use pandas.concat instead.\n",
            "  df_balance = df_balance.append(df_temp)  # Append the current DataFrame to the main DataFrame\n",
            "<ipython-input-12-e63d660650c2>:9: FutureWarning: The frame.append method is deprecated and will be removed from pandas in a future version. Use pandas.concat instead.\n",
            "  df_balance = df_balance.append(df_temp)  # Append the current DataFrame to the main DataFrame\n",
            "<ipython-input-12-e63d660650c2>:9: FutureWarning: The frame.append method is deprecated and will be removed from pandas in a future version. Use pandas.concat instead.\n",
            "  df_balance = df_balance.append(df_temp)  # Append the current DataFrame to the main DataFrame\n",
            "<ipython-input-12-e63d660650c2>:9: FutureWarning: The frame.append method is deprecated and will be removed from pandas in a future version. Use pandas.concat instead.\n",
            "  df_balance = df_balance.append(df_temp)  # Append the current DataFrame to the main DataFrame\n",
            "<ipython-input-12-e63d660650c2>:9: FutureWarning: The frame.append method is deprecated and will be removed from pandas in a future version. Use pandas.concat instead.\n",
            "  df_balance = df_balance.append(df_temp)  # Append the current DataFrame to the main DataFrame\n",
            "<ipython-input-12-e63d660650c2>:9: FutureWarning: The frame.append method is deprecated and will be removed from pandas in a future version. Use pandas.concat instead.\n",
            "  df_balance = df_balance.append(df_temp)  # Append the current DataFrame to the main DataFrame\n",
            "<ipython-input-12-e63d660650c2>:9: FutureWarning: The frame.append method is deprecated and will be removed from pandas in a future version. Use pandas.concat instead.\n",
            "  df_balance = df_balance.append(df_temp)  # Append the current DataFrame to the main DataFrame\n",
            "<ipython-input-12-e63d660650c2>:9: FutureWarning: The frame.append method is deprecated and will be removed from pandas in a future version. Use pandas.concat instead.\n",
            "  df_balance = df_balance.append(df_temp)  # Append the current DataFrame to the main DataFrame\n",
            "<ipython-input-12-e63d660650c2>:9: FutureWarning: The frame.append method is deprecated and will be removed from pandas in a future version. Use pandas.concat instead.\n",
            "  df_balance = df_balance.append(df_temp)  # Append the current DataFrame to the main DataFrame\n",
            "<ipython-input-12-e63d660650c2>:9: FutureWarning: The frame.append method is deprecated and will be removed from pandas in a future version. Use pandas.concat instead.\n",
            "  df_balance = df_balance.append(df_temp)  # Append the current DataFrame to the main DataFrame\n",
            "<ipython-input-12-e63d660650c2>:9: FutureWarning: The frame.append method is deprecated and will be removed from pandas in a future version. Use pandas.concat instead.\n",
            "  df_balance = df_balance.append(df_temp)  # Append the current DataFrame to the main DataFrame\n",
            "<ipython-input-12-e63d660650c2>:9: FutureWarning: The frame.append method is deprecated and will be removed from pandas in a future version. Use pandas.concat instead.\n",
            "  df_balance = df_balance.append(df_temp)  # Append the current DataFrame to the main DataFrame\n",
            "<ipython-input-12-e63d660650c2>:9: FutureWarning: The frame.append method is deprecated and will be removed from pandas in a future version. Use pandas.concat instead.\n",
            "  df_balance = df_balance.append(df_temp)  # Append the current DataFrame to the main DataFrame\n",
            "<ipython-input-12-e63d660650c2>:9: FutureWarning: The frame.append method is deprecated and will be removed from pandas in a future version. Use pandas.concat instead.\n",
            "  df_balance = df_balance.append(df_temp)  # Append the current DataFrame to the main DataFrame\n",
            "<ipython-input-12-e63d660650c2>:9: FutureWarning: The frame.append method is deprecated and will be removed from pandas in a future version. Use pandas.concat instead.\n",
            "  df_balance = df_balance.append(df_temp)  # Append the current DataFrame to the main DataFrame\n",
            "<ipython-input-12-e63d660650c2>:9: FutureWarning: The frame.append method is deprecated and will be removed from pandas in a future version. Use pandas.concat instead.\n",
            "  df_balance = df_balance.append(df_temp)  # Append the current DataFrame to the main DataFrame\n",
            "<ipython-input-12-e63d660650c2>:9: FutureWarning: The frame.append method is deprecated and will be removed from pandas in a future version. Use pandas.concat instead.\n",
            "  df_balance = df_balance.append(df_temp)  # Append the current DataFrame to the main DataFrame\n",
            "<ipython-input-12-e63d660650c2>:9: FutureWarning: The frame.append method is deprecated and will be removed from pandas in a future version. Use pandas.concat instead.\n",
            "  df_balance = df_balance.append(df_temp)  # Append the current DataFrame to the main DataFrame\n",
            "<ipython-input-12-e63d660650c2>:9: FutureWarning: The frame.append method is deprecated and will be removed from pandas in a future version. Use pandas.concat instead.\n",
            "  df_balance = df_balance.append(df_temp)  # Append the current DataFrame to the main DataFrame\n",
            "<ipython-input-12-e63d660650c2>:9: FutureWarning: The frame.append method is deprecated and will be removed from pandas in a future version. Use pandas.concat instead.\n",
            "  df_balance = df_balance.append(df_temp)  # Append the current DataFrame to the main DataFrame\n",
            "<ipython-input-12-e63d660650c2>:9: FutureWarning: The frame.append method is deprecated and will be removed from pandas in a future version. Use pandas.concat instead.\n",
            "  df_balance = df_balance.append(df_temp)  # Append the current DataFrame to the main DataFrame\n",
            "<ipython-input-12-e63d660650c2>:9: FutureWarning: The frame.append method is deprecated and will be removed from pandas in a future version. Use pandas.concat instead.\n",
            "  df_balance = df_balance.append(df_temp)  # Append the current DataFrame to the main DataFrame\n",
            "<ipython-input-12-e63d660650c2>:9: FutureWarning: The frame.append method is deprecated and will be removed from pandas in a future version. Use pandas.concat instead.\n",
            "  df_balance = df_balance.append(df_temp)  # Append the current DataFrame to the main DataFrame\n",
            "<ipython-input-12-e63d660650c2>:9: FutureWarning: The frame.append method is deprecated and will be removed from pandas in a future version. Use pandas.concat instead.\n",
            "  df_balance = df_balance.append(df_temp)  # Append the current DataFrame to the main DataFrame\n",
            "<ipython-input-12-e63d660650c2>:9: FutureWarning: The frame.append method is deprecated and will be removed from pandas in a future version. Use pandas.concat instead.\n",
            "  df_balance = df_balance.append(df_temp)  # Append the current DataFrame to the main DataFrame\n",
            "<ipython-input-12-e63d660650c2>:9: FutureWarning: The frame.append method is deprecated and will be removed from pandas in a future version. Use pandas.concat instead.\n",
            "  df_balance = df_balance.append(df_temp)  # Append the current DataFrame to the main DataFrame\n",
            "<ipython-input-12-e63d660650c2>:9: FutureWarning: The frame.append method is deprecated and will be removed from pandas in a future version. Use pandas.concat instead.\n",
            "  df_balance = df_balance.append(df_temp)  # Append the current DataFrame to the main DataFrame\n",
            "<ipython-input-12-e63d660650c2>:9: FutureWarning: The frame.append method is deprecated and will be removed from pandas in a future version. Use pandas.concat instead.\n",
            "  df_balance = df_balance.append(df_temp)  # Append the current DataFrame to the main DataFrame\n",
            "<ipython-input-12-e63d660650c2>:9: FutureWarning: The frame.append method is deprecated and will be removed from pandas in a future version. Use pandas.concat instead.\n",
            "  df_balance = df_balance.append(df_temp)  # Append the current DataFrame to the main DataFrame\n",
            "<ipython-input-12-e63d660650c2>:9: FutureWarning: The frame.append method is deprecated and will be removed from pandas in a future version. Use pandas.concat instead.\n",
            "  df_balance = df_balance.append(df_temp)  # Append the current DataFrame to the main DataFrame\n",
            "<ipython-input-12-e63d660650c2>:9: FutureWarning: The frame.append method is deprecated and will be removed from pandas in a future version. Use pandas.concat instead.\n",
            "  df_balance = df_balance.append(df_temp)  # Append the current DataFrame to the main DataFrame\n",
            "<ipython-input-12-e63d660650c2>:9: FutureWarning: The frame.append method is deprecated and will be removed from pandas in a future version. Use pandas.concat instead.\n",
            "  df_balance = df_balance.append(df_temp)  # Append the current DataFrame to the main DataFrame\n",
            "<ipython-input-12-e63d660650c2>:9: FutureWarning: The frame.append method is deprecated and will be removed from pandas in a future version. Use pandas.concat instead.\n",
            "  df_balance = df_balance.append(df_temp)  # Append the current DataFrame to the main DataFrame\n",
            "<ipython-input-12-e63d660650c2>:9: FutureWarning: The frame.append method is deprecated and will be removed from pandas in a future version. Use pandas.concat instead.\n",
            "  df_balance = df_balance.append(df_temp)  # Append the current DataFrame to the main DataFrame\n",
            "<ipython-input-12-e63d660650c2>:9: FutureWarning: The frame.append method is deprecated and will be removed from pandas in a future version. Use pandas.concat instead.\n",
            "  df_balance = df_balance.append(df_temp)  # Append the current DataFrame to the main DataFrame\n",
            "<ipython-input-12-e63d660650c2>:9: FutureWarning: The frame.append method is deprecated and will be removed from pandas in a future version. Use pandas.concat instead.\n",
            "  df_balance = df_balance.append(df_temp)  # Append the current DataFrame to the main DataFrame\n",
            "<ipython-input-12-e63d660650c2>:9: FutureWarning: The frame.append method is deprecated and will be removed from pandas in a future version. Use pandas.concat instead.\n",
            "  df_balance = df_balance.append(df_temp)  # Append the current DataFrame to the main DataFrame\n",
            "<ipython-input-12-e63d660650c2>:9: FutureWarning: The frame.append method is deprecated and will be removed from pandas in a future version. Use pandas.concat instead.\n",
            "  df_balance = df_balance.append(df_temp)  # Append the current DataFrame to the main DataFrame\n",
            "<ipython-input-12-e63d660650c2>:9: FutureWarning: The frame.append method is deprecated and will be removed from pandas in a future version. Use pandas.concat instead.\n",
            "  df_balance = df_balance.append(df_temp)  # Append the current DataFrame to the main DataFrame\n",
            "<ipython-input-12-e63d660650c2>:9: FutureWarning: The frame.append method is deprecated and will be removed from pandas in a future version. Use pandas.concat instead.\n",
            "  df_balance = df_balance.append(df_temp)  # Append the current DataFrame to the main DataFrame\n",
            "<ipython-input-12-e63d660650c2>:9: FutureWarning: The frame.append method is deprecated and will be removed from pandas in a future version. Use pandas.concat instead.\n",
            "  df_balance = df_balance.append(df_temp)  # Append the current DataFrame to the main DataFrame\n",
            "<ipython-input-12-e63d660650c2>:9: FutureWarning: The frame.append method is deprecated and will be removed from pandas in a future version. Use pandas.concat instead.\n",
            "  df_balance = df_balance.append(df_temp)  # Append the current DataFrame to the main DataFrame\n",
            "<ipython-input-12-e63d660650c2>:9: FutureWarning: The frame.append method is deprecated and will be removed from pandas in a future version. Use pandas.concat instead.\n",
            "  df_balance = df_balance.append(df_temp)  # Append the current DataFrame to the main DataFrame\n",
            "<ipython-input-12-e63d660650c2>:9: FutureWarning: The frame.append method is deprecated and will be removed from pandas in a future version. Use pandas.concat instead.\n",
            "  df_balance = df_balance.append(df_temp)  # Append the current DataFrame to the main DataFrame\n",
            "<ipython-input-12-e63d660650c2>:9: FutureWarning: The frame.append method is deprecated and will be removed from pandas in a future version. Use pandas.concat instead.\n",
            "  df_balance = df_balance.append(df_temp)  # Append the current DataFrame to the main DataFrame\n",
            "<ipython-input-12-e63d660650c2>:9: FutureWarning: The frame.append method is deprecated and will be removed from pandas in a future version. Use pandas.concat instead.\n",
            "  df_balance = df_balance.append(df_temp)  # Append the current DataFrame to the main DataFrame\n",
            "<ipython-input-12-e63d660650c2>:9: FutureWarning: The frame.append method is deprecated and will be removed from pandas in a future version. Use pandas.concat instead.\n",
            "  df_balance = df_balance.append(df_temp)  # Append the current DataFrame to the main DataFrame\n",
            "<ipython-input-12-e63d660650c2>:9: FutureWarning: The frame.append method is deprecated and will be removed from pandas in a future version. Use pandas.concat instead.\n",
            "  df_balance = df_balance.append(df_temp)  # Append the current DataFrame to the main DataFrame\n",
            "<ipython-input-12-e63d660650c2>:9: FutureWarning: The frame.append method is deprecated and will be removed from pandas in a future version. Use pandas.concat instead.\n",
            "  df_balance = df_balance.append(df_temp)  # Append the current DataFrame to the main DataFrame\n",
            "<ipython-input-12-e63d660650c2>:9: FutureWarning: The frame.append method is deprecated and will be removed from pandas in a future version. Use pandas.concat instead.\n",
            "  df_balance = df_balance.append(df_temp)  # Append the current DataFrame to the main DataFrame\n",
            "<ipython-input-12-e63d660650c2>:9: FutureWarning: The frame.append method is deprecated and will be removed from pandas in a future version. Use pandas.concat instead.\n",
            "  df_balance = df_balance.append(df_temp)  # Append the current DataFrame to the main DataFrame\n",
            "<ipython-input-12-e63d660650c2>:9: FutureWarning: The frame.append method is deprecated and will be removed from pandas in a future version. Use pandas.concat instead.\n",
            "  df_balance = df_balance.append(df_temp)  # Append the current DataFrame to the main DataFrame\n",
            "<ipython-input-12-e63d660650c2>:9: FutureWarning: The frame.append method is deprecated and will be removed from pandas in a future version. Use pandas.concat instead.\n",
            "  df_balance = df_balance.append(df_temp)  # Append the current DataFrame to the main DataFrame\n",
            "<ipython-input-12-e63d660650c2>:9: FutureWarning: The frame.append method is deprecated and will be removed from pandas in a future version. Use pandas.concat instead.\n",
            "  df_balance = df_balance.append(df_temp)  # Append the current DataFrame to the main DataFrame\n",
            "<ipython-input-12-e63d660650c2>:9: FutureWarning: The frame.append method is deprecated and will be removed from pandas in a future version. Use pandas.concat instead.\n",
            "  df_balance = df_balance.append(df_temp)  # Append the current DataFrame to the main DataFrame\n",
            "<ipython-input-12-e63d660650c2>:9: FutureWarning: The frame.append method is deprecated and will be removed from pandas in a future version. Use pandas.concat instead.\n",
            "  df_balance = df_balance.append(df_temp)  # Append the current DataFrame to the main DataFrame\n",
            "<ipython-input-12-e63d660650c2>:9: FutureWarning: The frame.append method is deprecated and will be removed from pandas in a future version. Use pandas.concat instead.\n",
            "  df_balance = df_balance.append(df_temp)  # Append the current DataFrame to the main DataFrame\n",
            "<ipython-input-12-e63d660650c2>:9: FutureWarning: The frame.append method is deprecated and will be removed from pandas in a future version. Use pandas.concat instead.\n",
            "  df_balance = df_balance.append(df_temp)  # Append the current DataFrame to the main DataFrame\n",
            "<ipython-input-12-e63d660650c2>:9: FutureWarning: The frame.append method is deprecated and will be removed from pandas in a future version. Use pandas.concat instead.\n",
            "  df_balance = df_balance.append(df_temp)  # Append the current DataFrame to the main DataFrame\n",
            "<ipython-input-12-e63d660650c2>:9: FutureWarning: The frame.append method is deprecated and will be removed from pandas in a future version. Use pandas.concat instead.\n",
            "  df_balance = df_balance.append(df_temp)  # Append the current DataFrame to the main DataFrame\n",
            "<ipython-input-12-e63d660650c2>:9: FutureWarning: The frame.append method is deprecated and will be removed from pandas in a future version. Use pandas.concat instead.\n",
            "  df_balance = df_balance.append(df_temp)  # Append the current DataFrame to the main DataFrame\n",
            "<ipython-input-12-e63d660650c2>:9: FutureWarning: The frame.append method is deprecated and will be removed from pandas in a future version. Use pandas.concat instead.\n",
            "  df_balance = df_balance.append(df_temp)  # Append the current DataFrame to the main DataFrame\n",
            "<ipython-input-12-e63d660650c2>:9: FutureWarning: The frame.append method is deprecated and will be removed from pandas in a future version. Use pandas.concat instead.\n",
            "  df_balance = df_balance.append(df_temp)  # Append the current DataFrame to the main DataFrame\n",
            "<ipython-input-12-e63d660650c2>:9: FutureWarning: The frame.append method is deprecated and will be removed from pandas in a future version. Use pandas.concat instead.\n",
            "  df_balance = df_balance.append(df_temp)  # Append the current DataFrame to the main DataFrame\n",
            "<ipython-input-12-e63d660650c2>:9: FutureWarning: The frame.append method is deprecated and will be removed from pandas in a future version. Use pandas.concat instead.\n",
            "  df_balance = df_balance.append(df_temp)  # Append the current DataFrame to the main DataFrame\n",
            "<ipython-input-12-e63d660650c2>:9: FutureWarning: The frame.append method is deprecated and will be removed from pandas in a future version. Use pandas.concat instead.\n",
            "  df_balance = df_balance.append(df_temp)  # Append the current DataFrame to the main DataFrame\n",
            "<ipython-input-12-e63d660650c2>:9: FutureWarning: The frame.append method is deprecated and will be removed from pandas in a future version. Use pandas.concat instead.\n",
            "  df_balance = df_balance.append(df_temp)  # Append the current DataFrame to the main DataFrame\n"
          ]
        }
      ]
    },
    {
      "cell_type": "code",
      "source": [
        "\n",
        "df_stocks = pd.DataFrame()  # Initialize an empty DataFrame to store stock data\n",
        "\n",
        "# Iterate through tickers\n",
        "for i in tickers:\n",
        "    ticker_symbol = i  # Store the current ticker symbol for reference\n",
        "    start_date = \"2020-01-01\"\n",
        "    end_date = \"2023-01-30\"\n",
        "\n",
        "    # Download stock data for the current ticker for the specified time period\n",
        "    apple_data = yf.download(ticker_symbol, start=start_date, end=end_date)\n",
        "\n",
        "    df_temp_stock = pd.DataFrame(apple_data)  # Convert the stock data to a DataFrame\n",
        "    df_temp_stock['ticker'] = ticker_symbol  # Add a new column 'ticker' to store the ticker symbol in the DataFrame\n",
        "    df_stocks = df_stocks.append(df_temp_stock)  # Append the current DataFrame to the main DataFrame\n",
        "\n",
        "# The resulting DataFrame df_stocks contains stock data for all tickers for the specified\n"
      ],
      "metadata": {
        "id": "ikif8p3X8Osi",
        "colab": {
          "base_uri": "https://localhost:8080/"
        },
        "outputId": "31e392ab-833a-4387-b010-d4ea729d6c78"
      },
      "execution_count": null,
      "outputs": [
        {
          "output_type": "stream",
          "name": "stdout",
          "text": [
            "\r[*********************100%%**********************]  1 of 1 completed\n"
          ]
        },
        {
          "output_type": "stream",
          "name": "stderr",
          "text": [
            "<ipython-input-13-7cea9a5d8bad>:14: FutureWarning: The frame.append method is deprecated and will be removed from pandas in a future version. Use pandas.concat instead.\n",
            "  df_stocks = df_stocks.append(df_temp_stock)  # Append the current DataFrame to the main DataFrame\n"
          ]
        },
        {
          "output_type": "stream",
          "name": "stdout",
          "text": [
            "\r[*********************100%%**********************]  1 of 1 completed\n"
          ]
        },
        {
          "output_type": "stream",
          "name": "stderr",
          "text": [
            "<ipython-input-13-7cea9a5d8bad>:14: FutureWarning: The frame.append method is deprecated and will be removed from pandas in a future version. Use pandas.concat instead.\n",
            "  df_stocks = df_stocks.append(df_temp_stock)  # Append the current DataFrame to the main DataFrame\n"
          ]
        },
        {
          "output_type": "stream",
          "name": "stdout",
          "text": [
            "\r[*********************100%%**********************]  1 of 1 completed\n"
          ]
        },
        {
          "output_type": "stream",
          "name": "stderr",
          "text": [
            "<ipython-input-13-7cea9a5d8bad>:14: FutureWarning: The frame.append method is deprecated and will be removed from pandas in a future version. Use pandas.concat instead.\n",
            "  df_stocks = df_stocks.append(df_temp_stock)  # Append the current DataFrame to the main DataFrame\n"
          ]
        },
        {
          "output_type": "stream",
          "name": "stdout",
          "text": [
            "\r[*********************100%%**********************]  1 of 1 completed\n"
          ]
        },
        {
          "output_type": "stream",
          "name": "stderr",
          "text": [
            "<ipython-input-13-7cea9a5d8bad>:14: FutureWarning: The frame.append method is deprecated and will be removed from pandas in a future version. Use pandas.concat instead.\n",
            "  df_stocks = df_stocks.append(df_temp_stock)  # Append the current DataFrame to the main DataFrame\n"
          ]
        },
        {
          "output_type": "stream",
          "name": "stdout",
          "text": [
            "\r[*********************100%%**********************]  1 of 1 completed\n"
          ]
        },
        {
          "output_type": "stream",
          "name": "stderr",
          "text": [
            "<ipython-input-13-7cea9a5d8bad>:14: FutureWarning: The frame.append method is deprecated and will be removed from pandas in a future version. Use pandas.concat instead.\n",
            "  df_stocks = df_stocks.append(df_temp_stock)  # Append the current DataFrame to the main DataFrame\n"
          ]
        },
        {
          "output_type": "stream",
          "name": "stdout",
          "text": [
            "\r[*********************100%%**********************]  1 of 1 completed\n"
          ]
        },
        {
          "output_type": "stream",
          "name": "stderr",
          "text": [
            "<ipython-input-13-7cea9a5d8bad>:14: FutureWarning: The frame.append method is deprecated and will be removed from pandas in a future version. Use pandas.concat instead.\n",
            "  df_stocks = df_stocks.append(df_temp_stock)  # Append the current DataFrame to the main DataFrame\n"
          ]
        },
        {
          "output_type": "stream",
          "name": "stdout",
          "text": [
            "\r[*********************100%%**********************]  1 of 1 completed\n"
          ]
        },
        {
          "output_type": "stream",
          "name": "stderr",
          "text": [
            "<ipython-input-13-7cea9a5d8bad>:14: FutureWarning: The frame.append method is deprecated and will be removed from pandas in a future version. Use pandas.concat instead.\n",
            "  df_stocks = df_stocks.append(df_temp_stock)  # Append the current DataFrame to the main DataFrame\n"
          ]
        },
        {
          "output_type": "stream",
          "name": "stdout",
          "text": [
            "\r[*********************100%%**********************]  1 of 1 completed\n"
          ]
        },
        {
          "output_type": "stream",
          "name": "stderr",
          "text": [
            "<ipython-input-13-7cea9a5d8bad>:14: FutureWarning: The frame.append method is deprecated and will be removed from pandas in a future version. Use pandas.concat instead.\n",
            "  df_stocks = df_stocks.append(df_temp_stock)  # Append the current DataFrame to the main DataFrame\n"
          ]
        },
        {
          "output_type": "stream",
          "name": "stdout",
          "text": [
            "\r[*********************100%%**********************]  1 of 1 completed\n"
          ]
        },
        {
          "output_type": "stream",
          "name": "stderr",
          "text": [
            "<ipython-input-13-7cea9a5d8bad>:14: FutureWarning: The frame.append method is deprecated and will be removed from pandas in a future version. Use pandas.concat instead.\n",
            "  df_stocks = df_stocks.append(df_temp_stock)  # Append the current DataFrame to the main DataFrame\n"
          ]
        },
        {
          "output_type": "stream",
          "name": "stdout",
          "text": [
            "\r[*********************100%%**********************]  1 of 1 completed\n"
          ]
        },
        {
          "output_type": "stream",
          "name": "stderr",
          "text": [
            "<ipython-input-13-7cea9a5d8bad>:14: FutureWarning: The frame.append method is deprecated and will be removed from pandas in a future version. Use pandas.concat instead.\n",
            "  df_stocks = df_stocks.append(df_temp_stock)  # Append the current DataFrame to the main DataFrame\n"
          ]
        },
        {
          "output_type": "stream",
          "name": "stdout",
          "text": [
            "\r[*********************100%%**********************]  1 of 1 completed\n"
          ]
        },
        {
          "output_type": "stream",
          "name": "stderr",
          "text": [
            "<ipython-input-13-7cea9a5d8bad>:14: FutureWarning: The frame.append method is deprecated and will be removed from pandas in a future version. Use pandas.concat instead.\n",
            "  df_stocks = df_stocks.append(df_temp_stock)  # Append the current DataFrame to the main DataFrame\n"
          ]
        },
        {
          "output_type": "stream",
          "name": "stdout",
          "text": [
            "\r[*********************100%%**********************]  1 of 1 completed\n"
          ]
        },
        {
          "output_type": "stream",
          "name": "stderr",
          "text": [
            "<ipython-input-13-7cea9a5d8bad>:14: FutureWarning: The frame.append method is deprecated and will be removed from pandas in a future version. Use pandas.concat instead.\n",
            "  df_stocks = df_stocks.append(df_temp_stock)  # Append the current DataFrame to the main DataFrame\n"
          ]
        },
        {
          "output_type": "stream",
          "name": "stdout",
          "text": [
            "\r[*********************100%%**********************]  1 of 1 completed\n"
          ]
        },
        {
          "output_type": "stream",
          "name": "stderr",
          "text": [
            "<ipython-input-13-7cea9a5d8bad>:14: FutureWarning: The frame.append method is deprecated and will be removed from pandas in a future version. Use pandas.concat instead.\n",
            "  df_stocks = df_stocks.append(df_temp_stock)  # Append the current DataFrame to the main DataFrame\n"
          ]
        },
        {
          "output_type": "stream",
          "name": "stdout",
          "text": [
            "\r[*********************100%%**********************]  1 of 1 completed\n"
          ]
        },
        {
          "output_type": "stream",
          "name": "stderr",
          "text": [
            "<ipython-input-13-7cea9a5d8bad>:14: FutureWarning: The frame.append method is deprecated and will be removed from pandas in a future version. Use pandas.concat instead.\n",
            "  df_stocks = df_stocks.append(df_temp_stock)  # Append the current DataFrame to the main DataFrame\n"
          ]
        },
        {
          "output_type": "stream",
          "name": "stdout",
          "text": [
            "\r[*********************100%%**********************]  1 of 1 completed\n"
          ]
        },
        {
          "output_type": "stream",
          "name": "stderr",
          "text": [
            "<ipython-input-13-7cea9a5d8bad>:14: FutureWarning: The frame.append method is deprecated and will be removed from pandas in a future version. Use pandas.concat instead.\n",
            "  df_stocks = df_stocks.append(df_temp_stock)  # Append the current DataFrame to the main DataFrame\n"
          ]
        },
        {
          "output_type": "stream",
          "name": "stdout",
          "text": [
            "\r[*********************100%%**********************]  1 of 1 completed\n"
          ]
        },
        {
          "output_type": "stream",
          "name": "stderr",
          "text": [
            "<ipython-input-13-7cea9a5d8bad>:14: FutureWarning: The frame.append method is deprecated and will be removed from pandas in a future version. Use pandas.concat instead.\n",
            "  df_stocks = df_stocks.append(df_temp_stock)  # Append the current DataFrame to the main DataFrame\n"
          ]
        },
        {
          "output_type": "stream",
          "name": "stdout",
          "text": [
            "\r[*********************100%%**********************]  1 of 1 completed\n"
          ]
        },
        {
          "output_type": "stream",
          "name": "stderr",
          "text": [
            "<ipython-input-13-7cea9a5d8bad>:14: FutureWarning: The frame.append method is deprecated and will be removed from pandas in a future version. Use pandas.concat instead.\n",
            "  df_stocks = df_stocks.append(df_temp_stock)  # Append the current DataFrame to the main DataFrame\n"
          ]
        },
        {
          "output_type": "stream",
          "name": "stdout",
          "text": [
            "\r[*********************100%%**********************]  1 of 1 completed\n"
          ]
        },
        {
          "output_type": "stream",
          "name": "stderr",
          "text": [
            "<ipython-input-13-7cea9a5d8bad>:14: FutureWarning: The frame.append method is deprecated and will be removed from pandas in a future version. Use pandas.concat instead.\n",
            "  df_stocks = df_stocks.append(df_temp_stock)  # Append the current DataFrame to the main DataFrame\n"
          ]
        },
        {
          "output_type": "stream",
          "name": "stdout",
          "text": [
            "\r[*********************100%%**********************]  1 of 1 completed\n"
          ]
        },
        {
          "output_type": "stream",
          "name": "stderr",
          "text": [
            "<ipython-input-13-7cea9a5d8bad>:14: FutureWarning: The frame.append method is deprecated and will be removed from pandas in a future version. Use pandas.concat instead.\n",
            "  df_stocks = df_stocks.append(df_temp_stock)  # Append the current DataFrame to the main DataFrame\n"
          ]
        },
        {
          "output_type": "stream",
          "name": "stdout",
          "text": [
            "\r[*********************100%%**********************]  1 of 1 completed\n"
          ]
        },
        {
          "output_type": "stream",
          "name": "stderr",
          "text": [
            "<ipython-input-13-7cea9a5d8bad>:14: FutureWarning: The frame.append method is deprecated and will be removed from pandas in a future version. Use pandas.concat instead.\n",
            "  df_stocks = df_stocks.append(df_temp_stock)  # Append the current DataFrame to the main DataFrame\n"
          ]
        },
        {
          "output_type": "stream",
          "name": "stdout",
          "text": [
            "\r[*********************100%%**********************]  1 of 1 completed\n"
          ]
        },
        {
          "output_type": "stream",
          "name": "stderr",
          "text": [
            "<ipython-input-13-7cea9a5d8bad>:14: FutureWarning: The frame.append method is deprecated and will be removed from pandas in a future version. Use pandas.concat instead.\n",
            "  df_stocks = df_stocks.append(df_temp_stock)  # Append the current DataFrame to the main DataFrame\n"
          ]
        },
        {
          "output_type": "stream",
          "name": "stdout",
          "text": [
            "\r[*********************100%%**********************]  1 of 1 completed\n"
          ]
        },
        {
          "output_type": "stream",
          "name": "stderr",
          "text": [
            "<ipython-input-13-7cea9a5d8bad>:14: FutureWarning: The frame.append method is deprecated and will be removed from pandas in a future version. Use pandas.concat instead.\n",
            "  df_stocks = df_stocks.append(df_temp_stock)  # Append the current DataFrame to the main DataFrame\n"
          ]
        },
        {
          "output_type": "stream",
          "name": "stdout",
          "text": [
            "\r[*********************100%%**********************]  1 of 1 completed\n"
          ]
        },
        {
          "output_type": "stream",
          "name": "stderr",
          "text": [
            "<ipython-input-13-7cea9a5d8bad>:14: FutureWarning: The frame.append method is deprecated and will be removed from pandas in a future version. Use pandas.concat instead.\n",
            "  df_stocks = df_stocks.append(df_temp_stock)  # Append the current DataFrame to the main DataFrame\n"
          ]
        },
        {
          "output_type": "stream",
          "name": "stdout",
          "text": [
            "\r[*********************100%%**********************]  1 of 1 completed\n"
          ]
        },
        {
          "output_type": "stream",
          "name": "stderr",
          "text": [
            "<ipython-input-13-7cea9a5d8bad>:14: FutureWarning: The frame.append method is deprecated and will be removed from pandas in a future version. Use pandas.concat instead.\n",
            "  df_stocks = df_stocks.append(df_temp_stock)  # Append the current DataFrame to the main DataFrame\n"
          ]
        },
        {
          "output_type": "stream",
          "name": "stdout",
          "text": [
            "[*********************100%%**********************]  1 of 1 completed\n",
            "[*********************100%%**********************]  1 of 1 completed\n"
          ]
        },
        {
          "output_type": "stream",
          "name": "stderr",
          "text": [
            "<ipython-input-13-7cea9a5d8bad>:14: FutureWarning: The frame.append method is deprecated and will be removed from pandas in a future version. Use pandas.concat instead.\n",
            "  df_stocks = df_stocks.append(df_temp_stock)  # Append the current DataFrame to the main DataFrame\n",
            "<ipython-input-13-7cea9a5d8bad>:14: FutureWarning: The frame.append method is deprecated and will be removed from pandas in a future version. Use pandas.concat instead.\n",
            "  df_stocks = df_stocks.append(df_temp_stock)  # Append the current DataFrame to the main DataFrame\n"
          ]
        },
        {
          "output_type": "stream",
          "name": "stdout",
          "text": [
            "\r[*********************100%%**********************]  1 of 1 completed\n"
          ]
        },
        {
          "output_type": "stream",
          "name": "stderr",
          "text": [
            "<ipython-input-13-7cea9a5d8bad>:14: FutureWarning: The frame.append method is deprecated and will be removed from pandas in a future version. Use pandas.concat instead.\n",
            "  df_stocks = df_stocks.append(df_temp_stock)  # Append the current DataFrame to the main DataFrame\n"
          ]
        },
        {
          "output_type": "stream",
          "name": "stdout",
          "text": [
            "\r[*********************100%%**********************]  1 of 1 completed\n"
          ]
        },
        {
          "output_type": "stream",
          "name": "stderr",
          "text": [
            "<ipython-input-13-7cea9a5d8bad>:14: FutureWarning: The frame.append method is deprecated and will be removed from pandas in a future version. Use pandas.concat instead.\n",
            "  df_stocks = df_stocks.append(df_temp_stock)  # Append the current DataFrame to the main DataFrame\n"
          ]
        },
        {
          "output_type": "stream",
          "name": "stdout",
          "text": [
            "[*********************100%%**********************]  1 of 1 completed\n",
            "[*********************100%%**********************]  1 of 1 completed\n"
          ]
        },
        {
          "output_type": "stream",
          "name": "stderr",
          "text": [
            "<ipython-input-13-7cea9a5d8bad>:14: FutureWarning: The frame.append method is deprecated and will be removed from pandas in a future version. Use pandas.concat instead.\n",
            "  df_stocks = df_stocks.append(df_temp_stock)  # Append the current DataFrame to the main DataFrame\n",
            "<ipython-input-13-7cea9a5d8bad>:14: FutureWarning: The frame.append method is deprecated and will be removed from pandas in a future version. Use pandas.concat instead.\n",
            "  df_stocks = df_stocks.append(df_temp_stock)  # Append the current DataFrame to the main DataFrame\n"
          ]
        },
        {
          "output_type": "stream",
          "name": "stdout",
          "text": [
            "\r[*********************100%%**********************]  1 of 1 completed\n"
          ]
        },
        {
          "output_type": "stream",
          "name": "stderr",
          "text": [
            "<ipython-input-13-7cea9a5d8bad>:14: FutureWarning: The frame.append method is deprecated and will be removed from pandas in a future version. Use pandas.concat instead.\n",
            "  df_stocks = df_stocks.append(df_temp_stock)  # Append the current DataFrame to the main DataFrame\n"
          ]
        },
        {
          "output_type": "stream",
          "name": "stdout",
          "text": [
            "\r[*********************100%%**********************]  1 of 1 completed\n"
          ]
        },
        {
          "output_type": "stream",
          "name": "stderr",
          "text": [
            "<ipython-input-13-7cea9a5d8bad>:14: FutureWarning: The frame.append method is deprecated and will be removed from pandas in a future version. Use pandas.concat instead.\n",
            "  df_stocks = df_stocks.append(df_temp_stock)  # Append the current DataFrame to the main DataFrame\n"
          ]
        },
        {
          "output_type": "stream",
          "name": "stdout",
          "text": [
            "\r[*********************100%%**********************]  1 of 1 completed\n"
          ]
        },
        {
          "output_type": "stream",
          "name": "stderr",
          "text": [
            "<ipython-input-13-7cea9a5d8bad>:14: FutureWarning: The frame.append method is deprecated and will be removed from pandas in a future version. Use pandas.concat instead.\n",
            "  df_stocks = df_stocks.append(df_temp_stock)  # Append the current DataFrame to the main DataFrame\n"
          ]
        },
        {
          "output_type": "stream",
          "name": "stdout",
          "text": [
            "\r[*********************100%%**********************]  1 of 1 completed\n"
          ]
        },
        {
          "output_type": "stream",
          "name": "stderr",
          "text": [
            "<ipython-input-13-7cea9a5d8bad>:14: FutureWarning: The frame.append method is deprecated and will be removed from pandas in a future version. Use pandas.concat instead.\n",
            "  df_stocks = df_stocks.append(df_temp_stock)  # Append the current DataFrame to the main DataFrame\n"
          ]
        },
        {
          "output_type": "stream",
          "name": "stdout",
          "text": [
            "\r[*********************100%%**********************]  1 of 1 completed\n"
          ]
        },
        {
          "output_type": "stream",
          "name": "stderr",
          "text": [
            "<ipython-input-13-7cea9a5d8bad>:14: FutureWarning: The frame.append method is deprecated and will be removed from pandas in a future version. Use pandas.concat instead.\n",
            "  df_stocks = df_stocks.append(df_temp_stock)  # Append the current DataFrame to the main DataFrame\n"
          ]
        },
        {
          "output_type": "stream",
          "name": "stdout",
          "text": [
            "\r[*********************100%%**********************]  1 of 1 completed\n"
          ]
        },
        {
          "output_type": "stream",
          "name": "stderr",
          "text": [
            "<ipython-input-13-7cea9a5d8bad>:14: FutureWarning: The frame.append method is deprecated and will be removed from pandas in a future version. Use pandas.concat instead.\n",
            "  df_stocks = df_stocks.append(df_temp_stock)  # Append the current DataFrame to the main DataFrame\n"
          ]
        },
        {
          "output_type": "stream",
          "name": "stdout",
          "text": [
            "\r[*********************100%%**********************]  1 of 1 completed\n"
          ]
        },
        {
          "output_type": "stream",
          "name": "stderr",
          "text": [
            "<ipython-input-13-7cea9a5d8bad>:14: FutureWarning: The frame.append method is deprecated and will be removed from pandas in a future version. Use pandas.concat instead.\n",
            "  df_stocks = df_stocks.append(df_temp_stock)  # Append the current DataFrame to the main DataFrame\n"
          ]
        },
        {
          "output_type": "stream",
          "name": "stdout",
          "text": [
            "\r[*********************100%%**********************]  1 of 1 completed\n"
          ]
        },
        {
          "output_type": "stream",
          "name": "stderr",
          "text": [
            "<ipython-input-13-7cea9a5d8bad>:14: FutureWarning: The frame.append method is deprecated and will be removed from pandas in a future version. Use pandas.concat instead.\n",
            "  df_stocks = df_stocks.append(df_temp_stock)  # Append the current DataFrame to the main DataFrame\n"
          ]
        },
        {
          "output_type": "stream",
          "name": "stdout",
          "text": [
            "\r[*********************100%%**********************]  1 of 1 completed\n"
          ]
        },
        {
          "output_type": "stream",
          "name": "stderr",
          "text": [
            "<ipython-input-13-7cea9a5d8bad>:14: FutureWarning: The frame.append method is deprecated and will be removed from pandas in a future version. Use pandas.concat instead.\n",
            "  df_stocks = df_stocks.append(df_temp_stock)  # Append the current DataFrame to the main DataFrame\n"
          ]
        },
        {
          "output_type": "stream",
          "name": "stdout",
          "text": [
            "\r[*********************100%%**********************]  1 of 1 completed\n"
          ]
        },
        {
          "output_type": "stream",
          "name": "stderr",
          "text": [
            "<ipython-input-13-7cea9a5d8bad>:14: FutureWarning: The frame.append method is deprecated and will be removed from pandas in a future version. Use pandas.concat instead.\n",
            "  df_stocks = df_stocks.append(df_temp_stock)  # Append the current DataFrame to the main DataFrame\n"
          ]
        },
        {
          "output_type": "stream",
          "name": "stdout",
          "text": [
            "\r[*********************100%%**********************]  1 of 1 completed\n"
          ]
        },
        {
          "output_type": "stream",
          "name": "stderr",
          "text": [
            "<ipython-input-13-7cea9a5d8bad>:14: FutureWarning: The frame.append method is deprecated and will be removed from pandas in a future version. Use pandas.concat instead.\n",
            "  df_stocks = df_stocks.append(df_temp_stock)  # Append the current DataFrame to the main DataFrame\n"
          ]
        },
        {
          "output_type": "stream",
          "name": "stdout",
          "text": [
            "\r[*********************100%%**********************]  1 of 1 completed\n"
          ]
        },
        {
          "output_type": "stream",
          "name": "stderr",
          "text": [
            "<ipython-input-13-7cea9a5d8bad>:14: FutureWarning: The frame.append method is deprecated and will be removed from pandas in a future version. Use pandas.concat instead.\n",
            "  df_stocks = df_stocks.append(df_temp_stock)  # Append the current DataFrame to the main DataFrame\n"
          ]
        },
        {
          "output_type": "stream",
          "name": "stdout",
          "text": [
            "\r[*********************100%%**********************]  1 of 1 completed\n"
          ]
        },
        {
          "output_type": "stream",
          "name": "stderr",
          "text": [
            "<ipython-input-13-7cea9a5d8bad>:14: FutureWarning: The frame.append method is deprecated and will be removed from pandas in a future version. Use pandas.concat instead.\n",
            "  df_stocks = df_stocks.append(df_temp_stock)  # Append the current DataFrame to the main DataFrame\n"
          ]
        },
        {
          "output_type": "stream",
          "name": "stdout",
          "text": [
            "[*********************100%%**********************]  1 of 1 completed\n",
            "[*********************100%%**********************]  1 of 1 completed\n"
          ]
        },
        {
          "output_type": "stream",
          "name": "stderr",
          "text": [
            "<ipython-input-13-7cea9a5d8bad>:14: FutureWarning: The frame.append method is deprecated and will be removed from pandas in a future version. Use pandas.concat instead.\n",
            "  df_stocks = df_stocks.append(df_temp_stock)  # Append the current DataFrame to the main DataFrame\n",
            "<ipython-input-13-7cea9a5d8bad>:14: FutureWarning: The frame.append method is deprecated and will be removed from pandas in a future version. Use pandas.concat instead.\n",
            "  df_stocks = df_stocks.append(df_temp_stock)  # Append the current DataFrame to the main DataFrame\n"
          ]
        },
        {
          "output_type": "stream",
          "name": "stdout",
          "text": [
            "\r[*********************100%%**********************]  1 of 1 completed\n"
          ]
        },
        {
          "output_type": "stream",
          "name": "stderr",
          "text": [
            "<ipython-input-13-7cea9a5d8bad>:14: FutureWarning: The frame.append method is deprecated and will be removed from pandas in a future version. Use pandas.concat instead.\n",
            "  df_stocks = df_stocks.append(df_temp_stock)  # Append the current DataFrame to the main DataFrame\n"
          ]
        },
        {
          "output_type": "stream",
          "name": "stdout",
          "text": [
            "[*********************100%%**********************]  1 of 1 completed\n",
            "[*********************100%%**********************]  1 of 1 completed\n"
          ]
        },
        {
          "output_type": "stream",
          "name": "stderr",
          "text": [
            "<ipython-input-13-7cea9a5d8bad>:14: FutureWarning: The frame.append method is deprecated and will be removed from pandas in a future version. Use pandas.concat instead.\n",
            "  df_stocks = df_stocks.append(df_temp_stock)  # Append the current DataFrame to the main DataFrame\n",
            "<ipython-input-13-7cea9a5d8bad>:14: FutureWarning: The frame.append method is deprecated and will be removed from pandas in a future version. Use pandas.concat instead.\n",
            "  df_stocks = df_stocks.append(df_temp_stock)  # Append the current DataFrame to the main DataFrame\n"
          ]
        },
        {
          "output_type": "stream",
          "name": "stdout",
          "text": [
            "\r[*********************100%%**********************]  1 of 1 completed\n"
          ]
        },
        {
          "output_type": "stream",
          "name": "stderr",
          "text": [
            "<ipython-input-13-7cea9a5d8bad>:14: FutureWarning: The frame.append method is deprecated and will be removed from pandas in a future version. Use pandas.concat instead.\n",
            "  df_stocks = df_stocks.append(df_temp_stock)  # Append the current DataFrame to the main DataFrame\n"
          ]
        },
        {
          "output_type": "stream",
          "name": "stdout",
          "text": [
            "\r[*********************100%%**********************]  1 of 1 completed\n"
          ]
        },
        {
          "output_type": "stream",
          "name": "stderr",
          "text": [
            "<ipython-input-13-7cea9a5d8bad>:14: FutureWarning: The frame.append method is deprecated and will be removed from pandas in a future version. Use pandas.concat instead.\n",
            "  df_stocks = df_stocks.append(df_temp_stock)  # Append the current DataFrame to the main DataFrame\n"
          ]
        },
        {
          "output_type": "stream",
          "name": "stdout",
          "text": [
            "\r[*********************100%%**********************]  1 of 1 completed\n"
          ]
        },
        {
          "output_type": "stream",
          "name": "stderr",
          "text": [
            "<ipython-input-13-7cea9a5d8bad>:14: FutureWarning: The frame.append method is deprecated and will be removed from pandas in a future version. Use pandas.concat instead.\n",
            "  df_stocks = df_stocks.append(df_temp_stock)  # Append the current DataFrame to the main DataFrame\n"
          ]
        },
        {
          "output_type": "stream",
          "name": "stdout",
          "text": [
            "\r[*********************100%%**********************]  1 of 1 completed\n"
          ]
        },
        {
          "output_type": "stream",
          "name": "stderr",
          "text": [
            "<ipython-input-13-7cea9a5d8bad>:14: FutureWarning: The frame.append method is deprecated and will be removed from pandas in a future version. Use pandas.concat instead.\n",
            "  df_stocks = df_stocks.append(df_temp_stock)  # Append the current DataFrame to the main DataFrame\n"
          ]
        },
        {
          "output_type": "stream",
          "name": "stdout",
          "text": [
            "\r[*********************100%%**********************]  1 of 1 completed\n"
          ]
        },
        {
          "output_type": "stream",
          "name": "stderr",
          "text": [
            "<ipython-input-13-7cea9a5d8bad>:14: FutureWarning: The frame.append method is deprecated and will be removed from pandas in a future version. Use pandas.concat instead.\n",
            "  df_stocks = df_stocks.append(df_temp_stock)  # Append the current DataFrame to the main DataFrame\n"
          ]
        },
        {
          "output_type": "stream",
          "name": "stdout",
          "text": [
            "[*********************100%%**********************]  1 of 1 completed\n",
            "[*********************100%%**********************]  1 of 1 completed\n"
          ]
        },
        {
          "output_type": "stream",
          "name": "stderr",
          "text": [
            "<ipython-input-13-7cea9a5d8bad>:14: FutureWarning: The frame.append method is deprecated and will be removed from pandas in a future version. Use pandas.concat instead.\n",
            "  df_stocks = df_stocks.append(df_temp_stock)  # Append the current DataFrame to the main DataFrame\n",
            "<ipython-input-13-7cea9a5d8bad>:14: FutureWarning: The frame.append method is deprecated and will be removed from pandas in a future version. Use pandas.concat instead.\n",
            "  df_stocks = df_stocks.append(df_temp_stock)  # Append the current DataFrame to the main DataFrame\n"
          ]
        },
        {
          "output_type": "stream",
          "name": "stdout",
          "text": [
            "\r[*********************100%%**********************]  1 of 1 completed\n"
          ]
        },
        {
          "output_type": "stream",
          "name": "stderr",
          "text": [
            "<ipython-input-13-7cea9a5d8bad>:14: FutureWarning: The frame.append method is deprecated and will be removed from pandas in a future version. Use pandas.concat instead.\n",
            "  df_stocks = df_stocks.append(df_temp_stock)  # Append the current DataFrame to the main DataFrame\n"
          ]
        },
        {
          "output_type": "stream",
          "name": "stdout",
          "text": [
            "\r[*********************100%%**********************]  1 of 1 completed\n"
          ]
        },
        {
          "output_type": "stream",
          "name": "stderr",
          "text": [
            "<ipython-input-13-7cea9a5d8bad>:14: FutureWarning: The frame.append method is deprecated and will be removed from pandas in a future version. Use pandas.concat instead.\n",
            "  df_stocks = df_stocks.append(df_temp_stock)  # Append the current DataFrame to the main DataFrame\n"
          ]
        },
        {
          "output_type": "stream",
          "name": "stdout",
          "text": [
            "\r[*********************100%%**********************]  1 of 1 completed\n"
          ]
        },
        {
          "output_type": "stream",
          "name": "stderr",
          "text": [
            "<ipython-input-13-7cea9a5d8bad>:14: FutureWarning: The frame.append method is deprecated and will be removed from pandas in a future version. Use pandas.concat instead.\n",
            "  df_stocks = df_stocks.append(df_temp_stock)  # Append the current DataFrame to the main DataFrame\n"
          ]
        },
        {
          "output_type": "stream",
          "name": "stdout",
          "text": [
            "\r[*********************100%%**********************]  1 of 1 completed\n"
          ]
        },
        {
          "output_type": "stream",
          "name": "stderr",
          "text": [
            "<ipython-input-13-7cea9a5d8bad>:14: FutureWarning: The frame.append method is deprecated and will be removed from pandas in a future version. Use pandas.concat instead.\n",
            "  df_stocks = df_stocks.append(df_temp_stock)  # Append the current DataFrame to the main DataFrame\n"
          ]
        },
        {
          "output_type": "stream",
          "name": "stdout",
          "text": [
            "\r[*********************100%%**********************]  1 of 1 completed\n"
          ]
        },
        {
          "output_type": "stream",
          "name": "stderr",
          "text": [
            "<ipython-input-13-7cea9a5d8bad>:14: FutureWarning: The frame.append method is deprecated and will be removed from pandas in a future version. Use pandas.concat instead.\n",
            "  df_stocks = df_stocks.append(df_temp_stock)  # Append the current DataFrame to the main DataFrame\n"
          ]
        },
        {
          "output_type": "stream",
          "name": "stdout",
          "text": [
            "\r[*********************100%%**********************]  1 of 1 completed\n"
          ]
        },
        {
          "output_type": "stream",
          "name": "stderr",
          "text": [
            "<ipython-input-13-7cea9a5d8bad>:14: FutureWarning: The frame.append method is deprecated and will be removed from pandas in a future version. Use pandas.concat instead.\n",
            "  df_stocks = df_stocks.append(df_temp_stock)  # Append the current DataFrame to the main DataFrame\n"
          ]
        },
        {
          "output_type": "stream",
          "name": "stdout",
          "text": [
            "\r[*********************100%%**********************]  1 of 1 completed\n"
          ]
        },
        {
          "output_type": "stream",
          "name": "stderr",
          "text": [
            "<ipython-input-13-7cea9a5d8bad>:14: FutureWarning: The frame.append method is deprecated and will be removed from pandas in a future version. Use pandas.concat instead.\n",
            "  df_stocks = df_stocks.append(df_temp_stock)  # Append the current DataFrame to the main DataFrame\n"
          ]
        },
        {
          "output_type": "stream",
          "name": "stdout",
          "text": [
            "\r[*********************100%%**********************]  1 of 1 completed\n"
          ]
        },
        {
          "output_type": "stream",
          "name": "stderr",
          "text": [
            "<ipython-input-13-7cea9a5d8bad>:14: FutureWarning: The frame.append method is deprecated and will be removed from pandas in a future version. Use pandas.concat instead.\n",
            "  df_stocks = df_stocks.append(df_temp_stock)  # Append the current DataFrame to the main DataFrame\n"
          ]
        },
        {
          "output_type": "stream",
          "name": "stdout",
          "text": [
            "\r[*********************100%%**********************]  1 of 1 completed\n"
          ]
        },
        {
          "output_type": "stream",
          "name": "stderr",
          "text": [
            "<ipython-input-13-7cea9a5d8bad>:14: FutureWarning: The frame.append method is deprecated and will be removed from pandas in a future version. Use pandas.concat instead.\n",
            "  df_stocks = df_stocks.append(df_temp_stock)  # Append the current DataFrame to the main DataFrame\n"
          ]
        },
        {
          "output_type": "stream",
          "name": "stdout",
          "text": [
            "\r[*********************100%%**********************]  1 of 1 completed\n"
          ]
        },
        {
          "output_type": "stream",
          "name": "stderr",
          "text": [
            "<ipython-input-13-7cea9a5d8bad>:14: FutureWarning: The frame.append method is deprecated and will be removed from pandas in a future version. Use pandas.concat instead.\n",
            "  df_stocks = df_stocks.append(df_temp_stock)  # Append the current DataFrame to the main DataFrame\n"
          ]
        },
        {
          "output_type": "stream",
          "name": "stdout",
          "text": [
            "\r[*********************100%%**********************]  1 of 1 completed\n"
          ]
        },
        {
          "output_type": "stream",
          "name": "stderr",
          "text": [
            "<ipython-input-13-7cea9a5d8bad>:14: FutureWarning: The frame.append method is deprecated and will be removed from pandas in a future version. Use pandas.concat instead.\n",
            "  df_stocks = df_stocks.append(df_temp_stock)  # Append the current DataFrame to the main DataFrame\n"
          ]
        },
        {
          "output_type": "stream",
          "name": "stdout",
          "text": [
            "\r[*********************100%%**********************]  1 of 1 completed\n"
          ]
        },
        {
          "output_type": "stream",
          "name": "stderr",
          "text": [
            "<ipython-input-13-7cea9a5d8bad>:14: FutureWarning: The frame.append method is deprecated and will be removed from pandas in a future version. Use pandas.concat instead.\n",
            "  df_stocks = df_stocks.append(df_temp_stock)  # Append the current DataFrame to the main DataFrame\n"
          ]
        },
        {
          "output_type": "stream",
          "name": "stdout",
          "text": [
            "\r[*********************100%%**********************]  1 of 1 completed\n"
          ]
        },
        {
          "output_type": "stream",
          "name": "stderr",
          "text": [
            "<ipython-input-13-7cea9a5d8bad>:14: FutureWarning: The frame.append method is deprecated and will be removed from pandas in a future version. Use pandas.concat instead.\n",
            "  df_stocks = df_stocks.append(df_temp_stock)  # Append the current DataFrame to the main DataFrame\n"
          ]
        },
        {
          "output_type": "stream",
          "name": "stdout",
          "text": [
            "\r[*********************100%%**********************]  1 of 1 completed\n"
          ]
        },
        {
          "output_type": "stream",
          "name": "stderr",
          "text": [
            "<ipython-input-13-7cea9a5d8bad>:14: FutureWarning: The frame.append method is deprecated and will be removed from pandas in a future version. Use pandas.concat instead.\n",
            "  df_stocks = df_stocks.append(df_temp_stock)  # Append the current DataFrame to the main DataFrame\n"
          ]
        },
        {
          "output_type": "stream",
          "name": "stdout",
          "text": [
            "\r[*********************100%%**********************]  1 of 1 completed\n"
          ]
        },
        {
          "output_type": "stream",
          "name": "stderr",
          "text": [
            "<ipython-input-13-7cea9a5d8bad>:14: FutureWarning: The frame.append method is deprecated and will be removed from pandas in a future version. Use pandas.concat instead.\n",
            "  df_stocks = df_stocks.append(df_temp_stock)  # Append the current DataFrame to the main DataFrame\n"
          ]
        },
        {
          "output_type": "stream",
          "name": "stdout",
          "text": [
            "\r[*********************100%%**********************]  1 of 1 completed\n"
          ]
        },
        {
          "output_type": "stream",
          "name": "stderr",
          "text": [
            "<ipython-input-13-7cea9a5d8bad>:14: FutureWarning: The frame.append method is deprecated and will be removed from pandas in a future version. Use pandas.concat instead.\n",
            "  df_stocks = df_stocks.append(df_temp_stock)  # Append the current DataFrame to the main DataFrame\n"
          ]
        },
        {
          "output_type": "stream",
          "name": "stdout",
          "text": [
            "\r[*********************100%%**********************]  1 of 1 completed\n"
          ]
        },
        {
          "output_type": "stream",
          "name": "stderr",
          "text": [
            "<ipython-input-13-7cea9a5d8bad>:14: FutureWarning: The frame.append method is deprecated and will be removed from pandas in a future version. Use pandas.concat instead.\n",
            "  df_stocks = df_stocks.append(df_temp_stock)  # Append the current DataFrame to the main DataFrame\n"
          ]
        },
        {
          "output_type": "stream",
          "name": "stdout",
          "text": [
            "\r[*********************100%%**********************]  1 of 1 completed\n"
          ]
        },
        {
          "output_type": "stream",
          "name": "stderr",
          "text": [
            "<ipython-input-13-7cea9a5d8bad>:14: FutureWarning: The frame.append method is deprecated and will be removed from pandas in a future version. Use pandas.concat instead.\n",
            "  df_stocks = df_stocks.append(df_temp_stock)  # Append the current DataFrame to the main DataFrame\n"
          ]
        },
        {
          "output_type": "stream",
          "name": "stdout",
          "text": [
            "\r[*********************100%%**********************]  1 of 1 completed\n"
          ]
        },
        {
          "output_type": "stream",
          "name": "stderr",
          "text": [
            "<ipython-input-13-7cea9a5d8bad>:14: FutureWarning: The frame.append method is deprecated and will be removed from pandas in a future version. Use pandas.concat instead.\n",
            "  df_stocks = df_stocks.append(df_temp_stock)  # Append the current DataFrame to the main DataFrame\n"
          ]
        },
        {
          "output_type": "stream",
          "name": "stdout",
          "text": [
            "\r[*********************100%%**********************]  1 of 1 completed\n"
          ]
        },
        {
          "output_type": "stream",
          "name": "stderr",
          "text": [
            "<ipython-input-13-7cea9a5d8bad>:14: FutureWarning: The frame.append method is deprecated and will be removed from pandas in a future version. Use pandas.concat instead.\n",
            "  df_stocks = df_stocks.append(df_temp_stock)  # Append the current DataFrame to the main DataFrame\n"
          ]
        },
        {
          "output_type": "stream",
          "name": "stdout",
          "text": [
            "\r[*********************100%%**********************]  1 of 1 completed\n"
          ]
        },
        {
          "output_type": "stream",
          "name": "stderr",
          "text": [
            "<ipython-input-13-7cea9a5d8bad>:14: FutureWarning: The frame.append method is deprecated and will be removed from pandas in a future version. Use pandas.concat instead.\n",
            "  df_stocks = df_stocks.append(df_temp_stock)  # Append the current DataFrame to the main DataFrame\n"
          ]
        },
        {
          "output_type": "stream",
          "name": "stdout",
          "text": [
            "\r[*********************100%%**********************]  1 of 1 completed\n"
          ]
        },
        {
          "output_type": "stream",
          "name": "stderr",
          "text": [
            "<ipython-input-13-7cea9a5d8bad>:14: FutureWarning: The frame.append method is deprecated and will be removed from pandas in a future version. Use pandas.concat instead.\n",
            "  df_stocks = df_stocks.append(df_temp_stock)  # Append the current DataFrame to the main DataFrame\n"
          ]
        },
        {
          "output_type": "stream",
          "name": "stdout",
          "text": [
            "\r[*********************100%%**********************]  1 of 1 completed\n"
          ]
        },
        {
          "output_type": "stream",
          "name": "stderr",
          "text": [
            "<ipython-input-13-7cea9a5d8bad>:14: FutureWarning: The frame.append method is deprecated and will be removed from pandas in a future version. Use pandas.concat instead.\n",
            "  df_stocks = df_stocks.append(df_temp_stock)  # Append the current DataFrame to the main DataFrame\n"
          ]
        },
        {
          "output_type": "stream",
          "name": "stdout",
          "text": [
            "\r[*********************100%%**********************]  1 of 1 completed\n"
          ]
        },
        {
          "output_type": "stream",
          "name": "stderr",
          "text": [
            "<ipython-input-13-7cea9a5d8bad>:14: FutureWarning: The frame.append method is deprecated and will be removed from pandas in a future version. Use pandas.concat instead.\n",
            "  df_stocks = df_stocks.append(df_temp_stock)  # Append the current DataFrame to the main DataFrame\n"
          ]
        },
        {
          "output_type": "stream",
          "name": "stdout",
          "text": [
            "\r[*********************100%%**********************]  1 of 1 completed\n"
          ]
        },
        {
          "output_type": "stream",
          "name": "stderr",
          "text": [
            "<ipython-input-13-7cea9a5d8bad>:14: FutureWarning: The frame.append method is deprecated and will be removed from pandas in a future version. Use pandas.concat instead.\n",
            "  df_stocks = df_stocks.append(df_temp_stock)  # Append the current DataFrame to the main DataFrame\n"
          ]
        },
        {
          "output_type": "stream",
          "name": "stdout",
          "text": [
            "\r[*********************100%%**********************]  1 of 1 completed\n"
          ]
        },
        {
          "output_type": "stream",
          "name": "stderr",
          "text": [
            "<ipython-input-13-7cea9a5d8bad>:14: FutureWarning: The frame.append method is deprecated and will be removed from pandas in a future version. Use pandas.concat instead.\n",
            "  df_stocks = df_stocks.append(df_temp_stock)  # Append the current DataFrame to the main DataFrame\n"
          ]
        },
        {
          "output_type": "stream",
          "name": "stdout",
          "text": [
            "\r[*********************100%%**********************]  1 of 1 completed\n"
          ]
        },
        {
          "output_type": "stream",
          "name": "stderr",
          "text": [
            "<ipython-input-13-7cea9a5d8bad>:14: FutureWarning: The frame.append method is deprecated and will be removed from pandas in a future version. Use pandas.concat instead.\n",
            "  df_stocks = df_stocks.append(df_temp_stock)  # Append the current DataFrame to the main DataFrame\n"
          ]
        },
        {
          "output_type": "stream",
          "name": "stdout",
          "text": [
            "\r[*********************100%%**********************]  1 of 1 completed\n"
          ]
        },
        {
          "output_type": "stream",
          "name": "stderr",
          "text": [
            "<ipython-input-13-7cea9a5d8bad>:14: FutureWarning: The frame.append method is deprecated and will be removed from pandas in a future version. Use pandas.concat instead.\n",
            "  df_stocks = df_stocks.append(df_temp_stock)  # Append the current DataFrame to the main DataFrame\n"
          ]
        },
        {
          "output_type": "stream",
          "name": "stdout",
          "text": [
            "\r[*********************100%%**********************]  1 of 1 completed\n"
          ]
        },
        {
          "output_type": "stream",
          "name": "stderr",
          "text": [
            "<ipython-input-13-7cea9a5d8bad>:14: FutureWarning: The frame.append method is deprecated and will be removed from pandas in a future version. Use pandas.concat instead.\n",
            "  df_stocks = df_stocks.append(df_temp_stock)  # Append the current DataFrame to the main DataFrame\n"
          ]
        },
        {
          "output_type": "stream",
          "name": "stdout",
          "text": [
            "\r[*********************100%%**********************]  1 of 1 completed\n"
          ]
        },
        {
          "output_type": "stream",
          "name": "stderr",
          "text": [
            "<ipython-input-13-7cea9a5d8bad>:14: FutureWarning: The frame.append method is deprecated and will be removed from pandas in a future version. Use pandas.concat instead.\n",
            "  df_stocks = df_stocks.append(df_temp_stock)  # Append the current DataFrame to the main DataFrame\n"
          ]
        },
        {
          "output_type": "stream",
          "name": "stdout",
          "text": [
            "\r[*********************100%%**********************]  1 of 1 completed\n"
          ]
        },
        {
          "output_type": "stream",
          "name": "stderr",
          "text": [
            "<ipython-input-13-7cea9a5d8bad>:14: FutureWarning: The frame.append method is deprecated and will be removed from pandas in a future version. Use pandas.concat instead.\n",
            "  df_stocks = df_stocks.append(df_temp_stock)  # Append the current DataFrame to the main DataFrame\n"
          ]
        },
        {
          "output_type": "stream",
          "name": "stdout",
          "text": [
            "\r[*********************100%%**********************]  1 of 1 completed\n"
          ]
        },
        {
          "output_type": "stream",
          "name": "stderr",
          "text": [
            "<ipython-input-13-7cea9a5d8bad>:14: FutureWarning: The frame.append method is deprecated and will be removed from pandas in a future version. Use pandas.concat instead.\n",
            "  df_stocks = df_stocks.append(df_temp_stock)  # Append the current DataFrame to the main DataFrame\n"
          ]
        },
        {
          "output_type": "stream",
          "name": "stdout",
          "text": [
            "[*********************100%%**********************]  1 of 1 completed\n",
            "[*********************100%%**********************]  1 of 1 completed\n"
          ]
        },
        {
          "output_type": "stream",
          "name": "stderr",
          "text": [
            "<ipython-input-13-7cea9a5d8bad>:14: FutureWarning: The frame.append method is deprecated and will be removed from pandas in a future version. Use pandas.concat instead.\n",
            "  df_stocks = df_stocks.append(df_temp_stock)  # Append the current DataFrame to the main DataFrame\n",
            "<ipython-input-13-7cea9a5d8bad>:14: FutureWarning: The frame.append method is deprecated and will be removed from pandas in a future version. Use pandas.concat instead.\n",
            "  df_stocks = df_stocks.append(df_temp_stock)  # Append the current DataFrame to the main DataFrame\n"
          ]
        },
        {
          "output_type": "stream",
          "name": "stdout",
          "text": [
            "\r[*********************100%%**********************]  1 of 1 completed\n"
          ]
        },
        {
          "output_type": "stream",
          "name": "stderr",
          "text": [
            "<ipython-input-13-7cea9a5d8bad>:14: FutureWarning: The frame.append method is deprecated and will be removed from pandas in a future version. Use pandas.concat instead.\n",
            "  df_stocks = df_stocks.append(df_temp_stock)  # Append the current DataFrame to the main DataFrame\n"
          ]
        },
        {
          "output_type": "stream",
          "name": "stdout",
          "text": [
            "\r[*********************100%%**********************]  1 of 1 completed\n"
          ]
        },
        {
          "output_type": "stream",
          "name": "stderr",
          "text": [
            "<ipython-input-13-7cea9a5d8bad>:14: FutureWarning: The frame.append method is deprecated and will be removed from pandas in a future version. Use pandas.concat instead.\n",
            "  df_stocks = df_stocks.append(df_temp_stock)  # Append the current DataFrame to the main DataFrame\n"
          ]
        },
        {
          "output_type": "stream",
          "name": "stdout",
          "text": [
            "\r[*********************100%%**********************]  1 of 1 completed\n"
          ]
        },
        {
          "output_type": "stream",
          "name": "stderr",
          "text": [
            "<ipython-input-13-7cea9a5d8bad>:14: FutureWarning: The frame.append method is deprecated and will be removed from pandas in a future version. Use pandas.concat instead.\n",
            "  df_stocks = df_stocks.append(df_temp_stock)  # Append the current DataFrame to the main DataFrame\n"
          ]
        },
        {
          "output_type": "stream",
          "name": "stdout",
          "text": [
            "\r[*********************100%%**********************]  1 of 1 completed\n"
          ]
        },
        {
          "output_type": "stream",
          "name": "stderr",
          "text": [
            "<ipython-input-13-7cea9a5d8bad>:14: FutureWarning: The frame.append method is deprecated and will be removed from pandas in a future version. Use pandas.concat instead.\n",
            "  df_stocks = df_stocks.append(df_temp_stock)  # Append the current DataFrame to the main DataFrame\n"
          ]
        },
        {
          "output_type": "stream",
          "name": "stdout",
          "text": [
            "\r[*********************100%%**********************]  1 of 1 completed\n"
          ]
        },
        {
          "output_type": "stream",
          "name": "stderr",
          "text": [
            "<ipython-input-13-7cea9a5d8bad>:14: FutureWarning: The frame.append method is deprecated and will be removed from pandas in a future version. Use pandas.concat instead.\n",
            "  df_stocks = df_stocks.append(df_temp_stock)  # Append the current DataFrame to the main DataFrame\n"
          ]
        },
        {
          "output_type": "stream",
          "name": "stdout",
          "text": [
            "\r[*********************100%%**********************]  1 of 1 completed\n"
          ]
        },
        {
          "output_type": "stream",
          "name": "stderr",
          "text": [
            "<ipython-input-13-7cea9a5d8bad>:14: FutureWarning: The frame.append method is deprecated and will be removed from pandas in a future version. Use pandas.concat instead.\n",
            "  df_stocks = df_stocks.append(df_temp_stock)  # Append the current DataFrame to the main DataFrame\n"
          ]
        },
        {
          "output_type": "stream",
          "name": "stdout",
          "text": [
            "\r[*********************100%%**********************]  1 of 1 completed\n"
          ]
        },
        {
          "output_type": "stream",
          "name": "stderr",
          "text": [
            "<ipython-input-13-7cea9a5d8bad>:14: FutureWarning: The frame.append method is deprecated and will be removed from pandas in a future version. Use pandas.concat instead.\n",
            "  df_stocks = df_stocks.append(df_temp_stock)  # Append the current DataFrame to the main DataFrame\n"
          ]
        },
        {
          "output_type": "stream",
          "name": "stdout",
          "text": [
            "\r[*********************100%%**********************]  1 of 1 completed\n"
          ]
        },
        {
          "output_type": "stream",
          "name": "stderr",
          "text": [
            "<ipython-input-13-7cea9a5d8bad>:14: FutureWarning: The frame.append method is deprecated and will be removed from pandas in a future version. Use pandas.concat instead.\n",
            "  df_stocks = df_stocks.append(df_temp_stock)  # Append the current DataFrame to the main DataFrame\n"
          ]
        },
        {
          "output_type": "stream",
          "name": "stdout",
          "text": [
            "\r[*********************100%%**********************]  1 of 1 completed\n"
          ]
        },
        {
          "output_type": "stream",
          "name": "stderr",
          "text": [
            "<ipython-input-13-7cea9a5d8bad>:14: FutureWarning: The frame.append method is deprecated and will be removed from pandas in a future version. Use pandas.concat instead.\n",
            "  df_stocks = df_stocks.append(df_temp_stock)  # Append the current DataFrame to the main DataFrame\n"
          ]
        },
        {
          "output_type": "stream",
          "name": "stdout",
          "text": [
            "\r[*********************100%%**********************]  1 of 1 completed\n"
          ]
        },
        {
          "output_type": "stream",
          "name": "stderr",
          "text": [
            "<ipython-input-13-7cea9a5d8bad>:14: FutureWarning: The frame.append method is deprecated and will be removed from pandas in a future version. Use pandas.concat instead.\n",
            "  df_stocks = df_stocks.append(df_temp_stock)  # Append the current DataFrame to the main DataFrame\n"
          ]
        },
        {
          "output_type": "stream",
          "name": "stdout",
          "text": [
            "[*********************100%%**********************]  1 of 1 completed\n",
            "[*********************100%%**********************]  1 of 1 completed\n"
          ]
        },
        {
          "output_type": "stream",
          "name": "stderr",
          "text": [
            "<ipython-input-13-7cea9a5d8bad>:14: FutureWarning: The frame.append method is deprecated and will be removed from pandas in a future version. Use pandas.concat instead.\n",
            "  df_stocks = df_stocks.append(df_temp_stock)  # Append the current DataFrame to the main DataFrame\n",
            "<ipython-input-13-7cea9a5d8bad>:14: FutureWarning: The frame.append method is deprecated and will be removed from pandas in a future version. Use pandas.concat instead.\n",
            "  df_stocks = df_stocks.append(df_temp_stock)  # Append the current DataFrame to the main DataFrame\n"
          ]
        },
        {
          "output_type": "stream",
          "name": "stdout",
          "text": [
            "\r[*********************100%%**********************]  1 of 1 completed\n"
          ]
        },
        {
          "output_type": "stream",
          "name": "stderr",
          "text": [
            "<ipython-input-13-7cea9a5d8bad>:14: FutureWarning: The frame.append method is deprecated and will be removed from pandas in a future version. Use pandas.concat instead.\n",
            "  df_stocks = df_stocks.append(df_temp_stock)  # Append the current DataFrame to the main DataFrame\n"
          ]
        },
        {
          "output_type": "stream",
          "name": "stdout",
          "text": [
            "\r[*********************100%%**********************]  1 of 1 completed\n"
          ]
        },
        {
          "output_type": "stream",
          "name": "stderr",
          "text": [
            "<ipython-input-13-7cea9a5d8bad>:14: FutureWarning: The frame.append method is deprecated and will be removed from pandas in a future version. Use pandas.concat instead.\n",
            "  df_stocks = df_stocks.append(df_temp_stock)  # Append the current DataFrame to the main DataFrame\n"
          ]
        },
        {
          "output_type": "stream",
          "name": "stdout",
          "text": [
            "\r[*********************100%%**********************]  1 of 1 completed\n"
          ]
        },
        {
          "output_type": "stream",
          "name": "stderr",
          "text": [
            "<ipython-input-13-7cea9a5d8bad>:14: FutureWarning: The frame.append method is deprecated and will be removed from pandas in a future version. Use pandas.concat instead.\n",
            "  df_stocks = df_stocks.append(df_temp_stock)  # Append the current DataFrame to the main DataFrame\n"
          ]
        },
        {
          "output_type": "stream",
          "name": "stdout",
          "text": [
            "\r[*********************100%%**********************]  1 of 1 completed\n"
          ]
        },
        {
          "output_type": "stream",
          "name": "stderr",
          "text": [
            "<ipython-input-13-7cea9a5d8bad>:14: FutureWarning: The frame.append method is deprecated and will be removed from pandas in a future version. Use pandas.concat instead.\n",
            "  df_stocks = df_stocks.append(df_temp_stock)  # Append the current DataFrame to the main DataFrame\n"
          ]
        },
        {
          "output_type": "stream",
          "name": "stdout",
          "text": [
            "\r[*********************100%%**********************]  1 of 1 completed\n"
          ]
        },
        {
          "output_type": "stream",
          "name": "stderr",
          "text": [
            "<ipython-input-13-7cea9a5d8bad>:14: FutureWarning: The frame.append method is deprecated and will be removed from pandas in a future version. Use pandas.concat instead.\n",
            "  df_stocks = df_stocks.append(df_temp_stock)  # Append the current DataFrame to the main DataFrame\n"
          ]
        },
        {
          "output_type": "stream",
          "name": "stdout",
          "text": [
            "\r[*********************100%%**********************]  1 of 1 completed\n"
          ]
        },
        {
          "output_type": "stream",
          "name": "stderr",
          "text": [
            "<ipython-input-13-7cea9a5d8bad>:14: FutureWarning: The frame.append method is deprecated and will be removed from pandas in a future version. Use pandas.concat instead.\n",
            "  df_stocks = df_stocks.append(df_temp_stock)  # Append the current DataFrame to the main DataFrame\n"
          ]
        },
        {
          "output_type": "stream",
          "name": "stdout",
          "text": [
            "\r[*********************100%%**********************]  1 of 1 completed\n"
          ]
        },
        {
          "output_type": "stream",
          "name": "stderr",
          "text": [
            "<ipython-input-13-7cea9a5d8bad>:14: FutureWarning: The frame.append method is deprecated and will be removed from pandas in a future version. Use pandas.concat instead.\n",
            "  df_stocks = df_stocks.append(df_temp_stock)  # Append the current DataFrame to the main DataFrame\n"
          ]
        },
        {
          "output_type": "stream",
          "name": "stdout",
          "text": [
            "\r[*********************100%%**********************]  1 of 1 completed\n"
          ]
        },
        {
          "output_type": "stream",
          "name": "stderr",
          "text": [
            "<ipython-input-13-7cea9a5d8bad>:14: FutureWarning: The frame.append method is deprecated and will be removed from pandas in a future version. Use pandas.concat instead.\n",
            "  df_stocks = df_stocks.append(df_temp_stock)  # Append the current DataFrame to the main DataFrame\n"
          ]
        },
        {
          "output_type": "stream",
          "name": "stdout",
          "text": [
            "\r[*********************100%%**********************]  1 of 1 completed\n"
          ]
        },
        {
          "output_type": "stream",
          "name": "stderr",
          "text": [
            "<ipython-input-13-7cea9a5d8bad>:14: FutureWarning: The frame.append method is deprecated and will be removed from pandas in a future version. Use pandas.concat instead.\n",
            "  df_stocks = df_stocks.append(df_temp_stock)  # Append the current DataFrame to the main DataFrame\n"
          ]
        },
        {
          "output_type": "stream",
          "name": "stdout",
          "text": [
            "\r[*********************100%%**********************]  1 of 1 completed\n"
          ]
        },
        {
          "output_type": "stream",
          "name": "stderr",
          "text": [
            "<ipython-input-13-7cea9a5d8bad>:14: FutureWarning: The frame.append method is deprecated and will be removed from pandas in a future version. Use pandas.concat instead.\n",
            "  df_stocks = df_stocks.append(df_temp_stock)  # Append the current DataFrame to the main DataFrame\n"
          ]
        },
        {
          "output_type": "stream",
          "name": "stdout",
          "text": [
            "\r[*********************100%%**********************]  1 of 1 completed\n"
          ]
        },
        {
          "output_type": "stream",
          "name": "stderr",
          "text": [
            "<ipython-input-13-7cea9a5d8bad>:14: FutureWarning: The frame.append method is deprecated and will be removed from pandas in a future version. Use pandas.concat instead.\n",
            "  df_stocks = df_stocks.append(df_temp_stock)  # Append the current DataFrame to the main DataFrame\n"
          ]
        },
        {
          "output_type": "stream",
          "name": "stdout",
          "text": [
            "\r[*********************100%%**********************]  1 of 1 completed\n"
          ]
        },
        {
          "output_type": "stream",
          "name": "stderr",
          "text": [
            "<ipython-input-13-7cea9a5d8bad>:14: FutureWarning: The frame.append method is deprecated and will be removed from pandas in a future version. Use pandas.concat instead.\n",
            "  df_stocks = df_stocks.append(df_temp_stock)  # Append the current DataFrame to the main DataFrame\n"
          ]
        },
        {
          "output_type": "stream",
          "name": "stdout",
          "text": [
            "\r[*********************100%%**********************]  1 of 1 completed\n"
          ]
        },
        {
          "output_type": "stream",
          "name": "stderr",
          "text": [
            "<ipython-input-13-7cea9a5d8bad>:14: FutureWarning: The frame.append method is deprecated and will be removed from pandas in a future version. Use pandas.concat instead.\n",
            "  df_stocks = df_stocks.append(df_temp_stock)  # Append the current DataFrame to the main DataFrame\n"
          ]
        },
        {
          "output_type": "stream",
          "name": "stdout",
          "text": [
            "\r[*********************100%%**********************]  1 of 1 completed\n"
          ]
        },
        {
          "output_type": "stream",
          "name": "stderr",
          "text": [
            "<ipython-input-13-7cea9a5d8bad>:14: FutureWarning: The frame.append method is deprecated and will be removed from pandas in a future version. Use pandas.concat instead.\n",
            "  df_stocks = df_stocks.append(df_temp_stock)  # Append the current DataFrame to the main DataFrame\n"
          ]
        },
        {
          "output_type": "stream",
          "name": "stdout",
          "text": [
            "[*********************100%%**********************]  1 of 1 completed\n",
            "[*********************100%%**********************]  1 of 1 completed\n"
          ]
        },
        {
          "output_type": "stream",
          "name": "stderr",
          "text": [
            "<ipython-input-13-7cea9a5d8bad>:14: FutureWarning: The frame.append method is deprecated and will be removed from pandas in a future version. Use pandas.concat instead.\n",
            "  df_stocks = df_stocks.append(df_temp_stock)  # Append the current DataFrame to the main DataFrame\n",
            "<ipython-input-13-7cea9a5d8bad>:14: FutureWarning: The frame.append method is deprecated and will be removed from pandas in a future version. Use pandas.concat instead.\n",
            "  df_stocks = df_stocks.append(df_temp_stock)  # Append the current DataFrame to the main DataFrame\n"
          ]
        },
        {
          "output_type": "stream",
          "name": "stdout",
          "text": [
            "\r[*********************100%%**********************]  1 of 1 completed\n"
          ]
        },
        {
          "output_type": "stream",
          "name": "stderr",
          "text": [
            "<ipython-input-13-7cea9a5d8bad>:14: FutureWarning: The frame.append method is deprecated and will be removed from pandas in a future version. Use pandas.concat instead.\n",
            "  df_stocks = df_stocks.append(df_temp_stock)  # Append the current DataFrame to the main DataFrame\n"
          ]
        },
        {
          "output_type": "stream",
          "name": "stdout",
          "text": [
            "\r[*********************100%%**********************]  1 of 1 completed\n"
          ]
        },
        {
          "output_type": "stream",
          "name": "stderr",
          "text": [
            "<ipython-input-13-7cea9a5d8bad>:14: FutureWarning: The frame.append method is deprecated and will be removed from pandas in a future version. Use pandas.concat instead.\n",
            "  df_stocks = df_stocks.append(df_temp_stock)  # Append the current DataFrame to the main DataFrame\n"
          ]
        },
        {
          "output_type": "stream",
          "name": "stdout",
          "text": [
            "[*********************100%%**********************]  1 of 1 completed\n",
            "[*********************100%%**********************]  1 of 1 completed\n"
          ]
        },
        {
          "output_type": "stream",
          "name": "stderr",
          "text": [
            "<ipython-input-13-7cea9a5d8bad>:14: FutureWarning: The frame.append method is deprecated and will be removed from pandas in a future version. Use pandas.concat instead.\n",
            "  df_stocks = df_stocks.append(df_temp_stock)  # Append the current DataFrame to the main DataFrame\n",
            "<ipython-input-13-7cea9a5d8bad>:14: FutureWarning: The frame.append method is deprecated and will be removed from pandas in a future version. Use pandas.concat instead.\n",
            "  df_stocks = df_stocks.append(df_temp_stock)  # Append the current DataFrame to the main DataFrame\n"
          ]
        },
        {
          "output_type": "stream",
          "name": "stdout",
          "text": [
            "\r[*********************100%%**********************]  1 of 1 completed\n"
          ]
        },
        {
          "output_type": "stream",
          "name": "stderr",
          "text": [
            "<ipython-input-13-7cea9a5d8bad>:14: FutureWarning: The frame.append method is deprecated and will be removed from pandas in a future version. Use pandas.concat instead.\n",
            "  df_stocks = df_stocks.append(df_temp_stock)  # Append the current DataFrame to the main DataFrame\n"
          ]
        },
        {
          "output_type": "stream",
          "name": "stdout",
          "text": [
            "\r[*********************100%%**********************]  1 of 1 completed\n"
          ]
        },
        {
          "output_type": "stream",
          "name": "stderr",
          "text": [
            "<ipython-input-13-7cea9a5d8bad>:14: FutureWarning: The frame.append method is deprecated and will be removed from pandas in a future version. Use pandas.concat instead.\n",
            "  df_stocks = df_stocks.append(df_temp_stock)  # Append the current DataFrame to the main DataFrame\n"
          ]
        },
        {
          "output_type": "stream",
          "name": "stdout",
          "text": [
            "\r[*********************100%%**********************]  1 of 1 completed\n"
          ]
        },
        {
          "output_type": "stream",
          "name": "stderr",
          "text": [
            "<ipython-input-13-7cea9a5d8bad>:14: FutureWarning: The frame.append method is deprecated and will be removed from pandas in a future version. Use pandas.concat instead.\n",
            "  df_stocks = df_stocks.append(df_temp_stock)  # Append the current DataFrame to the main DataFrame\n"
          ]
        },
        {
          "output_type": "stream",
          "name": "stdout",
          "text": [
            "\r[*********************100%%**********************]  1 of 1 completed\n"
          ]
        },
        {
          "output_type": "stream",
          "name": "stderr",
          "text": [
            "<ipython-input-13-7cea9a5d8bad>:14: FutureWarning: The frame.append method is deprecated and will be removed from pandas in a future version. Use pandas.concat instead.\n",
            "  df_stocks = df_stocks.append(df_temp_stock)  # Append the current DataFrame to the main DataFrame\n"
          ]
        },
        {
          "output_type": "stream",
          "name": "stdout",
          "text": [
            "\r[*********************100%%**********************]  1 of 1 completed\n"
          ]
        },
        {
          "output_type": "stream",
          "name": "stderr",
          "text": [
            "<ipython-input-13-7cea9a5d8bad>:14: FutureWarning: The frame.append method is deprecated and will be removed from pandas in a future version. Use pandas.concat instead.\n",
            "  df_stocks = df_stocks.append(df_temp_stock)  # Append the current DataFrame to the main DataFrame\n"
          ]
        },
        {
          "output_type": "stream",
          "name": "stdout",
          "text": [
            "\r[*********************100%%**********************]  1 of 1 completed\n"
          ]
        },
        {
          "output_type": "stream",
          "name": "stderr",
          "text": [
            "<ipython-input-13-7cea9a5d8bad>:14: FutureWarning: The frame.append method is deprecated and will be removed from pandas in a future version. Use pandas.concat instead.\n",
            "  df_stocks = df_stocks.append(df_temp_stock)  # Append the current DataFrame to the main DataFrame\n"
          ]
        },
        {
          "output_type": "stream",
          "name": "stdout",
          "text": [
            "\r[*********************100%%**********************]  1 of 1 completed\n"
          ]
        },
        {
          "output_type": "stream",
          "name": "stderr",
          "text": [
            "<ipython-input-13-7cea9a5d8bad>:14: FutureWarning: The frame.append method is deprecated and will be removed from pandas in a future version. Use pandas.concat instead.\n",
            "  df_stocks = df_stocks.append(df_temp_stock)  # Append the current DataFrame to the main DataFrame\n"
          ]
        },
        {
          "output_type": "stream",
          "name": "stdout",
          "text": [
            "\r[*********************100%%**********************]  1 of 1 completed\n"
          ]
        },
        {
          "output_type": "stream",
          "name": "stderr",
          "text": [
            "<ipython-input-13-7cea9a5d8bad>:14: FutureWarning: The frame.append method is deprecated and will be removed from pandas in a future version. Use pandas.concat instead.\n",
            "  df_stocks = df_stocks.append(df_temp_stock)  # Append the current DataFrame to the main DataFrame\n"
          ]
        },
        {
          "output_type": "stream",
          "name": "stdout",
          "text": [
            "\r[*********************100%%**********************]  1 of 1 completed\n"
          ]
        },
        {
          "output_type": "stream",
          "name": "stderr",
          "text": [
            "<ipython-input-13-7cea9a5d8bad>:14: FutureWarning: The frame.append method is deprecated and will be removed from pandas in a future version. Use pandas.concat instead.\n",
            "  df_stocks = df_stocks.append(df_temp_stock)  # Append the current DataFrame to the main DataFrame\n"
          ]
        },
        {
          "output_type": "stream",
          "name": "stdout",
          "text": [
            "[*********************100%%**********************]  1 of 1 completed\n",
            "[*********************100%%**********************]  1 of 1 completed\n"
          ]
        },
        {
          "output_type": "stream",
          "name": "stderr",
          "text": [
            "<ipython-input-13-7cea9a5d8bad>:14: FutureWarning: The frame.append method is deprecated and will be removed from pandas in a future version. Use pandas.concat instead.\n",
            "  df_stocks = df_stocks.append(df_temp_stock)  # Append the current DataFrame to the main DataFrame\n",
            "<ipython-input-13-7cea9a5d8bad>:14: FutureWarning: The frame.append method is deprecated and will be removed from pandas in a future version. Use pandas.concat instead.\n",
            "  df_stocks = df_stocks.append(df_temp_stock)  # Append the current DataFrame to the main DataFrame\n"
          ]
        },
        {
          "output_type": "stream",
          "name": "stdout",
          "text": [
            "\r[*********************100%%**********************]  1 of 1 completed\n"
          ]
        },
        {
          "output_type": "stream",
          "name": "stderr",
          "text": [
            "<ipython-input-13-7cea9a5d8bad>:14: FutureWarning: The frame.append method is deprecated and will be removed from pandas in a future version. Use pandas.concat instead.\n",
            "  df_stocks = df_stocks.append(df_temp_stock)  # Append the current DataFrame to the main DataFrame\n"
          ]
        },
        {
          "output_type": "stream",
          "name": "stdout",
          "text": [
            "\r[*********************100%%**********************]  1 of 1 completed\n"
          ]
        },
        {
          "output_type": "stream",
          "name": "stderr",
          "text": [
            "<ipython-input-13-7cea9a5d8bad>:14: FutureWarning: The frame.append method is deprecated and will be removed from pandas in a future version. Use pandas.concat instead.\n",
            "  df_stocks = df_stocks.append(df_temp_stock)  # Append the current DataFrame to the main DataFrame\n"
          ]
        },
        {
          "output_type": "stream",
          "name": "stdout",
          "text": [
            "\r[*********************100%%**********************]  1 of 1 completed\n"
          ]
        },
        {
          "output_type": "stream",
          "name": "stderr",
          "text": [
            "<ipython-input-13-7cea9a5d8bad>:14: FutureWarning: The frame.append method is deprecated and will be removed from pandas in a future version. Use pandas.concat instead.\n",
            "  df_stocks = df_stocks.append(df_temp_stock)  # Append the current DataFrame to the main DataFrame\n"
          ]
        },
        {
          "output_type": "stream",
          "name": "stdout",
          "text": [
            "\r[*********************100%%**********************]  1 of 1 completed\n"
          ]
        },
        {
          "output_type": "stream",
          "name": "stderr",
          "text": [
            "<ipython-input-13-7cea9a5d8bad>:14: FutureWarning: The frame.append method is deprecated and will be removed from pandas in a future version. Use pandas.concat instead.\n",
            "  df_stocks = df_stocks.append(df_temp_stock)  # Append the current DataFrame to the main DataFrame\n"
          ]
        },
        {
          "output_type": "stream",
          "name": "stdout",
          "text": [
            "\r[*********************100%%**********************]  1 of 1 completed\n"
          ]
        },
        {
          "output_type": "stream",
          "name": "stderr",
          "text": [
            "<ipython-input-13-7cea9a5d8bad>:14: FutureWarning: The frame.append method is deprecated and will be removed from pandas in a future version. Use pandas.concat instead.\n",
            "  df_stocks = df_stocks.append(df_temp_stock)  # Append the current DataFrame to the main DataFrame\n"
          ]
        },
        {
          "output_type": "stream",
          "name": "stdout",
          "text": [
            "\r[*********************100%%**********************]  1 of 1 completed\n"
          ]
        },
        {
          "output_type": "stream",
          "name": "stderr",
          "text": [
            "<ipython-input-13-7cea9a5d8bad>:14: FutureWarning: The frame.append method is deprecated and will be removed from pandas in a future version. Use pandas.concat instead.\n",
            "  df_stocks = df_stocks.append(df_temp_stock)  # Append the current DataFrame to the main DataFrame\n"
          ]
        },
        {
          "output_type": "stream",
          "name": "stdout",
          "text": [
            "\r[*********************100%%**********************]  1 of 1 completed\n"
          ]
        },
        {
          "output_type": "stream",
          "name": "stderr",
          "text": [
            "<ipython-input-13-7cea9a5d8bad>:14: FutureWarning: The frame.append method is deprecated and will be removed from pandas in a future version. Use pandas.concat instead.\n",
            "  df_stocks = df_stocks.append(df_temp_stock)  # Append the current DataFrame to the main DataFrame\n"
          ]
        },
        {
          "output_type": "stream",
          "name": "stdout",
          "text": [
            "\r[*********************100%%**********************]  1 of 1 completed\n"
          ]
        },
        {
          "output_type": "stream",
          "name": "stderr",
          "text": [
            "<ipython-input-13-7cea9a5d8bad>:14: FutureWarning: The frame.append method is deprecated and will be removed from pandas in a future version. Use pandas.concat instead.\n",
            "  df_stocks = df_stocks.append(df_temp_stock)  # Append the current DataFrame to the main DataFrame\n"
          ]
        },
        {
          "output_type": "stream",
          "name": "stdout",
          "text": [
            "\r[*********************100%%**********************]  1 of 1 completed\n"
          ]
        },
        {
          "output_type": "stream",
          "name": "stderr",
          "text": [
            "<ipython-input-13-7cea9a5d8bad>:14: FutureWarning: The frame.append method is deprecated and will be removed from pandas in a future version. Use pandas.concat instead.\n",
            "  df_stocks = df_stocks.append(df_temp_stock)  # Append the current DataFrame to the main DataFrame\n"
          ]
        },
        {
          "output_type": "stream",
          "name": "stdout",
          "text": [
            "\r[*********************100%%**********************]  1 of 1 completed\n"
          ]
        },
        {
          "output_type": "stream",
          "name": "stderr",
          "text": [
            "<ipython-input-13-7cea9a5d8bad>:14: FutureWarning: The frame.append method is deprecated and will be removed from pandas in a future version. Use pandas.concat instead.\n",
            "  df_stocks = df_stocks.append(df_temp_stock)  # Append the current DataFrame to the main DataFrame\n"
          ]
        },
        {
          "output_type": "stream",
          "name": "stdout",
          "text": [
            "\r[*********************100%%**********************]  1 of 1 completed\n"
          ]
        },
        {
          "output_type": "stream",
          "name": "stderr",
          "text": [
            "<ipython-input-13-7cea9a5d8bad>:14: FutureWarning: The frame.append method is deprecated and will be removed from pandas in a future version. Use pandas.concat instead.\n",
            "  df_stocks = df_stocks.append(df_temp_stock)  # Append the current DataFrame to the main DataFrame\n"
          ]
        },
        {
          "output_type": "stream",
          "name": "stdout",
          "text": [
            "\r[*********************100%%**********************]  1 of 1 completed\n"
          ]
        },
        {
          "output_type": "stream",
          "name": "stderr",
          "text": [
            "<ipython-input-13-7cea9a5d8bad>:14: FutureWarning: The frame.append method is deprecated and will be removed from pandas in a future version. Use pandas.concat instead.\n",
            "  df_stocks = df_stocks.append(df_temp_stock)  # Append the current DataFrame to the main DataFrame\n"
          ]
        },
        {
          "output_type": "stream",
          "name": "stdout",
          "text": [
            "\r[*********************100%%**********************]  1 of 1 completed\n"
          ]
        },
        {
          "output_type": "stream",
          "name": "stderr",
          "text": [
            "<ipython-input-13-7cea9a5d8bad>:14: FutureWarning: The frame.append method is deprecated and will be removed from pandas in a future version. Use pandas.concat instead.\n",
            "  df_stocks = df_stocks.append(df_temp_stock)  # Append the current DataFrame to the main DataFrame\n"
          ]
        },
        {
          "output_type": "stream",
          "name": "stdout",
          "text": [
            "\r[*********************100%%**********************]  1 of 1 completed\n"
          ]
        },
        {
          "output_type": "stream",
          "name": "stderr",
          "text": [
            "<ipython-input-13-7cea9a5d8bad>:14: FutureWarning: The frame.append method is deprecated and will be removed from pandas in a future version. Use pandas.concat instead.\n",
            "  df_stocks = df_stocks.append(df_temp_stock)  # Append the current DataFrame to the main DataFrame\n"
          ]
        },
        {
          "output_type": "stream",
          "name": "stdout",
          "text": [
            "\r[*********************100%%**********************]  1 of 1 completed\n"
          ]
        },
        {
          "output_type": "stream",
          "name": "stderr",
          "text": [
            "<ipython-input-13-7cea9a5d8bad>:14: FutureWarning: The frame.append method is deprecated and will be removed from pandas in a future version. Use pandas.concat instead.\n",
            "  df_stocks = df_stocks.append(df_temp_stock)  # Append the current DataFrame to the main DataFrame\n"
          ]
        },
        {
          "output_type": "stream",
          "name": "stdout",
          "text": [
            "\r[*********************100%%**********************]  1 of 1 completed\n"
          ]
        },
        {
          "output_type": "stream",
          "name": "stderr",
          "text": [
            "<ipython-input-13-7cea9a5d8bad>:14: FutureWarning: The frame.append method is deprecated and will be removed from pandas in a future version. Use pandas.concat instead.\n",
            "  df_stocks = df_stocks.append(df_temp_stock)  # Append the current DataFrame to the main DataFrame\n"
          ]
        },
        {
          "output_type": "stream",
          "name": "stdout",
          "text": [
            "\r[*********************100%%**********************]  1 of 1 completed\n"
          ]
        },
        {
          "output_type": "stream",
          "name": "stderr",
          "text": [
            "<ipython-input-13-7cea9a5d8bad>:14: FutureWarning: The frame.append method is deprecated and will be removed from pandas in a future version. Use pandas.concat instead.\n",
            "  df_stocks = df_stocks.append(df_temp_stock)  # Append the current DataFrame to the main DataFrame\n"
          ]
        },
        {
          "output_type": "stream",
          "name": "stdout",
          "text": [
            "\r[*********************100%%**********************]  1 of 1 completed\n"
          ]
        },
        {
          "output_type": "stream",
          "name": "stderr",
          "text": [
            "<ipython-input-13-7cea9a5d8bad>:14: FutureWarning: The frame.append method is deprecated and will be removed from pandas in a future version. Use pandas.concat instead.\n",
            "  df_stocks = df_stocks.append(df_temp_stock)  # Append the current DataFrame to the main DataFrame\n"
          ]
        },
        {
          "output_type": "stream",
          "name": "stdout",
          "text": [
            "\r[*********************100%%**********************]  1 of 1 completed\n"
          ]
        },
        {
          "output_type": "stream",
          "name": "stderr",
          "text": [
            "<ipython-input-13-7cea9a5d8bad>:14: FutureWarning: The frame.append method is deprecated and will be removed from pandas in a future version. Use pandas.concat instead.\n",
            "  df_stocks = df_stocks.append(df_temp_stock)  # Append the current DataFrame to the main DataFrame\n"
          ]
        },
        {
          "output_type": "stream",
          "name": "stdout",
          "text": [
            "\r[*********************100%%**********************]  1 of 1 completed\n"
          ]
        },
        {
          "output_type": "stream",
          "name": "stderr",
          "text": [
            "<ipython-input-13-7cea9a5d8bad>:14: FutureWarning: The frame.append method is deprecated and will be removed from pandas in a future version. Use pandas.concat instead.\n",
            "  df_stocks = df_stocks.append(df_temp_stock)  # Append the current DataFrame to the main DataFrame\n"
          ]
        },
        {
          "output_type": "stream",
          "name": "stdout",
          "text": [
            "\r[*********************100%%**********************]  1 of 1 completed\n"
          ]
        },
        {
          "output_type": "stream",
          "name": "stderr",
          "text": [
            "<ipython-input-13-7cea9a5d8bad>:14: FutureWarning: The frame.append method is deprecated and will be removed from pandas in a future version. Use pandas.concat instead.\n",
            "  df_stocks = df_stocks.append(df_temp_stock)  # Append the current DataFrame to the main DataFrame\n"
          ]
        },
        {
          "output_type": "stream",
          "name": "stdout",
          "text": [
            "\r[*********************100%%**********************]  1 of 1 completed\n"
          ]
        },
        {
          "output_type": "stream",
          "name": "stderr",
          "text": [
            "<ipython-input-13-7cea9a5d8bad>:14: FutureWarning: The frame.append method is deprecated and will be removed from pandas in a future version. Use pandas.concat instead.\n",
            "  df_stocks = df_stocks.append(df_temp_stock)  # Append the current DataFrame to the main DataFrame\n"
          ]
        },
        {
          "output_type": "stream",
          "name": "stdout",
          "text": [
            "\r[*********************100%%**********************]  1 of 1 completed\n"
          ]
        },
        {
          "output_type": "stream",
          "name": "stderr",
          "text": [
            "<ipython-input-13-7cea9a5d8bad>:14: FutureWarning: The frame.append method is deprecated and will be removed from pandas in a future version. Use pandas.concat instead.\n",
            "  df_stocks = df_stocks.append(df_temp_stock)  # Append the current DataFrame to the main DataFrame\n"
          ]
        },
        {
          "output_type": "stream",
          "name": "stdout",
          "text": [
            "[*********************100%%**********************]  1 of 1 completed\n",
            "[*********************100%%**********************]  1 of 1 completed\n"
          ]
        },
        {
          "output_type": "stream",
          "name": "stderr",
          "text": [
            "<ipython-input-13-7cea9a5d8bad>:14: FutureWarning: The frame.append method is deprecated and will be removed from pandas in a future version. Use pandas.concat instead.\n",
            "  df_stocks = df_stocks.append(df_temp_stock)  # Append the current DataFrame to the main DataFrame\n",
            "<ipython-input-13-7cea9a5d8bad>:14: FutureWarning: The frame.append method is deprecated and will be removed from pandas in a future version. Use pandas.concat instead.\n",
            "  df_stocks = df_stocks.append(df_temp_stock)  # Append the current DataFrame to the main DataFrame\n"
          ]
        },
        {
          "output_type": "stream",
          "name": "stdout",
          "text": [
            "[*********************100%%**********************]  1 of 1 completed\n",
            "[*********************100%%**********************]  1 of 1 completed\n"
          ]
        },
        {
          "output_type": "stream",
          "name": "stderr",
          "text": [
            "<ipython-input-13-7cea9a5d8bad>:14: FutureWarning: The frame.append method is deprecated and will be removed from pandas in a future version. Use pandas.concat instead.\n",
            "  df_stocks = df_stocks.append(df_temp_stock)  # Append the current DataFrame to the main DataFrame\n",
            "<ipython-input-13-7cea9a5d8bad>:14: FutureWarning: The frame.append method is deprecated and will be removed from pandas in a future version. Use pandas.concat instead.\n",
            "  df_stocks = df_stocks.append(df_temp_stock)  # Append the current DataFrame to the main DataFrame\n"
          ]
        },
        {
          "output_type": "stream",
          "name": "stdout",
          "text": [
            "\r[*********************100%%**********************]  1 of 1 completed\n"
          ]
        },
        {
          "output_type": "stream",
          "name": "stderr",
          "text": [
            "<ipython-input-13-7cea9a5d8bad>:14: FutureWarning: The frame.append method is deprecated and will be removed from pandas in a future version. Use pandas.concat instead.\n",
            "  df_stocks = df_stocks.append(df_temp_stock)  # Append the current DataFrame to the main DataFrame\n"
          ]
        },
        {
          "output_type": "stream",
          "name": "stdout",
          "text": [
            "\r[*********************100%%**********************]  1 of 1 completed\n"
          ]
        },
        {
          "output_type": "stream",
          "name": "stderr",
          "text": [
            "<ipython-input-13-7cea9a5d8bad>:14: FutureWarning: The frame.append method is deprecated and will be removed from pandas in a future version. Use pandas.concat instead.\n",
            "  df_stocks = df_stocks.append(df_temp_stock)  # Append the current DataFrame to the main DataFrame\n"
          ]
        },
        {
          "output_type": "stream",
          "name": "stdout",
          "text": [
            "\r[*********************100%%**********************]  1 of 1 completed\n"
          ]
        },
        {
          "output_type": "stream",
          "name": "stderr",
          "text": [
            "<ipython-input-13-7cea9a5d8bad>:14: FutureWarning: The frame.append method is deprecated and will be removed from pandas in a future version. Use pandas.concat instead.\n",
            "  df_stocks = df_stocks.append(df_temp_stock)  # Append the current DataFrame to the main DataFrame\n"
          ]
        },
        {
          "output_type": "stream",
          "name": "stdout",
          "text": [
            "\r[*********************100%%**********************]  1 of 1 completed\n"
          ]
        },
        {
          "output_type": "stream",
          "name": "stderr",
          "text": [
            "<ipython-input-13-7cea9a5d8bad>:14: FutureWarning: The frame.append method is deprecated and will be removed from pandas in a future version. Use pandas.concat instead.\n",
            "  df_stocks = df_stocks.append(df_temp_stock)  # Append the current DataFrame to the main DataFrame\n"
          ]
        },
        {
          "output_type": "stream",
          "name": "stdout",
          "text": [
            "\r[*********************100%%**********************]  1 of 1 completed\n"
          ]
        },
        {
          "output_type": "stream",
          "name": "stderr",
          "text": [
            "<ipython-input-13-7cea9a5d8bad>:14: FutureWarning: The frame.append method is deprecated and will be removed from pandas in a future version. Use pandas.concat instead.\n",
            "  df_stocks = df_stocks.append(df_temp_stock)  # Append the current DataFrame to the main DataFrame\n"
          ]
        },
        {
          "output_type": "stream",
          "name": "stdout",
          "text": [
            "\r[*********************100%%**********************]  1 of 1 completed\n"
          ]
        },
        {
          "output_type": "stream",
          "name": "stderr",
          "text": [
            "<ipython-input-13-7cea9a5d8bad>:14: FutureWarning: The frame.append method is deprecated and will be removed from pandas in a future version. Use pandas.concat instead.\n",
            "  df_stocks = df_stocks.append(df_temp_stock)  # Append the current DataFrame to the main DataFrame\n"
          ]
        },
        {
          "output_type": "stream",
          "name": "stdout",
          "text": [
            "\r[*********************100%%**********************]  1 of 1 completed\n"
          ]
        },
        {
          "output_type": "stream",
          "name": "stderr",
          "text": [
            "<ipython-input-13-7cea9a5d8bad>:14: FutureWarning: The frame.append method is deprecated and will be removed from pandas in a future version. Use pandas.concat instead.\n",
            "  df_stocks = df_stocks.append(df_temp_stock)  # Append the current DataFrame to the main DataFrame\n"
          ]
        },
        {
          "output_type": "stream",
          "name": "stdout",
          "text": [
            "\r[*********************100%%**********************]  1 of 1 completed\n"
          ]
        },
        {
          "output_type": "stream",
          "name": "stderr",
          "text": [
            "<ipython-input-13-7cea9a5d8bad>:14: FutureWarning: The frame.append method is deprecated and will be removed from pandas in a future version. Use pandas.concat instead.\n",
            "  df_stocks = df_stocks.append(df_temp_stock)  # Append the current DataFrame to the main DataFrame\n"
          ]
        },
        {
          "output_type": "stream",
          "name": "stdout",
          "text": [
            "\r[*********************100%%**********************]  1 of 1 completed\n"
          ]
        },
        {
          "output_type": "stream",
          "name": "stderr",
          "text": [
            "<ipython-input-13-7cea9a5d8bad>:14: FutureWarning: The frame.append method is deprecated and will be removed from pandas in a future version. Use pandas.concat instead.\n",
            "  df_stocks = df_stocks.append(df_temp_stock)  # Append the current DataFrame to the main DataFrame\n"
          ]
        },
        {
          "output_type": "stream",
          "name": "stdout",
          "text": [
            "\r[*********************100%%**********************]  1 of 1 completed\n"
          ]
        },
        {
          "output_type": "stream",
          "name": "stderr",
          "text": [
            "<ipython-input-13-7cea9a5d8bad>:14: FutureWarning: The frame.append method is deprecated and will be removed from pandas in a future version. Use pandas.concat instead.\n",
            "  df_stocks = df_stocks.append(df_temp_stock)  # Append the current DataFrame to the main DataFrame\n"
          ]
        },
        {
          "output_type": "stream",
          "name": "stdout",
          "text": [
            "\r[*********************100%%**********************]  1 of 1 completed\n"
          ]
        },
        {
          "output_type": "stream",
          "name": "stderr",
          "text": [
            "<ipython-input-13-7cea9a5d8bad>:14: FutureWarning: The frame.append method is deprecated and will be removed from pandas in a future version. Use pandas.concat instead.\n",
            "  df_stocks = df_stocks.append(df_temp_stock)  # Append the current DataFrame to the main DataFrame\n"
          ]
        },
        {
          "output_type": "stream",
          "name": "stdout",
          "text": [
            "\r[*********************100%%**********************]  1 of 1 completed\n"
          ]
        },
        {
          "output_type": "stream",
          "name": "stderr",
          "text": [
            "<ipython-input-13-7cea9a5d8bad>:14: FutureWarning: The frame.append method is deprecated and will be removed from pandas in a future version. Use pandas.concat instead.\n",
            "  df_stocks = df_stocks.append(df_temp_stock)  # Append the current DataFrame to the main DataFrame\n"
          ]
        },
        {
          "output_type": "stream",
          "name": "stdout",
          "text": [
            "\r[*********************100%%**********************]  1 of 1 completed\n"
          ]
        },
        {
          "output_type": "stream",
          "name": "stderr",
          "text": [
            "<ipython-input-13-7cea9a5d8bad>:14: FutureWarning: The frame.append method is deprecated and will be removed from pandas in a future version. Use pandas.concat instead.\n",
            "  df_stocks = df_stocks.append(df_temp_stock)  # Append the current DataFrame to the main DataFrame\n"
          ]
        },
        {
          "output_type": "stream",
          "name": "stdout",
          "text": [
            "[*********************100%%**********************]  1 of 1 completed\n",
            "[*********************100%%**********************]  1 of 1 completed\n"
          ]
        },
        {
          "output_type": "stream",
          "name": "stderr",
          "text": [
            "<ipython-input-13-7cea9a5d8bad>:14: FutureWarning: The frame.append method is deprecated and will be removed from pandas in a future version. Use pandas.concat instead.\n",
            "  df_stocks = df_stocks.append(df_temp_stock)  # Append the current DataFrame to the main DataFrame\n",
            "<ipython-input-13-7cea9a5d8bad>:14: FutureWarning: The frame.append method is deprecated and will be removed from pandas in a future version. Use pandas.concat instead.\n",
            "  df_stocks = df_stocks.append(df_temp_stock)  # Append the current DataFrame to the main DataFrame\n"
          ]
        },
        {
          "output_type": "stream",
          "name": "stdout",
          "text": [
            "\r[*********************100%%**********************]  1 of 1 completed\n"
          ]
        },
        {
          "output_type": "stream",
          "name": "stderr",
          "text": [
            "<ipython-input-13-7cea9a5d8bad>:14: FutureWarning: The frame.append method is deprecated and will be removed from pandas in a future version. Use pandas.concat instead.\n",
            "  df_stocks = df_stocks.append(df_temp_stock)  # Append the current DataFrame to the main DataFrame\n"
          ]
        },
        {
          "output_type": "stream",
          "name": "stdout",
          "text": [
            "\r[*********************100%%**********************]  1 of 1 completed\n"
          ]
        },
        {
          "output_type": "stream",
          "name": "stderr",
          "text": [
            "<ipython-input-13-7cea9a5d8bad>:14: FutureWarning: The frame.append method is deprecated and will be removed from pandas in a future version. Use pandas.concat instead.\n",
            "  df_stocks = df_stocks.append(df_temp_stock)  # Append the current DataFrame to the main DataFrame\n"
          ]
        },
        {
          "output_type": "stream",
          "name": "stdout",
          "text": [
            "\r[*********************100%%**********************]  1 of 1 completed\n"
          ]
        },
        {
          "output_type": "stream",
          "name": "stderr",
          "text": [
            "<ipython-input-13-7cea9a5d8bad>:14: FutureWarning: The frame.append method is deprecated and will be removed from pandas in a future version. Use pandas.concat instead.\n",
            "  df_stocks = df_stocks.append(df_temp_stock)  # Append the current DataFrame to the main DataFrame\n"
          ]
        },
        {
          "output_type": "stream",
          "name": "stdout",
          "text": [
            "\r[*********************100%%**********************]  1 of 1 completed\n"
          ]
        },
        {
          "output_type": "stream",
          "name": "stderr",
          "text": [
            "<ipython-input-13-7cea9a5d8bad>:14: FutureWarning: The frame.append method is deprecated and will be removed from pandas in a future version. Use pandas.concat instead.\n",
            "  df_stocks = df_stocks.append(df_temp_stock)  # Append the current DataFrame to the main DataFrame\n"
          ]
        },
        {
          "output_type": "stream",
          "name": "stdout",
          "text": [
            "\r[*********************100%%**********************]  1 of 1 completed\n"
          ]
        },
        {
          "output_type": "stream",
          "name": "stderr",
          "text": [
            "<ipython-input-13-7cea9a5d8bad>:14: FutureWarning: The frame.append method is deprecated and will be removed from pandas in a future version. Use pandas.concat instead.\n",
            "  df_stocks = df_stocks.append(df_temp_stock)  # Append the current DataFrame to the main DataFrame\n"
          ]
        },
        {
          "output_type": "stream",
          "name": "stdout",
          "text": [
            "\r[*********************100%%**********************]  1 of 1 completed\n"
          ]
        },
        {
          "output_type": "stream",
          "name": "stderr",
          "text": [
            "<ipython-input-13-7cea9a5d8bad>:14: FutureWarning: The frame.append method is deprecated and will be removed from pandas in a future version. Use pandas.concat instead.\n",
            "  df_stocks = df_stocks.append(df_temp_stock)  # Append the current DataFrame to the main DataFrame\n"
          ]
        },
        {
          "output_type": "stream",
          "name": "stdout",
          "text": [
            "\r[*********************100%%**********************]  1 of 1 completed\n"
          ]
        },
        {
          "output_type": "stream",
          "name": "stderr",
          "text": [
            "<ipython-input-13-7cea9a5d8bad>:14: FutureWarning: The frame.append method is deprecated and will be removed from pandas in a future version. Use pandas.concat instead.\n",
            "  df_stocks = df_stocks.append(df_temp_stock)  # Append the current DataFrame to the main DataFrame\n"
          ]
        },
        {
          "output_type": "stream",
          "name": "stdout",
          "text": [
            "\r[*********************100%%**********************]  1 of 1 completed\n"
          ]
        },
        {
          "output_type": "stream",
          "name": "stderr",
          "text": [
            "<ipython-input-13-7cea9a5d8bad>:14: FutureWarning: The frame.append method is deprecated and will be removed from pandas in a future version. Use pandas.concat instead.\n",
            "  df_stocks = df_stocks.append(df_temp_stock)  # Append the current DataFrame to the main DataFrame\n"
          ]
        },
        {
          "output_type": "stream",
          "name": "stdout",
          "text": [
            "\r[*********************100%%**********************]  1 of 1 completed\n"
          ]
        },
        {
          "output_type": "stream",
          "name": "stderr",
          "text": [
            "<ipython-input-13-7cea9a5d8bad>:14: FutureWarning: The frame.append method is deprecated and will be removed from pandas in a future version. Use pandas.concat instead.\n",
            "  df_stocks = df_stocks.append(df_temp_stock)  # Append the current DataFrame to the main DataFrame\n"
          ]
        },
        {
          "output_type": "stream",
          "name": "stdout",
          "text": [
            "[*********************100%%**********************]  1 of 1 completed\n",
            "[*********************100%%**********************]  1 of 1 completed\n"
          ]
        },
        {
          "output_type": "stream",
          "name": "stderr",
          "text": [
            "<ipython-input-13-7cea9a5d8bad>:14: FutureWarning: The frame.append method is deprecated and will be removed from pandas in a future version. Use pandas.concat instead.\n",
            "  df_stocks = df_stocks.append(df_temp_stock)  # Append the current DataFrame to the main DataFrame\n",
            "<ipython-input-13-7cea9a5d8bad>:14: FutureWarning: The frame.append method is deprecated and will be removed from pandas in a future version. Use pandas.concat instead.\n",
            "  df_stocks = df_stocks.append(df_temp_stock)  # Append the current DataFrame to the main DataFrame\n"
          ]
        },
        {
          "output_type": "stream",
          "name": "stdout",
          "text": [
            "[*********************100%%**********************]  1 of 1 completed\n",
            "[*********************100%%**********************]  1 of 1 completed\n"
          ]
        },
        {
          "output_type": "stream",
          "name": "stderr",
          "text": [
            "<ipython-input-13-7cea9a5d8bad>:14: FutureWarning: The frame.append method is deprecated and will be removed from pandas in a future version. Use pandas.concat instead.\n",
            "  df_stocks = df_stocks.append(df_temp_stock)  # Append the current DataFrame to the main DataFrame\n",
            "<ipython-input-13-7cea9a5d8bad>:14: FutureWarning: The frame.append method is deprecated and will be removed from pandas in a future version. Use pandas.concat instead.\n",
            "  df_stocks = df_stocks.append(df_temp_stock)  # Append the current DataFrame to the main DataFrame\n"
          ]
        },
        {
          "output_type": "stream",
          "name": "stdout",
          "text": [
            "\r[*********************100%%**********************]  1 of 1 completed\n"
          ]
        },
        {
          "output_type": "stream",
          "name": "stderr",
          "text": [
            "<ipython-input-13-7cea9a5d8bad>:14: FutureWarning: The frame.append method is deprecated and will be removed from pandas in a future version. Use pandas.concat instead.\n",
            "  df_stocks = df_stocks.append(df_temp_stock)  # Append the current DataFrame to the main DataFrame\n"
          ]
        },
        {
          "output_type": "stream",
          "name": "stdout",
          "text": [
            "\r[*********************100%%**********************]  1 of 1 completed\n"
          ]
        },
        {
          "output_type": "stream",
          "name": "stderr",
          "text": [
            "<ipython-input-13-7cea9a5d8bad>:14: FutureWarning: The frame.append method is deprecated and will be removed from pandas in a future version. Use pandas.concat instead.\n",
            "  df_stocks = df_stocks.append(df_temp_stock)  # Append the current DataFrame to the main DataFrame\n"
          ]
        },
        {
          "output_type": "stream",
          "name": "stdout",
          "text": [
            "\r[*********************100%%**********************]  1 of 1 completed\n"
          ]
        },
        {
          "output_type": "stream",
          "name": "stderr",
          "text": [
            "<ipython-input-13-7cea9a5d8bad>:14: FutureWarning: The frame.append method is deprecated and will be removed from pandas in a future version. Use pandas.concat instead.\n",
            "  df_stocks = df_stocks.append(df_temp_stock)  # Append the current DataFrame to the main DataFrame\n"
          ]
        },
        {
          "output_type": "stream",
          "name": "stdout",
          "text": [
            "\r[*********************100%%**********************]  1 of 1 completed\n"
          ]
        },
        {
          "output_type": "stream",
          "name": "stderr",
          "text": [
            "<ipython-input-13-7cea9a5d8bad>:14: FutureWarning: The frame.append method is deprecated and will be removed from pandas in a future version. Use pandas.concat instead.\n",
            "  df_stocks = df_stocks.append(df_temp_stock)  # Append the current DataFrame to the main DataFrame\n"
          ]
        },
        {
          "output_type": "stream",
          "name": "stdout",
          "text": [
            "\r[*********************100%%**********************]  1 of 1 completed\n"
          ]
        },
        {
          "output_type": "stream",
          "name": "stderr",
          "text": [
            "<ipython-input-13-7cea9a5d8bad>:14: FutureWarning: The frame.append method is deprecated and will be removed from pandas in a future version. Use pandas.concat instead.\n",
            "  df_stocks = df_stocks.append(df_temp_stock)  # Append the current DataFrame to the main DataFrame\n"
          ]
        },
        {
          "output_type": "stream",
          "name": "stdout",
          "text": [
            "\r[*********************100%%**********************]  1 of 1 completed\n"
          ]
        },
        {
          "output_type": "stream",
          "name": "stderr",
          "text": [
            "<ipython-input-13-7cea9a5d8bad>:14: FutureWarning: The frame.append method is deprecated and will be removed from pandas in a future version. Use pandas.concat instead.\n",
            "  df_stocks = df_stocks.append(df_temp_stock)  # Append the current DataFrame to the main DataFrame\n"
          ]
        },
        {
          "output_type": "stream",
          "name": "stdout",
          "text": [
            "\r[*********************100%%**********************]  1 of 1 completed\n"
          ]
        },
        {
          "output_type": "stream",
          "name": "stderr",
          "text": [
            "<ipython-input-13-7cea9a5d8bad>:14: FutureWarning: The frame.append method is deprecated and will be removed from pandas in a future version. Use pandas.concat instead.\n",
            "  df_stocks = df_stocks.append(df_temp_stock)  # Append the current DataFrame to the main DataFrame\n"
          ]
        },
        {
          "output_type": "stream",
          "name": "stdout",
          "text": [
            "\r[*********************100%%**********************]  1 of 1 completed\n"
          ]
        },
        {
          "output_type": "stream",
          "name": "stderr",
          "text": [
            "<ipython-input-13-7cea9a5d8bad>:14: FutureWarning: The frame.append method is deprecated and will be removed from pandas in a future version. Use pandas.concat instead.\n",
            "  df_stocks = df_stocks.append(df_temp_stock)  # Append the current DataFrame to the main DataFrame\n"
          ]
        },
        {
          "output_type": "stream",
          "name": "stdout",
          "text": [
            "\r[*********************100%%**********************]  1 of 1 completed\n"
          ]
        },
        {
          "output_type": "stream",
          "name": "stderr",
          "text": [
            "<ipython-input-13-7cea9a5d8bad>:14: FutureWarning: The frame.append method is deprecated and will be removed from pandas in a future version. Use pandas.concat instead.\n",
            "  df_stocks = df_stocks.append(df_temp_stock)  # Append the current DataFrame to the main DataFrame\n"
          ]
        },
        {
          "output_type": "stream",
          "name": "stdout",
          "text": [
            "\r[*********************100%%**********************]  1 of 1 completed\n"
          ]
        },
        {
          "output_type": "stream",
          "name": "stderr",
          "text": [
            "<ipython-input-13-7cea9a5d8bad>:14: FutureWarning: The frame.append method is deprecated and will be removed from pandas in a future version. Use pandas.concat instead.\n",
            "  df_stocks = df_stocks.append(df_temp_stock)  # Append the current DataFrame to the main DataFrame\n"
          ]
        },
        {
          "output_type": "stream",
          "name": "stdout",
          "text": [
            "\r[*********************100%%**********************]  1 of 1 completed\n"
          ]
        },
        {
          "output_type": "stream",
          "name": "stderr",
          "text": [
            "<ipython-input-13-7cea9a5d8bad>:14: FutureWarning: The frame.append method is deprecated and will be removed from pandas in a future version. Use pandas.concat instead.\n",
            "  df_stocks = df_stocks.append(df_temp_stock)  # Append the current DataFrame to the main DataFrame\n"
          ]
        },
        {
          "output_type": "stream",
          "name": "stdout",
          "text": [
            "\r[*********************100%%**********************]  1 of 1 completed\n"
          ]
        },
        {
          "output_type": "stream",
          "name": "stderr",
          "text": [
            "<ipython-input-13-7cea9a5d8bad>:14: FutureWarning: The frame.append method is deprecated and will be removed from pandas in a future version. Use pandas.concat instead.\n",
            "  df_stocks = df_stocks.append(df_temp_stock)  # Append the current DataFrame to the main DataFrame\n"
          ]
        },
        {
          "output_type": "stream",
          "name": "stdout",
          "text": [
            "\r[*********************100%%**********************]  1 of 1 completed\n"
          ]
        },
        {
          "output_type": "stream",
          "name": "stderr",
          "text": [
            "<ipython-input-13-7cea9a5d8bad>:14: FutureWarning: The frame.append method is deprecated and will be removed from pandas in a future version. Use pandas.concat instead.\n",
            "  df_stocks = df_stocks.append(df_temp_stock)  # Append the current DataFrame to the main DataFrame\n"
          ]
        },
        {
          "output_type": "stream",
          "name": "stdout",
          "text": [
            "\r[*********************100%%**********************]  1 of 1 completed\n"
          ]
        },
        {
          "output_type": "stream",
          "name": "stderr",
          "text": [
            "<ipython-input-13-7cea9a5d8bad>:14: FutureWarning: The frame.append method is deprecated and will be removed from pandas in a future version. Use pandas.concat instead.\n",
            "  df_stocks = df_stocks.append(df_temp_stock)  # Append the current DataFrame to the main DataFrame\n"
          ]
        },
        {
          "output_type": "stream",
          "name": "stdout",
          "text": [
            "\r[*********************100%%**********************]  1 of 1 completed\n"
          ]
        },
        {
          "output_type": "stream",
          "name": "stderr",
          "text": [
            "<ipython-input-13-7cea9a5d8bad>:14: FutureWarning: The frame.append method is deprecated and will be removed from pandas in a future version. Use pandas.concat instead.\n",
            "  df_stocks = df_stocks.append(df_temp_stock)  # Append the current DataFrame to the main DataFrame\n"
          ]
        },
        {
          "output_type": "stream",
          "name": "stdout",
          "text": [
            "\r[*********************100%%**********************]  1 of 1 completed\n"
          ]
        },
        {
          "output_type": "stream",
          "name": "stderr",
          "text": [
            "<ipython-input-13-7cea9a5d8bad>:14: FutureWarning: The frame.append method is deprecated and will be removed from pandas in a future version. Use pandas.concat instead.\n",
            "  df_stocks = df_stocks.append(df_temp_stock)  # Append the current DataFrame to the main DataFrame\n"
          ]
        },
        {
          "output_type": "stream",
          "name": "stdout",
          "text": [
            "\r[*********************100%%**********************]  1 of 1 completed\n"
          ]
        },
        {
          "output_type": "stream",
          "name": "stderr",
          "text": [
            "<ipython-input-13-7cea9a5d8bad>:14: FutureWarning: The frame.append method is deprecated and will be removed from pandas in a future version. Use pandas.concat instead.\n",
            "  df_stocks = df_stocks.append(df_temp_stock)  # Append the current DataFrame to the main DataFrame\n"
          ]
        },
        {
          "output_type": "stream",
          "name": "stdout",
          "text": [
            "\r[*********************100%%**********************]  1 of 1 completed\n"
          ]
        },
        {
          "output_type": "stream",
          "name": "stderr",
          "text": [
            "<ipython-input-13-7cea9a5d8bad>:14: FutureWarning: The frame.append method is deprecated and will be removed from pandas in a future version. Use pandas.concat instead.\n",
            "  df_stocks = df_stocks.append(df_temp_stock)  # Append the current DataFrame to the main DataFrame\n"
          ]
        },
        {
          "output_type": "stream",
          "name": "stdout",
          "text": [
            "\r[*********************100%%**********************]  1 of 1 completed\n"
          ]
        },
        {
          "output_type": "stream",
          "name": "stderr",
          "text": [
            "<ipython-input-13-7cea9a5d8bad>:14: FutureWarning: The frame.append method is deprecated and will be removed from pandas in a future version. Use pandas.concat instead.\n",
            "  df_stocks = df_stocks.append(df_temp_stock)  # Append the current DataFrame to the main DataFrame\n"
          ]
        },
        {
          "output_type": "stream",
          "name": "stdout",
          "text": [
            "\r[*********************100%%**********************]  1 of 1 completed\n"
          ]
        },
        {
          "output_type": "stream",
          "name": "stderr",
          "text": [
            "<ipython-input-13-7cea9a5d8bad>:14: FutureWarning: The frame.append method is deprecated and will be removed from pandas in a future version. Use pandas.concat instead.\n",
            "  df_stocks = df_stocks.append(df_temp_stock)  # Append the current DataFrame to the main DataFrame\n"
          ]
        },
        {
          "output_type": "stream",
          "name": "stdout",
          "text": [
            "\r[*********************100%%**********************]  1 of 1 completed\n"
          ]
        },
        {
          "output_type": "stream",
          "name": "stderr",
          "text": [
            "<ipython-input-13-7cea9a5d8bad>:14: FutureWarning: The frame.append method is deprecated and will be removed from pandas in a future version. Use pandas.concat instead.\n",
            "  df_stocks = df_stocks.append(df_temp_stock)  # Append the current DataFrame to the main DataFrame\n"
          ]
        },
        {
          "output_type": "stream",
          "name": "stdout",
          "text": [
            "\r[*********************100%%**********************]  1 of 1 completed\n"
          ]
        },
        {
          "output_type": "stream",
          "name": "stderr",
          "text": [
            "<ipython-input-13-7cea9a5d8bad>:14: FutureWarning: The frame.append method is deprecated and will be removed from pandas in a future version. Use pandas.concat instead.\n",
            "  df_stocks = df_stocks.append(df_temp_stock)  # Append the current DataFrame to the main DataFrame\n"
          ]
        },
        {
          "output_type": "stream",
          "name": "stdout",
          "text": [
            "[*********************100%%**********************]  1 of 1 completed\n",
            "[*********************100%%**********************]  1 of 1 completed\n"
          ]
        },
        {
          "output_type": "stream",
          "name": "stderr",
          "text": [
            "<ipython-input-13-7cea9a5d8bad>:14: FutureWarning: The frame.append method is deprecated and will be removed from pandas in a future version. Use pandas.concat instead.\n",
            "  df_stocks = df_stocks.append(df_temp_stock)  # Append the current DataFrame to the main DataFrame\n",
            "<ipython-input-13-7cea9a5d8bad>:14: FutureWarning: The frame.append method is deprecated and will be removed from pandas in a future version. Use pandas.concat instead.\n",
            "  df_stocks = df_stocks.append(df_temp_stock)  # Append the current DataFrame to the main DataFrame\n"
          ]
        },
        {
          "output_type": "stream",
          "name": "stdout",
          "text": [
            "\r[*********************100%%**********************]  1 of 1 completed\n"
          ]
        },
        {
          "output_type": "stream",
          "name": "stderr",
          "text": [
            "<ipython-input-13-7cea9a5d8bad>:14: FutureWarning: The frame.append method is deprecated and will be removed from pandas in a future version. Use pandas.concat instead.\n",
            "  df_stocks = df_stocks.append(df_temp_stock)  # Append the current DataFrame to the main DataFrame\n"
          ]
        },
        {
          "output_type": "stream",
          "name": "stdout",
          "text": [
            "[*********************100%%**********************]  1 of 1 completed\n",
            "[*********************100%%**********************]  1 of 1 completed\n"
          ]
        },
        {
          "output_type": "stream",
          "name": "stderr",
          "text": [
            "<ipython-input-13-7cea9a5d8bad>:14: FutureWarning: The frame.append method is deprecated and will be removed from pandas in a future version. Use pandas.concat instead.\n",
            "  df_stocks = df_stocks.append(df_temp_stock)  # Append the current DataFrame to the main DataFrame\n",
            "<ipython-input-13-7cea9a5d8bad>:14: FutureWarning: The frame.append method is deprecated and will be removed from pandas in a future version. Use pandas.concat instead.\n",
            "  df_stocks = df_stocks.append(df_temp_stock)  # Append the current DataFrame to the main DataFrame\n"
          ]
        },
        {
          "output_type": "stream",
          "name": "stdout",
          "text": [
            "\r[*********************100%%**********************]  1 of 1 completed\n"
          ]
        },
        {
          "output_type": "stream",
          "name": "stderr",
          "text": [
            "<ipython-input-13-7cea9a5d8bad>:14: FutureWarning: The frame.append method is deprecated and will be removed from pandas in a future version. Use pandas.concat instead.\n",
            "  df_stocks = df_stocks.append(df_temp_stock)  # Append the current DataFrame to the main DataFrame\n"
          ]
        },
        {
          "output_type": "stream",
          "name": "stdout",
          "text": [
            "\r[*********************100%%**********************]  1 of 1 completed\n"
          ]
        },
        {
          "output_type": "stream",
          "name": "stderr",
          "text": [
            "<ipython-input-13-7cea9a5d8bad>:14: FutureWarning: The frame.append method is deprecated and will be removed from pandas in a future version. Use pandas.concat instead.\n",
            "  df_stocks = df_stocks.append(df_temp_stock)  # Append the current DataFrame to the main DataFrame\n"
          ]
        },
        {
          "output_type": "stream",
          "name": "stdout",
          "text": [
            "\r[*********************100%%**********************]  1 of 1 completed\n"
          ]
        },
        {
          "output_type": "stream",
          "name": "stderr",
          "text": [
            "<ipython-input-13-7cea9a5d8bad>:14: FutureWarning: The frame.append method is deprecated and will be removed from pandas in a future version. Use pandas.concat instead.\n",
            "  df_stocks = df_stocks.append(df_temp_stock)  # Append the current DataFrame to the main DataFrame\n"
          ]
        },
        {
          "output_type": "stream",
          "name": "stdout",
          "text": [
            "\r[*********************100%%**********************]  1 of 1 completed\n"
          ]
        },
        {
          "output_type": "stream",
          "name": "stderr",
          "text": [
            "<ipython-input-13-7cea9a5d8bad>:14: FutureWarning: The frame.append method is deprecated and will be removed from pandas in a future version. Use pandas.concat instead.\n",
            "  df_stocks = df_stocks.append(df_temp_stock)  # Append the current DataFrame to the main DataFrame\n"
          ]
        },
        {
          "output_type": "stream",
          "name": "stdout",
          "text": [
            "\r[*********************100%%**********************]  1 of 1 completed\n"
          ]
        },
        {
          "output_type": "stream",
          "name": "stderr",
          "text": [
            "<ipython-input-13-7cea9a5d8bad>:14: FutureWarning: The frame.append method is deprecated and will be removed from pandas in a future version. Use pandas.concat instead.\n",
            "  df_stocks = df_stocks.append(df_temp_stock)  # Append the current DataFrame to the main DataFrame\n"
          ]
        },
        {
          "output_type": "stream",
          "name": "stdout",
          "text": [
            "\r[*********************100%%**********************]  1 of 1 completed\n"
          ]
        },
        {
          "output_type": "stream",
          "name": "stderr",
          "text": [
            "<ipython-input-13-7cea9a5d8bad>:14: FutureWarning: The frame.append method is deprecated and will be removed from pandas in a future version. Use pandas.concat instead.\n",
            "  df_stocks = df_stocks.append(df_temp_stock)  # Append the current DataFrame to the main DataFrame\n"
          ]
        },
        {
          "output_type": "stream",
          "name": "stdout",
          "text": [
            "\r[*********************100%%**********************]  1 of 1 completed\n"
          ]
        },
        {
          "output_type": "stream",
          "name": "stderr",
          "text": [
            "<ipython-input-13-7cea9a5d8bad>:14: FutureWarning: The frame.append method is deprecated and will be removed from pandas in a future version. Use pandas.concat instead.\n",
            "  df_stocks = df_stocks.append(df_temp_stock)  # Append the current DataFrame to the main DataFrame\n"
          ]
        },
        {
          "output_type": "stream",
          "name": "stdout",
          "text": [
            "\r[*********************100%%**********************]  1 of 1 completed\n"
          ]
        },
        {
          "output_type": "stream",
          "name": "stderr",
          "text": [
            "<ipython-input-13-7cea9a5d8bad>:14: FutureWarning: The frame.append method is deprecated and will be removed from pandas in a future version. Use pandas.concat instead.\n",
            "  df_stocks = df_stocks.append(df_temp_stock)  # Append the current DataFrame to the main DataFrame\n"
          ]
        },
        {
          "output_type": "stream",
          "name": "stdout",
          "text": [
            "\r[*********************100%%**********************]  1 of 1 completed\n"
          ]
        },
        {
          "output_type": "stream",
          "name": "stderr",
          "text": [
            "<ipython-input-13-7cea9a5d8bad>:14: FutureWarning: The frame.append method is deprecated and will be removed from pandas in a future version. Use pandas.concat instead.\n",
            "  df_stocks = df_stocks.append(df_temp_stock)  # Append the current DataFrame to the main DataFrame\n"
          ]
        },
        {
          "output_type": "stream",
          "name": "stdout",
          "text": [
            "\r[*********************100%%**********************]  1 of 1 completed\n"
          ]
        },
        {
          "output_type": "stream",
          "name": "stderr",
          "text": [
            "<ipython-input-13-7cea9a5d8bad>:14: FutureWarning: The frame.append method is deprecated and will be removed from pandas in a future version. Use pandas.concat instead.\n",
            "  df_stocks = df_stocks.append(df_temp_stock)  # Append the current DataFrame to the main DataFrame\n"
          ]
        },
        {
          "output_type": "stream",
          "name": "stdout",
          "text": [
            "\r[*********************100%%**********************]  1 of 1 completed\n"
          ]
        },
        {
          "output_type": "stream",
          "name": "stderr",
          "text": [
            "<ipython-input-13-7cea9a5d8bad>:14: FutureWarning: The frame.append method is deprecated and will be removed from pandas in a future version. Use pandas.concat instead.\n",
            "  df_stocks = df_stocks.append(df_temp_stock)  # Append the current DataFrame to the main DataFrame\n"
          ]
        },
        {
          "output_type": "stream",
          "name": "stdout",
          "text": [
            "\r[*********************100%%**********************]  1 of 1 completed\n"
          ]
        },
        {
          "output_type": "stream",
          "name": "stderr",
          "text": [
            "<ipython-input-13-7cea9a5d8bad>:14: FutureWarning: The frame.append method is deprecated and will be removed from pandas in a future version. Use pandas.concat instead.\n",
            "  df_stocks = df_stocks.append(df_temp_stock)  # Append the current DataFrame to the main DataFrame\n"
          ]
        },
        {
          "output_type": "stream",
          "name": "stdout",
          "text": [
            "\r[*********************100%%**********************]  1 of 1 completed\n"
          ]
        },
        {
          "output_type": "stream",
          "name": "stderr",
          "text": [
            "<ipython-input-13-7cea9a5d8bad>:14: FutureWarning: The frame.append method is deprecated and will be removed from pandas in a future version. Use pandas.concat instead.\n",
            "  df_stocks = df_stocks.append(df_temp_stock)  # Append the current DataFrame to the main DataFrame\n"
          ]
        },
        {
          "output_type": "stream",
          "name": "stdout",
          "text": [
            "\r[*********************100%%**********************]  1 of 1 completed\n"
          ]
        },
        {
          "output_type": "stream",
          "name": "stderr",
          "text": [
            "<ipython-input-13-7cea9a5d8bad>:14: FutureWarning: The frame.append method is deprecated and will be removed from pandas in a future version. Use pandas.concat instead.\n",
            "  df_stocks = df_stocks.append(df_temp_stock)  # Append the current DataFrame to the main DataFrame\n"
          ]
        },
        {
          "output_type": "stream",
          "name": "stdout",
          "text": [
            "\r[*********************100%%**********************]  1 of 1 completed"
          ]
        },
        {
          "output_type": "stream",
          "name": "stderr",
          "text": [
            "ERROR:yfinance:\n",
            "1 Failed download:\n",
            "ERROR:yfinance:['ABC']: Exception('%ticker%: No timezone found, symbol may be delisted')\n"
          ]
        },
        {
          "output_type": "stream",
          "name": "stdout",
          "text": [
            "\n"
          ]
        },
        {
          "output_type": "stream",
          "name": "stderr",
          "text": [
            "<ipython-input-13-7cea9a5d8bad>:14: FutureWarning: The frame.append method is deprecated and will be removed from pandas in a future version. Use pandas.concat instead.\n",
            "  df_stocks = df_stocks.append(df_temp_stock)  # Append the current DataFrame to the main DataFrame\n"
          ]
        },
        {
          "output_type": "stream",
          "name": "stdout",
          "text": [
            "\r[*********************100%%**********************]  1 of 1 completed\n"
          ]
        },
        {
          "output_type": "stream",
          "name": "stderr",
          "text": [
            "<ipython-input-13-7cea9a5d8bad>:14: FutureWarning: The frame.append method is deprecated and will be removed from pandas in a future version. Use pandas.concat instead.\n",
            "  df_stocks = df_stocks.append(df_temp_stock)  # Append the current DataFrame to the main DataFrame\n"
          ]
        },
        {
          "output_type": "stream",
          "name": "stdout",
          "text": [
            "\r[*********************100%%**********************]  1 of 1 completed\n"
          ]
        },
        {
          "output_type": "stream",
          "name": "stderr",
          "text": [
            "<ipython-input-13-7cea9a5d8bad>:14: FutureWarning: The frame.append method is deprecated and will be removed from pandas in a future version. Use pandas.concat instead.\n",
            "  df_stocks = df_stocks.append(df_temp_stock)  # Append the current DataFrame to the main DataFrame\n"
          ]
        },
        {
          "output_type": "stream",
          "name": "stdout",
          "text": [
            "[*********************100%%**********************]  1 of 1 completed\n",
            "[*********************100%%**********************]  1 of 1 completed\n"
          ]
        },
        {
          "output_type": "stream",
          "name": "stderr",
          "text": [
            "<ipython-input-13-7cea9a5d8bad>:14: FutureWarning: The frame.append method is deprecated and will be removed from pandas in a future version. Use pandas.concat instead.\n",
            "  df_stocks = df_stocks.append(df_temp_stock)  # Append the current DataFrame to the main DataFrame\n",
            "<ipython-input-13-7cea9a5d8bad>:14: FutureWarning: The frame.append method is deprecated and will be removed from pandas in a future version. Use pandas.concat instead.\n",
            "  df_stocks = df_stocks.append(df_temp_stock)  # Append the current DataFrame to the main DataFrame\n"
          ]
        },
        {
          "output_type": "stream",
          "name": "stdout",
          "text": [
            "\r[*********************100%%**********************]  1 of 1 completed\n"
          ]
        },
        {
          "output_type": "stream",
          "name": "stderr",
          "text": [
            "<ipython-input-13-7cea9a5d8bad>:14: FutureWarning: The frame.append method is deprecated and will be removed from pandas in a future version. Use pandas.concat instead.\n",
            "  df_stocks = df_stocks.append(df_temp_stock)  # Append the current DataFrame to the main DataFrame\n"
          ]
        },
        {
          "output_type": "stream",
          "name": "stdout",
          "text": [
            "\r[*********************100%%**********************]  1 of 1 completed\n"
          ]
        },
        {
          "output_type": "stream",
          "name": "stderr",
          "text": [
            "<ipython-input-13-7cea9a5d8bad>:14: FutureWarning: The frame.append method is deprecated and will be removed from pandas in a future version. Use pandas.concat instead.\n",
            "  df_stocks = df_stocks.append(df_temp_stock)  # Append the current DataFrame to the main DataFrame\n"
          ]
        },
        {
          "output_type": "stream",
          "name": "stdout",
          "text": [
            "\r[*********************100%%**********************]  1 of 1 completed\n"
          ]
        },
        {
          "output_type": "stream",
          "name": "stderr",
          "text": [
            "<ipython-input-13-7cea9a5d8bad>:14: FutureWarning: The frame.append method is deprecated and will be removed from pandas in a future version. Use pandas.concat instead.\n",
            "  df_stocks = df_stocks.append(df_temp_stock)  # Append the current DataFrame to the main DataFrame\n"
          ]
        },
        {
          "output_type": "stream",
          "name": "stdout",
          "text": [
            "\r[*********************100%%**********************]  1 of 1 completed\n"
          ]
        },
        {
          "output_type": "stream",
          "name": "stderr",
          "text": [
            "<ipython-input-13-7cea9a5d8bad>:14: FutureWarning: The frame.append method is deprecated and will be removed from pandas in a future version. Use pandas.concat instead.\n",
            "  df_stocks = df_stocks.append(df_temp_stock)  # Append the current DataFrame to the main DataFrame\n"
          ]
        },
        {
          "output_type": "stream",
          "name": "stdout",
          "text": [
            "\r[*********************100%%**********************]  1 of 1 completed\n"
          ]
        },
        {
          "output_type": "stream",
          "name": "stderr",
          "text": [
            "<ipython-input-13-7cea9a5d8bad>:14: FutureWarning: The frame.append method is deprecated and will be removed from pandas in a future version. Use pandas.concat instead.\n",
            "  df_stocks = df_stocks.append(df_temp_stock)  # Append the current DataFrame to the main DataFrame\n"
          ]
        },
        {
          "output_type": "stream",
          "name": "stdout",
          "text": [
            "\r[*********************100%%**********************]  1 of 1 completed\n"
          ]
        },
        {
          "output_type": "stream",
          "name": "stderr",
          "text": [
            "<ipython-input-13-7cea9a5d8bad>:14: FutureWarning: The frame.append method is deprecated and will be removed from pandas in a future version. Use pandas.concat instead.\n",
            "  df_stocks = df_stocks.append(df_temp_stock)  # Append the current DataFrame to the main DataFrame\n"
          ]
        },
        {
          "output_type": "stream",
          "name": "stdout",
          "text": [
            "\r[*********************100%%**********************]  1 of 1 completed\n"
          ]
        },
        {
          "output_type": "stream",
          "name": "stderr",
          "text": [
            "<ipython-input-13-7cea9a5d8bad>:14: FutureWarning: The frame.append method is deprecated and will be removed from pandas in a future version. Use pandas.concat instead.\n",
            "  df_stocks = df_stocks.append(df_temp_stock)  # Append the current DataFrame to the main DataFrame\n"
          ]
        },
        {
          "output_type": "stream",
          "name": "stdout",
          "text": [
            "\r[*********************100%%**********************]  1 of 1 completed\n"
          ]
        },
        {
          "output_type": "stream",
          "name": "stderr",
          "text": [
            "<ipython-input-13-7cea9a5d8bad>:14: FutureWarning: The frame.append method is deprecated and will be removed from pandas in a future version. Use pandas.concat instead.\n",
            "  df_stocks = df_stocks.append(df_temp_stock)  # Append the current DataFrame to the main DataFrame\n"
          ]
        },
        {
          "output_type": "stream",
          "name": "stdout",
          "text": [
            "[*********************100%%**********************]  1 of 1 completed\n",
            "[*********************100%%**********************]  1 of 1 completed\n"
          ]
        },
        {
          "output_type": "stream",
          "name": "stderr",
          "text": [
            "<ipython-input-13-7cea9a5d8bad>:14: FutureWarning: The frame.append method is deprecated and will be removed from pandas in a future version. Use pandas.concat instead.\n",
            "  df_stocks = df_stocks.append(df_temp_stock)  # Append the current DataFrame to the main DataFrame\n",
            "<ipython-input-13-7cea9a5d8bad>:14: FutureWarning: The frame.append method is deprecated and will be removed from pandas in a future version. Use pandas.concat instead.\n",
            "  df_stocks = df_stocks.append(df_temp_stock)  # Append the current DataFrame to the main DataFrame\n"
          ]
        },
        {
          "output_type": "stream",
          "name": "stdout",
          "text": [
            "\r[*********************100%%**********************]  1 of 1 completed\n"
          ]
        },
        {
          "output_type": "stream",
          "name": "stderr",
          "text": [
            "<ipython-input-13-7cea9a5d8bad>:14: FutureWarning: The frame.append method is deprecated and will be removed from pandas in a future version. Use pandas.concat instead.\n",
            "  df_stocks = df_stocks.append(df_temp_stock)  # Append the current DataFrame to the main DataFrame\n"
          ]
        },
        {
          "output_type": "stream",
          "name": "stdout",
          "text": [
            "\r[*********************100%%**********************]  1 of 1 completed\n"
          ]
        },
        {
          "output_type": "stream",
          "name": "stderr",
          "text": [
            "<ipython-input-13-7cea9a5d8bad>:14: FutureWarning: The frame.append method is deprecated and will be removed from pandas in a future version. Use pandas.concat instead.\n",
            "  df_stocks = df_stocks.append(df_temp_stock)  # Append the current DataFrame to the main DataFrame\n"
          ]
        },
        {
          "output_type": "stream",
          "name": "stdout",
          "text": [
            "\r[*********************100%%**********************]  1 of 1 completed\n"
          ]
        },
        {
          "output_type": "stream",
          "name": "stderr",
          "text": [
            "<ipython-input-13-7cea9a5d8bad>:14: FutureWarning: The frame.append method is deprecated and will be removed from pandas in a future version. Use pandas.concat instead.\n",
            "  df_stocks = df_stocks.append(df_temp_stock)  # Append the current DataFrame to the main DataFrame\n"
          ]
        },
        {
          "output_type": "stream",
          "name": "stdout",
          "text": [
            "\r[*********************100%%**********************]  1 of 1 completed\n"
          ]
        },
        {
          "output_type": "stream",
          "name": "stderr",
          "text": [
            "<ipython-input-13-7cea9a5d8bad>:14: FutureWarning: The frame.append method is deprecated and will be removed from pandas in a future version. Use pandas.concat instead.\n",
            "  df_stocks = df_stocks.append(df_temp_stock)  # Append the current DataFrame to the main DataFrame\n"
          ]
        },
        {
          "output_type": "stream",
          "name": "stdout",
          "text": [
            "\r[*********************100%%**********************]  1 of 1 completed\n"
          ]
        },
        {
          "output_type": "stream",
          "name": "stderr",
          "text": [
            "<ipython-input-13-7cea9a5d8bad>:14: FutureWarning: The frame.append method is deprecated and will be removed from pandas in a future version. Use pandas.concat instead.\n",
            "  df_stocks = df_stocks.append(df_temp_stock)  # Append the current DataFrame to the main DataFrame\n"
          ]
        },
        {
          "output_type": "stream",
          "name": "stdout",
          "text": [
            "\r[*********************100%%**********************]  1 of 1 completed\n"
          ]
        },
        {
          "output_type": "stream",
          "name": "stderr",
          "text": [
            "<ipython-input-13-7cea9a5d8bad>:14: FutureWarning: The frame.append method is deprecated and will be removed from pandas in a future version. Use pandas.concat instead.\n",
            "  df_stocks = df_stocks.append(df_temp_stock)  # Append the current DataFrame to the main DataFrame\n"
          ]
        },
        {
          "output_type": "stream",
          "name": "stdout",
          "text": [
            "\r[*********************100%%**********************]  1 of 1 completed\n"
          ]
        },
        {
          "output_type": "stream",
          "name": "stderr",
          "text": [
            "<ipython-input-13-7cea9a5d8bad>:14: FutureWarning: The frame.append method is deprecated and will be removed from pandas in a future version. Use pandas.concat instead.\n",
            "  df_stocks = df_stocks.append(df_temp_stock)  # Append the current DataFrame to the main DataFrame\n"
          ]
        },
        {
          "output_type": "stream",
          "name": "stdout",
          "text": [
            "\r[*********************100%%**********************]  1 of 1 completed\n"
          ]
        },
        {
          "output_type": "stream",
          "name": "stderr",
          "text": [
            "<ipython-input-13-7cea9a5d8bad>:14: FutureWarning: The frame.append method is deprecated and will be removed from pandas in a future version. Use pandas.concat instead.\n",
            "  df_stocks = df_stocks.append(df_temp_stock)  # Append the current DataFrame to the main DataFrame\n"
          ]
        },
        {
          "output_type": "stream",
          "name": "stdout",
          "text": [
            "[*********************100%%**********************]  1 of 1 completed\n",
            "[*********************100%%**********************]  1 of 1 completed"
          ]
        },
        {
          "output_type": "stream",
          "name": "stderr",
          "text": [
            "<ipython-input-13-7cea9a5d8bad>:14: FutureWarning: The frame.append method is deprecated and will be removed from pandas in a future version. Use pandas.concat instead.\n",
            "  df_stocks = df_stocks.append(df_temp_stock)  # Append the current DataFrame to the main DataFrame\n",
            "<ipython-input-13-7cea9a5d8bad>:14: FutureWarning: The frame.append method is deprecated and will be removed from pandas in a future version. Use pandas.concat instead.\n",
            "  df_stocks = df_stocks.append(df_temp_stock)  # Append the current DataFrame to the main DataFrame\n"
          ]
        },
        {
          "output_type": "stream",
          "name": "stdout",
          "text": [
            "\n",
            "[*********************100%%**********************]  1 of 1 completed\n"
          ]
        },
        {
          "output_type": "stream",
          "name": "stderr",
          "text": [
            "<ipython-input-13-7cea9a5d8bad>:14: FutureWarning: The frame.append method is deprecated and will be removed from pandas in a future version. Use pandas.concat instead.\n",
            "  df_stocks = df_stocks.append(df_temp_stock)  # Append the current DataFrame to the main DataFrame\n"
          ]
        },
        {
          "output_type": "stream",
          "name": "stdout",
          "text": [
            "\r[*********************100%%**********************]  1 of 1 completed\n"
          ]
        },
        {
          "output_type": "stream",
          "name": "stderr",
          "text": [
            "<ipython-input-13-7cea9a5d8bad>:14: FutureWarning: The frame.append method is deprecated and will be removed from pandas in a future version. Use pandas.concat instead.\n",
            "  df_stocks = df_stocks.append(df_temp_stock)  # Append the current DataFrame to the main DataFrame\n"
          ]
        },
        {
          "output_type": "stream",
          "name": "stdout",
          "text": [
            "\r[*********************100%%**********************]  1 of 1 completed\n"
          ]
        },
        {
          "output_type": "stream",
          "name": "stderr",
          "text": [
            "<ipython-input-13-7cea9a5d8bad>:14: FutureWarning: The frame.append method is deprecated and will be removed from pandas in a future version. Use pandas.concat instead.\n",
            "  df_stocks = df_stocks.append(df_temp_stock)  # Append the current DataFrame to the main DataFrame\n"
          ]
        },
        {
          "output_type": "stream",
          "name": "stdout",
          "text": [
            "\r[*********************100%%**********************]  1 of 1 completed\n"
          ]
        },
        {
          "output_type": "stream",
          "name": "stderr",
          "text": [
            "<ipython-input-13-7cea9a5d8bad>:14: FutureWarning: The frame.append method is deprecated and will be removed from pandas in a future version. Use pandas.concat instead.\n",
            "  df_stocks = df_stocks.append(df_temp_stock)  # Append the current DataFrame to the main DataFrame\n"
          ]
        },
        {
          "output_type": "stream",
          "name": "stdout",
          "text": [
            "\r[*********************100%%**********************]  1 of 1 completed\n"
          ]
        },
        {
          "output_type": "stream",
          "name": "stderr",
          "text": [
            "<ipython-input-13-7cea9a5d8bad>:14: FutureWarning: The frame.append method is deprecated and will be removed from pandas in a future version. Use pandas.concat instead.\n",
            "  df_stocks = df_stocks.append(df_temp_stock)  # Append the current DataFrame to the main DataFrame\n"
          ]
        },
        {
          "output_type": "stream",
          "name": "stdout",
          "text": [
            "\r[*********************100%%**********************]  1 of 1 completed\n"
          ]
        },
        {
          "output_type": "stream",
          "name": "stderr",
          "text": [
            "<ipython-input-13-7cea9a5d8bad>:14: FutureWarning: The frame.append method is deprecated and will be removed from pandas in a future version. Use pandas.concat instead.\n",
            "  df_stocks = df_stocks.append(df_temp_stock)  # Append the current DataFrame to the main DataFrame\n"
          ]
        },
        {
          "output_type": "stream",
          "name": "stdout",
          "text": [
            "\r[*********************100%%**********************]  1 of 1 completed\n"
          ]
        },
        {
          "output_type": "stream",
          "name": "stderr",
          "text": [
            "<ipython-input-13-7cea9a5d8bad>:14: FutureWarning: The frame.append method is deprecated and will be removed from pandas in a future version. Use pandas.concat instead.\n",
            "  df_stocks = df_stocks.append(df_temp_stock)  # Append the current DataFrame to the main DataFrame\n"
          ]
        },
        {
          "output_type": "stream",
          "name": "stdout",
          "text": [
            "\r[*********************100%%**********************]  1 of 1 completed\n"
          ]
        },
        {
          "output_type": "stream",
          "name": "stderr",
          "text": [
            "<ipython-input-13-7cea9a5d8bad>:14: FutureWarning: The frame.append method is deprecated and will be removed from pandas in a future version. Use pandas.concat instead.\n",
            "  df_stocks = df_stocks.append(df_temp_stock)  # Append the current DataFrame to the main DataFrame\n"
          ]
        },
        {
          "output_type": "stream",
          "name": "stdout",
          "text": [
            "\r[*********************100%%**********************]  1 of 1 completed\n"
          ]
        },
        {
          "output_type": "stream",
          "name": "stderr",
          "text": [
            "<ipython-input-13-7cea9a5d8bad>:14: FutureWarning: The frame.append method is deprecated and will be removed from pandas in a future version. Use pandas.concat instead.\n",
            "  df_stocks = df_stocks.append(df_temp_stock)  # Append the current DataFrame to the main DataFrame\n"
          ]
        },
        {
          "output_type": "stream",
          "name": "stdout",
          "text": [
            "\r[*********************100%%**********************]  1 of 1 completed\n"
          ]
        },
        {
          "output_type": "stream",
          "name": "stderr",
          "text": [
            "<ipython-input-13-7cea9a5d8bad>:14: FutureWarning: The frame.append method is deprecated and will be removed from pandas in a future version. Use pandas.concat instead.\n",
            "  df_stocks = df_stocks.append(df_temp_stock)  # Append the current DataFrame to the main DataFrame\n"
          ]
        },
        {
          "output_type": "stream",
          "name": "stdout",
          "text": [
            "\r[*********************100%%**********************]  1 of 1 completed\n"
          ]
        },
        {
          "output_type": "stream",
          "name": "stderr",
          "text": [
            "<ipython-input-13-7cea9a5d8bad>:14: FutureWarning: The frame.append method is deprecated and will be removed from pandas in a future version. Use pandas.concat instead.\n",
            "  df_stocks = df_stocks.append(df_temp_stock)  # Append the current DataFrame to the main DataFrame\n"
          ]
        },
        {
          "output_type": "stream",
          "name": "stdout",
          "text": [
            "\r[*********************100%%**********************]  1 of 1 completed\n"
          ]
        },
        {
          "output_type": "stream",
          "name": "stderr",
          "text": [
            "<ipython-input-13-7cea9a5d8bad>:14: FutureWarning: The frame.append method is deprecated and will be removed from pandas in a future version. Use pandas.concat instead.\n",
            "  df_stocks = df_stocks.append(df_temp_stock)  # Append the current DataFrame to the main DataFrame\n"
          ]
        },
        {
          "output_type": "stream",
          "name": "stdout",
          "text": [
            "\r[*********************100%%**********************]  1 of 1 completed\n"
          ]
        },
        {
          "output_type": "stream",
          "name": "stderr",
          "text": [
            "<ipython-input-13-7cea9a5d8bad>:14: FutureWarning: The frame.append method is deprecated and will be removed from pandas in a future version. Use pandas.concat instead.\n",
            "  df_stocks = df_stocks.append(df_temp_stock)  # Append the current DataFrame to the main DataFrame\n"
          ]
        },
        {
          "output_type": "stream",
          "name": "stdout",
          "text": [
            "\r[*********************100%%**********************]  1 of 1 completed\n"
          ]
        },
        {
          "output_type": "stream",
          "name": "stderr",
          "text": [
            "<ipython-input-13-7cea9a5d8bad>:14: FutureWarning: The frame.append method is deprecated and will be removed from pandas in a future version. Use pandas.concat instead.\n",
            "  df_stocks = df_stocks.append(df_temp_stock)  # Append the current DataFrame to the main DataFrame\n"
          ]
        },
        {
          "output_type": "stream",
          "name": "stdout",
          "text": [
            "\r[*********************100%%**********************]  1 of 1 completed\n"
          ]
        },
        {
          "output_type": "stream",
          "name": "stderr",
          "text": [
            "<ipython-input-13-7cea9a5d8bad>:14: FutureWarning: The frame.append method is deprecated and will be removed from pandas in a future version. Use pandas.concat instead.\n",
            "  df_stocks = df_stocks.append(df_temp_stock)  # Append the current DataFrame to the main DataFrame\n"
          ]
        },
        {
          "output_type": "stream",
          "name": "stdout",
          "text": [
            "\r[*********************100%%**********************]  1 of 1 completed\n"
          ]
        },
        {
          "output_type": "stream",
          "name": "stderr",
          "text": [
            "<ipython-input-13-7cea9a5d8bad>:14: FutureWarning: The frame.append method is deprecated and will be removed from pandas in a future version. Use pandas.concat instead.\n",
            "  df_stocks = df_stocks.append(df_temp_stock)  # Append the current DataFrame to the main DataFrame\n"
          ]
        },
        {
          "output_type": "stream",
          "name": "stdout",
          "text": [
            "\r[*********************100%%**********************]  1 of 1 completed\n"
          ]
        },
        {
          "output_type": "stream",
          "name": "stderr",
          "text": [
            "<ipython-input-13-7cea9a5d8bad>:14: FutureWarning: The frame.append method is deprecated and will be removed from pandas in a future version. Use pandas.concat instead.\n",
            "  df_stocks = df_stocks.append(df_temp_stock)  # Append the current DataFrame to the main DataFrame\n"
          ]
        },
        {
          "output_type": "stream",
          "name": "stdout",
          "text": [
            "\r[*********************100%%**********************]  1 of 1 completed\n"
          ]
        },
        {
          "output_type": "stream",
          "name": "stderr",
          "text": [
            "<ipython-input-13-7cea9a5d8bad>:14: FutureWarning: The frame.append method is deprecated and will be removed from pandas in a future version. Use pandas.concat instead.\n",
            "  df_stocks = df_stocks.append(df_temp_stock)  # Append the current DataFrame to the main DataFrame\n"
          ]
        },
        {
          "output_type": "stream",
          "name": "stdout",
          "text": [
            "\r[*********************100%%**********************]  1 of 1 completed\n"
          ]
        },
        {
          "output_type": "stream",
          "name": "stderr",
          "text": [
            "<ipython-input-13-7cea9a5d8bad>:14: FutureWarning: The frame.append method is deprecated and will be removed from pandas in a future version. Use pandas.concat instead.\n",
            "  df_stocks = df_stocks.append(df_temp_stock)  # Append the current DataFrame to the main DataFrame\n"
          ]
        },
        {
          "output_type": "stream",
          "name": "stdout",
          "text": [
            "\r[*********************100%%**********************]  1 of 1 completed\n"
          ]
        },
        {
          "output_type": "stream",
          "name": "stderr",
          "text": [
            "<ipython-input-13-7cea9a5d8bad>:14: FutureWarning: The frame.append method is deprecated and will be removed from pandas in a future version. Use pandas.concat instead.\n",
            "  df_stocks = df_stocks.append(df_temp_stock)  # Append the current DataFrame to the main DataFrame\n"
          ]
        },
        {
          "output_type": "stream",
          "name": "stdout",
          "text": [
            "\r[*********************100%%**********************]  1 of 1 completed\n"
          ]
        },
        {
          "output_type": "stream",
          "name": "stderr",
          "text": [
            "<ipython-input-13-7cea9a5d8bad>:14: FutureWarning: The frame.append method is deprecated and will be removed from pandas in a future version. Use pandas.concat instead.\n",
            "  df_stocks = df_stocks.append(df_temp_stock)  # Append the current DataFrame to the main DataFrame\n"
          ]
        },
        {
          "output_type": "stream",
          "name": "stdout",
          "text": [
            "\r[*********************100%%**********************]  1 of 1 completed\n"
          ]
        },
        {
          "output_type": "stream",
          "name": "stderr",
          "text": [
            "<ipython-input-13-7cea9a5d8bad>:14: FutureWarning: The frame.append method is deprecated and will be removed from pandas in a future version. Use pandas.concat instead.\n",
            "  df_stocks = df_stocks.append(df_temp_stock)  # Append the current DataFrame to the main DataFrame\n"
          ]
        },
        {
          "output_type": "stream",
          "name": "stdout",
          "text": [
            "\r[*********************100%%**********************]  1 of 1 completed\n"
          ]
        },
        {
          "output_type": "stream",
          "name": "stderr",
          "text": [
            "<ipython-input-13-7cea9a5d8bad>:14: FutureWarning: The frame.append method is deprecated and will be removed from pandas in a future version. Use pandas.concat instead.\n",
            "  df_stocks = df_stocks.append(df_temp_stock)  # Append the current DataFrame to the main DataFrame\n"
          ]
        },
        {
          "output_type": "stream",
          "name": "stdout",
          "text": [
            "\r[*********************100%%**********************]  1 of 1 completed\n"
          ]
        },
        {
          "output_type": "stream",
          "name": "stderr",
          "text": [
            "<ipython-input-13-7cea9a5d8bad>:14: FutureWarning: The frame.append method is deprecated and will be removed from pandas in a future version. Use pandas.concat instead.\n",
            "  df_stocks = df_stocks.append(df_temp_stock)  # Append the current DataFrame to the main DataFrame\n"
          ]
        },
        {
          "output_type": "stream",
          "name": "stdout",
          "text": [
            "\r[*********************100%%**********************]  1 of 1 completed\n"
          ]
        },
        {
          "output_type": "stream",
          "name": "stderr",
          "text": [
            "<ipython-input-13-7cea9a5d8bad>:14: FutureWarning: The frame.append method is deprecated and will be removed from pandas in a future version. Use pandas.concat instead.\n",
            "  df_stocks = df_stocks.append(df_temp_stock)  # Append the current DataFrame to the main DataFrame\n"
          ]
        },
        {
          "output_type": "stream",
          "name": "stdout",
          "text": [
            "\r[*********************100%%**********************]  1 of 1 completed\n"
          ]
        },
        {
          "output_type": "stream",
          "name": "stderr",
          "text": [
            "<ipython-input-13-7cea9a5d8bad>:14: FutureWarning: The frame.append method is deprecated and will be removed from pandas in a future version. Use pandas.concat instead.\n",
            "  df_stocks = df_stocks.append(df_temp_stock)  # Append the current DataFrame to the main DataFrame\n"
          ]
        },
        {
          "output_type": "stream",
          "name": "stdout",
          "text": [
            "\r[*********************100%%**********************]  1 of 1 completed\n"
          ]
        },
        {
          "output_type": "stream",
          "name": "stderr",
          "text": [
            "<ipython-input-13-7cea9a5d8bad>:14: FutureWarning: The frame.append method is deprecated and will be removed from pandas in a future version. Use pandas.concat instead.\n",
            "  df_stocks = df_stocks.append(df_temp_stock)  # Append the current DataFrame to the main DataFrame\n"
          ]
        },
        {
          "output_type": "stream",
          "name": "stdout",
          "text": [
            "[*********************100%%**********************]  1 of 1 completed\n",
            "[*********************100%%**********************]  1 of 1 completed\n"
          ]
        },
        {
          "output_type": "stream",
          "name": "stderr",
          "text": [
            "<ipython-input-13-7cea9a5d8bad>:14: FutureWarning: The frame.append method is deprecated and will be removed from pandas in a future version. Use pandas.concat instead.\n",
            "  df_stocks = df_stocks.append(df_temp_stock)  # Append the current DataFrame to the main DataFrame\n",
            "<ipython-input-13-7cea9a5d8bad>:14: FutureWarning: The frame.append method is deprecated and will be removed from pandas in a future version. Use pandas.concat instead.\n",
            "  df_stocks = df_stocks.append(df_temp_stock)  # Append the current DataFrame to the main DataFrame\n"
          ]
        },
        {
          "output_type": "stream",
          "name": "stdout",
          "text": [
            "\r[*********************100%%**********************]  1 of 1 completed\n"
          ]
        },
        {
          "output_type": "stream",
          "name": "stderr",
          "text": [
            "<ipython-input-13-7cea9a5d8bad>:14: FutureWarning: The frame.append method is deprecated and will be removed from pandas in a future version. Use pandas.concat instead.\n",
            "  df_stocks = df_stocks.append(df_temp_stock)  # Append the current DataFrame to the main DataFrame\n"
          ]
        },
        {
          "output_type": "stream",
          "name": "stdout",
          "text": [
            "\r[*********************100%%**********************]  1 of 1 completed\n"
          ]
        },
        {
          "output_type": "stream",
          "name": "stderr",
          "text": [
            "<ipython-input-13-7cea9a5d8bad>:14: FutureWarning: The frame.append method is deprecated and will be removed from pandas in a future version. Use pandas.concat instead.\n",
            "  df_stocks = df_stocks.append(df_temp_stock)  # Append the current DataFrame to the main DataFrame\n"
          ]
        },
        {
          "output_type": "stream",
          "name": "stdout",
          "text": [
            "[*********************100%%**********************]  1 of 1 completed\n",
            "[*********************100%%**********************]  1 of 1 completed\n"
          ]
        },
        {
          "output_type": "stream",
          "name": "stderr",
          "text": [
            "<ipython-input-13-7cea9a5d8bad>:14: FutureWarning: The frame.append method is deprecated and will be removed from pandas in a future version. Use pandas.concat instead.\n",
            "  df_stocks = df_stocks.append(df_temp_stock)  # Append the current DataFrame to the main DataFrame\n",
            "<ipython-input-13-7cea9a5d8bad>:14: FutureWarning: The frame.append method is deprecated and will be removed from pandas in a future version. Use pandas.concat instead.\n",
            "  df_stocks = df_stocks.append(df_temp_stock)  # Append the current DataFrame to the main DataFrame\n"
          ]
        },
        {
          "output_type": "stream",
          "name": "stdout",
          "text": [
            "\r[*********************100%%**********************]  1 of 1 completed\n"
          ]
        },
        {
          "output_type": "stream",
          "name": "stderr",
          "text": [
            "<ipython-input-13-7cea9a5d8bad>:14: FutureWarning: The frame.append method is deprecated and will be removed from pandas in a future version. Use pandas.concat instead.\n",
            "  df_stocks = df_stocks.append(df_temp_stock)  # Append the current DataFrame to the main DataFrame\n"
          ]
        },
        {
          "output_type": "stream",
          "name": "stdout",
          "text": [
            "\r[*********************100%%**********************]  1 of 1 completed\n"
          ]
        },
        {
          "output_type": "stream",
          "name": "stderr",
          "text": [
            "<ipython-input-13-7cea9a5d8bad>:14: FutureWarning: The frame.append method is deprecated and will be removed from pandas in a future version. Use pandas.concat instead.\n",
            "  df_stocks = df_stocks.append(df_temp_stock)  # Append the current DataFrame to the main DataFrame\n"
          ]
        },
        {
          "output_type": "stream",
          "name": "stdout",
          "text": [
            "\r[*********************100%%**********************]  1 of 1 completed\n"
          ]
        },
        {
          "output_type": "stream",
          "name": "stderr",
          "text": [
            "<ipython-input-13-7cea9a5d8bad>:14: FutureWarning: The frame.append method is deprecated and will be removed from pandas in a future version. Use pandas.concat instead.\n",
            "  df_stocks = df_stocks.append(df_temp_stock)  # Append the current DataFrame to the main DataFrame\n"
          ]
        },
        {
          "output_type": "stream",
          "name": "stdout",
          "text": [
            "\r[*********************100%%**********************]  1 of 1 completed\n"
          ]
        },
        {
          "output_type": "stream",
          "name": "stderr",
          "text": [
            "<ipython-input-13-7cea9a5d8bad>:14: FutureWarning: The frame.append method is deprecated and will be removed from pandas in a future version. Use pandas.concat instead.\n",
            "  df_stocks = df_stocks.append(df_temp_stock)  # Append the current DataFrame to the main DataFrame\n"
          ]
        },
        {
          "output_type": "stream",
          "name": "stdout",
          "text": [
            "[*********************100%%**********************]  1 of 1 completed\n",
            "[*********************100%%**********************]  1 of 1 completed\n"
          ]
        },
        {
          "output_type": "stream",
          "name": "stderr",
          "text": [
            "<ipython-input-13-7cea9a5d8bad>:14: FutureWarning: The frame.append method is deprecated and will be removed from pandas in a future version. Use pandas.concat instead.\n",
            "  df_stocks = df_stocks.append(df_temp_stock)  # Append the current DataFrame to the main DataFrame\n",
            "<ipython-input-13-7cea9a5d8bad>:14: FutureWarning: The frame.append method is deprecated and will be removed from pandas in a future version. Use pandas.concat instead.\n",
            "  df_stocks = df_stocks.append(df_temp_stock)  # Append the current DataFrame to the main DataFrame\n"
          ]
        },
        {
          "output_type": "stream",
          "name": "stdout",
          "text": [
            "[*********************100%%**********************]  1 of 1 completed\n",
            "[*********************100%%**********************]  1 of 1 completed\n"
          ]
        },
        {
          "output_type": "stream",
          "name": "stderr",
          "text": [
            "<ipython-input-13-7cea9a5d8bad>:14: FutureWarning: The frame.append method is deprecated and will be removed from pandas in a future version. Use pandas.concat instead.\n",
            "  df_stocks = df_stocks.append(df_temp_stock)  # Append the current DataFrame to the main DataFrame\n",
            "<ipython-input-13-7cea9a5d8bad>:14: FutureWarning: The frame.append method is deprecated and will be removed from pandas in a future version. Use pandas.concat instead.\n",
            "  df_stocks = df_stocks.append(df_temp_stock)  # Append the current DataFrame to the main DataFrame\n"
          ]
        },
        {
          "output_type": "stream",
          "name": "stdout",
          "text": [
            "\r[*********************100%%**********************]  1 of 1 completed\n"
          ]
        },
        {
          "output_type": "stream",
          "name": "stderr",
          "text": [
            "<ipython-input-13-7cea9a5d8bad>:14: FutureWarning: The frame.append method is deprecated and will be removed from pandas in a future version. Use pandas.concat instead.\n",
            "  df_stocks = df_stocks.append(df_temp_stock)  # Append the current DataFrame to the main DataFrame\n"
          ]
        },
        {
          "output_type": "stream",
          "name": "stdout",
          "text": [
            "[*********************100%%**********************]  1 of 1 completed\n",
            "[*********************100%%**********************]  1 of 1 completed\n"
          ]
        },
        {
          "output_type": "stream",
          "name": "stderr",
          "text": [
            "<ipython-input-13-7cea9a5d8bad>:14: FutureWarning: The frame.append method is deprecated and will be removed from pandas in a future version. Use pandas.concat instead.\n",
            "  df_stocks = df_stocks.append(df_temp_stock)  # Append the current DataFrame to the main DataFrame\n",
            "<ipython-input-13-7cea9a5d8bad>:14: FutureWarning: The frame.append method is deprecated and will be removed from pandas in a future version. Use pandas.concat instead.\n",
            "  df_stocks = df_stocks.append(df_temp_stock)  # Append the current DataFrame to the main DataFrame\n"
          ]
        },
        {
          "output_type": "stream",
          "name": "stdout",
          "text": [
            "[*********************100%%**********************]  1 of 1 completed\n",
            "[*********************100%%**********************]  1 of 1 completed\n"
          ]
        },
        {
          "output_type": "stream",
          "name": "stderr",
          "text": [
            "<ipython-input-13-7cea9a5d8bad>:14: FutureWarning: The frame.append method is deprecated and will be removed from pandas in a future version. Use pandas.concat instead.\n",
            "  df_stocks = df_stocks.append(df_temp_stock)  # Append the current DataFrame to the main DataFrame\n",
            "<ipython-input-13-7cea9a5d8bad>:14: FutureWarning: The frame.append method is deprecated and will be removed from pandas in a future version. Use pandas.concat instead.\n",
            "  df_stocks = df_stocks.append(df_temp_stock)  # Append the current DataFrame to the main DataFrame\n"
          ]
        },
        {
          "output_type": "stream",
          "name": "stdout",
          "text": [
            "\r[*********************100%%**********************]  1 of 1 completed\n"
          ]
        },
        {
          "output_type": "stream",
          "name": "stderr",
          "text": [
            "<ipython-input-13-7cea9a5d8bad>:14: FutureWarning: The frame.append method is deprecated and will be removed from pandas in a future version. Use pandas.concat instead.\n",
            "  df_stocks = df_stocks.append(df_temp_stock)  # Append the current DataFrame to the main DataFrame\n"
          ]
        },
        {
          "output_type": "stream",
          "name": "stdout",
          "text": [
            "\r[*********************100%%**********************]  1 of 1 completed\n"
          ]
        },
        {
          "output_type": "stream",
          "name": "stderr",
          "text": [
            "<ipython-input-13-7cea9a5d8bad>:14: FutureWarning: The frame.append method is deprecated and will be removed from pandas in a future version. Use pandas.concat instead.\n",
            "  df_stocks = df_stocks.append(df_temp_stock)  # Append the current DataFrame to the main DataFrame\n"
          ]
        },
        {
          "output_type": "stream",
          "name": "stdout",
          "text": [
            "\r[*********************100%%**********************]  1 of 1 completed\n"
          ]
        },
        {
          "output_type": "stream",
          "name": "stderr",
          "text": [
            "<ipython-input-13-7cea9a5d8bad>:14: FutureWarning: The frame.append method is deprecated and will be removed from pandas in a future version. Use pandas.concat instead.\n",
            "  df_stocks = df_stocks.append(df_temp_stock)  # Append the current DataFrame to the main DataFrame\n"
          ]
        },
        {
          "output_type": "stream",
          "name": "stdout",
          "text": [
            "\r[*********************100%%**********************]  1 of 1 completed\n"
          ]
        },
        {
          "output_type": "stream",
          "name": "stderr",
          "text": [
            "<ipython-input-13-7cea9a5d8bad>:14: FutureWarning: The frame.append method is deprecated and will be removed from pandas in a future version. Use pandas.concat instead.\n",
            "  df_stocks = df_stocks.append(df_temp_stock)  # Append the current DataFrame to the main DataFrame\n"
          ]
        },
        {
          "output_type": "stream",
          "name": "stdout",
          "text": [
            "\r[*********************100%%**********************]  1 of 1 completed\n"
          ]
        },
        {
          "output_type": "stream",
          "name": "stderr",
          "text": [
            "<ipython-input-13-7cea9a5d8bad>:14: FutureWarning: The frame.append method is deprecated and will be removed from pandas in a future version. Use pandas.concat instead.\n",
            "  df_stocks = df_stocks.append(df_temp_stock)  # Append the current DataFrame to the main DataFrame\n"
          ]
        },
        {
          "output_type": "stream",
          "name": "stdout",
          "text": [
            "\r[*********************100%%**********************]  1 of 1 completed\n"
          ]
        },
        {
          "output_type": "stream",
          "name": "stderr",
          "text": [
            "<ipython-input-13-7cea9a5d8bad>:14: FutureWarning: The frame.append method is deprecated and will be removed from pandas in a future version. Use pandas.concat instead.\n",
            "  df_stocks = df_stocks.append(df_temp_stock)  # Append the current DataFrame to the main DataFrame\n"
          ]
        },
        {
          "output_type": "stream",
          "name": "stdout",
          "text": [
            "\r[*********************100%%**********************]  1 of 1 completed\n"
          ]
        },
        {
          "output_type": "stream",
          "name": "stderr",
          "text": [
            "<ipython-input-13-7cea9a5d8bad>:14: FutureWarning: The frame.append method is deprecated and will be removed from pandas in a future version. Use pandas.concat instead.\n",
            "  df_stocks = df_stocks.append(df_temp_stock)  # Append the current DataFrame to the main DataFrame\n"
          ]
        },
        {
          "output_type": "stream",
          "name": "stdout",
          "text": [
            "\r[*********************100%%**********************]  1 of 1 completed\n"
          ]
        },
        {
          "output_type": "stream",
          "name": "stderr",
          "text": [
            "<ipython-input-13-7cea9a5d8bad>:14: FutureWarning: The frame.append method is deprecated and will be removed from pandas in a future version. Use pandas.concat instead.\n",
            "  df_stocks = df_stocks.append(df_temp_stock)  # Append the current DataFrame to the main DataFrame\n"
          ]
        },
        {
          "output_type": "stream",
          "name": "stdout",
          "text": [
            "\r[*********************100%%**********************]  1 of 1 completed\n"
          ]
        },
        {
          "output_type": "stream",
          "name": "stderr",
          "text": [
            "<ipython-input-13-7cea9a5d8bad>:14: FutureWarning: The frame.append method is deprecated and will be removed from pandas in a future version. Use pandas.concat instead.\n",
            "  df_stocks = df_stocks.append(df_temp_stock)  # Append the current DataFrame to the main DataFrame\n"
          ]
        },
        {
          "output_type": "stream",
          "name": "stdout",
          "text": [
            "\r[*********************100%%**********************]  1 of 1 completed\n"
          ]
        },
        {
          "output_type": "stream",
          "name": "stderr",
          "text": [
            "<ipython-input-13-7cea9a5d8bad>:14: FutureWarning: The frame.append method is deprecated and will be removed from pandas in a future version. Use pandas.concat instead.\n",
            "  df_stocks = df_stocks.append(df_temp_stock)  # Append the current DataFrame to the main DataFrame\n"
          ]
        },
        {
          "output_type": "stream",
          "name": "stdout",
          "text": [
            "\r[*********************100%%**********************]  1 of 1 completed\n"
          ]
        },
        {
          "output_type": "stream",
          "name": "stderr",
          "text": [
            "<ipython-input-13-7cea9a5d8bad>:14: FutureWarning: The frame.append method is deprecated and will be removed from pandas in a future version. Use pandas.concat instead.\n",
            "  df_stocks = df_stocks.append(df_temp_stock)  # Append the current DataFrame to the main DataFrame\n"
          ]
        },
        {
          "output_type": "stream",
          "name": "stdout",
          "text": [
            "\r[*********************100%%**********************]  1 of 1 completed\n"
          ]
        },
        {
          "output_type": "stream",
          "name": "stderr",
          "text": [
            "<ipython-input-13-7cea9a5d8bad>:14: FutureWarning: The frame.append method is deprecated and will be removed from pandas in a future version. Use pandas.concat instead.\n",
            "  df_stocks = df_stocks.append(df_temp_stock)  # Append the current DataFrame to the main DataFrame\n"
          ]
        },
        {
          "output_type": "stream",
          "name": "stdout",
          "text": [
            "\r[*********************100%%**********************]  1 of 1 completed\n"
          ]
        },
        {
          "output_type": "stream",
          "name": "stderr",
          "text": [
            "<ipython-input-13-7cea9a5d8bad>:14: FutureWarning: The frame.append method is deprecated and will be removed from pandas in a future version. Use pandas.concat instead.\n",
            "  df_stocks = df_stocks.append(df_temp_stock)  # Append the current DataFrame to the main DataFrame\n"
          ]
        },
        {
          "output_type": "stream",
          "name": "stdout",
          "text": [
            "\r[*********************100%%**********************]  1 of 1 completed\n"
          ]
        },
        {
          "output_type": "stream",
          "name": "stderr",
          "text": [
            "<ipython-input-13-7cea9a5d8bad>:14: FutureWarning: The frame.append method is deprecated and will be removed from pandas in a future version. Use pandas.concat instead.\n",
            "  df_stocks = df_stocks.append(df_temp_stock)  # Append the current DataFrame to the main DataFrame\n"
          ]
        },
        {
          "output_type": "stream",
          "name": "stdout",
          "text": [
            "\r[*********************100%%**********************]  1 of 1 completed"
          ]
        },
        {
          "output_type": "stream",
          "name": "stderr",
          "text": [
            "ERROR:yfinance:\n",
            "1 Failed download:\n",
            "ERROR:yfinance:['ATVI']: Exception('%ticker%: No timezone found, symbol may be delisted')\n"
          ]
        },
        {
          "output_type": "stream",
          "name": "stdout",
          "text": [
            "\n"
          ]
        },
        {
          "output_type": "stream",
          "name": "stderr",
          "text": [
            "<ipython-input-13-7cea9a5d8bad>:14: FutureWarning: The frame.append method is deprecated and will be removed from pandas in a future version. Use pandas.concat instead.\n",
            "  df_stocks = df_stocks.append(df_temp_stock)  # Append the current DataFrame to the main DataFrame\n"
          ]
        },
        {
          "output_type": "stream",
          "name": "stdout",
          "text": [
            "\r[*********************100%%**********************]  1 of 1 completed\n"
          ]
        },
        {
          "output_type": "stream",
          "name": "stderr",
          "text": [
            "<ipython-input-13-7cea9a5d8bad>:14: FutureWarning: The frame.append method is deprecated and will be removed from pandas in a future version. Use pandas.concat instead.\n",
            "  df_stocks = df_stocks.append(df_temp_stock)  # Append the current DataFrame to the main DataFrame\n"
          ]
        },
        {
          "output_type": "stream",
          "name": "stdout",
          "text": [
            "\r[*********************100%%**********************]  1 of 1 completed\n"
          ]
        },
        {
          "output_type": "stream",
          "name": "stderr",
          "text": [
            "<ipython-input-13-7cea9a5d8bad>:14: FutureWarning: The frame.append method is deprecated and will be removed from pandas in a future version. Use pandas.concat instead.\n",
            "  df_stocks = df_stocks.append(df_temp_stock)  # Append the current DataFrame to the main DataFrame\n"
          ]
        },
        {
          "output_type": "stream",
          "name": "stdout",
          "text": [
            "\r[*********************100%%**********************]  1 of 1 completed\n"
          ]
        },
        {
          "output_type": "stream",
          "name": "stderr",
          "text": [
            "<ipython-input-13-7cea9a5d8bad>:14: FutureWarning: The frame.append method is deprecated and will be removed from pandas in a future version. Use pandas.concat instead.\n",
            "  df_stocks = df_stocks.append(df_temp_stock)  # Append the current DataFrame to the main DataFrame\n"
          ]
        },
        {
          "output_type": "stream",
          "name": "stdout",
          "text": [
            "\r[*********************100%%**********************]  1 of 1 completed\n"
          ]
        },
        {
          "output_type": "stream",
          "name": "stderr",
          "text": [
            "<ipython-input-13-7cea9a5d8bad>:14: FutureWarning: The frame.append method is deprecated and will be removed from pandas in a future version. Use pandas.concat instead.\n",
            "  df_stocks = df_stocks.append(df_temp_stock)  # Append the current DataFrame to the main DataFrame\n"
          ]
        },
        {
          "output_type": "stream",
          "name": "stdout",
          "text": [
            "\r[*********************100%%**********************]  1 of 1 completed\n"
          ]
        },
        {
          "output_type": "stream",
          "name": "stderr",
          "text": [
            "<ipython-input-13-7cea9a5d8bad>:14: FutureWarning: The frame.append method is deprecated and will be removed from pandas in a future version. Use pandas.concat instead.\n",
            "  df_stocks = df_stocks.append(df_temp_stock)  # Append the current DataFrame to the main DataFrame\n"
          ]
        },
        {
          "output_type": "stream",
          "name": "stdout",
          "text": [
            "\r[*********************100%%**********************]  1 of 1 completed\n"
          ]
        },
        {
          "output_type": "stream",
          "name": "stderr",
          "text": [
            "<ipython-input-13-7cea9a5d8bad>:14: FutureWarning: The frame.append method is deprecated and will be removed from pandas in a future version. Use pandas.concat instead.\n",
            "  df_stocks = df_stocks.append(df_temp_stock)  # Append the current DataFrame to the main DataFrame\n"
          ]
        },
        {
          "output_type": "stream",
          "name": "stdout",
          "text": [
            "[*********************100%%**********************]  1 of 1 completed\n",
            "[*********************100%%**********************]  1 of 1 completed\n"
          ]
        },
        {
          "output_type": "stream",
          "name": "stderr",
          "text": [
            "<ipython-input-13-7cea9a5d8bad>:14: FutureWarning: The frame.append method is deprecated and will be removed from pandas in a future version. Use pandas.concat instead.\n",
            "  df_stocks = df_stocks.append(df_temp_stock)  # Append the current DataFrame to the main DataFrame\n",
            "<ipython-input-13-7cea9a5d8bad>:14: FutureWarning: The frame.append method is deprecated and will be removed from pandas in a future version. Use pandas.concat instead.\n",
            "  df_stocks = df_stocks.append(df_temp_stock)  # Append the current DataFrame to the main DataFrame\n"
          ]
        },
        {
          "output_type": "stream",
          "name": "stdout",
          "text": [
            "\r[*********************100%%**********************]  1 of 1 completed\n"
          ]
        },
        {
          "output_type": "stream",
          "name": "stderr",
          "text": [
            "<ipython-input-13-7cea9a5d8bad>:14: FutureWarning: The frame.append method is deprecated and will be removed from pandas in a future version. Use pandas.concat instead.\n",
            "  df_stocks = df_stocks.append(df_temp_stock)  # Append the current DataFrame to the main DataFrame\n"
          ]
        },
        {
          "output_type": "stream",
          "name": "stdout",
          "text": [
            "\r[*********************100%%**********************]  1 of 1 completed\n"
          ]
        },
        {
          "output_type": "stream",
          "name": "stderr",
          "text": [
            "<ipython-input-13-7cea9a5d8bad>:14: FutureWarning: The frame.append method is deprecated and will be removed from pandas in a future version. Use pandas.concat instead.\n",
            "  df_stocks = df_stocks.append(df_temp_stock)  # Append the current DataFrame to the main DataFrame\n"
          ]
        },
        {
          "output_type": "stream",
          "name": "stdout",
          "text": [
            "\r[*********************100%%**********************]  1 of 1 completed\n"
          ]
        },
        {
          "output_type": "stream",
          "name": "stderr",
          "text": [
            "<ipython-input-13-7cea9a5d8bad>:14: FutureWarning: The frame.append method is deprecated and will be removed from pandas in a future version. Use pandas.concat instead.\n",
            "  df_stocks = df_stocks.append(df_temp_stock)  # Append the current DataFrame to the main DataFrame\n"
          ]
        },
        {
          "output_type": "stream",
          "name": "stdout",
          "text": [
            "[*********************100%%**********************]  1 of 1 completed\n",
            "[*********************100%%**********************]  1 of 1 completed\n"
          ]
        },
        {
          "output_type": "stream",
          "name": "stderr",
          "text": [
            "<ipython-input-13-7cea9a5d8bad>:14: FutureWarning: The frame.append method is deprecated and will be removed from pandas in a future version. Use pandas.concat instead.\n",
            "  df_stocks = df_stocks.append(df_temp_stock)  # Append the current DataFrame to the main DataFrame\n",
            "<ipython-input-13-7cea9a5d8bad>:14: FutureWarning: The frame.append method is deprecated and will be removed from pandas in a future version. Use pandas.concat instead.\n",
            "  df_stocks = df_stocks.append(df_temp_stock)  # Append the current DataFrame to the main DataFrame\n"
          ]
        },
        {
          "output_type": "stream",
          "name": "stdout",
          "text": [
            "\r[*********************100%%**********************]  1 of 1 completed\n"
          ]
        },
        {
          "output_type": "stream",
          "name": "stderr",
          "text": [
            "<ipython-input-13-7cea9a5d8bad>:14: FutureWarning: The frame.append method is deprecated and will be removed from pandas in a future version. Use pandas.concat instead.\n",
            "  df_stocks = df_stocks.append(df_temp_stock)  # Append the current DataFrame to the main DataFrame\n"
          ]
        },
        {
          "output_type": "stream",
          "name": "stdout",
          "text": [
            "\r[*********************100%%**********************]  1 of 1 completed\n"
          ]
        },
        {
          "output_type": "stream",
          "name": "stderr",
          "text": [
            "<ipython-input-13-7cea9a5d8bad>:14: FutureWarning: The frame.append method is deprecated and will be removed from pandas in a future version. Use pandas.concat instead.\n",
            "  df_stocks = df_stocks.append(df_temp_stock)  # Append the current DataFrame to the main DataFrame\n"
          ]
        },
        {
          "output_type": "stream",
          "name": "stdout",
          "text": [
            "\r[*********************100%%**********************]  1 of 1 completed\n"
          ]
        },
        {
          "output_type": "stream",
          "name": "stderr",
          "text": [
            "<ipython-input-13-7cea9a5d8bad>:14: FutureWarning: The frame.append method is deprecated and will be removed from pandas in a future version. Use pandas.concat instead.\n",
            "  df_stocks = df_stocks.append(df_temp_stock)  # Append the current DataFrame to the main DataFrame\n"
          ]
        },
        {
          "output_type": "stream",
          "name": "stdout",
          "text": [
            "\r[*********************100%%**********************]  1 of 1 completed\n"
          ]
        },
        {
          "output_type": "stream",
          "name": "stderr",
          "text": [
            "<ipython-input-13-7cea9a5d8bad>:14: FutureWarning: The frame.append method is deprecated and will be removed from pandas in a future version. Use pandas.concat instead.\n",
            "  df_stocks = df_stocks.append(df_temp_stock)  # Append the current DataFrame to the main DataFrame\n"
          ]
        },
        {
          "output_type": "stream",
          "name": "stdout",
          "text": [
            "[*********************100%%**********************]  1 of 1 completed\n",
            "[*********************100%%**********************]  1 of 1 completed"
          ]
        },
        {
          "output_type": "stream",
          "name": "stderr",
          "text": [
            "<ipython-input-13-7cea9a5d8bad>:14: FutureWarning: The frame.append method is deprecated and will be removed from pandas in a future version. Use pandas.concat instead.\n",
            "  df_stocks = df_stocks.append(df_temp_stock)  # Append the current DataFrame to the main DataFrame\n"
          ]
        },
        {
          "output_type": "stream",
          "name": "stdout",
          "text": [
            "\n",
            "[*********************100%%**********************]  1 of 1 completed\n"
          ]
        },
        {
          "output_type": "stream",
          "name": "stderr",
          "text": [
            "<ipython-input-13-7cea9a5d8bad>:14: FutureWarning: The frame.append method is deprecated and will be removed from pandas in a future version. Use pandas.concat instead.\n",
            "  df_stocks = df_stocks.append(df_temp_stock)  # Append the current DataFrame to the main DataFrame\n",
            "<ipython-input-13-7cea9a5d8bad>:14: FutureWarning: The frame.append method is deprecated and will be removed from pandas in a future version. Use pandas.concat instead.\n",
            "  df_stocks = df_stocks.append(df_temp_stock)  # Append the current DataFrame to the main DataFrame\n"
          ]
        },
        {
          "output_type": "stream",
          "name": "stdout",
          "text": [
            "\r[*********************100%%**********************]  1 of 1 completed\n"
          ]
        },
        {
          "output_type": "stream",
          "name": "stderr",
          "text": [
            "<ipython-input-13-7cea9a5d8bad>:14: FutureWarning: The frame.append method is deprecated and will be removed from pandas in a future version. Use pandas.concat instead.\n",
            "  df_stocks = df_stocks.append(df_temp_stock)  # Append the current DataFrame to the main DataFrame\n"
          ]
        },
        {
          "output_type": "stream",
          "name": "stdout",
          "text": [
            "\r[*********************100%%**********************]  1 of 1 completed\n"
          ]
        },
        {
          "output_type": "stream",
          "name": "stderr",
          "text": [
            "<ipython-input-13-7cea9a5d8bad>:14: FutureWarning: The frame.append method is deprecated and will be removed from pandas in a future version. Use pandas.concat instead.\n",
            "  df_stocks = df_stocks.append(df_temp_stock)  # Append the current DataFrame to the main DataFrame\n"
          ]
        },
        {
          "output_type": "stream",
          "name": "stdout",
          "text": [
            "\r[*********************100%%**********************]  1 of 1 completed\n"
          ]
        },
        {
          "output_type": "stream",
          "name": "stderr",
          "text": [
            "<ipython-input-13-7cea9a5d8bad>:14: FutureWarning: The frame.append method is deprecated and will be removed from pandas in a future version. Use pandas.concat instead.\n",
            "  df_stocks = df_stocks.append(df_temp_stock)  # Append the current DataFrame to the main DataFrame\n"
          ]
        },
        {
          "output_type": "stream",
          "name": "stdout",
          "text": [
            "\r[*********************100%%**********************]  1 of 1 completed\n"
          ]
        },
        {
          "output_type": "stream",
          "name": "stderr",
          "text": [
            "<ipython-input-13-7cea9a5d8bad>:14: FutureWarning: The frame.append method is deprecated and will be removed from pandas in a future version. Use pandas.concat instead.\n",
            "  df_stocks = df_stocks.append(df_temp_stock)  # Append the current DataFrame to the main DataFrame\n"
          ]
        },
        {
          "output_type": "stream",
          "name": "stdout",
          "text": [
            "\r[*********************100%%**********************]  1 of 1 completed\n"
          ]
        },
        {
          "output_type": "stream",
          "name": "stderr",
          "text": [
            "<ipython-input-13-7cea9a5d8bad>:14: FutureWarning: The frame.append method is deprecated and will be removed from pandas in a future version. Use pandas.concat instead.\n",
            "  df_stocks = df_stocks.append(df_temp_stock)  # Append the current DataFrame to the main DataFrame\n"
          ]
        },
        {
          "output_type": "stream",
          "name": "stdout",
          "text": [
            "\r[*********************100%%**********************]  1 of 1 completed\n"
          ]
        },
        {
          "output_type": "stream",
          "name": "stderr",
          "text": [
            "<ipython-input-13-7cea9a5d8bad>:14: FutureWarning: The frame.append method is deprecated and will be removed from pandas in a future version. Use pandas.concat instead.\n",
            "  df_stocks = df_stocks.append(df_temp_stock)  # Append the current DataFrame to the main DataFrame\n"
          ]
        },
        {
          "output_type": "stream",
          "name": "stdout",
          "text": [
            "\r[*********************100%%**********************]  1 of 1 completed\n"
          ]
        },
        {
          "output_type": "stream",
          "name": "stderr",
          "text": [
            "<ipython-input-13-7cea9a5d8bad>:14: FutureWarning: The frame.append method is deprecated and will be removed from pandas in a future version. Use pandas.concat instead.\n",
            "  df_stocks = df_stocks.append(df_temp_stock)  # Append the current DataFrame to the main DataFrame\n"
          ]
        },
        {
          "output_type": "stream",
          "name": "stdout",
          "text": [
            "\r[*********************100%%**********************]  1 of 1 completed\n"
          ]
        },
        {
          "output_type": "stream",
          "name": "stderr",
          "text": [
            "<ipython-input-13-7cea9a5d8bad>:14: FutureWarning: The frame.append method is deprecated and will be removed from pandas in a future version. Use pandas.concat instead.\n",
            "  df_stocks = df_stocks.append(df_temp_stock)  # Append the current DataFrame to the main DataFrame\n"
          ]
        },
        {
          "output_type": "stream",
          "name": "stdout",
          "text": [
            "\r[*********************100%%**********************]  1 of 1 completed\n"
          ]
        },
        {
          "output_type": "stream",
          "name": "stderr",
          "text": [
            "<ipython-input-13-7cea9a5d8bad>:14: FutureWarning: The frame.append method is deprecated and will be removed from pandas in a future version. Use pandas.concat instead.\n",
            "  df_stocks = df_stocks.append(df_temp_stock)  # Append the current DataFrame to the main DataFrame\n"
          ]
        },
        {
          "output_type": "stream",
          "name": "stdout",
          "text": [
            "\r[*********************100%%**********************]  1 of 1 completed\n"
          ]
        },
        {
          "output_type": "stream",
          "name": "stderr",
          "text": [
            "<ipython-input-13-7cea9a5d8bad>:14: FutureWarning: The frame.append method is deprecated and will be removed from pandas in a future version. Use pandas.concat instead.\n",
            "  df_stocks = df_stocks.append(df_temp_stock)  # Append the current DataFrame to the main DataFrame\n"
          ]
        },
        {
          "output_type": "stream",
          "name": "stdout",
          "text": [
            "\r[*********************100%%**********************]  1 of 1 completed\n"
          ]
        },
        {
          "output_type": "stream",
          "name": "stderr",
          "text": [
            "<ipython-input-13-7cea9a5d8bad>:14: FutureWarning: The frame.append method is deprecated and will be removed from pandas in a future version. Use pandas.concat instead.\n",
            "  df_stocks = df_stocks.append(df_temp_stock)  # Append the current DataFrame to the main DataFrame\n"
          ]
        },
        {
          "output_type": "stream",
          "name": "stdout",
          "text": [
            "\r[*********************100%%**********************]  1 of 1 completed\n"
          ]
        },
        {
          "output_type": "stream",
          "name": "stderr",
          "text": [
            "<ipython-input-13-7cea9a5d8bad>:14: FutureWarning: The frame.append method is deprecated and will be removed from pandas in a future version. Use pandas.concat instead.\n",
            "  df_stocks = df_stocks.append(df_temp_stock)  # Append the current DataFrame to the main DataFrame\n"
          ]
        },
        {
          "output_type": "stream",
          "name": "stdout",
          "text": [
            "\r[*********************100%%**********************]  1 of 1 completed\n"
          ]
        },
        {
          "output_type": "stream",
          "name": "stderr",
          "text": [
            "<ipython-input-13-7cea9a5d8bad>:14: FutureWarning: The frame.append method is deprecated and will be removed from pandas in a future version. Use pandas.concat instead.\n",
            "  df_stocks = df_stocks.append(df_temp_stock)  # Append the current DataFrame to the main DataFrame\n"
          ]
        },
        {
          "output_type": "stream",
          "name": "stdout",
          "text": [
            "\r[*********************100%%**********************]  1 of 1 completed\n"
          ]
        },
        {
          "output_type": "stream",
          "name": "stderr",
          "text": [
            "<ipython-input-13-7cea9a5d8bad>:14: FutureWarning: The frame.append method is deprecated and will be removed from pandas in a future version. Use pandas.concat instead.\n",
            "  df_stocks = df_stocks.append(df_temp_stock)  # Append the current DataFrame to the main DataFrame\n"
          ]
        },
        {
          "output_type": "stream",
          "name": "stdout",
          "text": [
            "\r[*********************100%%**********************]  1 of 1 completed\n"
          ]
        },
        {
          "output_type": "stream",
          "name": "stderr",
          "text": [
            "<ipython-input-13-7cea9a5d8bad>:14: FutureWarning: The frame.append method is deprecated and will be removed from pandas in a future version. Use pandas.concat instead.\n",
            "  df_stocks = df_stocks.append(df_temp_stock)  # Append the current DataFrame to the main DataFrame\n"
          ]
        },
        {
          "output_type": "stream",
          "name": "stdout",
          "text": [
            "\r[*********************100%%**********************]  1 of 1 completed\n"
          ]
        },
        {
          "output_type": "stream",
          "name": "stderr",
          "text": [
            "<ipython-input-13-7cea9a5d8bad>:14: FutureWarning: The frame.append method is deprecated and will be removed from pandas in a future version. Use pandas.concat instead.\n",
            "  df_stocks = df_stocks.append(df_temp_stock)  # Append the current DataFrame to the main DataFrame\n"
          ]
        },
        {
          "output_type": "stream",
          "name": "stdout",
          "text": [
            "\r[*********************100%%**********************]  1 of 1 completed\n"
          ]
        },
        {
          "output_type": "stream",
          "name": "stderr",
          "text": [
            "<ipython-input-13-7cea9a5d8bad>:14: FutureWarning: The frame.append method is deprecated and will be removed from pandas in a future version. Use pandas.concat instead.\n",
            "  df_stocks = df_stocks.append(df_temp_stock)  # Append the current DataFrame to the main DataFrame\n"
          ]
        },
        {
          "output_type": "stream",
          "name": "stdout",
          "text": [
            "\r[*********************100%%**********************]  1 of 1 completed\n"
          ]
        },
        {
          "output_type": "stream",
          "name": "stderr",
          "text": [
            "<ipython-input-13-7cea9a5d8bad>:14: FutureWarning: The frame.append method is deprecated and will be removed from pandas in a future version. Use pandas.concat instead.\n",
            "  df_stocks = df_stocks.append(df_temp_stock)  # Append the current DataFrame to the main DataFrame\n"
          ]
        },
        {
          "output_type": "stream",
          "name": "stdout",
          "text": [
            "\r[*********************100%%**********************]  1 of 1 completed\n"
          ]
        },
        {
          "output_type": "stream",
          "name": "stderr",
          "text": [
            "<ipython-input-13-7cea9a5d8bad>:14: FutureWarning: The frame.append method is deprecated and will be removed from pandas in a future version. Use pandas.concat instead.\n",
            "  df_stocks = df_stocks.append(df_temp_stock)  # Append the current DataFrame to the main DataFrame\n"
          ]
        },
        {
          "output_type": "stream",
          "name": "stdout",
          "text": [
            "\r[*********************100%%**********************]  1 of 1 completed\n"
          ]
        },
        {
          "output_type": "stream",
          "name": "stderr",
          "text": [
            "<ipython-input-13-7cea9a5d8bad>:14: FutureWarning: The frame.append method is deprecated and will be removed from pandas in a future version. Use pandas.concat instead.\n",
            "  df_stocks = df_stocks.append(df_temp_stock)  # Append the current DataFrame to the main DataFrame\n"
          ]
        },
        {
          "output_type": "stream",
          "name": "stdout",
          "text": [
            "\r[*********************100%%**********************]  1 of 1 completed\n"
          ]
        },
        {
          "output_type": "stream",
          "name": "stderr",
          "text": [
            "<ipython-input-13-7cea9a5d8bad>:14: FutureWarning: The frame.append method is deprecated and will be removed from pandas in a future version. Use pandas.concat instead.\n",
            "  df_stocks = df_stocks.append(df_temp_stock)  # Append the current DataFrame to the main DataFrame\n"
          ]
        },
        {
          "output_type": "stream",
          "name": "stdout",
          "text": [
            "\r[*********************100%%**********************]  1 of 1 completed\n"
          ]
        },
        {
          "output_type": "stream",
          "name": "stderr",
          "text": [
            "<ipython-input-13-7cea9a5d8bad>:14: FutureWarning: The frame.append method is deprecated and will be removed from pandas in a future version. Use pandas.concat instead.\n",
            "  df_stocks = df_stocks.append(df_temp_stock)  # Append the current DataFrame to the main DataFrame\n"
          ]
        },
        {
          "output_type": "stream",
          "name": "stdout",
          "text": [
            "\r[*********************100%%**********************]  1 of 1 completed\n"
          ]
        },
        {
          "output_type": "stream",
          "name": "stderr",
          "text": [
            "<ipython-input-13-7cea9a5d8bad>:14: FutureWarning: The frame.append method is deprecated and will be removed from pandas in a future version. Use pandas.concat instead.\n",
            "  df_stocks = df_stocks.append(df_temp_stock)  # Append the current DataFrame to the main DataFrame\n"
          ]
        },
        {
          "output_type": "stream",
          "name": "stdout",
          "text": [
            "\r[*********************100%%**********************]  1 of 1 completed\n"
          ]
        },
        {
          "output_type": "stream",
          "name": "stderr",
          "text": [
            "<ipython-input-13-7cea9a5d8bad>:14: FutureWarning: The frame.append method is deprecated and will be removed from pandas in a future version. Use pandas.concat instead.\n",
            "  df_stocks = df_stocks.append(df_temp_stock)  # Append the current DataFrame to the main DataFrame\n"
          ]
        },
        {
          "output_type": "stream",
          "name": "stdout",
          "text": [
            "\r[*********************100%%**********************]  1 of 1 completed\n"
          ]
        },
        {
          "output_type": "stream",
          "name": "stderr",
          "text": [
            "<ipython-input-13-7cea9a5d8bad>:14: FutureWarning: The frame.append method is deprecated and will be removed from pandas in a future version. Use pandas.concat instead.\n",
            "  df_stocks = df_stocks.append(df_temp_stock)  # Append the current DataFrame to the main DataFrame\n"
          ]
        },
        {
          "output_type": "stream",
          "name": "stdout",
          "text": [
            "\r[*********************100%%**********************]  1 of 1 completed\n"
          ]
        },
        {
          "output_type": "stream",
          "name": "stderr",
          "text": [
            "<ipython-input-13-7cea9a5d8bad>:14: FutureWarning: The frame.append method is deprecated and will be removed from pandas in a future version. Use pandas.concat instead.\n",
            "  df_stocks = df_stocks.append(df_temp_stock)  # Append the current DataFrame to the main DataFrame\n"
          ]
        },
        {
          "output_type": "stream",
          "name": "stdout",
          "text": [
            "\r[*********************100%%**********************]  1 of 1 completed\n"
          ]
        },
        {
          "output_type": "stream",
          "name": "stderr",
          "text": [
            "<ipython-input-13-7cea9a5d8bad>:14: FutureWarning: The frame.append method is deprecated and will be removed from pandas in a future version. Use pandas.concat instead.\n",
            "  df_stocks = df_stocks.append(df_temp_stock)  # Append the current DataFrame to the main DataFrame\n"
          ]
        },
        {
          "output_type": "stream",
          "name": "stdout",
          "text": [
            "\r[*********************100%%**********************]  1 of 1 completed\n"
          ]
        },
        {
          "output_type": "stream",
          "name": "stderr",
          "text": [
            "<ipython-input-13-7cea9a5d8bad>:14: FutureWarning: The frame.append method is deprecated and will be removed from pandas in a future version. Use pandas.concat instead.\n",
            "  df_stocks = df_stocks.append(df_temp_stock)  # Append the current DataFrame to the main DataFrame\n"
          ]
        },
        {
          "output_type": "stream",
          "name": "stdout",
          "text": [
            "\r[*********************100%%**********************]  1 of 1 completed\n"
          ]
        },
        {
          "output_type": "stream",
          "name": "stderr",
          "text": [
            "<ipython-input-13-7cea9a5d8bad>:14: FutureWarning: The frame.append method is deprecated and will be removed from pandas in a future version. Use pandas.concat instead.\n",
            "  df_stocks = df_stocks.append(df_temp_stock)  # Append the current DataFrame to the main DataFrame\n"
          ]
        },
        {
          "output_type": "stream",
          "name": "stdout",
          "text": [
            "\r[*********************100%%**********************]  1 of 1 completed\n"
          ]
        },
        {
          "output_type": "stream",
          "name": "stderr",
          "text": [
            "<ipython-input-13-7cea9a5d8bad>:14: FutureWarning: The frame.append method is deprecated and will be removed from pandas in a future version. Use pandas.concat instead.\n",
            "  df_stocks = df_stocks.append(df_temp_stock)  # Append the current DataFrame to the main DataFrame\n"
          ]
        },
        {
          "output_type": "stream",
          "name": "stdout",
          "text": [
            "\r[*********************100%%**********************]  1 of 1 completed\n"
          ]
        },
        {
          "output_type": "stream",
          "name": "stderr",
          "text": [
            "<ipython-input-13-7cea9a5d8bad>:14: FutureWarning: The frame.append method is deprecated and will be removed from pandas in a future version. Use pandas.concat instead.\n",
            "  df_stocks = df_stocks.append(df_temp_stock)  # Append the current DataFrame to the main DataFrame\n"
          ]
        },
        {
          "output_type": "stream",
          "name": "stdout",
          "text": [
            "\r[*********************100%%**********************]  1 of 1 completed\n"
          ]
        },
        {
          "output_type": "stream",
          "name": "stderr",
          "text": [
            "<ipython-input-13-7cea9a5d8bad>:14: FutureWarning: The frame.append method is deprecated and will be removed from pandas in a future version. Use pandas.concat instead.\n",
            "  df_stocks = df_stocks.append(df_temp_stock)  # Append the current DataFrame to the main DataFrame\n"
          ]
        },
        {
          "output_type": "stream",
          "name": "stdout",
          "text": [
            "\r[*********************100%%**********************]  1 of 1 completed\n"
          ]
        },
        {
          "output_type": "stream",
          "name": "stderr",
          "text": [
            "<ipython-input-13-7cea9a5d8bad>:14: FutureWarning: The frame.append method is deprecated and will be removed from pandas in a future version. Use pandas.concat instead.\n",
            "  df_stocks = df_stocks.append(df_temp_stock)  # Append the current DataFrame to the main DataFrame\n"
          ]
        },
        {
          "output_type": "stream",
          "name": "stdout",
          "text": [
            "\r[*********************100%%**********************]  1 of 1 completed\n"
          ]
        },
        {
          "output_type": "stream",
          "name": "stderr",
          "text": [
            "<ipython-input-13-7cea9a5d8bad>:14: FutureWarning: The frame.append method is deprecated and will be removed from pandas in a future version. Use pandas.concat instead.\n",
            "  df_stocks = df_stocks.append(df_temp_stock)  # Append the current DataFrame to the main DataFrame\n"
          ]
        },
        {
          "output_type": "stream",
          "name": "stdout",
          "text": [
            "\r[*********************100%%**********************]  1 of 1 completed\n"
          ]
        },
        {
          "output_type": "stream",
          "name": "stderr",
          "text": [
            "<ipython-input-13-7cea9a5d8bad>:14: FutureWarning: The frame.append method is deprecated and will be removed from pandas in a future version. Use pandas.concat instead.\n",
            "  df_stocks = df_stocks.append(df_temp_stock)  # Append the current DataFrame to the main DataFrame\n"
          ]
        },
        {
          "output_type": "stream",
          "name": "stdout",
          "text": [
            "\r[*********************100%%**********************]  1 of 1 completed\n"
          ]
        },
        {
          "output_type": "stream",
          "name": "stderr",
          "text": [
            "<ipython-input-13-7cea9a5d8bad>:14: FutureWarning: The frame.append method is deprecated and will be removed from pandas in a future version. Use pandas.concat instead.\n",
            "  df_stocks = df_stocks.append(df_temp_stock)  # Append the current DataFrame to the main DataFrame\n"
          ]
        },
        {
          "output_type": "stream",
          "name": "stdout",
          "text": [
            "\r[*********************100%%**********************]  1 of 1 completed\n"
          ]
        },
        {
          "output_type": "stream",
          "name": "stderr",
          "text": [
            "<ipython-input-13-7cea9a5d8bad>:14: FutureWarning: The frame.append method is deprecated and will be removed from pandas in a future version. Use pandas.concat instead.\n",
            "  df_stocks = df_stocks.append(df_temp_stock)  # Append the current DataFrame to the main DataFrame\n"
          ]
        },
        {
          "output_type": "stream",
          "name": "stdout",
          "text": [
            "\r[*********************100%%**********************]  1 of 1 completed\n"
          ]
        },
        {
          "output_type": "stream",
          "name": "stderr",
          "text": [
            "<ipython-input-13-7cea9a5d8bad>:14: FutureWarning: The frame.append method is deprecated and will be removed from pandas in a future version. Use pandas.concat instead.\n",
            "  df_stocks = df_stocks.append(df_temp_stock)  # Append the current DataFrame to the main DataFrame\n"
          ]
        },
        {
          "output_type": "stream",
          "name": "stdout",
          "text": [
            "\r[*********************100%%**********************]  1 of 1 completed\n"
          ]
        },
        {
          "output_type": "stream",
          "name": "stderr",
          "text": [
            "<ipython-input-13-7cea9a5d8bad>:14: FutureWarning: The frame.append method is deprecated and will be removed from pandas in a future version. Use pandas.concat instead.\n",
            "  df_stocks = df_stocks.append(df_temp_stock)  # Append the current DataFrame to the main DataFrame\n"
          ]
        },
        {
          "output_type": "stream",
          "name": "stdout",
          "text": [
            "\r[*********************100%%**********************]  1 of 1 completed\n"
          ]
        },
        {
          "output_type": "stream",
          "name": "stderr",
          "text": [
            "<ipython-input-13-7cea9a5d8bad>:14: FutureWarning: The frame.append method is deprecated and will be removed from pandas in a future version. Use pandas.concat instead.\n",
            "  df_stocks = df_stocks.append(df_temp_stock)  # Append the current DataFrame to the main DataFrame\n"
          ]
        },
        {
          "output_type": "stream",
          "name": "stdout",
          "text": [
            "\r[*********************100%%**********************]  1 of 1 completed\n"
          ]
        },
        {
          "output_type": "stream",
          "name": "stderr",
          "text": [
            "<ipython-input-13-7cea9a5d8bad>:14: FutureWarning: The frame.append method is deprecated and will be removed from pandas in a future version. Use pandas.concat instead.\n",
            "  df_stocks = df_stocks.append(df_temp_stock)  # Append the current DataFrame to the main DataFrame\n"
          ]
        },
        {
          "output_type": "stream",
          "name": "stdout",
          "text": [
            "\r[*********************100%%**********************]  1 of 1 completed\n"
          ]
        },
        {
          "output_type": "stream",
          "name": "stderr",
          "text": [
            "<ipython-input-13-7cea9a5d8bad>:14: FutureWarning: The frame.append method is deprecated and will be removed from pandas in a future version. Use pandas.concat instead.\n",
            "  df_stocks = df_stocks.append(df_temp_stock)  # Append the current DataFrame to the main DataFrame\n"
          ]
        },
        {
          "output_type": "stream",
          "name": "stdout",
          "text": [
            "\r[*********************100%%**********************]  1 of 1 completed\n"
          ]
        },
        {
          "output_type": "stream",
          "name": "stderr",
          "text": [
            "<ipython-input-13-7cea9a5d8bad>:14: FutureWarning: The frame.append method is deprecated and will be removed from pandas in a future version. Use pandas.concat instead.\n",
            "  df_stocks = df_stocks.append(df_temp_stock)  # Append the current DataFrame to the main DataFrame\n"
          ]
        },
        {
          "output_type": "stream",
          "name": "stdout",
          "text": [
            "\r[*********************100%%**********************]  1 of 1 completed\n"
          ]
        },
        {
          "output_type": "stream",
          "name": "stderr",
          "text": [
            "<ipython-input-13-7cea9a5d8bad>:14: FutureWarning: The frame.append method is deprecated and will be removed from pandas in a future version. Use pandas.concat instead.\n",
            "  df_stocks = df_stocks.append(df_temp_stock)  # Append the current DataFrame to the main DataFrame\n"
          ]
        },
        {
          "output_type": "stream",
          "name": "stdout",
          "text": [
            "\r[*********************100%%**********************]  1 of 1 completed\n"
          ]
        },
        {
          "output_type": "stream",
          "name": "stderr",
          "text": [
            "<ipython-input-13-7cea9a5d8bad>:14: FutureWarning: The frame.append method is deprecated and will be removed from pandas in a future version. Use pandas.concat instead.\n",
            "  df_stocks = df_stocks.append(df_temp_stock)  # Append the current DataFrame to the main DataFrame\n"
          ]
        },
        {
          "output_type": "stream",
          "name": "stdout",
          "text": [
            "\r[*********************100%%**********************]  1 of 1 completed\n"
          ]
        },
        {
          "output_type": "stream",
          "name": "stderr",
          "text": [
            "<ipython-input-13-7cea9a5d8bad>:14: FutureWarning: The frame.append method is deprecated and will be removed from pandas in a future version. Use pandas.concat instead.\n",
            "  df_stocks = df_stocks.append(df_temp_stock)  # Append the current DataFrame to the main DataFrame\n"
          ]
        },
        {
          "output_type": "stream",
          "name": "stdout",
          "text": [
            "\r[*********************100%%**********************]  1 of 1 completed\n"
          ]
        },
        {
          "output_type": "stream",
          "name": "stderr",
          "text": [
            "<ipython-input-13-7cea9a5d8bad>:14: FutureWarning: The frame.append method is deprecated and will be removed from pandas in a future version. Use pandas.concat instead.\n",
            "  df_stocks = df_stocks.append(df_temp_stock)  # Append the current DataFrame to the main DataFrame\n"
          ]
        },
        {
          "output_type": "stream",
          "name": "stdout",
          "text": [
            "\r[*********************100%%**********************]  1 of 1 completed\n"
          ]
        },
        {
          "output_type": "stream",
          "name": "stderr",
          "text": [
            "<ipython-input-13-7cea9a5d8bad>:14: FutureWarning: The frame.append method is deprecated and will be removed from pandas in a future version. Use pandas.concat instead.\n",
            "  df_stocks = df_stocks.append(df_temp_stock)  # Append the current DataFrame to the main DataFrame\n"
          ]
        },
        {
          "output_type": "stream",
          "name": "stdout",
          "text": [
            "\r[*********************100%%**********************]  1 of 1 completed\n"
          ]
        },
        {
          "output_type": "stream",
          "name": "stderr",
          "text": [
            "<ipython-input-13-7cea9a5d8bad>:14: FutureWarning: The frame.append method is deprecated and will be removed from pandas in a future version. Use pandas.concat instead.\n",
            "  df_stocks = df_stocks.append(df_temp_stock)  # Append the current DataFrame to the main DataFrame\n"
          ]
        },
        {
          "output_type": "stream",
          "name": "stdout",
          "text": [
            "\r[*********************100%%**********************]  1 of 1 completed\n"
          ]
        },
        {
          "output_type": "stream",
          "name": "stderr",
          "text": [
            "<ipython-input-13-7cea9a5d8bad>:14: FutureWarning: The frame.append method is deprecated and will be removed from pandas in a future version. Use pandas.concat instead.\n",
            "  df_stocks = df_stocks.append(df_temp_stock)  # Append the current DataFrame to the main DataFrame\n"
          ]
        },
        {
          "output_type": "stream",
          "name": "stdout",
          "text": [
            "\r[*********************100%%**********************]  1 of 1 completed\n"
          ]
        },
        {
          "output_type": "stream",
          "name": "stderr",
          "text": [
            "<ipython-input-13-7cea9a5d8bad>:14: FutureWarning: The frame.append method is deprecated and will be removed from pandas in a future version. Use pandas.concat instead.\n",
            "  df_stocks = df_stocks.append(df_temp_stock)  # Append the current DataFrame to the main DataFrame\n"
          ]
        },
        {
          "output_type": "stream",
          "name": "stdout",
          "text": [
            "[*********************100%%**********************]  1 of 1 completed\n",
            "[*********************100%%**********************]  1 of 1 completed\n"
          ]
        },
        {
          "output_type": "stream",
          "name": "stderr",
          "text": [
            "<ipython-input-13-7cea9a5d8bad>:14: FutureWarning: The frame.append method is deprecated and will be removed from pandas in a future version. Use pandas.concat instead.\n",
            "  df_stocks = df_stocks.append(df_temp_stock)  # Append the current DataFrame to the main DataFrame\n",
            "<ipython-input-13-7cea9a5d8bad>:14: FutureWarning: The frame.append method is deprecated and will be removed from pandas in a future version. Use pandas.concat instead.\n",
            "  df_stocks = df_stocks.append(df_temp_stock)  # Append the current DataFrame to the main DataFrame\n"
          ]
        },
        {
          "output_type": "stream",
          "name": "stdout",
          "text": [
            "\r[*********************100%%**********************]  1 of 1 completed\n"
          ]
        },
        {
          "output_type": "stream",
          "name": "stderr",
          "text": [
            "<ipython-input-13-7cea9a5d8bad>:14: FutureWarning: The frame.append method is deprecated and will be removed from pandas in a future version. Use pandas.concat instead.\n",
            "  df_stocks = df_stocks.append(df_temp_stock)  # Append the current DataFrame to the main DataFrame\n"
          ]
        },
        {
          "output_type": "stream",
          "name": "stdout",
          "text": [
            "[*********************100%%**********************]  1 of 1 completed\n",
            "[*********************100%%**********************]  1 of 1 completed\n"
          ]
        },
        {
          "output_type": "stream",
          "name": "stderr",
          "text": [
            "<ipython-input-13-7cea9a5d8bad>:14: FutureWarning: The frame.append method is deprecated and will be removed from pandas in a future version. Use pandas.concat instead.\n",
            "  df_stocks = df_stocks.append(df_temp_stock)  # Append the current DataFrame to the main DataFrame\n",
            "<ipython-input-13-7cea9a5d8bad>:14: FutureWarning: The frame.append method is deprecated and will be removed from pandas in a future version. Use pandas.concat instead.\n",
            "  df_stocks = df_stocks.append(df_temp_stock)  # Append the current DataFrame to the main DataFrame\n"
          ]
        },
        {
          "output_type": "stream",
          "name": "stdout",
          "text": [
            "\r[*********************100%%**********************]  1 of 1 completed\n"
          ]
        },
        {
          "output_type": "stream",
          "name": "stderr",
          "text": [
            "<ipython-input-13-7cea9a5d8bad>:14: FutureWarning: The frame.append method is deprecated and will be removed from pandas in a future version. Use pandas.concat instead.\n",
            "  df_stocks = df_stocks.append(df_temp_stock)  # Append the current DataFrame to the main DataFrame\n"
          ]
        },
        {
          "output_type": "stream",
          "name": "stdout",
          "text": [
            "\r[*********************100%%**********************]  1 of 1 completed\n"
          ]
        },
        {
          "output_type": "stream",
          "name": "stderr",
          "text": [
            "<ipython-input-13-7cea9a5d8bad>:14: FutureWarning: The frame.append method is deprecated and will be removed from pandas in a future version. Use pandas.concat instead.\n",
            "  df_stocks = df_stocks.append(df_temp_stock)  # Append the current DataFrame to the main DataFrame\n"
          ]
        },
        {
          "output_type": "stream",
          "name": "stdout",
          "text": [
            "\r[*********************100%%**********************]  1 of 1 completed\n"
          ]
        },
        {
          "output_type": "stream",
          "name": "stderr",
          "text": [
            "<ipython-input-13-7cea9a5d8bad>:14: FutureWarning: The frame.append method is deprecated and will be removed from pandas in a future version. Use pandas.concat instead.\n",
            "  df_stocks = df_stocks.append(df_temp_stock)  # Append the current DataFrame to the main DataFrame\n"
          ]
        },
        {
          "output_type": "stream",
          "name": "stdout",
          "text": [
            "\r[*********************100%%**********************]  1 of 1 completed\n"
          ]
        },
        {
          "output_type": "stream",
          "name": "stderr",
          "text": [
            "<ipython-input-13-7cea9a5d8bad>:14: FutureWarning: The frame.append method is deprecated and will be removed from pandas in a future version. Use pandas.concat instead.\n",
            "  df_stocks = df_stocks.append(df_temp_stock)  # Append the current DataFrame to the main DataFrame\n"
          ]
        },
        {
          "output_type": "stream",
          "name": "stdout",
          "text": [
            "\r[*********************100%%**********************]  1 of 1 completed\n"
          ]
        },
        {
          "output_type": "stream",
          "name": "stderr",
          "text": [
            "<ipython-input-13-7cea9a5d8bad>:14: FutureWarning: The frame.append method is deprecated and will be removed from pandas in a future version. Use pandas.concat instead.\n",
            "  df_stocks = df_stocks.append(df_temp_stock)  # Append the current DataFrame to the main DataFrame\n"
          ]
        },
        {
          "output_type": "stream",
          "name": "stdout",
          "text": [
            "\r[*********************100%%**********************]  1 of 1 completed\n"
          ]
        },
        {
          "output_type": "stream",
          "name": "stderr",
          "text": [
            "<ipython-input-13-7cea9a5d8bad>:14: FutureWarning: The frame.append method is deprecated and will be removed from pandas in a future version. Use pandas.concat instead.\n",
            "  df_stocks = df_stocks.append(df_temp_stock)  # Append the current DataFrame to the main DataFrame\n"
          ]
        },
        {
          "output_type": "stream",
          "name": "stdout",
          "text": [
            "\r[*********************100%%**********************]  1 of 1 completed\n"
          ]
        },
        {
          "output_type": "stream",
          "name": "stderr",
          "text": [
            "<ipython-input-13-7cea9a5d8bad>:14: FutureWarning: The frame.append method is deprecated and will be removed from pandas in a future version. Use pandas.concat instead.\n",
            "  df_stocks = df_stocks.append(df_temp_stock)  # Append the current DataFrame to the main DataFrame\n"
          ]
        },
        {
          "output_type": "stream",
          "name": "stdout",
          "text": [
            "\r[*********************100%%**********************]  1 of 1 completed\n"
          ]
        },
        {
          "output_type": "stream",
          "name": "stderr",
          "text": [
            "<ipython-input-13-7cea9a5d8bad>:14: FutureWarning: The frame.append method is deprecated and will be removed from pandas in a future version. Use pandas.concat instead.\n",
            "  df_stocks = df_stocks.append(df_temp_stock)  # Append the current DataFrame to the main DataFrame\n"
          ]
        },
        {
          "output_type": "stream",
          "name": "stdout",
          "text": [
            "\r[*********************100%%**********************]  1 of 1 completed\n"
          ]
        },
        {
          "output_type": "stream",
          "name": "stderr",
          "text": [
            "<ipython-input-13-7cea9a5d8bad>:14: FutureWarning: The frame.append method is deprecated and will be removed from pandas in a future version. Use pandas.concat instead.\n",
            "  df_stocks = df_stocks.append(df_temp_stock)  # Append the current DataFrame to the main DataFrame\n"
          ]
        },
        {
          "output_type": "stream",
          "name": "stdout",
          "text": [
            "\r[*********************100%%**********************]  1 of 1 completed\n"
          ]
        },
        {
          "output_type": "stream",
          "name": "stderr",
          "text": [
            "<ipython-input-13-7cea9a5d8bad>:14: FutureWarning: The frame.append method is deprecated and will be removed from pandas in a future version. Use pandas.concat instead.\n",
            "  df_stocks = df_stocks.append(df_temp_stock)  # Append the current DataFrame to the main DataFrame\n"
          ]
        },
        {
          "output_type": "stream",
          "name": "stdout",
          "text": [
            "\r[*********************100%%**********************]  1 of 1 completed\n"
          ]
        },
        {
          "output_type": "stream",
          "name": "stderr",
          "text": [
            "<ipython-input-13-7cea9a5d8bad>:14: FutureWarning: The frame.append method is deprecated and will be removed from pandas in a future version. Use pandas.concat instead.\n",
            "  df_stocks = df_stocks.append(df_temp_stock)  # Append the current DataFrame to the main DataFrame\n"
          ]
        },
        {
          "output_type": "stream",
          "name": "stdout",
          "text": [
            "\r[*********************100%%**********************]  1 of 1 completed\n"
          ]
        },
        {
          "output_type": "stream",
          "name": "stderr",
          "text": [
            "<ipython-input-13-7cea9a5d8bad>:14: FutureWarning: The frame.append method is deprecated and will be removed from pandas in a future version. Use pandas.concat instead.\n",
            "  df_stocks = df_stocks.append(df_temp_stock)  # Append the current DataFrame to the main DataFrame\n"
          ]
        },
        {
          "output_type": "stream",
          "name": "stdout",
          "text": [
            "\r[*********************100%%**********************]  1 of 1 completed\n"
          ]
        },
        {
          "output_type": "stream",
          "name": "stderr",
          "text": [
            "<ipython-input-13-7cea9a5d8bad>:14: FutureWarning: The frame.append method is deprecated and will be removed from pandas in a future version. Use pandas.concat instead.\n",
            "  df_stocks = df_stocks.append(df_temp_stock)  # Append the current DataFrame to the main DataFrame\n"
          ]
        }
      ]
    },
    {
      "cell_type": "code",
      "source": [
        "df_stocks.head() # checking the structure of the df"
      ],
      "metadata": {
        "colab": {
          "base_uri": "https://localhost:8080/",
          "height": 238
        },
        "id": "vse3lafjnIx9",
        "outputId": "87e8b500-5dca-4fd5-b1fc-43f4bdff6b9f"
      },
      "execution_count": null,
      "outputs": [
        {
          "output_type": "execute_result",
          "data": {
            "text/plain": [
              "                 Open       High        Low      Close  Adj Close  \\\n",
              "Date                                                                \n",
              "2020-01-02  74.059998  75.150002  73.797501  75.087502  73.152649   \n",
              "2020-01-03  74.287498  75.144997  74.125000  74.357498  72.441452   \n",
              "2020-01-06  73.447502  74.989998  73.187500  74.949997  73.018700   \n",
              "2020-01-07  74.959999  75.224998  74.370003  74.597504  72.675285   \n",
              "2020-01-08  74.290001  76.110001  74.290001  75.797501  73.844330   \n",
              "\n",
              "                 Volume ticker  \n",
              "Date                            \n",
              "2020-01-02  135480400.0   AAPL  \n",
              "2020-01-03  146322800.0   AAPL  \n",
              "2020-01-06  118387200.0   AAPL  \n",
              "2020-01-07  108872000.0   AAPL  \n",
              "2020-01-08  132079200.0   AAPL  "
            ],
            "text/html": [
              "\n",
              "  <div id=\"df-a7aa2e3b-e0c3-4694-afa3-4e4a1dce661c\" class=\"colab-df-container\">\n",
              "    <div>\n",
              "<style scoped>\n",
              "    .dataframe tbody tr th:only-of-type {\n",
              "        vertical-align: middle;\n",
              "    }\n",
              "\n",
              "    .dataframe tbody tr th {\n",
              "        vertical-align: top;\n",
              "    }\n",
              "\n",
              "    .dataframe thead th {\n",
              "        text-align: right;\n",
              "    }\n",
              "</style>\n",
              "<table border=\"1\" class=\"dataframe\">\n",
              "  <thead>\n",
              "    <tr style=\"text-align: right;\">\n",
              "      <th></th>\n",
              "      <th>Open</th>\n",
              "      <th>High</th>\n",
              "      <th>Low</th>\n",
              "      <th>Close</th>\n",
              "      <th>Adj Close</th>\n",
              "      <th>Volume</th>\n",
              "      <th>ticker</th>\n",
              "    </tr>\n",
              "    <tr>\n",
              "      <th>Date</th>\n",
              "      <th></th>\n",
              "      <th></th>\n",
              "      <th></th>\n",
              "      <th></th>\n",
              "      <th></th>\n",
              "      <th></th>\n",
              "      <th></th>\n",
              "    </tr>\n",
              "  </thead>\n",
              "  <tbody>\n",
              "    <tr>\n",
              "      <th>2020-01-02</th>\n",
              "      <td>74.059998</td>\n",
              "      <td>75.150002</td>\n",
              "      <td>73.797501</td>\n",
              "      <td>75.087502</td>\n",
              "      <td>73.152649</td>\n",
              "      <td>135480400.0</td>\n",
              "      <td>AAPL</td>\n",
              "    </tr>\n",
              "    <tr>\n",
              "      <th>2020-01-03</th>\n",
              "      <td>74.287498</td>\n",
              "      <td>75.144997</td>\n",
              "      <td>74.125000</td>\n",
              "      <td>74.357498</td>\n",
              "      <td>72.441452</td>\n",
              "      <td>146322800.0</td>\n",
              "      <td>AAPL</td>\n",
              "    </tr>\n",
              "    <tr>\n",
              "      <th>2020-01-06</th>\n",
              "      <td>73.447502</td>\n",
              "      <td>74.989998</td>\n",
              "      <td>73.187500</td>\n",
              "      <td>74.949997</td>\n",
              "      <td>73.018700</td>\n",
              "      <td>118387200.0</td>\n",
              "      <td>AAPL</td>\n",
              "    </tr>\n",
              "    <tr>\n",
              "      <th>2020-01-07</th>\n",
              "      <td>74.959999</td>\n",
              "      <td>75.224998</td>\n",
              "      <td>74.370003</td>\n",
              "      <td>74.597504</td>\n",
              "      <td>72.675285</td>\n",
              "      <td>108872000.0</td>\n",
              "      <td>AAPL</td>\n",
              "    </tr>\n",
              "    <tr>\n",
              "      <th>2020-01-08</th>\n",
              "      <td>74.290001</td>\n",
              "      <td>76.110001</td>\n",
              "      <td>74.290001</td>\n",
              "      <td>75.797501</td>\n",
              "      <td>73.844330</td>\n",
              "      <td>132079200.0</td>\n",
              "      <td>AAPL</td>\n",
              "    </tr>\n",
              "  </tbody>\n",
              "</table>\n",
              "</div>\n",
              "    <div class=\"colab-df-buttons\">\n",
              "\n",
              "  <div class=\"colab-df-container\">\n",
              "    <button class=\"colab-df-convert\" onclick=\"convertToInteractive('df-a7aa2e3b-e0c3-4694-afa3-4e4a1dce661c')\"\n",
              "            title=\"Convert this dataframe to an interactive table.\"\n",
              "            style=\"display:none;\">\n",
              "\n",
              "  <svg xmlns=\"http://www.w3.org/2000/svg\" height=\"24px\" viewBox=\"0 -960 960 960\">\n",
              "    <path d=\"M120-120v-720h720v720H120Zm60-500h600v-160H180v160Zm220 220h160v-160H400v160Zm0 220h160v-160H400v160ZM180-400h160v-160H180v160Zm440 0h160v-160H620v160ZM180-180h160v-160H180v160Zm440 0h160v-160H620v160Z\"/>\n",
              "  </svg>\n",
              "    </button>\n",
              "\n",
              "  <style>\n",
              "    .colab-df-container {\n",
              "      display:flex;\n",
              "      gap: 12px;\n",
              "    }\n",
              "\n",
              "    .colab-df-convert {\n",
              "      background-color: #E8F0FE;\n",
              "      border: none;\n",
              "      border-radius: 50%;\n",
              "      cursor: pointer;\n",
              "      display: none;\n",
              "      fill: #1967D2;\n",
              "      height: 32px;\n",
              "      padding: 0 0 0 0;\n",
              "      width: 32px;\n",
              "    }\n",
              "\n",
              "    .colab-df-convert:hover {\n",
              "      background-color: #E2EBFA;\n",
              "      box-shadow: 0px 1px 2px rgba(60, 64, 67, 0.3), 0px 1px 3px 1px rgba(60, 64, 67, 0.15);\n",
              "      fill: #174EA6;\n",
              "    }\n",
              "\n",
              "    .colab-df-buttons div {\n",
              "      margin-bottom: 4px;\n",
              "    }\n",
              "\n",
              "    [theme=dark] .colab-df-convert {\n",
              "      background-color: #3B4455;\n",
              "      fill: #D2E3FC;\n",
              "    }\n",
              "\n",
              "    [theme=dark] .colab-df-convert:hover {\n",
              "      background-color: #434B5C;\n",
              "      box-shadow: 0px 1px 3px 1px rgba(0, 0, 0, 0.15);\n",
              "      filter: drop-shadow(0px 1px 2px rgba(0, 0, 0, 0.3));\n",
              "      fill: #FFFFFF;\n",
              "    }\n",
              "  </style>\n",
              "\n",
              "    <script>\n",
              "      const buttonEl =\n",
              "        document.querySelector('#df-a7aa2e3b-e0c3-4694-afa3-4e4a1dce661c button.colab-df-convert');\n",
              "      buttonEl.style.display =\n",
              "        google.colab.kernel.accessAllowed ? 'block' : 'none';\n",
              "\n",
              "      async function convertToInteractive(key) {\n",
              "        const element = document.querySelector('#df-a7aa2e3b-e0c3-4694-afa3-4e4a1dce661c');\n",
              "        const dataTable =\n",
              "          await google.colab.kernel.invokeFunction('convertToInteractive',\n",
              "                                                    [key], {});\n",
              "        if (!dataTable) return;\n",
              "\n",
              "        const docLinkHtml = 'Like what you see? Visit the ' +\n",
              "          '<a target=\"_blank\" href=https://colab.research.google.com/notebooks/data_table.ipynb>data table notebook</a>'\n",
              "          + ' to learn more about interactive tables.';\n",
              "        element.innerHTML = '';\n",
              "        dataTable['output_type'] = 'display_data';\n",
              "        await google.colab.output.renderOutput(dataTable, element);\n",
              "        const docLink = document.createElement('div');\n",
              "        docLink.innerHTML = docLinkHtml;\n",
              "        element.appendChild(docLink);\n",
              "      }\n",
              "    </script>\n",
              "  </div>\n",
              "\n",
              "\n",
              "<div id=\"df-e753e817-c354-4f28-b08c-5bb77452069b\">\n",
              "  <button class=\"colab-df-quickchart\" onclick=\"quickchart('df-e753e817-c354-4f28-b08c-5bb77452069b')\"\n",
              "            title=\"Suggest charts\"\n",
              "            style=\"display:none;\">\n",
              "\n",
              "<svg xmlns=\"http://www.w3.org/2000/svg\" height=\"24px\"viewBox=\"0 0 24 24\"\n",
              "     width=\"24px\">\n",
              "    <g>\n",
              "        <path d=\"M19 3H5c-1.1 0-2 .9-2 2v14c0 1.1.9 2 2 2h14c1.1 0 2-.9 2-2V5c0-1.1-.9-2-2-2zM9 17H7v-7h2v7zm4 0h-2V7h2v10zm4 0h-2v-4h2v4z\"/>\n",
              "    </g>\n",
              "</svg>\n",
              "  </button>\n",
              "\n",
              "<style>\n",
              "  .colab-df-quickchart {\n",
              "      --bg-color: #E8F0FE;\n",
              "      --fill-color: #1967D2;\n",
              "      --hover-bg-color: #E2EBFA;\n",
              "      --hover-fill-color: #174EA6;\n",
              "      --disabled-fill-color: #AAA;\n",
              "      --disabled-bg-color: #DDD;\n",
              "  }\n",
              "\n",
              "  [theme=dark] .colab-df-quickchart {\n",
              "      --bg-color: #3B4455;\n",
              "      --fill-color: #D2E3FC;\n",
              "      --hover-bg-color: #434B5C;\n",
              "      --hover-fill-color: #FFFFFF;\n",
              "      --disabled-bg-color: #3B4455;\n",
              "      --disabled-fill-color: #666;\n",
              "  }\n",
              "\n",
              "  .colab-df-quickchart {\n",
              "    background-color: var(--bg-color);\n",
              "    border: none;\n",
              "    border-radius: 50%;\n",
              "    cursor: pointer;\n",
              "    display: none;\n",
              "    fill: var(--fill-color);\n",
              "    height: 32px;\n",
              "    padding: 0;\n",
              "    width: 32px;\n",
              "  }\n",
              "\n",
              "  .colab-df-quickchart:hover {\n",
              "    background-color: var(--hover-bg-color);\n",
              "    box-shadow: 0 1px 2px rgba(60, 64, 67, 0.3), 0 1px 3px 1px rgba(60, 64, 67, 0.15);\n",
              "    fill: var(--button-hover-fill-color);\n",
              "  }\n",
              "\n",
              "  .colab-df-quickchart-complete:disabled,\n",
              "  .colab-df-quickchart-complete:disabled:hover {\n",
              "    background-color: var(--disabled-bg-color);\n",
              "    fill: var(--disabled-fill-color);\n",
              "    box-shadow: none;\n",
              "  }\n",
              "\n",
              "  .colab-df-spinner {\n",
              "    border: 2px solid var(--fill-color);\n",
              "    border-color: transparent;\n",
              "    border-bottom-color: var(--fill-color);\n",
              "    animation:\n",
              "      spin 1s steps(1) infinite;\n",
              "  }\n",
              "\n",
              "  @keyframes spin {\n",
              "    0% {\n",
              "      border-color: transparent;\n",
              "      border-bottom-color: var(--fill-color);\n",
              "      border-left-color: var(--fill-color);\n",
              "    }\n",
              "    20% {\n",
              "      border-color: transparent;\n",
              "      border-left-color: var(--fill-color);\n",
              "      border-top-color: var(--fill-color);\n",
              "    }\n",
              "    30% {\n",
              "      border-color: transparent;\n",
              "      border-left-color: var(--fill-color);\n",
              "      border-top-color: var(--fill-color);\n",
              "      border-right-color: var(--fill-color);\n",
              "    }\n",
              "    40% {\n",
              "      border-color: transparent;\n",
              "      border-right-color: var(--fill-color);\n",
              "      border-top-color: var(--fill-color);\n",
              "    }\n",
              "    60% {\n",
              "      border-color: transparent;\n",
              "      border-right-color: var(--fill-color);\n",
              "    }\n",
              "    80% {\n",
              "      border-color: transparent;\n",
              "      border-right-color: var(--fill-color);\n",
              "      border-bottom-color: var(--fill-color);\n",
              "    }\n",
              "    90% {\n",
              "      border-color: transparent;\n",
              "      border-bottom-color: var(--fill-color);\n",
              "    }\n",
              "  }\n",
              "</style>\n",
              "\n",
              "  <script>\n",
              "    async function quickchart(key) {\n",
              "      const quickchartButtonEl =\n",
              "        document.querySelector('#' + key + ' button');\n",
              "      quickchartButtonEl.disabled = true;  // To prevent multiple clicks.\n",
              "      quickchartButtonEl.classList.add('colab-df-spinner');\n",
              "      try {\n",
              "        const charts = await google.colab.kernel.invokeFunction(\n",
              "            'suggestCharts', [key], {});\n",
              "      } catch (error) {\n",
              "        console.error('Error during call to suggestCharts:', error);\n",
              "      }\n",
              "      quickchartButtonEl.classList.remove('colab-df-spinner');\n",
              "      quickchartButtonEl.classList.add('colab-df-quickchart-complete');\n",
              "    }\n",
              "    (() => {\n",
              "      let quickchartButtonEl =\n",
              "        document.querySelector('#df-e753e817-c354-4f28-b08c-5bb77452069b button');\n",
              "      quickchartButtonEl.style.display =\n",
              "        google.colab.kernel.accessAllowed ? 'block' : 'none';\n",
              "    })();\n",
              "  </script>\n",
              "</div>\n",
              "\n",
              "    </div>\n",
              "  </div>\n"
            ]
          },
          "metadata": {},
          "execution_count": 14
        }
      ]
    },
    {
      "cell_type": "code",
      "source": [
        "df_stocks.to_csv('stocks_3yrs.csv', index=True) # exporting the stock info to check in the data visualization tool the usability of the data"
      ],
      "metadata": {
        "id": "f_NsLpQxVpMr"
      },
      "execution_count": null,
      "outputs": []
    },
    {
      "cell_type": "code",
      "source": [
        "df_balance.head()# checking the structure of the df"
      ],
      "metadata": {
        "colab": {
          "base_uri": "https://localhost:8080/",
          "height": 395
        },
        "id": "jmmuNKUPnXBi",
        "outputId": "29d91736-fa58-4138-afa8-2f14c973d447"
      },
      "execution_count": null,
      "outputs": [
        {
          "output_type": "execute_result",
          "data": {
            "text/plain": [
              "                       2023-09-30 00:00:00 2022-09-30 00:00:00  \\\n",
              "Treasury Shares Number                 0.0                 NaN   \n",
              "Ordinary Shares Number       15550061000.0       15943425000.0   \n",
              "Share Issued                 15550061000.0       15943425000.0   \n",
              "Net Debt                     81123000000.0       96423000000.0   \n",
              "Total Debt                  111088000000.0      120069000000.0   \n",
              "\n",
              "                       2021-09-30 00:00:00 2020-09-30 00:00:00 ticker  \\\n",
              "Treasury Shares Number                 NaN                 NaN   AAPL   \n",
              "Ordinary Shares Number       16426786000.0       16976763000.0   AAPL   \n",
              "Share Issued                 16426786000.0       16976763000.0   AAPL   \n",
              "Net Debt                     89779000000.0       74420000000.0   AAPL   \n",
              "Total Debt                  124719000000.0      112436000000.0   AAPL   \n",
              "\n",
              "                       2022-12-31 00:00:00 2021-12-31 00:00:00  \\\n",
              "Treasury Shares Number                 NaN                 NaN   \n",
              "Ordinary Shares Number                 NaN                 NaN   \n",
              "Share Issued                           NaN                 NaN   \n",
              "Net Debt                               NaN                 NaN   \n",
              "Total Debt                             NaN                 NaN   \n",
              "\n",
              "                       2020-12-31 00:00:00 2019-12-31 00:00:00  \\\n",
              "Treasury Shares Number                 NaN                 NaN   \n",
              "Ordinary Shares Number                 NaN                 NaN   \n",
              "Share Issued                           NaN                 NaN   \n",
              "Net Debt                               NaN                 NaN   \n",
              "Total Debt                             NaN                 NaN   \n",
              "\n",
              "                       2023-02-28 00:00:00  ... 2020-11-30 00:00:00  \\\n",
              "Treasury Shares Number                 NaN  ...                 NaN   \n",
              "Ordinary Shares Number                 NaN  ...                 NaN   \n",
              "Share Issued                           NaN  ...                 NaN   \n",
              "Net Debt                               NaN  ...                 NaN   \n",
              "Total Debt                             NaN  ...                 NaN   \n",
              "\n",
              "                       2023-04-30 00:00:00 2022-04-30 00:00:00  \\\n",
              "Treasury Shares Number                 NaN                 NaN   \n",
              "Ordinary Shares Number                 NaN                 NaN   \n",
              "Share Issued                           NaN                 NaN   \n",
              "Net Debt                               NaN                 NaN   \n",
              "Total Debt                             NaN                 NaN   \n",
              "\n",
              "                       2021-04-30 00:00:00 2020-04-30 00:00:00  \\\n",
              "Treasury Shares Number                 NaN                 NaN   \n",
              "Ordinary Shares Number                 NaN                 NaN   \n",
              "Share Issued                           NaN                 NaN   \n",
              "Net Debt                               NaN                 NaN   \n",
              "Total Debt                             NaN                 NaN   \n",
              "\n",
              "                       2023-03-31 00:00:00 2022-03-31 00:00:00  \\\n",
              "Treasury Shares Number                 NaN                 NaN   \n",
              "Ordinary Shares Number                 NaN                 NaN   \n",
              "Share Issued                           NaN                 NaN   \n",
              "Net Debt                               NaN                 NaN   \n",
              "Total Debt                             NaN                 NaN   \n",
              "\n",
              "                       2021-03-31 00:00:00 2020-03-31 00:00:00  \\\n",
              "Treasury Shares Number                 NaN                 NaN   \n",
              "Ordinary Shares Number                 NaN                 NaN   \n",
              "Share Issued                           NaN                 NaN   \n",
              "Net Debt                               NaN                 NaN   \n",
              "Total Debt                             NaN                 NaN   \n",
              "\n",
              "                       2023-11-30 00:00:00  \n",
              "Treasury Shares Number                 NaN  \n",
              "Ordinary Shares Number                 NaN  \n",
              "Share Issued                           NaN  \n",
              "Net Debt                               NaN  \n",
              "Total Debt                             NaN  \n",
              "\n",
              "[5 rows x 49 columns]"
            ],
            "text/html": [
              "\n",
              "  <div id=\"df-b4a9d305-1027-4c6c-9432-dbe437945916\" class=\"colab-df-container\">\n",
              "    <div>\n",
              "<style scoped>\n",
              "    .dataframe tbody tr th:only-of-type {\n",
              "        vertical-align: middle;\n",
              "    }\n",
              "\n",
              "    .dataframe tbody tr th {\n",
              "        vertical-align: top;\n",
              "    }\n",
              "\n",
              "    .dataframe thead th {\n",
              "        text-align: right;\n",
              "    }\n",
              "</style>\n",
              "<table border=\"1\" class=\"dataframe\">\n",
              "  <thead>\n",
              "    <tr style=\"text-align: right;\">\n",
              "      <th></th>\n",
              "      <th>2023-09-30 00:00:00</th>\n",
              "      <th>2022-09-30 00:00:00</th>\n",
              "      <th>2021-09-30 00:00:00</th>\n",
              "      <th>2020-09-30 00:00:00</th>\n",
              "      <th>ticker</th>\n",
              "      <th>2022-12-31 00:00:00</th>\n",
              "      <th>2021-12-31 00:00:00</th>\n",
              "      <th>2020-12-31 00:00:00</th>\n",
              "      <th>2019-12-31 00:00:00</th>\n",
              "      <th>2023-02-28 00:00:00</th>\n",
              "      <th>...</th>\n",
              "      <th>2020-11-30 00:00:00</th>\n",
              "      <th>2023-04-30 00:00:00</th>\n",
              "      <th>2022-04-30 00:00:00</th>\n",
              "      <th>2021-04-30 00:00:00</th>\n",
              "      <th>2020-04-30 00:00:00</th>\n",
              "      <th>2023-03-31 00:00:00</th>\n",
              "      <th>2022-03-31 00:00:00</th>\n",
              "      <th>2021-03-31 00:00:00</th>\n",
              "      <th>2020-03-31 00:00:00</th>\n",
              "      <th>2023-11-30 00:00:00</th>\n",
              "    </tr>\n",
              "  </thead>\n",
              "  <tbody>\n",
              "    <tr>\n",
              "      <th>Treasury Shares Number</th>\n",
              "      <td>0.0</td>\n",
              "      <td>NaN</td>\n",
              "      <td>NaN</td>\n",
              "      <td>NaN</td>\n",
              "      <td>AAPL</td>\n",
              "      <td>NaN</td>\n",
              "      <td>NaN</td>\n",
              "      <td>NaN</td>\n",
              "      <td>NaN</td>\n",
              "      <td>NaN</td>\n",
              "      <td>...</td>\n",
              "      <td>NaN</td>\n",
              "      <td>NaN</td>\n",
              "      <td>NaN</td>\n",
              "      <td>NaN</td>\n",
              "      <td>NaN</td>\n",
              "      <td>NaN</td>\n",
              "      <td>NaN</td>\n",
              "      <td>NaN</td>\n",
              "      <td>NaN</td>\n",
              "      <td>NaN</td>\n",
              "    </tr>\n",
              "    <tr>\n",
              "      <th>Ordinary Shares Number</th>\n",
              "      <td>15550061000.0</td>\n",
              "      <td>15943425000.0</td>\n",
              "      <td>16426786000.0</td>\n",
              "      <td>16976763000.0</td>\n",
              "      <td>AAPL</td>\n",
              "      <td>NaN</td>\n",
              "      <td>NaN</td>\n",
              "      <td>NaN</td>\n",
              "      <td>NaN</td>\n",
              "      <td>NaN</td>\n",
              "      <td>...</td>\n",
              "      <td>NaN</td>\n",
              "      <td>NaN</td>\n",
              "      <td>NaN</td>\n",
              "      <td>NaN</td>\n",
              "      <td>NaN</td>\n",
              "      <td>NaN</td>\n",
              "      <td>NaN</td>\n",
              "      <td>NaN</td>\n",
              "      <td>NaN</td>\n",
              "      <td>NaN</td>\n",
              "    </tr>\n",
              "    <tr>\n",
              "      <th>Share Issued</th>\n",
              "      <td>15550061000.0</td>\n",
              "      <td>15943425000.0</td>\n",
              "      <td>16426786000.0</td>\n",
              "      <td>16976763000.0</td>\n",
              "      <td>AAPL</td>\n",
              "      <td>NaN</td>\n",
              "      <td>NaN</td>\n",
              "      <td>NaN</td>\n",
              "      <td>NaN</td>\n",
              "      <td>NaN</td>\n",
              "      <td>...</td>\n",
              "      <td>NaN</td>\n",
              "      <td>NaN</td>\n",
              "      <td>NaN</td>\n",
              "      <td>NaN</td>\n",
              "      <td>NaN</td>\n",
              "      <td>NaN</td>\n",
              "      <td>NaN</td>\n",
              "      <td>NaN</td>\n",
              "      <td>NaN</td>\n",
              "      <td>NaN</td>\n",
              "    </tr>\n",
              "    <tr>\n",
              "      <th>Net Debt</th>\n",
              "      <td>81123000000.0</td>\n",
              "      <td>96423000000.0</td>\n",
              "      <td>89779000000.0</td>\n",
              "      <td>74420000000.0</td>\n",
              "      <td>AAPL</td>\n",
              "      <td>NaN</td>\n",
              "      <td>NaN</td>\n",
              "      <td>NaN</td>\n",
              "      <td>NaN</td>\n",
              "      <td>NaN</td>\n",
              "      <td>...</td>\n",
              "      <td>NaN</td>\n",
              "      <td>NaN</td>\n",
              "      <td>NaN</td>\n",
              "      <td>NaN</td>\n",
              "      <td>NaN</td>\n",
              "      <td>NaN</td>\n",
              "      <td>NaN</td>\n",
              "      <td>NaN</td>\n",
              "      <td>NaN</td>\n",
              "      <td>NaN</td>\n",
              "    </tr>\n",
              "    <tr>\n",
              "      <th>Total Debt</th>\n",
              "      <td>111088000000.0</td>\n",
              "      <td>120069000000.0</td>\n",
              "      <td>124719000000.0</td>\n",
              "      <td>112436000000.0</td>\n",
              "      <td>AAPL</td>\n",
              "      <td>NaN</td>\n",
              "      <td>NaN</td>\n",
              "      <td>NaN</td>\n",
              "      <td>NaN</td>\n",
              "      <td>NaN</td>\n",
              "      <td>...</td>\n",
              "      <td>NaN</td>\n",
              "      <td>NaN</td>\n",
              "      <td>NaN</td>\n",
              "      <td>NaN</td>\n",
              "      <td>NaN</td>\n",
              "      <td>NaN</td>\n",
              "      <td>NaN</td>\n",
              "      <td>NaN</td>\n",
              "      <td>NaN</td>\n",
              "      <td>NaN</td>\n",
              "    </tr>\n",
              "  </tbody>\n",
              "</table>\n",
              "<p>5 rows × 49 columns</p>\n",
              "</div>\n",
              "    <div class=\"colab-df-buttons\">\n",
              "\n",
              "  <div class=\"colab-df-container\">\n",
              "    <button class=\"colab-df-convert\" onclick=\"convertToInteractive('df-b4a9d305-1027-4c6c-9432-dbe437945916')\"\n",
              "            title=\"Convert this dataframe to an interactive table.\"\n",
              "            style=\"display:none;\">\n",
              "\n",
              "  <svg xmlns=\"http://www.w3.org/2000/svg\" height=\"24px\" viewBox=\"0 -960 960 960\">\n",
              "    <path d=\"M120-120v-720h720v720H120Zm60-500h600v-160H180v160Zm220 220h160v-160H400v160Zm0 220h160v-160H400v160ZM180-400h160v-160H180v160Zm440 0h160v-160H620v160ZM180-180h160v-160H180v160Zm440 0h160v-160H620v160Z\"/>\n",
              "  </svg>\n",
              "    </button>\n",
              "\n",
              "  <style>\n",
              "    .colab-df-container {\n",
              "      display:flex;\n",
              "      gap: 12px;\n",
              "    }\n",
              "\n",
              "    .colab-df-convert {\n",
              "      background-color: #E8F0FE;\n",
              "      border: none;\n",
              "      border-radius: 50%;\n",
              "      cursor: pointer;\n",
              "      display: none;\n",
              "      fill: #1967D2;\n",
              "      height: 32px;\n",
              "      padding: 0 0 0 0;\n",
              "      width: 32px;\n",
              "    }\n",
              "\n",
              "    .colab-df-convert:hover {\n",
              "      background-color: #E2EBFA;\n",
              "      box-shadow: 0px 1px 2px rgba(60, 64, 67, 0.3), 0px 1px 3px 1px rgba(60, 64, 67, 0.15);\n",
              "      fill: #174EA6;\n",
              "    }\n",
              "\n",
              "    .colab-df-buttons div {\n",
              "      margin-bottom: 4px;\n",
              "    }\n",
              "\n",
              "    [theme=dark] .colab-df-convert {\n",
              "      background-color: #3B4455;\n",
              "      fill: #D2E3FC;\n",
              "    }\n",
              "\n",
              "    [theme=dark] .colab-df-convert:hover {\n",
              "      background-color: #434B5C;\n",
              "      box-shadow: 0px 1px 3px 1px rgba(0, 0, 0, 0.15);\n",
              "      filter: drop-shadow(0px 1px 2px rgba(0, 0, 0, 0.3));\n",
              "      fill: #FFFFFF;\n",
              "    }\n",
              "  </style>\n",
              "\n",
              "    <script>\n",
              "      const buttonEl =\n",
              "        document.querySelector('#df-b4a9d305-1027-4c6c-9432-dbe437945916 button.colab-df-convert');\n",
              "      buttonEl.style.display =\n",
              "        google.colab.kernel.accessAllowed ? 'block' : 'none';\n",
              "\n",
              "      async function convertToInteractive(key) {\n",
              "        const element = document.querySelector('#df-b4a9d305-1027-4c6c-9432-dbe437945916');\n",
              "        const dataTable =\n",
              "          await google.colab.kernel.invokeFunction('convertToInteractive',\n",
              "                                                    [key], {});\n",
              "        if (!dataTable) return;\n",
              "\n",
              "        const docLinkHtml = 'Like what you see? Visit the ' +\n",
              "          '<a target=\"_blank\" href=https://colab.research.google.com/notebooks/data_table.ipynb>data table notebook</a>'\n",
              "          + ' to learn more about interactive tables.';\n",
              "        element.innerHTML = '';\n",
              "        dataTable['output_type'] = 'display_data';\n",
              "        await google.colab.output.renderOutput(dataTable, element);\n",
              "        const docLink = document.createElement('div');\n",
              "        docLink.innerHTML = docLinkHtml;\n",
              "        element.appendChild(docLink);\n",
              "      }\n",
              "    </script>\n",
              "  </div>\n",
              "\n",
              "\n",
              "<div id=\"df-c70cbb14-2296-40cd-bb31-9b84d1be0b6b\">\n",
              "  <button class=\"colab-df-quickchart\" onclick=\"quickchart('df-c70cbb14-2296-40cd-bb31-9b84d1be0b6b')\"\n",
              "            title=\"Suggest charts\"\n",
              "            style=\"display:none;\">\n",
              "\n",
              "<svg xmlns=\"http://www.w3.org/2000/svg\" height=\"24px\"viewBox=\"0 0 24 24\"\n",
              "     width=\"24px\">\n",
              "    <g>\n",
              "        <path d=\"M19 3H5c-1.1 0-2 .9-2 2v14c0 1.1.9 2 2 2h14c1.1 0 2-.9 2-2V5c0-1.1-.9-2-2-2zM9 17H7v-7h2v7zm4 0h-2V7h2v10zm4 0h-2v-4h2v4z\"/>\n",
              "    </g>\n",
              "</svg>\n",
              "  </button>\n",
              "\n",
              "<style>\n",
              "  .colab-df-quickchart {\n",
              "      --bg-color: #E8F0FE;\n",
              "      --fill-color: #1967D2;\n",
              "      --hover-bg-color: #E2EBFA;\n",
              "      --hover-fill-color: #174EA6;\n",
              "      --disabled-fill-color: #AAA;\n",
              "      --disabled-bg-color: #DDD;\n",
              "  }\n",
              "\n",
              "  [theme=dark] .colab-df-quickchart {\n",
              "      --bg-color: #3B4455;\n",
              "      --fill-color: #D2E3FC;\n",
              "      --hover-bg-color: #434B5C;\n",
              "      --hover-fill-color: #FFFFFF;\n",
              "      --disabled-bg-color: #3B4455;\n",
              "      --disabled-fill-color: #666;\n",
              "  }\n",
              "\n",
              "  .colab-df-quickchart {\n",
              "    background-color: var(--bg-color);\n",
              "    border: none;\n",
              "    border-radius: 50%;\n",
              "    cursor: pointer;\n",
              "    display: none;\n",
              "    fill: var(--fill-color);\n",
              "    height: 32px;\n",
              "    padding: 0;\n",
              "    width: 32px;\n",
              "  }\n",
              "\n",
              "  .colab-df-quickchart:hover {\n",
              "    background-color: var(--hover-bg-color);\n",
              "    box-shadow: 0 1px 2px rgba(60, 64, 67, 0.3), 0 1px 3px 1px rgba(60, 64, 67, 0.15);\n",
              "    fill: var(--button-hover-fill-color);\n",
              "  }\n",
              "\n",
              "  .colab-df-quickchart-complete:disabled,\n",
              "  .colab-df-quickchart-complete:disabled:hover {\n",
              "    background-color: var(--disabled-bg-color);\n",
              "    fill: var(--disabled-fill-color);\n",
              "    box-shadow: none;\n",
              "  }\n",
              "\n",
              "  .colab-df-spinner {\n",
              "    border: 2px solid var(--fill-color);\n",
              "    border-color: transparent;\n",
              "    border-bottom-color: var(--fill-color);\n",
              "    animation:\n",
              "      spin 1s steps(1) infinite;\n",
              "  }\n",
              "\n",
              "  @keyframes spin {\n",
              "    0% {\n",
              "      border-color: transparent;\n",
              "      border-bottom-color: var(--fill-color);\n",
              "      border-left-color: var(--fill-color);\n",
              "    }\n",
              "    20% {\n",
              "      border-color: transparent;\n",
              "      border-left-color: var(--fill-color);\n",
              "      border-top-color: var(--fill-color);\n",
              "    }\n",
              "    30% {\n",
              "      border-color: transparent;\n",
              "      border-left-color: var(--fill-color);\n",
              "      border-top-color: var(--fill-color);\n",
              "      border-right-color: var(--fill-color);\n",
              "    }\n",
              "    40% {\n",
              "      border-color: transparent;\n",
              "      border-right-color: var(--fill-color);\n",
              "      border-top-color: var(--fill-color);\n",
              "    }\n",
              "    60% {\n",
              "      border-color: transparent;\n",
              "      border-right-color: var(--fill-color);\n",
              "    }\n",
              "    80% {\n",
              "      border-color: transparent;\n",
              "      border-right-color: var(--fill-color);\n",
              "      border-bottom-color: var(--fill-color);\n",
              "    }\n",
              "    90% {\n",
              "      border-color: transparent;\n",
              "      border-bottom-color: var(--fill-color);\n",
              "    }\n",
              "  }\n",
              "</style>\n",
              "\n",
              "  <script>\n",
              "    async function quickchart(key) {\n",
              "      const quickchartButtonEl =\n",
              "        document.querySelector('#' + key + ' button');\n",
              "      quickchartButtonEl.disabled = true;  // To prevent multiple clicks.\n",
              "      quickchartButtonEl.classList.add('colab-df-spinner');\n",
              "      try {\n",
              "        const charts = await google.colab.kernel.invokeFunction(\n",
              "            'suggestCharts', [key], {});\n",
              "      } catch (error) {\n",
              "        console.error('Error during call to suggestCharts:', error);\n",
              "      }\n",
              "      quickchartButtonEl.classList.remove('colab-df-spinner');\n",
              "      quickchartButtonEl.classList.add('colab-df-quickchart-complete');\n",
              "    }\n",
              "    (() => {\n",
              "      let quickchartButtonEl =\n",
              "        document.querySelector('#df-c70cbb14-2296-40cd-bb31-9b84d1be0b6b button');\n",
              "      quickchartButtonEl.style.display =\n",
              "        google.colab.kernel.accessAllowed ? 'block' : 'none';\n",
              "    })();\n",
              "  </script>\n",
              "</div>\n",
              "\n",
              "    </div>\n",
              "  </div>\n"
            ]
          },
          "metadata": {},
          "execution_count": 15
        }
      ]
    },
    {
      "cell_type": "code",
      "source": [
        "df_balance.to_csv('test_balance_', index=True) # exporting the balance info to check in the data visualization tool the usability of the data"
      ],
      "metadata": {
        "id": "UNY7-dE6X-Ih"
      },
      "execution_count": null,
      "outputs": []
    },
    {
      "cell_type": "code",
      "source": [
        "ticker = 'WELL'\n",
        "\n",
        "# Fetch balance sheet and financials data for the specified ticker\n",
        "balance_sheet = yf.Ticker(ticker).balance_sheet.T\n",
        "\n",
        "# Extract the balance sheet data for the last 3 years\n",
        "balance_sheet_last_3_years = balance_sheet.head(3)\n",
        "\n",
        "# Extract relevant values from the balance sheet\n",
        "total_debt_2022 = balance_sheet_last_3_years['Total Debt'][0]\n",
        "total_debt_2021 = balance_sheet_last_3_years['Total Debt'][1]\n",
        "total_debt_2020 = balance_sheet_last_3_years['Total Debt'][2]\n",
        "\n",
        "total_equity_2022 = balance_sheet_last_3_years['Stockholders Equity'][0]\n",
        "total_equity_2021 = balance_sheet_last_3_years['Stockholders Equity'][1]\n",
        "total_equity_2020 = balance_sheet_last_3_years['Stockholders Equity'][2]\n",
        "\n",
        "# Fetch net income data from the financials\n",
        "net_income_2022 = yf.Ticker(ticker).financials.T['Net Income'][0]\n",
        "net_income_2021 = yf.Ticker(ticker).financials.T['Net Income'][1]\n",
        "net_income_2020 = yf.Ticker(ticker).financials.T['Net Income'][2]\n",
        "\n",
        "# Extract total assets from the balance sheet\n",
        "total_assets_2022 = balance_sheet_last_3_years['Total Assets'][0]\n",
        "total_assets_2021 = balance_sheet_last_3_years['Total Assets'][1]\n",
        "total_assets_2020 = balance_sheet_last_3_years['Total Assets'][2]\n",
        "\n",
        "# Calculate financial ratios\n",
        "debt_to_equity_2022 = total_debt_2022 / total_equity_2022\n",
        "debt_to_equity_2021 = total_debt_2021 / total_equity_2021\n",
        "debt_to_equity_2020 = total_debt_2020 / total_equity_2020\n",
        "\n",
        "roe_2022 = net_income_2022 / total_equity_2022\n",
        "roe_2021 = net_income_2021 / total_equity_2021\n",
        "roe_2020 = net_income_2020 / total_equity_2020\n",
        "\n",
        "roa_2022 = net_income_2022 / total_assets_2022\n",
        "roa_2021 = net_income_2021 / total_assets_2021\n",
        "roa_2020 = net_income_2020 / total_assets_2020\n",
        "\n",
        "# Print the calculated ratios\n",
        "print(\"Debt to Equity Ratios:\")\n",
        "print(debt_to_equity_2022)\n",
        "print(debt_to_equity_2021)\n",
        "print(debt_to_equity_2020)\n",
        "\n",
        "print(\"\\nReturn on Assets (ROA) Ratios:\")\n",
        "print(roa_2022)\n",
        "print(roa_2021)\n",
        "print(roa_2020)\n",
        "\n",
        "print(\"\\nReturn on Equity (ROE) Ratios:\")\n",
        "print(roe_2022)\n",
        "print(roe_2021)\n",
        "print(roe_2020)\n"
      ],
      "metadata": {
        "colab": {
          "base_uri": "https://localhost:8080/"
        },
        "id": "JEMQzyZNKwCS",
        "outputId": "9b84fc4a-ec1b-4bf0-cca7-e43f3ca4e656"
      },
      "execution_count": null,
      "outputs": [
        {
          "output_type": "stream",
          "name": "stdout",
          "text": [
            "Debt to Equity Ratios:\n",
            "0.7373268855777638\n",
            "0.8322123592530982\n",
            "0.8900792657781058\n",
            "\n",
            "Return on Assets (ROA) Ratios:\n",
            "0.0037266284457702515\n",
            "0.009628612738494987\n",
            "0.030133443780718923\n",
            "\n",
            "Return on Equity (ROE) Ratios:\n",
            "0.006958132259797995\n",
            "0.019059763038117315\n",
            "0.06128224004942427\n"
          ]
        }
      ]
    },
    {
      "cell_type": "markdown",
      "source": [
        "# Final codes for financial ratios and stock info"
      ],
      "metadata": {
        "id": "ftYWi9Gwprxb"
      }
    },
    {
      "cell_type": "code",
      "source": [
        "import yfinance as yf\n",
        "import pandas as pd"
      ],
      "metadata": {
        "id": "hVoaUMvMpymy"
      },
      "execution_count": null,
      "outputs": []
    },
    {
      "cell_type": "code",
      "source": [
        "def get_financial_ratios(ticker):\n",
        "    try:\n",
        "        # Retrieve balance sheet and financials data\n",
        "        balance_sheet = yf.Ticker(ticker).balance_sheet.T\n",
        "\n",
        "        # Calculate ratios\n",
        "        balance_sheet_last_3_years = balance_sheet.head(3)\n",
        "        total_debt_2022 = balance_sheet_last_3_years['Total Debt'][0]\n",
        "        total_debt_2021 = balance_sheet_last_3_years['Total Debt'][1]\n",
        "        total_debt_2020 = balance_sheet_last_3_years['Total Debt'][2]\n",
        "        total_equity_2022 = balance_sheet_last_3_years['Stockholders Equity'][0]\n",
        "        total_equity_2021 = balance_sheet_last_3_years['Stockholders Equity'][1]\n",
        "        total_equity_2020 = balance_sheet_last_3_years['Stockholders Equity'][2]\n",
        "        net_income_2022 = yf.Ticker(ticker).financials.T['Net Income'][0]\n",
        "        net_income_2021 = yf.Ticker(ticker).financials.T['Net Income'][1]\n",
        "        net_income_2020 = yf.Ticker(ticker).financials.T['Net Income'][2]\n",
        "        total_assets_2022 = balance_sheet_last_3_years['Total Assets'][0]\n",
        "        total_assets_2021 = balance_sheet_last_3_years['Total Assets'][1]\n",
        "        total_assets_2020 = balance_sheet_last_3_years['Total Assets'][2]\n",
        "\n",
        "        # Calculate financial ratios\n",
        "        debt_to_equity_2022 = total_debt_2022 / total_equity_2022\n",
        "        debt_to_equity_2021 = total_debt_2021 / total_equity_2021\n",
        "        debt_to_equity_2020 = total_debt_2020 / total_equity_2020\n",
        "        roe_2022 = net_income_2022 / total_equity_2022\n",
        "        roe_2021 = net_income_2021 / total_equity_2021\n",
        "        roe_2020 = net_income_2020 / total_equity_2020\n",
        "        roa_2022 = net_income_2022 / total_assets_2022\n",
        "        roa_2021 = net_income_2021 / total_assets_2021\n",
        "        roa_2020 = net_income_2020 / total_assets_2020\n",
        "\n",
        "        # Return a dictionary containing the calculated ratios\n",
        "        return {'Ticker': ticker, 'Debt_to_Equity_2022': debt_to_equity_2022, 'Debt_to_Equity_2021': debt_to_equity_2021,\n",
        "                'Debt_to_Equity_2020': debt_to_equity_2020, 'ROE_2022': roe_2022, 'ROE_2021': roe_2021, 'ROE_2020': roe_2020,\n",
        "                'ROA_2022': roa_2022, 'ROA_2021': roa_2021, 'ROA_2020': roa_2020}\n",
        "    except Exception as e:\n",
        "        print(f\"Error retrieving data for {ticker}: {e}\")\n",
        "        return None\n",
        "\n",
        "\n",
        "# List to store results\n",
        "results = []\n",
        "\n",
        "# Iterate through companies and retrieve financial ratios\n",
        "for i in tickers:\n",
        "    financial_ratios = get_financial_ratios(i)\n",
        "    if financial_ratios:\n",
        "        results.append(financial_ratios)\n",
        "\n",
        "# Create a DataFrame from the results\n",
        "df_teste_calcs = pd.DataFrame(results)\n",
        "\n",
        "# Display the DataFrame\n",
        "print(df_teste_calcs)\n",
        "\n"
      ],
      "metadata": {
        "colab": {
          "base_uri": "https://localhost:8080/",
          "height": 71
        },
        "id": "7Ez25rCvZxnn",
        "outputId": "2ed5649b-1c04-4a1f-84b9-3fd5606948a7"
      },
      "execution_count": null,
      "outputs": [
        {
          "output_type": "stream",
          "name": "stdout",
          "text": [
            "Error retrieving data for Symbol: 'Total Debt'\n"
          ]
        },
        {
          "output_type": "execute_result",
          "data": {
            "text/plain": [
              "Empty DataFrame\n",
              "Columns: []\n",
              "Index: []"
            ],
            "text/html": [
              "\n",
              "  <div id=\"df-5da4adcd-dac6-4291-a27b-b43533562a31\" class=\"colab-df-container\">\n",
              "    <div>\n",
              "<style scoped>\n",
              "    .dataframe tbody tr th:only-of-type {\n",
              "        vertical-align: middle;\n",
              "    }\n",
              "\n",
              "    .dataframe tbody tr th {\n",
              "        vertical-align: top;\n",
              "    }\n",
              "\n",
              "    .dataframe thead th {\n",
              "        text-align: right;\n",
              "    }\n",
              "</style>\n",
              "<table border=\"1\" class=\"dataframe\">\n",
              "  <thead>\n",
              "    <tr style=\"text-align: right;\">\n",
              "      <th></th>\n",
              "    </tr>\n",
              "  </thead>\n",
              "  <tbody>\n",
              "  </tbody>\n",
              "</table>\n",
              "</div>\n",
              "    <div class=\"colab-df-buttons\">\n",
              "\n",
              "  <div class=\"colab-df-container\">\n",
              "    <button class=\"colab-df-convert\" onclick=\"convertToInteractive('df-5da4adcd-dac6-4291-a27b-b43533562a31')\"\n",
              "            title=\"Convert this dataframe to an interactive table.\"\n",
              "            style=\"display:none;\">\n",
              "\n",
              "  <svg xmlns=\"http://www.w3.org/2000/svg\" height=\"24px\" viewBox=\"0 -960 960 960\">\n",
              "    <path d=\"M120-120v-720h720v720H120Zm60-500h600v-160H180v160Zm220 220h160v-160H400v160Zm0 220h160v-160H400v160ZM180-400h160v-160H180v160Zm440 0h160v-160H620v160ZM180-180h160v-160H180v160Zm440 0h160v-160H620v160Z\"/>\n",
              "  </svg>\n",
              "    </button>\n",
              "\n",
              "  <style>\n",
              "    .colab-df-container {\n",
              "      display:flex;\n",
              "      gap: 12px;\n",
              "    }\n",
              "\n",
              "    .colab-df-convert {\n",
              "      background-color: #E8F0FE;\n",
              "      border: none;\n",
              "      border-radius: 50%;\n",
              "      cursor: pointer;\n",
              "      display: none;\n",
              "      fill: #1967D2;\n",
              "      height: 32px;\n",
              "      padding: 0 0 0 0;\n",
              "      width: 32px;\n",
              "    }\n",
              "\n",
              "    .colab-df-convert:hover {\n",
              "      background-color: #E2EBFA;\n",
              "      box-shadow: 0px 1px 2px rgba(60, 64, 67, 0.3), 0px 1px 3px 1px rgba(60, 64, 67, 0.15);\n",
              "      fill: #174EA6;\n",
              "    }\n",
              "\n",
              "    .colab-df-buttons div {\n",
              "      margin-bottom: 4px;\n",
              "    }\n",
              "\n",
              "    [theme=dark] .colab-df-convert {\n",
              "      background-color: #3B4455;\n",
              "      fill: #D2E3FC;\n",
              "    }\n",
              "\n",
              "    [theme=dark] .colab-df-convert:hover {\n",
              "      background-color: #434B5C;\n",
              "      box-shadow: 0px 1px 3px 1px rgba(0, 0, 0, 0.15);\n",
              "      filter: drop-shadow(0px 1px 2px rgba(0, 0, 0, 0.3));\n",
              "      fill: #FFFFFF;\n",
              "    }\n",
              "  </style>\n",
              "\n",
              "    <script>\n",
              "      const buttonEl =\n",
              "        document.querySelector('#df-5da4adcd-dac6-4291-a27b-b43533562a31 button.colab-df-convert');\n",
              "      buttonEl.style.display =\n",
              "        google.colab.kernel.accessAllowed ? 'block' : 'none';\n",
              "\n",
              "      async function convertToInteractive(key) {\n",
              "        const element = document.querySelector('#df-5da4adcd-dac6-4291-a27b-b43533562a31');\n",
              "        const dataTable =\n",
              "          await google.colab.kernel.invokeFunction('convertToInteractive',\n",
              "                                                    [key], {});\n",
              "        if (!dataTable) return;\n",
              "\n",
              "        const docLinkHtml = 'Like what you see? Visit the ' +\n",
              "          '<a target=\"_blank\" href=https://colab.research.google.com/notebooks/data_table.ipynb>data table notebook</a>'\n",
              "          + ' to learn more about interactive tables.';\n",
              "        element.innerHTML = '';\n",
              "        dataTable['output_type'] = 'display_data';\n",
              "        await google.colab.output.renderOutput(dataTable, element);\n",
              "        const docLink = document.createElement('div');\n",
              "        docLink.innerHTML = docLinkHtml;\n",
              "        element.appendChild(docLink);\n",
              "      }\n",
              "    </script>\n",
              "  </div>\n",
              "\n",
              "    </div>\n",
              "  </div>\n"
            ]
          },
          "metadata": {},
          "execution_count": 9
        }
      ]
    },
    {
      "cell_type": "code",
      "source": [
        "df_teste_calcs.to_csv('debt_roa_roe_3yrs.csv' ,index=False) # exporting the last df with financial ratios"
      ],
      "metadata": {
        "id": "Lz0bZhEkPB-b"
      },
      "execution_count": null,
      "outputs": []
    },
    {
      "cell_type": "code",
      "source": [
        "df_stocks = pd.DataFrame()  # Initialize an empty DataFrame to store stock data\n",
        "\n",
        "# Iterate through tickers\n",
        "for i in tickers:\n",
        "    ticker_symbol = i  # Store the current ticker symbol for reference\n",
        "    start_date = \"2020-01-01\"\n",
        "    end_date = \"2023-01-30\"\n",
        "\n",
        "    # Download stock data for the current ticker for the specified time period\n",
        "    stock_data = yf.download(ticker_symbol, start=start_date, end=end_date)\n",
        "\n",
        "    df_temp_stock = pd.DataFrame(stock_data)  # Convert the stock data to a DataFrame\n",
        "    df_temp_stock['ticker'] = ticker_symbol  # Add a new column 'ticker' to store the ticker symbol in the DataFrame\n",
        "    df_stocks = df_stocks.append(df_temp_stock)  # Append the current DataFrame to the main DataFrame\n",
        "\n",
        "# The resulting DataFrame df_stocks contains stock data for all tickers for the specified time period"
      ],
      "metadata": {
        "id": "YER72hX4qAAy"
      },
      "execution_count": null,
      "outputs": []
    },
    {
      "cell_type": "code",
      "source": [
        "df_stocks.to_csv('stock_info.csv' ,index=False) # exporting the last df with stock info"
      ],
      "metadata": {
        "id": "CELiEyRLqCQ4"
      },
      "execution_count": null,
      "outputs": []
    }
  ]
}
